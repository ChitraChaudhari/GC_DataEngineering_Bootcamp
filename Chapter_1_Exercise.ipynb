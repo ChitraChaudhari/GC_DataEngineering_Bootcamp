{
  "nbformat": 4,
  "nbformat_minor": 0,
  "metadata": {
    "colab": {
      "name": "Chapter-1-Exercise.ipynb",
      "provenance": [],
      "collapsed_sections": [],
      "include_colab_link": true
    },
    "kernelspec": {
      "name": "python3",
      "display_name": "Python 3"
    }
  },
  "cells": [
    {
      "cell_type": "markdown",
      "metadata": {
        "id": "view-in-github",
        "colab_type": "text"
      },
      "source": [
        "<a href=\"https://colab.research.google.com/github/ChitraChaudhari/GC_DataEngineering_Bootcamp/blob/main/Chapter_1_Exercise.ipynb\" target=\"_parent\"><img src=\"https://colab.research.google.com/assets/colab-badge.svg\" alt=\"Open In Colab\"/></a>"
      ]
    },
    {
      "cell_type": "markdown",
      "metadata": {
        "id": "Y10381Xe5fTA"
      },
      "source": [
        "# *Permission to copy this copyrighted document is given only to Mobi Boot Camp Corp., students*\n",
        "\n",
        "---\n",
        "<!-- &#169; 2021, Mobi Boot Camp Corp, all rights reserved  -->\n",
        "# Please Copy this file by selecting 'File-->Save a Copy in Drive' from the top menu bar, and then start working on these problems. You cannot edit this file as it is a READ-ONLY file. \n",
        "\n",
        "###When you make a copy, you will be able to run the copied file through your account. You can also code your answers in the respective code cells and run the program\n",
        "\n",
        "## DO NOT CHANGE THE TESTCASE CODE CELL\n",
        "\n",
        "---\n",
        "\n",
        "#First Chapter Exercises\n",
        "\n",
        "#Problem 1\n",
        "Fix the below code blocks and explain what was wrong"
      ]
    },
    {
      "cell_type": "code",
      "metadata": {
        "id": "KOnBD3bC1xfJ",
        "colab": {
          "base_uri": "https://localhost:8080/",
          "height": 130
        },
        "outputId": "2bc48ed5-d345-45ce-8c42-e42858bf0854"
      },
      "source": [
        "# Trying to assign a String value to variable name\n",
        "name = 'Joe\""
      ],
      "execution_count": null,
      "outputs": [
        {
          "output_type": "error",
          "ename": "SyntaxError",
          "evalue": "ignored",
          "traceback": [
            "\u001b[0;36m  File \u001b[0;32m\"<ipython-input-1-c1d03581aa21>\"\u001b[0;36m, line \u001b[0;32m1\u001b[0m\n\u001b[0;31m    name = 'Joe\"\u001b[0m\n\u001b[0m                ^\u001b[0m\n\u001b[0;31mSyntaxError\u001b[0m\u001b[0;31m:\u001b[0m EOL while scanning string literal\n"
          ]
        }
      ]
    },
    {
      "cell_type": "code",
      "metadata": {
        "id": "Ky7MUHvh5y6t",
        "colab": {
          "base_uri": "https://localhost:8080/",
          "height": 130
        },
        "outputId": "3c524430-8ee7-455e-b38d-2ca3d7925fbe"
      },
      "source": [
        "# Trying to declare a variable name and assign a literal value\n",
        "1myvariable = 10"
      ],
      "execution_count": null,
      "outputs": [
        {
          "output_type": "error",
          "ename": "SyntaxError",
          "evalue": "ignored",
          "traceback": [
            "\u001b[0;36m  File \u001b[0;32m\"<ipython-input-2-972022b98356>\"\u001b[0;36m, line \u001b[0;32m1\u001b[0m\n\u001b[0;31m    1myvariable = 10\u001b[0m\n\u001b[0m              ^\u001b[0m\n\u001b[0;31mSyntaxError\u001b[0m\u001b[0;31m:\u001b[0m invalid syntax\n"
          ]
        }
      ]
    },
    {
      "cell_type": "code",
      "metadata": {
        "id": "UAL9z9cJ53bf",
        "colab": {
          "base_uri": "https://localhost:8080/",
          "height": 130
        },
        "outputId": "86c60e77-7679-4d5d-bc75-791c3243825e"
      },
      "source": [
        "# trying to assign two variables and assign String values to them\n",
        "first_name = 'John'\n",
        " last_name = \"Doe\""
      ],
      "execution_count": null,
      "outputs": [
        {
          "output_type": "error",
          "ename": "IndentationError",
          "evalue": "ignored",
          "traceback": [
            "\u001b[0;36m  File \u001b[0;32m\"<ipython-input-3-c48ec690ec7b>\"\u001b[0;36m, line \u001b[0;32m2\u001b[0m\n\u001b[0;31m    last_name = \"Doe\"\u001b[0m\n\u001b[0m    ^\u001b[0m\n\u001b[0;31mIndentationError\u001b[0m\u001b[0;31m:\u001b[0m unexpected indent\n"
          ]
        }
      ]
    },
    {
      "cell_type": "markdown",
      "metadata": {
        "id": "8sb-8QAR6dA5"
      },
      "source": [
        "#Problem 2\n",
        "The below sentence spans multiple lines. Fix the code to make it work"
      ]
    },
    {
      "cell_type": "code",
      "metadata": {
        "id": "9fnGurph6AMG",
        "colab": {
          "base_uri": "https://localhost:8080/",
          "height": 150
        },
        "outputId": "2e09a0f7-bc0d-4fae-f3ce-e5d92c4bb185"
      },
      "source": [
        "long_sentence = ' this sentence is too long to go in one line. blah blah blah  blah .  blah .  blah blah blah blah  blah .  blah .  blah blah blah blah  blah .  blah .  blah\n",
        "blah blah blah '\n",
        "print(long_sentence)"
      ],
      "execution_count": null,
      "outputs": [
        {
          "output_type": "error",
          "ename": "SyntaxError",
          "evalue": "ignored",
          "traceback": [
            "\u001b[0;36m  File \u001b[0;32m\"<ipython-input-4-5459a6d0506a>\"\u001b[0;36m, line \u001b[0;32m1\u001b[0m\n\u001b[0;31m    long_sentence = ' this sentence is too long to go in one line. blah blah blah  blah .  blah .  blah blah blah blah  blah .  blah .  blah blah blah blah  blah .  blah .  blah\u001b[0m\n\u001b[0m                                                                                                                                                                                 ^\u001b[0m\n\u001b[0;31mSyntaxError\u001b[0m\u001b[0;31m:\u001b[0m EOL while scanning string literal\n"
          ]
        }
      ]
    },
    {
      "cell_type": "markdown",
      "metadata": {
        "id": "76a4ydan62d_"
      },
      "source": [
        "#Problem 3\n",
        "Write code to find the data type of the variable long_sentence used in the previous Problem 3"
      ]
    },
    {
      "cell_type": "code",
      "metadata": {
        "id": "HzfBPWYNAXmM"
      },
      "source": [
        "# Your code goes here"
      ],
      "execution_count": null,
      "outputs": []
    },
    {
      "cell_type": "markdown",
      "metadata": {
        "id": "tV2jqClzAdi0"
      },
      "source": [
        "# Problem 4 \n",
        "Write a program to \n",
        "receive two decimal point numbers from the user. Multiply the numbers and show the result as the program output\n",
        "\n",
        "For e.g., if the user input 3.5 and 4.5, the output should be 15.75. \n",
        "\n",
        "**Note:** Do not assign the given example values into variables to form your solution "
      ]
    },
    {
      "cell_type": "code",
      "metadata": {
        "id": "dUqOY60QAZ4U"
      },
      "source": [
        "# Your program goes here\n",
        "\n",
        "\n",
        "\n"
      ],
      "execution_count": null,
      "outputs": []
    },
    {
      "cell_type": "markdown",
      "metadata": {
        "id": "D170k2IFJT1q"
      },
      "source": [
        "# Problem 5\n",
        "Fix the program\n",
        "\n",
        "The intent of this program is to find the mean (average) of all the numbers. However the expression is evaluating incorrectly. Please fix the expression"
      ]
    },
    {
      "cell_type": "code",
      "metadata": {
        "id": "h6fifhxAJS3_",
        "colab": {
          "base_uri": "https://localhost:8080/",
          "height": 34
        },
        "outputId": "0608ba80-32ef-4dcb-85f9-ad877522585c"
      },
      "source": [
        "a = 10\n",
        "b = 20\n",
        "c = 30\n",
        "\n",
        "mean = a+b+c/3\n",
        "print(mean)"
      ],
      "execution_count": null,
      "outputs": [
        {
          "output_type": "stream",
          "text": [
            "40.0\n"
          ],
          "name": "stdout"
        }
      ]
    },
    {
      "cell_type": "code",
      "metadata": {
        "id": "DXyMRgHs_4aR"
      },
      "source": [
        "#TestCase \n",
        "assert ( mean == 20)\n",
        "print(\"Test passed!\")"
      ],
      "execution_count": null,
      "outputs": []
    },
    {
      "cell_type": "markdown",
      "metadata": {
        "id": "ezlYWh2b1F2J"
      },
      "source": [
        "# Problem 6\n",
        "\n",
        "The below program is partially written. The age of a person is given in months. You have to write a program in which the 'years' contain the year part of the age and 'months' has the month part of the age. \n",
        "\n",
        "**Hint:** You have to use one or more of the arithmetic operators on the given 'age' variable to find the answers for this question. Which one will you use?"
      ]
    },
    {
      "cell_type": "code",
      "metadata": {
        "id": "4nJnp8hg1IJc"
      },
      "source": [
        "age = 220\n",
        "years = None\n",
        "months = None"
      ],
      "execution_count": null,
      "outputs": []
    },
    {
      "cell_type": "code",
      "metadata": {
        "id": "PrWnQN3P1Oup"
      },
      "source": [
        "#TestCase\n",
        "assert (years == 18)\n",
        "assert (months == 4)\n",
        "print(\"Test passed!\")"
      ],
      "execution_count": null,
      "outputs": []
    }
  ]
}