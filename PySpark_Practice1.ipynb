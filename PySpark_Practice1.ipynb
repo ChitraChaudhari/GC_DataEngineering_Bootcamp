{
 "cells": [
  {
   "cell_type": "code",
   "execution_count": 1,
   "id": "30c38ec5",
   "metadata": {},
   "outputs": [
    {
     "name": "stdout",
     "output_type": "stream",
     "text": [
      "Requirement already satisfied: pyspark in c:\\users\\kiran\\anaconda3\\lib\\site-packages (3.3.0)\n",
      "Requirement already satisfied: py4j==0.10.9.5 in c:\\users\\kiran\\anaconda3\\lib\\site-packages (from pyspark) (0.10.9.5)\n"
     ]
    }
   ],
   "source": [
    "!pip install pyspark"
   ]
  },
  {
   "cell_type": "code",
   "execution_count": 2,
   "id": "d13a1fae",
   "metadata": {},
   "outputs": [],
   "source": [
    "import pyspark"
   ]
  },
  {
   "cell_type": "code",
   "execution_count": 3,
   "id": "7a008ab7",
   "metadata": {},
   "outputs": [
    {
     "data": {
      "text/html": [
       "<div>\n",
       "<style scoped>\n",
       "    .dataframe tbody tr th:only-of-type {\n",
       "        vertical-align: middle;\n",
       "    }\n",
       "\n",
       "    .dataframe tbody tr th {\n",
       "        vertical-align: top;\n",
       "    }\n",
       "\n",
       "    .dataframe thead th {\n",
       "        text-align: right;\n",
       "    }\n",
       "</style>\n",
       "<table border=\"1\" class=\"dataframe\">\n",
       "  <thead>\n",
       "    <tr style=\"text-align: right;\">\n",
       "      <th></th>\n",
       "      <th>YearsExperience</th>\n",
       "      <th>Salary</th>\n",
       "    </tr>\n",
       "  </thead>\n",
       "  <tbody>\n",
       "    <tr>\n",
       "      <th>0</th>\n",
       "      <td>1.1</td>\n",
       "      <td>39343.0</td>\n",
       "    </tr>\n",
       "    <tr>\n",
       "      <th>1</th>\n",
       "      <td>1.3</td>\n",
       "      <td>46205.0</td>\n",
       "    </tr>\n",
       "    <tr>\n",
       "      <th>2</th>\n",
       "      <td>1.5</td>\n",
       "      <td>37731.0</td>\n",
       "    </tr>\n",
       "    <tr>\n",
       "      <th>3</th>\n",
       "      <td>2.0</td>\n",
       "      <td>43525.0</td>\n",
       "    </tr>\n",
       "    <tr>\n",
       "      <th>4</th>\n",
       "      <td>2.2</td>\n",
       "      <td>39891.0</td>\n",
       "    </tr>\n",
       "    <tr>\n",
       "      <th>5</th>\n",
       "      <td>2.9</td>\n",
       "      <td>56642.0</td>\n",
       "    </tr>\n",
       "    <tr>\n",
       "      <th>6</th>\n",
       "      <td>3.0</td>\n",
       "      <td>60150.0</td>\n",
       "    </tr>\n",
       "    <tr>\n",
       "      <th>7</th>\n",
       "      <td>3.2</td>\n",
       "      <td>54445.0</td>\n",
       "    </tr>\n",
       "    <tr>\n",
       "      <th>8</th>\n",
       "      <td>3.2</td>\n",
       "      <td>64445.0</td>\n",
       "    </tr>\n",
       "    <tr>\n",
       "      <th>9</th>\n",
       "      <td>3.7</td>\n",
       "      <td>57189.0</td>\n",
       "    </tr>\n",
       "    <tr>\n",
       "      <th>10</th>\n",
       "      <td>3.9</td>\n",
       "      <td>63218.0</td>\n",
       "    </tr>\n",
       "    <tr>\n",
       "      <th>11</th>\n",
       "      <td>4.0</td>\n",
       "      <td>55794.0</td>\n",
       "    </tr>\n",
       "    <tr>\n",
       "      <th>12</th>\n",
       "      <td>4.0</td>\n",
       "      <td>56957.0</td>\n",
       "    </tr>\n",
       "    <tr>\n",
       "      <th>13</th>\n",
       "      <td>4.1</td>\n",
       "      <td>57081.0</td>\n",
       "    </tr>\n",
       "    <tr>\n",
       "      <th>14</th>\n",
       "      <td>4.5</td>\n",
       "      <td>61111.0</td>\n",
       "    </tr>\n",
       "    <tr>\n",
       "      <th>15</th>\n",
       "      <td>4.9</td>\n",
       "      <td>67938.0</td>\n",
       "    </tr>\n",
       "    <tr>\n",
       "      <th>16</th>\n",
       "      <td>5.1</td>\n",
       "      <td>66029.0</td>\n",
       "    </tr>\n",
       "    <tr>\n",
       "      <th>17</th>\n",
       "      <td>5.3</td>\n",
       "      <td>83088.0</td>\n",
       "    </tr>\n",
       "    <tr>\n",
       "      <th>18</th>\n",
       "      <td>5.9</td>\n",
       "      <td>81363.0</td>\n",
       "    </tr>\n",
       "    <tr>\n",
       "      <th>19</th>\n",
       "      <td>6.0</td>\n",
       "      <td>93940.0</td>\n",
       "    </tr>\n",
       "    <tr>\n",
       "      <th>20</th>\n",
       "      <td>6.8</td>\n",
       "      <td>91738.0</td>\n",
       "    </tr>\n",
       "    <tr>\n",
       "      <th>21</th>\n",
       "      <td>7.1</td>\n",
       "      <td>98273.0</td>\n",
       "    </tr>\n",
       "    <tr>\n",
       "      <th>22</th>\n",
       "      <td>7.9</td>\n",
       "      <td>101302.0</td>\n",
       "    </tr>\n",
       "    <tr>\n",
       "      <th>23</th>\n",
       "      <td>8.2</td>\n",
       "      <td>113812.0</td>\n",
       "    </tr>\n",
       "    <tr>\n",
       "      <th>24</th>\n",
       "      <td>8.7</td>\n",
       "      <td>109431.0</td>\n",
       "    </tr>\n",
       "    <tr>\n",
       "      <th>25</th>\n",
       "      <td>9.0</td>\n",
       "      <td>105582.0</td>\n",
       "    </tr>\n",
       "    <tr>\n",
       "      <th>26</th>\n",
       "      <td>9.5</td>\n",
       "      <td>116969.0</td>\n",
       "    </tr>\n",
       "    <tr>\n",
       "      <th>27</th>\n",
       "      <td>9.6</td>\n",
       "      <td>112635.0</td>\n",
       "    </tr>\n",
       "    <tr>\n",
       "      <th>28</th>\n",
       "      <td>10.3</td>\n",
       "      <td>122391.0</td>\n",
       "    </tr>\n",
       "    <tr>\n",
       "      <th>29</th>\n",
       "      <td>10.5</td>\n",
       "      <td>121872.0</td>\n",
       "    </tr>\n",
       "  </tbody>\n",
       "</table>\n",
       "</div>"
      ],
      "text/plain": [
       "    YearsExperience    Salary\n",
       "0               1.1   39343.0\n",
       "1               1.3   46205.0\n",
       "2               1.5   37731.0\n",
       "3               2.0   43525.0\n",
       "4               2.2   39891.0\n",
       "5               2.9   56642.0\n",
       "6               3.0   60150.0\n",
       "7               3.2   54445.0\n",
       "8               3.2   64445.0\n",
       "9               3.7   57189.0\n",
       "10              3.9   63218.0\n",
       "11              4.0   55794.0\n",
       "12              4.0   56957.0\n",
       "13              4.1   57081.0\n",
       "14              4.5   61111.0\n",
       "15              4.9   67938.0\n",
       "16              5.1   66029.0\n",
       "17              5.3   83088.0\n",
       "18              5.9   81363.0\n",
       "19              6.0   93940.0\n",
       "20              6.8   91738.0\n",
       "21              7.1   98273.0\n",
       "22              7.9  101302.0\n",
       "23              8.2  113812.0\n",
       "24              8.7  109431.0\n",
       "25              9.0  105582.0\n",
       "26              9.5  116969.0\n",
       "27              9.6  112635.0\n",
       "28             10.3  122391.0\n",
       "29             10.5  121872.0"
      ]
     },
     "execution_count": 3,
     "metadata": {},
     "output_type": "execute_result"
    }
   ],
   "source": [
    "import pandas as pd\n",
    "pd.read_csv('Salary_Data.csv')"
   ]
  },
  {
   "cell_type": "code",
   "execution_count": 4,
   "id": "d1cffd2c",
   "metadata": {},
   "outputs": [],
   "source": [
    "from pyspark.sql import SparkSession"
   ]
  },
  {
   "cell_type": "code",
   "execution_count": 5,
   "id": "49d897c6",
   "metadata": {},
   "outputs": [],
   "source": [
    "spark = SparkSession.builder.appName('Practise').getOrCreate()"
   ]
  },
  {
   "cell_type": "code",
   "execution_count": 6,
   "id": "578df109",
   "metadata": {},
   "outputs": [
    {
     "data": {
      "text/plain": [
       "pyspark.sql.session.SparkSession"
      ]
     },
     "execution_count": 6,
     "metadata": {},
     "output_type": "execute_result"
    }
   ],
   "source": [
    "type(spark)"
   ]
  },
  {
   "cell_type": "code",
   "execution_count": 7,
   "id": "5aafdbc3",
   "metadata": {},
   "outputs": [
    {
     "data": {
      "text/html": [
       "\n",
       "            <div>\n",
       "                <p><b>SparkSession - in-memory</b></p>\n",
       "                \n",
       "        <div>\n",
       "            <p><b>SparkContext</b></p>\n",
       "\n",
       "            <p><a href=\"http://Home-PC:4040\">Spark UI</a></p>\n",
       "\n",
       "            <dl>\n",
       "              <dt>Version</dt>\n",
       "                <dd><code>v3.3.0</code></dd>\n",
       "              <dt>Master</dt>\n",
       "                <dd><code>local[*]</code></dd>\n",
       "              <dt>AppName</dt>\n",
       "                <dd><code>Practise</code></dd>\n",
       "            </dl>\n",
       "        </div>\n",
       "        \n",
       "            </div>\n",
       "        "
      ],
      "text/plain": [
       "<pyspark.sql.session.SparkSession at 0x1ee5149a460>"
      ]
     },
     "execution_count": 7,
     "metadata": {},
     "output_type": "execute_result"
    }
   ],
   "source": [
    "spark"
   ]
  },
  {
   "cell_type": "code",
   "execution_count": 8,
   "id": "2ac6b84b",
   "metadata": {},
   "outputs": [],
   "source": [
    "df_pyspark = spark.read.csv('Salary_Data.csv')"
   ]
  },
  {
   "cell_type": "code",
   "execution_count": 9,
   "id": "8b3ecdd7",
   "metadata": {},
   "outputs": [
    {
     "data": {
      "text/plain": [
       "DataFrame[_c0: string, _c1: string]"
      ]
     },
     "execution_count": 9,
     "metadata": {},
     "output_type": "execute_result"
    }
   ],
   "source": [
    "df_pyspark"
   ]
  },
  {
   "cell_type": "code",
   "execution_count": 10,
   "id": "03986694",
   "metadata": {},
   "outputs": [
    {
     "name": "stdout",
     "output_type": "stream",
     "text": [
      "+---------------+--------+\n",
      "|            _c0|     _c1|\n",
      "+---------------+--------+\n",
      "|YearsExperience|  Salary|\n",
      "|            1.1|39343.00|\n",
      "|            1.3|46205.00|\n",
      "|            1.5|37731.00|\n",
      "|            2.0|43525.00|\n",
      "|            2.2|39891.00|\n",
      "|            2.9|56642.00|\n",
      "|            3.0|60150.00|\n",
      "|            3.2|54445.00|\n",
      "|            3.2|64445.00|\n",
      "|            3.7|57189.00|\n",
      "|            3.9|63218.00|\n",
      "|            4.0|55794.00|\n",
      "|            4.0|56957.00|\n",
      "|            4.1|57081.00|\n",
      "|            4.5|61111.00|\n",
      "|            4.9|67938.00|\n",
      "|            5.1|66029.00|\n",
      "|            5.3|83088.00|\n",
      "|            5.9|81363.00|\n",
      "+---------------+--------+\n",
      "only showing top 20 rows\n",
      "\n"
     ]
    }
   ],
   "source": [
    "df_pyspark.show()"
   ]
  },
  {
   "cell_type": "code",
   "execution_count": 16,
   "id": "72a07375",
   "metadata": {},
   "outputs": [],
   "source": [
    "# Read the dataset\n",
    "df_pyspark = spark.read.option('header','true').csv('Salary_Data.csv', inferSchema=True)"
   ]
  },
  {
   "cell_type": "code",
   "execution_count": 17,
   "id": "250dca38",
   "metadata": {},
   "outputs": [
    {
     "name": "stdout",
     "output_type": "stream",
     "text": [
      "+---------------+-------+\n",
      "|YearsExperience| Salary|\n",
      "+---------------+-------+\n",
      "|            1.1|39343.0|\n",
      "|            1.3|46205.0|\n",
      "|            1.5|37731.0|\n",
      "|            2.0|43525.0|\n",
      "|            2.2|39891.0|\n",
      "|            2.9|56642.0|\n",
      "|            3.0|60150.0|\n",
      "|            3.2|54445.0|\n",
      "|            3.2|64445.0|\n",
      "|            3.7|57189.0|\n",
      "|            3.9|63218.0|\n",
      "|            4.0|55794.0|\n",
      "|            4.0|56957.0|\n",
      "|            4.1|57081.0|\n",
      "|            4.5|61111.0|\n",
      "|            4.9|67938.0|\n",
      "|            5.1|66029.0|\n",
      "|            5.3|83088.0|\n",
      "|            5.9|81363.0|\n",
      "|            6.0|93940.0|\n",
      "+---------------+-------+\n",
      "only showing top 20 rows\n",
      "\n"
     ]
    }
   ],
   "source": [
    "df_pyspark.show()"
   ]
  },
  {
   "cell_type": "code",
   "execution_count": 18,
   "id": "c4095ab3",
   "metadata": {},
   "outputs": [
    {
     "data": {
      "text/plain": [
       "pyspark.sql.dataframe.DataFrame"
      ]
     },
     "execution_count": 18,
     "metadata": {},
     "output_type": "execute_result"
    }
   ],
   "source": [
    "type(df_pyspark)"
   ]
  },
  {
   "cell_type": "code",
   "execution_count": 19,
   "id": "c8cc5a89",
   "metadata": {},
   "outputs": [
    {
     "name": "stdout",
     "output_type": "stream",
     "text": [
      "root\n",
      " |-- YearsExperience: double (nullable = true)\n",
      " |-- Salary: double (nullable = true)\n",
      "\n"
     ]
    }
   ],
   "source": [
    "df_pyspark.printSchema()"
   ]
  },
  {
   "cell_type": "code",
   "execution_count": 20,
   "id": "84be9a82",
   "metadata": {},
   "outputs": [
    {
     "name": "stdout",
     "output_type": "stream",
     "text": [
      "+---------------+-------+\n",
      "|YearsExperience| Salary|\n",
      "+---------------+-------+\n",
      "|            1.1|39343.0|\n",
      "|            1.3|46205.0|\n",
      "|            1.5|37731.0|\n",
      "|            2.0|43525.0|\n",
      "|            2.2|39891.0|\n",
      "|            2.9|56642.0|\n",
      "|            3.0|60150.0|\n",
      "|            3.2|54445.0|\n",
      "|            3.2|64445.0|\n",
      "|            3.7|57189.0|\n",
      "|            3.9|63218.0|\n",
      "|            4.0|55794.0|\n",
      "|            4.0|56957.0|\n",
      "|            4.1|57081.0|\n",
      "|            4.5|61111.0|\n",
      "|            4.9|67938.0|\n",
      "|            5.1|66029.0|\n",
      "|            5.3|83088.0|\n",
      "|            5.9|81363.0|\n",
      "|            6.0|93940.0|\n",
      "+---------------+-------+\n",
      "only showing top 20 rows\n",
      "\n"
     ]
    }
   ],
   "source": [
    "#another way to read dataset\n",
    "df_pyspark = spark.read.csv('Salary_Data.csv',header=True, inferSchema=True)\n",
    "df_pyspark.show()"
   ]
  },
  {
   "cell_type": "code",
   "execution_count": 21,
   "id": "5644781d",
   "metadata": {},
   "outputs": [
    {
     "name": "stdout",
     "output_type": "stream",
     "text": [
      "root\n",
      " |-- YearsExperience: double (nullable = true)\n",
      " |-- Salary: double (nullable = true)\n",
      "\n"
     ]
    }
   ],
   "source": [
    "df_pyspark.printSchema()"
   ]
  },
  {
   "cell_type": "code",
   "execution_count": 23,
   "id": "b09cb9d7",
   "metadata": {},
   "outputs": [
    {
     "data": {
      "text/plain": [
       "['YearsExperience', 'Salary']"
      ]
     },
     "execution_count": 23,
     "metadata": {},
     "output_type": "execute_result"
    }
   ],
   "source": [
    "df_pyspark.columns"
   ]
  },
  {
   "cell_type": "code",
   "execution_count": 24,
   "id": "ea69425f",
   "metadata": {},
   "outputs": [
    {
     "data": {
      "text/plain": [
       "[Row(YearsExperience=1.1, Salary=39343.0),\n",
       " Row(YearsExperience=1.3, Salary=46205.0),\n",
       " Row(YearsExperience=1.5, Salary=37731.0),\n",
       " Row(YearsExperience=2.0, Salary=43525.0),\n",
       " Row(YearsExperience=2.2, Salary=39891.0)]"
      ]
     },
     "execution_count": 24,
     "metadata": {},
     "output_type": "execute_result"
    }
   ],
   "source": [
    "df_pyspark.head(5)"
   ]
  },
  {
   "cell_type": "code",
   "execution_count": 25,
   "id": "2e770ebd",
   "metadata": {},
   "outputs": [
    {
     "name": "stdout",
     "output_type": "stream",
     "text": [
      "+-------+\n",
      "| Salary|\n",
      "+-------+\n",
      "|39343.0|\n",
      "|46205.0|\n",
      "|37731.0|\n",
      "|43525.0|\n",
      "|39891.0|\n",
      "|56642.0|\n",
      "|60150.0|\n",
      "|54445.0|\n",
      "|64445.0|\n",
      "|57189.0|\n",
      "|63218.0|\n",
      "|55794.0|\n",
      "|56957.0|\n",
      "|57081.0|\n",
      "|61111.0|\n",
      "|67938.0|\n",
      "|66029.0|\n",
      "|83088.0|\n",
      "|81363.0|\n",
      "|93940.0|\n",
      "+-------+\n",
      "only showing top 20 rows\n",
      "\n"
     ]
    }
   ],
   "source": [
    "#Select columns\n",
    "df_pyspark.select('Salary').show()"
   ]
  },
  {
   "cell_type": "code",
   "execution_count": 29,
   "id": "e2c07a38",
   "metadata": {},
   "outputs": [
    {
     "data": {
      "text/plain": [
       "[('YearsExperience', 'double'), ('Salary', 'double')]"
      ]
     },
     "execution_count": 29,
     "metadata": {},
     "output_type": "execute_result"
    }
   ],
   "source": [
    "df_pyspark.dtypes"
   ]
  },
  {
   "cell_type": "code",
   "execution_count": 32,
   "id": "e5ac9d6d",
   "metadata": {},
   "outputs": [
    {
     "name": "stdout",
     "output_type": "stream",
     "text": [
      "+-------+------------------+------------------+\n",
      "|summary|   YearsExperience|            Salary|\n",
      "+-------+------------------+------------------+\n",
      "|  count|                30|                30|\n",
      "|   mean|5.3133333333333335|           76003.0|\n",
      "| stddev| 2.837888157662718|27414.429784582302|\n",
      "|    min|               1.1|           37731.0|\n",
      "|    max|              10.5|          122391.0|\n",
      "+-------+------------------+------------------+\n",
      "\n"
     ]
    }
   ],
   "source": [
    "df_pyspark.describe().show()"
   ]
  },
  {
   "cell_type": "code",
   "execution_count": 38,
   "id": "f2f90eef",
   "metadata": {},
   "outputs": [],
   "source": [
    "## Adding columns in data frame\n",
    "df_pyspark = df_pyspark.withColumn('Experience After 2 years',df_pyspark['YearsExperience']+2)"
   ]
  },
  {
   "cell_type": "code",
   "execution_count": 39,
   "id": "417eb038",
   "metadata": {},
   "outputs": [
    {
     "name": "stdout",
     "output_type": "stream",
     "text": [
      "+---------------+-------+------------------------+\n",
      "|YearsExperience| Salary|Experience After 2 years|\n",
      "+---------------+-------+------------------------+\n",
      "|            1.1|39343.0|                     3.1|\n",
      "|            1.3|46205.0|                     3.3|\n",
      "|            1.5|37731.0|                     3.5|\n",
      "|            2.0|43525.0|                     4.0|\n",
      "|            2.2|39891.0|                     4.2|\n",
      "|            2.9|56642.0|                     4.9|\n",
      "|            3.0|60150.0|                     5.0|\n",
      "|            3.2|54445.0|                     5.2|\n",
      "|            3.2|64445.0|                     5.2|\n",
      "|            3.7|57189.0|                     5.7|\n",
      "|            3.9|63218.0|                     5.9|\n",
      "|            4.0|55794.0|                     6.0|\n",
      "|            4.0|56957.0|                     6.0|\n",
      "|            4.1|57081.0|                     6.1|\n",
      "|            4.5|61111.0|                     6.5|\n",
      "|            4.9|67938.0|                     6.9|\n",
      "|            5.1|66029.0|                     7.1|\n",
      "|            5.3|83088.0|                     7.3|\n",
      "|            5.9|81363.0|                     7.9|\n",
      "|            6.0|93940.0|                     8.0|\n",
      "+---------------+-------+------------------------+\n",
      "only showing top 20 rows\n",
      "\n"
     ]
    }
   ],
   "source": [
    "df_pyspark.show()"
   ]
  },
  {
   "cell_type": "code",
   "execution_count": 41,
   "id": "31f435ec",
   "metadata": {},
   "outputs": [],
   "source": [
    "## Drop the columns\n",
    "df_pyspark = df_pyspark.drop('Experience After 2 years')"
   ]
  },
  {
   "cell_type": "code",
   "execution_count": 42,
   "id": "1e394bdc",
   "metadata": {},
   "outputs": [
    {
     "name": "stdout",
     "output_type": "stream",
     "text": [
      "+---------------+-------+\n",
      "|YearsExperience| Salary|\n",
      "+---------------+-------+\n",
      "|            1.1|39343.0|\n",
      "|            1.3|46205.0|\n",
      "|            1.5|37731.0|\n",
      "|            2.0|43525.0|\n",
      "|            2.2|39891.0|\n",
      "|            2.9|56642.0|\n",
      "|            3.0|60150.0|\n",
      "|            3.2|54445.0|\n",
      "|            3.2|64445.0|\n",
      "|            3.7|57189.0|\n",
      "|            3.9|63218.0|\n",
      "|            4.0|55794.0|\n",
      "|            4.0|56957.0|\n",
      "|            4.1|57081.0|\n",
      "|            4.5|61111.0|\n",
      "|            4.9|67938.0|\n",
      "|            5.1|66029.0|\n",
      "|            5.3|83088.0|\n",
      "|            5.9|81363.0|\n",
      "|            6.0|93940.0|\n",
      "+---------------+-------+\n",
      "only showing top 20 rows\n",
      "\n"
     ]
    }
   ],
   "source": [
    "df_pyspark.show()"
   ]
  },
  {
   "cell_type": "code",
   "execution_count": 43,
   "id": "06b5defa",
   "metadata": {},
   "outputs": [
    {
     "name": "stdout",
     "output_type": "stream",
     "text": [
      "+---------------+--------+\n",
      "|YearsExperience|earnings|\n",
      "+---------------+--------+\n",
      "|            1.1| 39343.0|\n",
      "|            1.3| 46205.0|\n",
      "|            1.5| 37731.0|\n",
      "|            2.0| 43525.0|\n",
      "|            2.2| 39891.0|\n",
      "|            2.9| 56642.0|\n",
      "|            3.0| 60150.0|\n",
      "|            3.2| 54445.0|\n",
      "|            3.2| 64445.0|\n",
      "|            3.7| 57189.0|\n",
      "|            3.9| 63218.0|\n",
      "|            4.0| 55794.0|\n",
      "|            4.0| 56957.0|\n",
      "|            4.1| 57081.0|\n",
      "|            4.5| 61111.0|\n",
      "|            4.9| 67938.0|\n",
      "|            5.1| 66029.0|\n",
      "|            5.3| 83088.0|\n",
      "|            5.9| 81363.0|\n",
      "|            6.0| 93940.0|\n",
      "+---------------+--------+\n",
      "only showing top 20 rows\n",
      "\n"
     ]
    }
   ],
   "source": [
    "## Rename the columns\n",
    "df_pyspark.withColumnRenamed('Salary','earnings').show()\n",
    "#not an inplace operation"
   ]
  },
  {
   "cell_type": "code",
   "execution_count": 44,
   "id": "f9bcd7b7",
   "metadata": {},
   "outputs": [
    {
     "name": "stdout",
     "output_type": "stream",
     "text": [
      "+---------------+-------+\n",
      "|YearsExperience| Salary|\n",
      "+---------------+-------+\n",
      "|            1.1|39343.0|\n",
      "|            1.3|46205.0|\n",
      "|            1.5|37731.0|\n",
      "|            2.0|43525.0|\n",
      "|            2.2|39891.0|\n",
      "|            2.9|56642.0|\n",
      "|            3.0|60150.0|\n",
      "|            3.2|54445.0|\n",
      "|            3.2|64445.0|\n",
      "|            3.7|57189.0|\n",
      "|            3.9|63218.0|\n",
      "|            4.0|55794.0|\n",
      "|            4.0|56957.0|\n",
      "|            4.1|57081.0|\n",
      "|            4.5|61111.0|\n",
      "|            4.9|67938.0|\n",
      "|            5.1|66029.0|\n",
      "|            5.3|83088.0|\n",
      "|            5.9|81363.0|\n",
      "|            6.0|93940.0|\n",
      "+---------------+-------+\n",
      "only showing top 20 rows\n",
      "\n"
     ]
    }
   ],
   "source": [
    "df_pyspark.show()"
   ]
  },
  {
   "cell_type": "code",
   "execution_count": null,
   "id": "34403dda",
   "metadata": {},
   "outputs": [],
   "source": []
  },
  {
   "cell_type": "code",
   "execution_count": null,
   "id": "5bd3d207",
   "metadata": {},
   "outputs": [],
   "source": []
  }
 ],
 "metadata": {
  "kernelspec": {
   "display_name": "Python 3 (ipykernel)",
   "language": "python",
   "name": "python3"
  },
  "language_info": {
   "codemirror_mode": {
    "name": "ipython",
    "version": 3
   },
   "file_extension": ".py",
   "mimetype": "text/x-python",
   "name": "python",
   "nbconvert_exporter": "python",
   "pygments_lexer": "ipython3",
   "version": "3.9.12"
  }
 },
 "nbformat": 4,
 "nbformat_minor": 5
}
