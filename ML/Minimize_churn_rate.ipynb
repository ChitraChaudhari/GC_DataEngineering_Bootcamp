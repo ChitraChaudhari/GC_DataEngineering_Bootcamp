{
 "cells": [
  {
   "cell_type": "markdown",
   "id": "1ad10a23",
   "metadata": {},
   "source": [
    "# Minimizing churn of subscription product through analysis of financial habits"
   ]
  },
  {
   "cell_type": "markdown",
   "id": "c3e5b22e",
   "metadata": {},
   "source": [
    "**Market:** The target audience is the entirety of a company's subscription base. They are the ones companies want to keep.\n",
    "\n",
    "**Product:**  The subscription products that customers are already enrolled in can provide value that users may not have imagined, or that they may have forgotten.\n",
    "\n",
    "**Goal:** The objective of this model is to predict which users are likely to churn so that the company can focus on re-engaging these users with the product. These efforts can be email reminders about the benefit of the product, especially focusing on features that are new or that the user has shown value.\n",
    "\n",
    "**Business Challenge:**\n",
    "- In this case study we will be working for a fintech company that provides a subscription product to its users, which allows them to manage their bank accounts, provides them with personalized coupons, inform them of the late low-APR loans available in the market, and educates them on the best available methods to save money( like videos on saving money on taxes, free courses on financial health, etc).\n",
    "\n",
    "- We are in charge of identifying users who are likely to cancel their subscription so that we can start building new features that they might be interested in, These features can increase the engagement and interest of our users towards the product."
   ]
  },
  {
   "cell_type": "markdown",
   "id": "21270aac",
   "metadata": {},
   "source": [
    "## Data\n",
    "- By subscribing to the membership, our customers have provided us with data on their finances, as well as how they handle those finances through the product. We also have some demographic information we acquired from them during the signup process."
   ]
  },
  {
   "cell_type": "markdown",
   "id": "c64b245b",
   "metadata": {},
   "source": [
    "## importing data and libraries"
   ]
  },
  {
   "cell_type": "code",
   "execution_count": 1,
   "id": "b449bf4a",
   "metadata": {},
   "outputs": [],
   "source": [
    "import pandas as pd\n",
    "import numpy as np\n",
    "import matplotlib.pyplot as plt\n",
    "import seaborn as sns"
   ]
  },
  {
   "cell_type": "code",
   "execution_count": 2,
   "id": "4e9c577e",
   "metadata": {},
   "outputs": [],
   "source": [
    "dataset = pd.read_csv('churn_data.csv')"
   ]
  },
  {
   "cell_type": "markdown",
   "id": "5c518df7",
   "metadata": {},
   "source": [
    "## EDA"
   ]
  },
  {
   "cell_type": "code",
   "execution_count": 3,
   "id": "3858d808",
   "metadata": {},
   "outputs": [
    {
     "data": {
      "text/html": [
       "<div>\n",
       "<style scoped>\n",
       "    .dataframe tbody tr th:only-of-type {\n",
       "        vertical-align: middle;\n",
       "    }\n",
       "\n",
       "    .dataframe tbody tr th {\n",
       "        vertical-align: top;\n",
       "    }\n",
       "\n",
       "    .dataframe thead th {\n",
       "        text-align: right;\n",
       "    }\n",
       "</style>\n",
       "<table border=\"1\" class=\"dataframe\">\n",
       "  <thead>\n",
       "    <tr style=\"text-align: right;\">\n",
       "      <th></th>\n",
       "      <th>user</th>\n",
       "      <th>churn</th>\n",
       "      <th>age</th>\n",
       "      <th>housing</th>\n",
       "      <th>credit_score</th>\n",
       "      <th>deposits</th>\n",
       "      <th>withdrawal</th>\n",
       "      <th>purchases_partners</th>\n",
       "      <th>purchases</th>\n",
       "      <th>cc_taken</th>\n",
       "      <th>...</th>\n",
       "      <th>waiting_4_loan</th>\n",
       "      <th>cancelled_loan</th>\n",
       "      <th>received_loan</th>\n",
       "      <th>rejected_loan</th>\n",
       "      <th>zodiac_sign</th>\n",
       "      <th>left_for_two_month_plus</th>\n",
       "      <th>left_for_one_month</th>\n",
       "      <th>rewards_earned</th>\n",
       "      <th>reward_rate</th>\n",
       "      <th>is_referred</th>\n",
       "    </tr>\n",
       "  </thead>\n",
       "  <tbody>\n",
       "    <tr>\n",
       "      <th>0</th>\n",
       "      <td>55409</td>\n",
       "      <td>0</td>\n",
       "      <td>37.0</td>\n",
       "      <td>na</td>\n",
       "      <td>NaN</td>\n",
       "      <td>0</td>\n",
       "      <td>0</td>\n",
       "      <td>0</td>\n",
       "      <td>0</td>\n",
       "      <td>0</td>\n",
       "      <td>...</td>\n",
       "      <td>0</td>\n",
       "      <td>0</td>\n",
       "      <td>0</td>\n",
       "      <td>0</td>\n",
       "      <td>Leo</td>\n",
       "      <td>1</td>\n",
       "      <td>0</td>\n",
       "      <td>NaN</td>\n",
       "      <td>0.00</td>\n",
       "      <td>0</td>\n",
       "    </tr>\n",
       "    <tr>\n",
       "      <th>1</th>\n",
       "      <td>23547</td>\n",
       "      <td>0</td>\n",
       "      <td>28.0</td>\n",
       "      <td>R</td>\n",
       "      <td>486.0</td>\n",
       "      <td>0</td>\n",
       "      <td>0</td>\n",
       "      <td>1</td>\n",
       "      <td>0</td>\n",
       "      <td>0</td>\n",
       "      <td>...</td>\n",
       "      <td>0</td>\n",
       "      <td>0</td>\n",
       "      <td>0</td>\n",
       "      <td>0</td>\n",
       "      <td>Leo</td>\n",
       "      <td>0</td>\n",
       "      <td>0</td>\n",
       "      <td>44.0</td>\n",
       "      <td>1.47</td>\n",
       "      <td>1</td>\n",
       "    </tr>\n",
       "    <tr>\n",
       "      <th>2</th>\n",
       "      <td>58313</td>\n",
       "      <td>0</td>\n",
       "      <td>35.0</td>\n",
       "      <td>R</td>\n",
       "      <td>561.0</td>\n",
       "      <td>47</td>\n",
       "      <td>2</td>\n",
       "      <td>86</td>\n",
       "      <td>47</td>\n",
       "      <td>0</td>\n",
       "      <td>...</td>\n",
       "      <td>0</td>\n",
       "      <td>0</td>\n",
       "      <td>0</td>\n",
       "      <td>0</td>\n",
       "      <td>Capricorn</td>\n",
       "      <td>1</td>\n",
       "      <td>0</td>\n",
       "      <td>65.0</td>\n",
       "      <td>2.17</td>\n",
       "      <td>0</td>\n",
       "    </tr>\n",
       "    <tr>\n",
       "      <th>3</th>\n",
       "      <td>8095</td>\n",
       "      <td>0</td>\n",
       "      <td>26.0</td>\n",
       "      <td>R</td>\n",
       "      <td>567.0</td>\n",
       "      <td>26</td>\n",
       "      <td>3</td>\n",
       "      <td>38</td>\n",
       "      <td>25</td>\n",
       "      <td>0</td>\n",
       "      <td>...</td>\n",
       "      <td>0</td>\n",
       "      <td>0</td>\n",
       "      <td>0</td>\n",
       "      <td>0</td>\n",
       "      <td>Capricorn</td>\n",
       "      <td>0</td>\n",
       "      <td>0</td>\n",
       "      <td>33.0</td>\n",
       "      <td>1.10</td>\n",
       "      <td>1</td>\n",
       "    </tr>\n",
       "    <tr>\n",
       "      <th>4</th>\n",
       "      <td>61353</td>\n",
       "      <td>1</td>\n",
       "      <td>27.0</td>\n",
       "      <td>na</td>\n",
       "      <td>NaN</td>\n",
       "      <td>0</td>\n",
       "      <td>0</td>\n",
       "      <td>2</td>\n",
       "      <td>0</td>\n",
       "      <td>0</td>\n",
       "      <td>...</td>\n",
       "      <td>0</td>\n",
       "      <td>0</td>\n",
       "      <td>0</td>\n",
       "      <td>0</td>\n",
       "      <td>Aries</td>\n",
       "      <td>1</td>\n",
       "      <td>0</td>\n",
       "      <td>1.0</td>\n",
       "      <td>0.03</td>\n",
       "      <td>0</td>\n",
       "    </tr>\n",
       "  </tbody>\n",
       "</table>\n",
       "<p>5 rows × 31 columns</p>\n",
       "</div>"
      ],
      "text/plain": [
       "    user  churn   age housing  credit_score  deposits  withdrawal  \\\n",
       "0  55409      0  37.0      na           NaN         0           0   \n",
       "1  23547      0  28.0       R         486.0         0           0   \n",
       "2  58313      0  35.0       R         561.0        47           2   \n",
       "3   8095      0  26.0       R         567.0        26           3   \n",
       "4  61353      1  27.0      na           NaN         0           0   \n",
       "\n",
       "   purchases_partners  purchases  cc_taken  ...  waiting_4_loan  \\\n",
       "0                   0          0         0  ...               0   \n",
       "1                   1          0         0  ...               0   \n",
       "2                  86         47         0  ...               0   \n",
       "3                  38         25         0  ...               0   \n",
       "4                   2          0         0  ...               0   \n",
       "\n",
       "   cancelled_loan  received_loan  rejected_loan  zodiac_sign  \\\n",
       "0               0              0              0          Leo   \n",
       "1               0              0              0          Leo   \n",
       "2               0              0              0    Capricorn   \n",
       "3               0              0              0    Capricorn   \n",
       "4               0              0              0        Aries   \n",
       "\n",
       "   left_for_two_month_plus  left_for_one_month  rewards_earned  reward_rate  \\\n",
       "0                        1                   0             NaN         0.00   \n",
       "1                        0                   0            44.0         1.47   \n",
       "2                        1                   0            65.0         2.17   \n",
       "3                        0                   0            33.0         1.10   \n",
       "4                        1                   0             1.0         0.03   \n",
       "\n",
       "   is_referred  \n",
       "0            0  \n",
       "1            1  \n",
       "2            0  \n",
       "3            1  \n",
       "4            0  \n",
       "\n",
       "[5 rows x 31 columns]"
      ]
     },
     "execution_count": 3,
     "metadata": {},
     "output_type": "execute_result"
    }
   ],
   "source": [
    "dataset.head()"
   ]
  },
  {
   "cell_type": "code",
   "execution_count": 4,
   "id": "3a4bfafe",
   "metadata": {},
   "outputs": [
    {
     "data": {
      "text/plain": [
       "Index(['user', 'churn', 'age', 'housing', 'credit_score', 'deposits',\n",
       "       'withdrawal', 'purchases_partners', 'purchases', 'cc_taken',\n",
       "       'cc_recommended', 'cc_disliked', 'cc_liked', 'cc_application_begin',\n",
       "       'app_downloaded', 'web_user', 'app_web_user', 'ios_user',\n",
       "       'android_user', 'registered_phones', 'payment_type', 'waiting_4_loan',\n",
       "       'cancelled_loan', 'received_loan', 'rejected_loan', 'zodiac_sign',\n",
       "       'left_for_two_month_plus', 'left_for_one_month', 'rewards_earned',\n",
       "       'reward_rate', 'is_referred'],\n",
       "      dtype='object')"
      ]
     },
     "execution_count": 4,
     "metadata": {},
     "output_type": "execute_result"
    }
   ],
   "source": [
    "dataset.columns"
   ]
  },
  {
   "cell_type": "code",
   "execution_count": 5,
   "id": "dd268055",
   "metadata": {},
   "outputs": [
    {
     "data": {
      "text/html": [
       "<div>\n",
       "<style scoped>\n",
       "    .dataframe tbody tr th:only-of-type {\n",
       "        vertical-align: middle;\n",
       "    }\n",
       "\n",
       "    .dataframe tbody tr th {\n",
       "        vertical-align: top;\n",
       "    }\n",
       "\n",
       "    .dataframe thead th {\n",
       "        text-align: right;\n",
       "    }\n",
       "</style>\n",
       "<table border=\"1\" class=\"dataframe\">\n",
       "  <thead>\n",
       "    <tr style=\"text-align: right;\">\n",
       "      <th></th>\n",
       "      <th>user</th>\n",
       "      <th>churn</th>\n",
       "      <th>age</th>\n",
       "      <th>credit_score</th>\n",
       "      <th>deposits</th>\n",
       "      <th>withdrawal</th>\n",
       "      <th>purchases_partners</th>\n",
       "      <th>purchases</th>\n",
       "      <th>cc_taken</th>\n",
       "      <th>cc_recommended</th>\n",
       "      <th>...</th>\n",
       "      <th>registered_phones</th>\n",
       "      <th>waiting_4_loan</th>\n",
       "      <th>cancelled_loan</th>\n",
       "      <th>received_loan</th>\n",
       "      <th>rejected_loan</th>\n",
       "      <th>left_for_two_month_plus</th>\n",
       "      <th>left_for_one_month</th>\n",
       "      <th>rewards_earned</th>\n",
       "      <th>reward_rate</th>\n",
       "      <th>is_referred</th>\n",
       "    </tr>\n",
       "  </thead>\n",
       "  <tbody>\n",
       "    <tr>\n",
       "      <th>count</th>\n",
       "      <td>27000.000000</td>\n",
       "      <td>27000.000000</td>\n",
       "      <td>26996.000000</td>\n",
       "      <td>18969.000000</td>\n",
       "      <td>27000.000000</td>\n",
       "      <td>27000.000000</td>\n",
       "      <td>27000.000000</td>\n",
       "      <td>27000.000000</td>\n",
       "      <td>27000.000000</td>\n",
       "      <td>27000.000000</td>\n",
       "      <td>...</td>\n",
       "      <td>27000.000000</td>\n",
       "      <td>27000.000000</td>\n",
       "      <td>27000.000000</td>\n",
       "      <td>27000.000000</td>\n",
       "      <td>27000.000000</td>\n",
       "      <td>27000.000000</td>\n",
       "      <td>27000.000000</td>\n",
       "      <td>23773.000000</td>\n",
       "      <td>27000.000000</td>\n",
       "      <td>27000.000000</td>\n",
       "    </tr>\n",
       "    <tr>\n",
       "      <th>mean</th>\n",
       "      <td>35422.702519</td>\n",
       "      <td>0.413852</td>\n",
       "      <td>32.219921</td>\n",
       "      <td>542.944225</td>\n",
       "      <td>3.341556</td>\n",
       "      <td>0.307000</td>\n",
       "      <td>28.062519</td>\n",
       "      <td>3.273481</td>\n",
       "      <td>0.073778</td>\n",
       "      <td>92.625778</td>\n",
       "      <td>...</td>\n",
       "      <td>0.420926</td>\n",
       "      <td>0.001296</td>\n",
       "      <td>0.018815</td>\n",
       "      <td>0.018185</td>\n",
       "      <td>0.004889</td>\n",
       "      <td>0.173444</td>\n",
       "      <td>0.018074</td>\n",
       "      <td>29.110125</td>\n",
       "      <td>0.907684</td>\n",
       "      <td>0.318037</td>\n",
       "    </tr>\n",
       "    <tr>\n",
       "      <th>std</th>\n",
       "      <td>20321.006678</td>\n",
       "      <td>0.492532</td>\n",
       "      <td>9.964838</td>\n",
       "      <td>61.059315</td>\n",
       "      <td>9.131406</td>\n",
       "      <td>1.055416</td>\n",
       "      <td>42.219686</td>\n",
       "      <td>8.953077</td>\n",
       "      <td>0.437299</td>\n",
       "      <td>88.869343</td>\n",
       "      <td>...</td>\n",
       "      <td>0.912831</td>\n",
       "      <td>0.035981</td>\n",
       "      <td>0.135873</td>\n",
       "      <td>0.133623</td>\n",
       "      <td>0.069751</td>\n",
       "      <td>0.378638</td>\n",
       "      <td>0.133222</td>\n",
       "      <td>21.973478</td>\n",
       "      <td>0.752016</td>\n",
       "      <td>0.465723</td>\n",
       "    </tr>\n",
       "    <tr>\n",
       "      <th>min</th>\n",
       "      <td>1.000000</td>\n",
       "      <td>0.000000</td>\n",
       "      <td>17.000000</td>\n",
       "      <td>2.000000</td>\n",
       "      <td>0.000000</td>\n",
       "      <td>0.000000</td>\n",
       "      <td>0.000000</td>\n",
       "      <td>0.000000</td>\n",
       "      <td>0.000000</td>\n",
       "      <td>0.000000</td>\n",
       "      <td>...</td>\n",
       "      <td>0.000000</td>\n",
       "      <td>0.000000</td>\n",
       "      <td>0.000000</td>\n",
       "      <td>0.000000</td>\n",
       "      <td>0.000000</td>\n",
       "      <td>0.000000</td>\n",
       "      <td>0.000000</td>\n",
       "      <td>1.000000</td>\n",
       "      <td>0.000000</td>\n",
       "      <td>0.000000</td>\n",
       "    </tr>\n",
       "    <tr>\n",
       "      <th>25%</th>\n",
       "      <td>17810.500000</td>\n",
       "      <td>0.000000</td>\n",
       "      <td>25.000000</td>\n",
       "      <td>507.000000</td>\n",
       "      <td>0.000000</td>\n",
       "      <td>0.000000</td>\n",
       "      <td>0.000000</td>\n",
       "      <td>0.000000</td>\n",
       "      <td>0.000000</td>\n",
       "      <td>10.000000</td>\n",
       "      <td>...</td>\n",
       "      <td>0.000000</td>\n",
       "      <td>0.000000</td>\n",
       "      <td>0.000000</td>\n",
       "      <td>0.000000</td>\n",
       "      <td>0.000000</td>\n",
       "      <td>0.000000</td>\n",
       "      <td>0.000000</td>\n",
       "      <td>9.000000</td>\n",
       "      <td>0.200000</td>\n",
       "      <td>0.000000</td>\n",
       "    </tr>\n",
       "    <tr>\n",
       "      <th>50%</th>\n",
       "      <td>35749.000000</td>\n",
       "      <td>0.000000</td>\n",
       "      <td>30.000000</td>\n",
       "      <td>542.000000</td>\n",
       "      <td>0.000000</td>\n",
       "      <td>0.000000</td>\n",
       "      <td>9.000000</td>\n",
       "      <td>0.000000</td>\n",
       "      <td>0.000000</td>\n",
       "      <td>65.000000</td>\n",
       "      <td>...</td>\n",
       "      <td>0.000000</td>\n",
       "      <td>0.000000</td>\n",
       "      <td>0.000000</td>\n",
       "      <td>0.000000</td>\n",
       "      <td>0.000000</td>\n",
       "      <td>0.000000</td>\n",
       "      <td>0.000000</td>\n",
       "      <td>25.000000</td>\n",
       "      <td>0.780000</td>\n",
       "      <td>0.000000</td>\n",
       "    </tr>\n",
       "    <tr>\n",
       "      <th>75%</th>\n",
       "      <td>53244.250000</td>\n",
       "      <td>1.000000</td>\n",
       "      <td>37.000000</td>\n",
       "      <td>578.000000</td>\n",
       "      <td>1.000000</td>\n",
       "      <td>0.000000</td>\n",
       "      <td>43.000000</td>\n",
       "      <td>1.000000</td>\n",
       "      <td>0.000000</td>\n",
       "      <td>164.000000</td>\n",
       "      <td>...</td>\n",
       "      <td>0.000000</td>\n",
       "      <td>0.000000</td>\n",
       "      <td>0.000000</td>\n",
       "      <td>0.000000</td>\n",
       "      <td>0.000000</td>\n",
       "      <td>0.000000</td>\n",
       "      <td>0.000000</td>\n",
       "      <td>48.000000</td>\n",
       "      <td>1.530000</td>\n",
       "      <td>1.000000</td>\n",
       "    </tr>\n",
       "    <tr>\n",
       "      <th>max</th>\n",
       "      <td>69658.000000</td>\n",
       "      <td>1.000000</td>\n",
       "      <td>91.000000</td>\n",
       "      <td>838.000000</td>\n",
       "      <td>65.000000</td>\n",
       "      <td>29.000000</td>\n",
       "      <td>1067.000000</td>\n",
       "      <td>63.000000</td>\n",
       "      <td>29.000000</td>\n",
       "      <td>522.000000</td>\n",
       "      <td>...</td>\n",
       "      <td>5.000000</td>\n",
       "      <td>1.000000</td>\n",
       "      <td>1.000000</td>\n",
       "      <td>1.000000</td>\n",
       "      <td>1.000000</td>\n",
       "      <td>1.000000</td>\n",
       "      <td>1.000000</td>\n",
       "      <td>114.000000</td>\n",
       "      <td>4.000000</td>\n",
       "      <td>1.000000</td>\n",
       "    </tr>\n",
       "  </tbody>\n",
       "</table>\n",
       "<p>8 rows × 28 columns</p>\n",
       "</div>"
      ],
      "text/plain": [
       "               user         churn           age  credit_score      deposits  \\\n",
       "count  27000.000000  27000.000000  26996.000000  18969.000000  27000.000000   \n",
       "mean   35422.702519      0.413852     32.219921    542.944225      3.341556   \n",
       "std    20321.006678      0.492532      9.964838     61.059315      9.131406   \n",
       "min        1.000000      0.000000     17.000000      2.000000      0.000000   \n",
       "25%    17810.500000      0.000000     25.000000    507.000000      0.000000   \n",
       "50%    35749.000000      0.000000     30.000000    542.000000      0.000000   \n",
       "75%    53244.250000      1.000000     37.000000    578.000000      1.000000   \n",
       "max    69658.000000      1.000000     91.000000    838.000000     65.000000   \n",
       "\n",
       "         withdrawal  purchases_partners     purchases      cc_taken  \\\n",
       "count  27000.000000        27000.000000  27000.000000  27000.000000   \n",
       "mean       0.307000           28.062519      3.273481      0.073778   \n",
       "std        1.055416           42.219686      8.953077      0.437299   \n",
       "min        0.000000            0.000000      0.000000      0.000000   \n",
       "25%        0.000000            0.000000      0.000000      0.000000   \n",
       "50%        0.000000            9.000000      0.000000      0.000000   \n",
       "75%        0.000000           43.000000      1.000000      0.000000   \n",
       "max       29.000000         1067.000000     63.000000     29.000000   \n",
       "\n",
       "       cc_recommended  ...  registered_phones  waiting_4_loan  cancelled_loan  \\\n",
       "count    27000.000000  ...       27000.000000    27000.000000    27000.000000   \n",
       "mean        92.625778  ...           0.420926        0.001296        0.018815   \n",
       "std         88.869343  ...           0.912831        0.035981        0.135873   \n",
       "min          0.000000  ...           0.000000        0.000000        0.000000   \n",
       "25%         10.000000  ...           0.000000        0.000000        0.000000   \n",
       "50%         65.000000  ...           0.000000        0.000000        0.000000   \n",
       "75%        164.000000  ...           0.000000        0.000000        0.000000   \n",
       "max        522.000000  ...           5.000000        1.000000        1.000000   \n",
       "\n",
       "       received_loan  rejected_loan  left_for_two_month_plus  \\\n",
       "count   27000.000000   27000.000000             27000.000000   \n",
       "mean        0.018185       0.004889                 0.173444   \n",
       "std         0.133623       0.069751                 0.378638   \n",
       "min         0.000000       0.000000                 0.000000   \n",
       "25%         0.000000       0.000000                 0.000000   \n",
       "50%         0.000000       0.000000                 0.000000   \n",
       "75%         0.000000       0.000000                 0.000000   \n",
       "max         1.000000       1.000000                 1.000000   \n",
       "\n",
       "       left_for_one_month  rewards_earned   reward_rate   is_referred  \n",
       "count        27000.000000    23773.000000  27000.000000  27000.000000  \n",
       "mean             0.018074       29.110125      0.907684      0.318037  \n",
       "std              0.133222       21.973478      0.752016      0.465723  \n",
       "min              0.000000        1.000000      0.000000      0.000000  \n",
       "25%              0.000000        9.000000      0.200000      0.000000  \n",
       "50%              0.000000       25.000000      0.780000      0.000000  \n",
       "75%              0.000000       48.000000      1.530000      1.000000  \n",
       "max              1.000000      114.000000      4.000000      1.000000  \n",
       "\n",
       "[8 rows x 28 columns]"
      ]
     },
     "execution_count": 5,
     "metadata": {},
     "output_type": "execute_result"
    }
   ],
   "source": [
    "dataset.describe()"
   ]
  },
  {
   "cell_type": "markdown",
   "id": "d1cf0c5d",
   "metadata": {},
   "source": [
    "User is a code so distribution doesn't really matter. We are going to see these distributions a lot better with Histograms so let's do that."
   ]
  },
  {
   "cell_type": "markdown",
   "id": "09cd207e",
   "metadata": {},
   "source": [
    "## Data cleaning\n",
    "\n",
    "Remove any NaN values"
   ]
  },
  {
   "cell_type": "code",
   "execution_count": 6,
   "id": "e04040f8",
   "metadata": {},
   "outputs": [
    {
     "data": {
      "text/plain": [
       "user                       False\n",
       "churn                      False\n",
       "age                         True\n",
       "housing                    False\n",
       "credit_score                True\n",
       "deposits                   False\n",
       "withdrawal                 False\n",
       "purchases_partners         False\n",
       "purchases                  False\n",
       "cc_taken                   False\n",
       "cc_recommended             False\n",
       "cc_disliked                False\n",
       "cc_liked                   False\n",
       "cc_application_begin       False\n",
       "app_downloaded             False\n",
       "web_user                   False\n",
       "app_web_user               False\n",
       "ios_user                   False\n",
       "android_user               False\n",
       "registered_phones          False\n",
       "payment_type               False\n",
       "waiting_4_loan             False\n",
       "cancelled_loan             False\n",
       "received_loan              False\n",
       "rejected_loan              False\n",
       "zodiac_sign                False\n",
       "left_for_two_month_plus    False\n",
       "left_for_one_month         False\n",
       "rewards_earned              True\n",
       "reward_rate                False\n",
       "is_referred                False\n",
       "dtype: bool"
      ]
     },
     "execution_count": 6,
     "metadata": {},
     "output_type": "execute_result"
    }
   ],
   "source": [
    "dataset.isna().any()"
   ]
  },
  {
   "cell_type": "markdown",
   "id": "da6965b9",
   "metadata": {},
   "source": [
    "Age, credit_score, and rewards_earned columns have NAN values. So let's check the number if there are only a few then we can just drop them."
   ]
  },
  {
   "cell_type": "code",
   "execution_count": 7,
   "id": "a563bd9d",
   "metadata": {},
   "outputs": [
    {
     "data": {
      "text/plain": [
       "user                          0\n",
       "churn                         0\n",
       "age                           4\n",
       "housing                       0\n",
       "credit_score               8031\n",
       "deposits                      0\n",
       "withdrawal                    0\n",
       "purchases_partners            0\n",
       "purchases                     0\n",
       "cc_taken                      0\n",
       "cc_recommended                0\n",
       "cc_disliked                   0\n",
       "cc_liked                      0\n",
       "cc_application_begin          0\n",
       "app_downloaded                0\n",
       "web_user                      0\n",
       "app_web_user                  0\n",
       "ios_user                      0\n",
       "android_user                  0\n",
       "registered_phones             0\n",
       "payment_type                  0\n",
       "waiting_4_loan                0\n",
       "cancelled_loan                0\n",
       "received_loan                 0\n",
       "rejected_loan                 0\n",
       "zodiac_sign                   0\n",
       "left_for_two_month_plus       0\n",
       "left_for_one_month            0\n",
       "rewards_earned             3227\n",
       "reward_rate                   0\n",
       "is_referred                   0\n",
       "dtype: int64"
      ]
     },
     "execution_count": 7,
     "metadata": {},
     "output_type": "execute_result"
    }
   ],
   "source": [
    "dataset.isna().sum()"
   ]
  },
  {
   "cell_type": "markdown",
   "id": "b34af946",
   "metadata": {},
   "source": [
    "We see that for age there are only 4 values, which is pretty small.\n",
    "\n",
    "For credit_score, there are 8031 values, which is almost a third of the entire dataset. That's a lot.\n",
    "\n",
    "And for rewards_earned we have, 3227, which is a little bit more than a tenth of the rows.\n",
    "\n",
    "So based on these big numbers, I think it just makes sense for our purposes to remove rewards_earned, and remove credit_score from our model-building process.\n",
    "\n",
    "We are going to also get rid of these 4 rows with missing age values.\n"
   ]
  },
  {
   "cell_type": "code",
   "execution_count": 8,
   "id": "2587ee49",
   "metadata": {},
   "outputs": [],
   "source": [
    "dataset = dataset[pd.notnull(dataset['age'])]"
   ]
  },
  {
   "cell_type": "code",
   "execution_count": 9,
   "id": "4dfb4d19",
   "metadata": {},
   "outputs": [],
   "source": [
    "dataset = dataset.drop(columns = ['credit_score', 'rewards_earned'])"
   ]
  },
  {
   "cell_type": "markdown",
   "id": "8607dde9",
   "metadata": {},
   "source": [
    "### Visualisation"
   ]
  },
  {
   "cell_type": "code",
   "execution_count": 10,
   "id": "db951165",
   "metadata": {},
   "outputs": [],
   "source": [
    "dataset2 = dataset.drop(columns = ['user','churn'])"
   ]
  },
  {
   "cell_type": "code",
   "execution_count": 11,
   "id": "97851933",
   "metadata": {},
   "outputs": [
    {
     "data": {
      "image/png": "[encoded data removed]",
      "text/plain": [
       "<Figure size 1080x864 with 27 Axes>"
      ]
     },
     "metadata": {
      "needs_background": "light"
     },
     "output_type": "display_data"
    }
   ],
   "source": [
    "fig = plt.figure(figsize=(15,12))\n",
    "plt.suptitle('Histogram of neumerical columns', fontsize=20)\n",
    "for i in range(1, dataset2.shape[1]+1):\n",
    "    plt.subplot(6,5,i)\n",
    "    f=plt.gca()\n",
    "    f.axes.get_yaxis().set_visible(False)\n",
    "    f.set_title(dataset2.columns.values[i-1])\n",
    "    \n",
    "    vals = np.size(dataset2.iloc[:,i-1].unique())\n",
    "    plt.hist(dataset2.iloc[:,i-1],bins=vals, color=\"#3F5D7D\")\n",
    "\n",
    "plt.tight_layout(rect=[0,0.03,1,0.95])"
   ]
  },
  {
   "cell_type": "markdown",
   "id": "da1aa829",
   "metadata": {},
   "source": [
    "- For the age column, everybody is above 18 years old. We have a normal distribution that is right-tailed because the majority of older people don't use these services.\n",
    "\n",
    "- For the housing column, we see that the majority of people are not owners, a good amount of them are renters and most of them are unclassified.\n",
    "\n",
    "- For deposits, withdrawals, and purchases columns we see the distribution being very right-tailed. Meaning that majority of people have a zero value meaning no deposits. This data we're working with is usually for the first couple of months of subscription. So activity could be low. And once a person has trusted the system for many months, maybe they will start depositing more.\n",
    "\n",
    "- For cc_taken, cc_liked, and cc_disliked  majority is either 0 or 1.\n",
    "\n",
    "- For cc_recommended we see it's more evenly distributed.\n",
    "\n",
    "- For cc_application_begin, we see more spread in distribution because it is more often the case that people begin the application.\n",
    "\n",
    "- For some of the binary columns need to do some other visualizations to get better insights from the data.\n",
    "\n",
    "- For registered phones, the majority are 1. very few for 2/3/4.\n",
    "\n",
    "- For payment_types we see bi-weekly is the most popular one followed by weekly.\n",
    "\n",
    "- For zodiac signs is quite evenly distributed. But it's interesting to see there are very less Capricorns than all other signs."
   ]
  },
  {
   "cell_type": "markdown",
   "id": "1b8d8dda",
   "metadata": {},
   "source": [
    "### pie charts"
   ]
  },
  {
   "cell_type": "code",
   "execution_count": 12,
   "id": "3fa23c1e",
   "metadata": {},
   "outputs": [],
   "source": [
    "dataset2 = dataset[['housing','is_referred', 'app_downloaded', 'web_user',\n",
    "                   'app_web_user','ios_user','android_user','registered_phones','payment_type',\n",
    "                   'waiting_4_loan','cancelled_loan','received_loan','rejected_loan','zodiac_sign',\n",
    "                   'left_for_two_month_plus','left_for_one_month','is_referred']]"
   ]
  },
  {
   "cell_type": "code",
   "execution_count": 13,
   "id": "22224d18",
   "metadata": {},
   "outputs": [
    {
     "data": {
      "image/png": "[encoded data removed]",
      "text/plain": [
       "<Figure size 864x864 with 17 Axes>"
      ]
     },
     "metadata": {},
     "output_type": "display_data"
    }
   ],
   "source": [
    "fig = plt.figure(figsize=(12,12))\n",
    "plt.suptitle('Pie chart distribution', fontsize=20)\n",
    "\n",
    "for i in range(1, dataset2.shape[1]+1):\n",
    "    plt.subplot(6,3,i)\n",
    "    f=plt.gca()\n",
    "    f.axes.get_yaxis().set_visible(False)\n",
    "    f.set_title(dataset2.columns.values[i-1])\n",
    "    \n",
    "    values = dataset2.iloc[:,i-1].value_counts(normalize = True).values\n",
    "    index = dataset2.iloc[:,i-1].value_counts(normalize = True).index\n",
    "    \n",
    "    plt.pie(values, labels=index, autopct='%1.1f%%')\n",
    "    plt.axis('equal')\n",
    "\n",
    "plt.tight_layout(rect=[0,0.03,1,0.95])"
   ]
  },
  {
   "cell_type": "markdown",
   "id": "dd6d1ca9",
   "metadata": {},
   "source": [
    "- There are a few subsets like waiting_4_loan, Cancelled_loan, received_loan, and rejected_loan. In waiting_4_loan has very small subsets like 0.1,  such that there are not enough results for it to include both rows where the term variable is 1. The same can apply to other small subsets. So we need to explore this further to make sure that we can use them in our model."
   ]
  },
  {
   "cell_type": "code",
   "execution_count": 14,
   "id": "4b86f9a9",
   "metadata": {},
   "outputs": [
    {
     "data": {
      "text/plain": [
       "0    27\n",
       "1     8\n",
       "Name: churn, dtype: int64"
      ]
     },
     "execution_count": 14,
     "metadata": {},
     "output_type": "execute_result"
    }
   ],
   "source": [
    "dataset[dataset2.waiting_4_loan==1].churn.value_counts()"
   ]
  },
  {
   "cell_type": "code",
   "execution_count": 15,
   "id": "b6fb30d7",
   "metadata": {},
   "outputs": [
    {
     "data": {
      "text/plain": [
       "1    274\n",
       "0    234\n",
       "Name: churn, dtype: int64"
      ]
     },
     "execution_count": 15,
     "metadata": {},
     "output_type": "execute_result"
    }
   ],
   "source": [
    "dataset[dataset2.cancelled_loan==1].churn.value_counts()"
   ]
  },
  {
   "cell_type": "code",
   "execution_count": 16,
   "id": "015b760b",
   "metadata": {},
   "outputs": [
    {
     "data": {
      "text/plain": [
       "1    292\n",
       "0    199\n",
       "Name: churn, dtype: int64"
      ]
     },
     "execution_count": 16,
     "metadata": {},
     "output_type": "execute_result"
    }
   ],
   "source": [
    "dataset[dataset2.received_loan==1].churn.value_counts()"
   ]
  },
  {
   "cell_type": "code",
   "execution_count": 17,
   "id": "7b5c8a06",
   "metadata": {},
   "outputs": [
    {
     "data": {
      "text/plain": [
       "1    107\n",
       "0     25\n",
       "Name: churn, dtype: int64"
      ]
     },
     "execution_count": 17,
     "metadata": {},
     "output_type": "execute_result"
    }
   ],
   "source": [
    "dataset[dataset2.rejected_loan==1].churn.value_counts()"
   ]
  },
  {
   "cell_type": "code",
   "execution_count": 18,
   "id": "f6c1409b",
   "metadata": {
    "scrolled": true
   },
   "outputs": [
    {
     "data": {
      "text/plain": [
       "1    266\n",
       "0    222\n",
       "Name: churn, dtype: int64"
      ]
     },
     "execution_count": 18,
     "metadata": {},
     "output_type": "execute_result"
    }
   ],
   "source": [
    "dataset[dataset2.left_for_one_month==1].churn.value_counts()"
   ]
  },
  {
   "cell_type": "markdown",
   "id": "2823ca49",
   "metadata": {},
   "source": [
    "### Correlation plot"
   ]
  },
  {
   "cell_type": "code",
   "execution_count": 19,
   "id": "9b8747a2",
   "metadata": {
    "scrolled": true
   },
   "outputs": [
    {
     "data": {
      "text/plain": [
       "<AxesSubplot:title={'center':'Correlation with response variable'}>"
      ]
     },
     "execution_count": 19,
     "metadata": {},
     "output_type": "execute_result"
    },
    {
     "data": {
      "image/png": "[encoded data removed]",
      "text/plain": [
       "<Figure size 1440x720 with 1 Axes>"
      ]
     },
     "metadata": {
      "needs_background": "light"
     },
     "output_type": "display_data"
    }
   ],
   "source": [
    "dataset.drop(columns = ['churn', 'user', 'housing',\n",
    "                        'payment_type','zodiac_sign']).corrwith(dataset.churn).plot.bar(\n",
    "                        figsize=(20,10), title='Correlation with response variable', fontsize=15, rot=45, grid=True)"
   ]
  },
  {
   "cell_type": "markdown",
   "id": "64ee89cc",
   "metadata": {},
   "source": [
    "- This plot is telling us that age is negatively correlated to the response variable, churn, the smaller the age it is the most likely for the response variable to be one. So the younger you are, the most likely you are to churn.\n",
    "\n",
    "- The same we see for deposits, withdrawals, and purchases which are the next three, the smaller amount of deposits, the most likely for you to churn. There are more of them on the withdrawals and purchases. This makes a lot of sense because this means that the less activity you have, the most likely you're going to churn. \n",
    "\n",
    "- The next one is cc_taken and this one is interesting to see. This is telling us that if you take a credit card with us, you're going to be more likely to churn. So maybe this is giving us some insights into the fact that people are not very happy with the credit card feature that we have for the credit card product. So this could be interesting to explore further.\n",
    "\n",
    "- For cc_recommended this means that the fewer recommendations you have, the more likely you are to churn. So if I give you more and more recommendations, you're going to be less likely to churn.\n",
    " \n",
    "- Moving forward, as the application begins, the more applications that you gain, the more likely you are to stay with us.\n",
    "\n",
    "- If you have downloaded the app, then you're most likely to stay with this.\n",
    "\n",
    "- We also see the web user, android users, and iOS users as correlating with the response variable, meaning that if you're a Web user, an Apple Web user, or an android web user, you're more likely to turn. But if you're an Android user, you're actually more likely to stay.\n",
    "\n",
    "- If you have registered more phones, you are more likely to churn. And if you are waiting at this point, you're more likely to stay.\n",
    "\n",
    "- The strength of the positive correlation is very small it's only around 5%, So these correlations are not strong, but are nice to see. And can give us some educational insights on what relates to the variable and in which way, is more important."
   ]
  },
  {
   "cell_type": "markdown",
   "id": "9eb8fa3e",
   "metadata": {},
   "source": [
    "### Correlation Matrix"
   ]
  },
  {
   "cell_type": "code",
   "execution_count": 20,
   "id": "13af34b2",
   "metadata": {},
   "outputs": [],
   "source": [
    "sns.set_style(style='white')"
   ]
  },
  {
   "cell_type": "code",
   "execution_count": 21,
   "id": "f5a78359",
   "metadata": {},
   "outputs": [],
   "source": [
    "corr = dataset.drop(columns=['user','churn']).corr()"
   ]
  },
  {
   "cell_type": "code",
   "execution_count": 22,
   "id": "906f331f",
   "metadata": {},
   "outputs": [],
   "source": [
    "#generate mask for upper triangle\n",
    "mask=np.zeros_like(corr, dtype=np.bool_)\n",
    "mask[np.triu_indices_from(mask)]=True"
   ]
  },
  {
   "cell_type": "code",
   "execution_count": 23,
   "id": "77588be1",
   "metadata": {
    "scrolled": true
   },
   "outputs": [
    {
     "data": {
      "text/plain": [
       "<AxesSubplot:>"
      ]
     },
     "execution_count": 23,
     "metadata": {},
     "output_type": "execute_result"
    },
    {
     "data": {
      "image/png": "[encoded data removed]",
      "text/plain": [
       "<Figure size 1296x1080 with 2 Axes>"
      ]
     },
     "metadata": {},
     "output_type": "display_data"
    }
   ],
   "source": [
    "f,ax=plt.subplots(figsize=(18,15))\n",
    "cmap = sns.diverging_palette(220,10,as_cmap=True)\n",
    "\n",
    "sns.heatmap(corr, mask=mask, cmap=cmap, vmax=.3,center=0,\n",
    "           square=True, linewidths=.5, cbar_kws={\"shrink\": .5})"
   ]
  },
  {
   "cell_type": "markdown",
   "id": "a275fd93",
   "metadata": {},
   "source": [
    "The app_web user is 1 only when both the web user and the app downloaded are 1. So this is the dependent variable which is a function of the other two fields. So we will get rid of that column."
   ]
  },
  {
   "cell_type": "code",
   "execution_count": 24,
   "id": "ef0c7ae3",
   "metadata": {},
   "outputs": [],
   "source": [
    "dataset = dataset.drop(columns = ['app_web_user'])"
   ]
  },
  {
   "cell_type": "code",
   "execution_count": 25,
   "id": "a0b13bea",
   "metadata": {},
   "outputs": [],
   "source": [
    "dataset.to_csv('new_churn_data.csv', index=False)"
   ]
  },
  {
   "cell_type": "markdown",
   "id": "595113e6",
   "metadata": {},
   "source": [
    "## Data preparation"
   ]
  },
  {
   "cell_type": "code",
   "execution_count": 26,
   "id": "c3e7f62c",
   "metadata": {},
   "outputs": [],
   "source": [
    "user_identifier = dataset['user']\n",
    "dataset=dataset.drop(columns=['user'])"
   ]
  },
  {
   "cell_type": "code",
   "execution_count": 27,
   "id": "cbd183dc",
   "metadata": {},
   "outputs": [
    {
     "data": {
      "text/plain": [
       "na    13856\n",
       "R     10969\n",
       "O      2171\n",
       "Name: housing, dtype: int64"
      ]
     },
     "execution_count": 27,
     "metadata": {},
     "output_type": "execute_result"
    }
   ],
   "source": [
    "dataset.housing.value_counts()"
   ]
  },
  {
   "cell_type": "code",
   "execution_count": 28,
   "id": "1a586a2b",
   "metadata": {},
   "outputs": [
    {
     "data": {
      "text/plain": [
       "Index(['churn', 'age', 'deposits', 'withdrawal', 'purchases_partners',\n",
       "       'purchases', 'cc_taken', 'cc_recommended', 'cc_disliked', 'cc_liked',\n",
       "       'cc_application_begin', 'app_downloaded', 'web_user', 'ios_user',\n",
       "       'android_user', 'registered_phones', 'waiting_4_loan', 'cancelled_loan',\n",
       "       'received_loan', 'rejected_loan', 'left_for_two_month_plus',\n",
       "       'left_for_one_month', 'reward_rate', 'is_referred', 'housing_O',\n",
       "       'housing_R', 'housing_na', 'payment_type_Bi-Weekly',\n",
       "       'payment_type_Monthly', 'payment_type_Semi-Monthly',\n",
       "       'payment_type_Weekly', 'payment_type_na', 'zodiac_sign_Aquarius',\n",
       "       'zodiac_sign_Aries', 'zodiac_sign_Cancer', 'zodiac_sign_Capricorn',\n",
       "       'zodiac_sign_Gemini', 'zodiac_sign_Leo', 'zodiac_sign_Libra',\n",
       "       'zodiac_sign_Pisces', 'zodiac_sign_Sagittarius', 'zodiac_sign_Scorpio',\n",
       "       'zodiac_sign_Taurus', 'zodiac_sign_Virgo', 'zodiac_sign_na'],\n",
       "      dtype='object')"
      ]
     },
     "execution_count": 28,
     "metadata": {},
     "output_type": "execute_result"
    }
   ],
   "source": [
    "dataset = pd.get_dummies(dataset)\n",
    "dataset.columns"
   ]
  },
  {
   "cell_type": "code",
   "execution_count": 29,
   "id": "0b2cdbb3",
   "metadata": {},
   "outputs": [],
   "source": [
    "#to avoide dummy variable trap\n",
    "dataset = dataset.drop(columns=['housing_na','zodiac_sign_na','payment_type_na'])"
   ]
  },
  {
   "cell_type": "code",
   "execution_count": 30,
   "id": "7fdd253d",
   "metadata": {},
   "outputs": [],
   "source": [
    "from sklearn.model_selection import train_test_split\n",
    "X_train,X_test,y_train,y_test = train_test_split(dataset.drop(columns='churn'),\n",
    "                                                 dataset['churn'],\n",
    "                                                 test_size=0.2,\n",
    "                                                 random_state=0)"
   ]
  },
  {
   "cell_type": "markdown",
   "id": "8eea5690",
   "metadata": {},
   "source": [
    "## Balancing training set "
   ]
  },
  {
   "cell_type": "code",
   "execution_count": 31,
   "id": "a150f0e9",
   "metadata": {},
   "outputs": [
    {
     "data": {
      "text/plain": [
       "0    12656\n",
       "1     8940\n",
       "Name: churn, dtype: int64"
      ]
     },
     "execution_count": 31,
     "metadata": {},
     "output_type": "execute_result"
    }
   ],
   "source": [
    "y_train.value_counts()"
   ]
  },
  {
   "cell_type": "code",
   "execution_count": 32,
   "id": "9056fdcd",
   "metadata": {},
   "outputs": [],
   "source": [
    "pos_index = y_train[y_train.values == 1].index\n",
    "neg_index = y_train[y_train.values == 0].index\n",
    "\n",
    "if len(pos_index) > len(neg_index):\n",
    "    higher = pos_index\n",
    "    lower = neg_index\n",
    "else:\n",
    "    lower = pos_index\n",
    "    higher = neg_index\n",
    "    \n",
    "import random\n",
    "\n",
    "random.seed(0)\n",
    "higher = np.random.choice(higher, size=len(lower))\n",
    "lower = np.asarray(lower)\n",
    "new_indexes = np.concatenate((lower,higher))\n",
    "\n",
    "X_train = X_train.loc[new_indexes,]\n",
    "y_train = y_train[new_indexes]"
   ]
  },
  {
   "cell_type": "markdown",
   "id": "8101ab30",
   "metadata": {},
   "source": [
    "### Feature scaling"
   ]
  },
  {
   "cell_type": "code",
   "execution_count": 33,
   "id": "c5c0bff4",
   "metadata": {},
   "outputs": [],
   "source": [
    "from sklearn.preprocessing import StandardScaler"
   ]
  },
  {
   "cell_type": "code",
   "execution_count": 34,
   "id": "f2e17476",
   "metadata": {},
   "outputs": [],
   "source": [
    "sc_X = StandardScaler()\n",
    "\n",
    "X_train2=pd.DataFrame(sc_X.fit_transform(X_train))\n",
    "X_test2=pd.DataFrame(sc_X.fit_transform(X_test))\n",
    "\n",
    "X_train2.columns = X_train.columns.values\n",
    "X_test2.columns = X_test.columns.values\n",
    "\n",
    "X_train2.index = X_train.index.values\n",
    "X_test2.index = X_test.index.values\n",
    "\n",
    "X_train = X_train2\n",
    "X_test = X_test2"
   ]
  },
  {
   "cell_type": "code",
   "execution_count": 35,
   "id": "4337aa97",
   "metadata": {},
   "outputs": [
    {
     "data": {
      "text/html": [
       "<div>\n",
       "<style scoped>\n",
       "    .dataframe tbody tr th:only-of-type {\n",
       "        vertical-align: middle;\n",
       "    }\n",
       "\n",
       "    .dataframe tbody tr th {\n",
       "        vertical-align: top;\n",
       "    }\n",
       "\n",
       "    .dataframe thead th {\n",
       "        text-align: right;\n",
       "    }\n",
       "</style>\n",
       "<table border=\"1\" class=\"dataframe\">\n",
       "  <thead>\n",
       "    <tr style=\"text-align: right;\">\n",
       "      <th></th>\n",
       "      <th>age</th>\n",
       "      <th>deposits</th>\n",
       "      <th>withdrawal</th>\n",
       "      <th>purchases_partners</th>\n",
       "      <th>purchases</th>\n",
       "      <th>cc_taken</th>\n",
       "      <th>cc_recommended</th>\n",
       "      <th>cc_disliked</th>\n",
       "      <th>cc_liked</th>\n",
       "      <th>cc_application_begin</th>\n",
       "      <th>...</th>\n",
       "      <th>zodiac_sign_Cancer</th>\n",
       "      <th>zodiac_sign_Capricorn</th>\n",
       "      <th>zodiac_sign_Gemini</th>\n",
       "      <th>zodiac_sign_Leo</th>\n",
       "      <th>zodiac_sign_Libra</th>\n",
       "      <th>zodiac_sign_Pisces</th>\n",
       "      <th>zodiac_sign_Sagittarius</th>\n",
       "      <th>zodiac_sign_Scorpio</th>\n",
       "      <th>zodiac_sign_Taurus</th>\n",
       "      <th>zodiac_sign_Virgo</th>\n",
       "    </tr>\n",
       "  </thead>\n",
       "  <tbody>\n",
       "    <tr>\n",
       "      <th>11697</th>\n",
       "      <td>-0.617723</td>\n",
       "      <td>-0.358182</td>\n",
       "      <td>-0.276947</td>\n",
       "      <td>-0.593753</td>\n",
       "      <td>-0.357603</td>\n",
       "      <td>-0.169844</td>\n",
       "      <td>-0.911666</td>\n",
       "      <td>-0.064026</td>\n",
       "      <td>-0.068349</td>\n",
       "      <td>-0.580441</td>\n",
       "      <td>...</td>\n",
       "      <td>-0.311988</td>\n",
       "      <td>-0.156227</td>\n",
       "      <td>-0.291916</td>\n",
       "      <td>-0.31188</td>\n",
       "      <td>-0.296628</td>\n",
       "      <td>-0.290447</td>\n",
       "      <td>-0.28954</td>\n",
       "      <td>-0.293829</td>\n",
       "      <td>-0.301291</td>\n",
       "      <td>-0.312204</td>\n",
       "    </tr>\n",
       "    <tr>\n",
       "      <th>19770</th>\n",
       "      <td>-0.416039</td>\n",
       "      <td>-0.358182</td>\n",
       "      <td>-0.276947</td>\n",
       "      <td>-0.642808</td>\n",
       "      <td>-0.357603</td>\n",
       "      <td>-0.169844</td>\n",
       "      <td>0.317662</td>\n",
       "      <td>1.174923</td>\n",
       "      <td>-0.068349</td>\n",
       "      <td>-0.580441</td>\n",
       "      <td>...</td>\n",
       "      <td>-0.311988</td>\n",
       "      <td>-0.156227</td>\n",
       "      <td>-0.291916</td>\n",
       "      <td>-0.31188</td>\n",
       "      <td>3.371223</td>\n",
       "      <td>-0.290447</td>\n",
       "      <td>-0.28954</td>\n",
       "      <td>-0.293829</td>\n",
       "      <td>-0.301291</td>\n",
       "      <td>-0.312204</td>\n",
       "    </tr>\n",
       "    <tr>\n",
       "      <th>8356</th>\n",
       "      <td>0.289852</td>\n",
       "      <td>-0.358182</td>\n",
       "      <td>-0.276947</td>\n",
       "      <td>-0.642808</td>\n",
       "      <td>-0.357603</td>\n",
       "      <td>-0.169844</td>\n",
       "      <td>2.002298</td>\n",
       "      <td>-0.064026</td>\n",
       "      <td>-0.068349</td>\n",
       "      <td>-0.245933</td>\n",
       "      <td>...</td>\n",
       "      <td>-0.311988</td>\n",
       "      <td>-0.156227</td>\n",
       "      <td>-0.291916</td>\n",
       "      <td>-0.31188</td>\n",
       "      <td>-0.296628</td>\n",
       "      <td>-0.290447</td>\n",
       "      <td>-0.28954</td>\n",
       "      <td>-0.293829</td>\n",
       "      <td>-0.301291</td>\n",
       "      <td>3.203037</td>\n",
       "    </tr>\n",
       "    <tr>\n",
       "      <th>17887</th>\n",
       "      <td>0.592377</td>\n",
       "      <td>-0.358182</td>\n",
       "      <td>-0.276947</td>\n",
       "      <td>0.043965</td>\n",
       "      <td>-0.357603</td>\n",
       "      <td>-0.169844</td>\n",
       "      <td>-0.183175</td>\n",
       "      <td>-0.064026</td>\n",
       "      <td>-0.068349</td>\n",
       "      <td>0.004948</td>\n",
       "      <td>...</td>\n",
       "      <td>-0.311988</td>\n",
       "      <td>-0.156227</td>\n",
       "      <td>-0.291916</td>\n",
       "      <td>-0.31188</td>\n",
       "      <td>-0.296628</td>\n",
       "      <td>-0.290447</td>\n",
       "      <td>-0.28954</td>\n",
       "      <td>-0.293829</td>\n",
       "      <td>3.319055</td>\n",
       "      <td>-0.312204</td>\n",
       "    </tr>\n",
       "    <tr>\n",
       "      <th>25153</th>\n",
       "      <td>-0.819406</td>\n",
       "      <td>-0.245285</td>\n",
       "      <td>-0.276947</td>\n",
       "      <td>-0.103201</td>\n",
       "      <td>-0.242590</td>\n",
       "      <td>-0.169844</td>\n",
       "      <td>-0.581569</td>\n",
       "      <td>-0.064026</td>\n",
       "      <td>-0.068349</td>\n",
       "      <td>-0.245933</td>\n",
       "      <td>...</td>\n",
       "      <td>-0.311988</td>\n",
       "      <td>-0.156227</td>\n",
       "      <td>-0.291916</td>\n",
       "      <td>-0.31188</td>\n",
       "      <td>-0.296628</td>\n",
       "      <td>3.442973</td>\n",
       "      <td>-0.28954</td>\n",
       "      <td>-0.293829</td>\n",
       "      <td>-0.301291</td>\n",
       "      <td>-0.312204</td>\n",
       "    </tr>\n",
       "    <tr>\n",
       "      <th>...</th>\n",
       "      <td>...</td>\n",
       "      <td>...</td>\n",
       "      <td>...</td>\n",
       "      <td>...</td>\n",
       "      <td>...</td>\n",
       "      <td>...</td>\n",
       "      <td>...</td>\n",
       "      <td>...</td>\n",
       "      <td>...</td>\n",
       "      <td>...</td>\n",
       "      <td>...</td>\n",
       "      <td>...</td>\n",
       "      <td>...</td>\n",
       "      <td>...</td>\n",
       "      <td>...</td>\n",
       "      <td>...</td>\n",
       "      <td>...</td>\n",
       "      <td>...</td>\n",
       "      <td>...</td>\n",
       "      <td>...</td>\n",
       "      <td>...</td>\n",
       "    </tr>\n",
       "    <tr>\n",
       "      <th>25059</th>\n",
       "      <td>-0.718564</td>\n",
       "      <td>-0.358182</td>\n",
       "      <td>-0.276947</td>\n",
       "      <td>1.368455</td>\n",
       "      <td>-0.357603</td>\n",
       "      <td>-0.169844</td>\n",
       "      <td>0.920944</td>\n",
       "      <td>-0.064026</td>\n",
       "      <td>-0.068349</td>\n",
       "      <td>-0.413187</td>\n",
       "      <td>...</td>\n",
       "      <td>3.205253</td>\n",
       "      <td>-0.156227</td>\n",
       "      <td>-0.291916</td>\n",
       "      <td>-0.31188</td>\n",
       "      <td>-0.296628</td>\n",
       "      <td>-0.290447</td>\n",
       "      <td>-0.28954</td>\n",
       "      <td>-0.293829</td>\n",
       "      <td>-0.301291</td>\n",
       "      <td>-0.312204</td>\n",
       "    </tr>\n",
       "    <tr>\n",
       "      <th>24608</th>\n",
       "      <td>-0.920248</td>\n",
       "      <td>-0.358182</td>\n",
       "      <td>-0.276947</td>\n",
       "      <td>-0.397532</td>\n",
       "      <td>-0.357603</td>\n",
       "      <td>-0.169844</td>\n",
       "      <td>-0.911666</td>\n",
       "      <td>-0.064026</td>\n",
       "      <td>-0.068349</td>\n",
       "      <td>-0.664068</td>\n",
       "      <td>...</td>\n",
       "      <td>-0.311988</td>\n",
       "      <td>-0.156227</td>\n",
       "      <td>-0.291916</td>\n",
       "      <td>-0.31188</td>\n",
       "      <td>-0.296628</td>\n",
       "      <td>-0.290447</td>\n",
       "      <td>-0.28954</td>\n",
       "      <td>-0.293829</td>\n",
       "      <td>3.319055</td>\n",
       "      <td>-0.312204</td>\n",
       "    </tr>\n",
       "    <tr>\n",
       "      <th>12357</th>\n",
       "      <td>2.508368</td>\n",
       "      <td>3.706105</td>\n",
       "      <td>0.644493</td>\n",
       "      <td>0.289241</td>\n",
       "      <td>3.782885</td>\n",
       "      <td>-0.169844</td>\n",
       "      <td>0.124157</td>\n",
       "      <td>-0.064026</td>\n",
       "      <td>-0.068349</td>\n",
       "      <td>1.593863</td>\n",
       "      <td>...</td>\n",
       "      <td>-0.311988</td>\n",
       "      <td>6.400924</td>\n",
       "      <td>-0.291916</td>\n",
       "      <td>-0.31188</td>\n",
       "      <td>-0.296628</td>\n",
       "      <td>-0.290447</td>\n",
       "      <td>-0.28954</td>\n",
       "      <td>-0.293829</td>\n",
       "      <td>-0.301291</td>\n",
       "      <td>-0.312204</td>\n",
       "    </tr>\n",
       "    <tr>\n",
       "      <th>11102</th>\n",
       "      <td>0.894902</td>\n",
       "      <td>-0.358182</td>\n",
       "      <td>-0.276947</td>\n",
       "      <td>-0.520170</td>\n",
       "      <td>-0.357603</td>\n",
       "      <td>2.014914</td>\n",
       "      <td>0.898179</td>\n",
       "      <td>2.413872</td>\n",
       "      <td>-0.068349</td>\n",
       "      <td>0.757592</td>\n",
       "      <td>...</td>\n",
       "      <td>-0.311988</td>\n",
       "      <td>-0.156227</td>\n",
       "      <td>-0.291916</td>\n",
       "      <td>-0.31188</td>\n",
       "      <td>-0.296628</td>\n",
       "      <td>-0.290447</td>\n",
       "      <td>-0.28954</td>\n",
       "      <td>-0.293829</td>\n",
       "      <td>-0.301291</td>\n",
       "      <td>-0.312204</td>\n",
       "    </tr>\n",
       "    <tr>\n",
       "      <th>13592</th>\n",
       "      <td>1.499952</td>\n",
       "      <td>-0.358182</td>\n",
       "      <td>-0.276947</td>\n",
       "      <td>1.589204</td>\n",
       "      <td>-0.357603</td>\n",
       "      <td>-0.169844</td>\n",
       "      <td>0.317662</td>\n",
       "      <td>-0.064026</td>\n",
       "      <td>-0.068349</td>\n",
       "      <td>0.590338</td>\n",
       "      <td>...</td>\n",
       "      <td>-0.311988</td>\n",
       "      <td>-0.156227</td>\n",
       "      <td>3.425645</td>\n",
       "      <td>-0.31188</td>\n",
       "      <td>-0.296628</td>\n",
       "      <td>-0.290447</td>\n",
       "      <td>-0.28954</td>\n",
       "      <td>-0.293829</td>\n",
       "      <td>-0.301291</td>\n",
       "      <td>-0.312204</td>\n",
       "    </tr>\n",
       "  </tbody>\n",
       "</table>\n",
       "<p>17880 rows × 41 columns</p>\n",
       "</div>"
      ],
      "text/plain": [
       "            age  deposits  withdrawal  purchases_partners  purchases  \\\n",
       "11697 -0.617723 -0.358182   -0.276947           -0.593753  -0.357603   \n",
       "19770 -0.416039 -0.358182   -0.276947           -0.642808  -0.357603   \n",
       "8356   0.289852 -0.358182   -0.276947           -0.642808  -0.357603   \n",
       "17887  0.592377 -0.358182   -0.276947            0.043965  -0.357603   \n",
       "25153 -0.819406 -0.245285   -0.276947           -0.103201  -0.242590   \n",
       "...         ...       ...         ...                 ...        ...   \n",
       "25059 -0.718564 -0.358182   -0.276947            1.368455  -0.357603   \n",
       "24608 -0.920248 -0.358182   -0.276947           -0.397532  -0.357603   \n",
       "12357  2.508368  3.706105    0.644493            0.289241   3.782885   \n",
       "11102  0.894902 -0.358182   -0.276947           -0.520170  -0.357603   \n",
       "13592  1.499952 -0.358182   -0.276947            1.589204  -0.357603   \n",
       "\n",
       "       cc_taken  cc_recommended  cc_disliked  cc_liked  cc_application_begin  \\\n",
       "11697 -0.169844       -0.911666    -0.064026 -0.068349             -0.580441   \n",
       "19770 -0.169844        0.317662     1.174923 -0.068349             -0.580441   \n",
       "8356  -0.169844        2.002298    -0.064026 -0.068349             -0.245933   \n",
       "17887 -0.169844       -0.183175    -0.064026 -0.068349              0.004948   \n",
       "25153 -0.169844       -0.581569    -0.064026 -0.068349             -0.245933   \n",
       "...         ...             ...          ...       ...                   ...   \n",
       "25059 -0.169844        0.920944    -0.064026 -0.068349             -0.413187   \n",
       "24608 -0.169844       -0.911666    -0.064026 -0.068349             -0.664068   \n",
       "12357 -0.169844        0.124157    -0.064026 -0.068349              1.593863   \n",
       "11102  2.014914        0.898179     2.413872 -0.068349              0.757592   \n",
       "13592 -0.169844        0.317662    -0.064026 -0.068349              0.590338   \n",
       "\n",
       "       ...  zodiac_sign_Cancer  zodiac_sign_Capricorn  zodiac_sign_Gemini  \\\n",
       "11697  ...           -0.311988              -0.156227           -0.291916   \n",
       "19770  ...           -0.311988              -0.156227           -0.291916   \n",
       "8356   ...           -0.311988              -0.156227           -0.291916   \n",
       "17887  ...           -0.311988              -0.156227           -0.291916   \n",
       "25153  ...           -0.311988              -0.156227           -0.291916   \n",
       "...    ...                 ...                    ...                 ...   \n",
       "25059  ...            3.205253              -0.156227           -0.291916   \n",
       "24608  ...           -0.311988              -0.156227           -0.291916   \n",
       "12357  ...           -0.311988               6.400924           -0.291916   \n",
       "11102  ...           -0.311988              -0.156227           -0.291916   \n",
       "13592  ...           -0.311988              -0.156227            3.425645   \n",
       "\n",
       "       zodiac_sign_Leo  zodiac_sign_Libra  zodiac_sign_Pisces  \\\n",
       "11697         -0.31188          -0.296628           -0.290447   \n",
       "19770         -0.31188           3.371223           -0.290447   \n",
       "8356          -0.31188          -0.296628           -0.290447   \n",
       "17887         -0.31188          -0.296628           -0.290447   \n",
       "25153         -0.31188          -0.296628            3.442973   \n",
       "...                ...                ...                 ...   \n",
       "25059         -0.31188          -0.296628           -0.290447   \n",
       "24608         -0.31188          -0.296628           -0.290447   \n",
       "12357         -0.31188          -0.296628           -0.290447   \n",
       "11102         -0.31188          -0.296628           -0.290447   \n",
       "13592         -0.31188          -0.296628           -0.290447   \n",
       "\n",
       "       zodiac_sign_Sagittarius  zodiac_sign_Scorpio  zodiac_sign_Taurus  \\\n",
       "11697                 -0.28954            -0.293829           -0.301291   \n",
       "19770                 -0.28954            -0.293829           -0.301291   \n",
       "8356                  -0.28954            -0.293829           -0.301291   \n",
       "17887                 -0.28954            -0.293829            3.319055   \n",
       "25153                 -0.28954            -0.293829           -0.301291   \n",
       "...                        ...                  ...                 ...   \n",
       "25059                 -0.28954            -0.293829           -0.301291   \n",
       "24608                 -0.28954            -0.293829            3.319055   \n",
       "12357                 -0.28954            -0.293829           -0.301291   \n",
       "11102                 -0.28954            -0.293829           -0.301291   \n",
       "13592                 -0.28954            -0.293829           -0.301291   \n",
       "\n",
       "       zodiac_sign_Virgo  \n",
       "11697          -0.312204  \n",
       "19770          -0.312204  \n",
       "8356            3.203037  \n",
       "17887          -0.312204  \n",
       "25153          -0.312204  \n",
       "...                  ...  \n",
       "25059          -0.312204  \n",
       "24608          -0.312204  \n",
       "12357          -0.312204  \n",
       "11102          -0.312204  \n",
       "13592          -0.312204  \n",
       "\n",
       "[17880 rows x 41 columns]"
      ]
     },
     "execution_count": 35,
     "metadata": {},
     "output_type": "execute_result"
    }
   ],
   "source": [
    "X_train"
   ]
  },
  {
   "cell_type": "code",
   "execution_count": 36,
   "id": "4e04c9e3",
   "metadata": {},
   "outputs": [
    {
     "data": {
      "text/html": [
       "<div>\n",
       "<style scoped>\n",
       "    .dataframe tbody tr th:only-of-type {\n",
       "        vertical-align: middle;\n",
       "    }\n",
       "\n",
       "    .dataframe tbody tr th {\n",
       "        vertical-align: top;\n",
       "    }\n",
       "\n",
       "    .dataframe thead th {\n",
       "        text-align: right;\n",
       "    }\n",
       "</style>\n",
       "<table border=\"1\" class=\"dataframe\">\n",
       "  <thead>\n",
       "    <tr style=\"text-align: right;\">\n",
       "      <th></th>\n",
       "      <th>age</th>\n",
       "      <th>deposits</th>\n",
       "      <th>withdrawal</th>\n",
       "      <th>purchases_partners</th>\n",
       "      <th>purchases</th>\n",
       "      <th>cc_taken</th>\n",
       "      <th>cc_recommended</th>\n",
       "      <th>cc_disliked</th>\n",
       "      <th>cc_liked</th>\n",
       "      <th>cc_application_begin</th>\n",
       "      <th>...</th>\n",
       "      <th>zodiac_sign_Cancer</th>\n",
       "      <th>zodiac_sign_Capricorn</th>\n",
       "      <th>zodiac_sign_Gemini</th>\n",
       "      <th>zodiac_sign_Leo</th>\n",
       "      <th>zodiac_sign_Libra</th>\n",
       "      <th>zodiac_sign_Pisces</th>\n",
       "      <th>zodiac_sign_Sagittarius</th>\n",
       "      <th>zodiac_sign_Scorpio</th>\n",
       "      <th>zodiac_sign_Taurus</th>\n",
       "      <th>zodiac_sign_Virgo</th>\n",
       "    </tr>\n",
       "  </thead>\n",
       "  <tbody>\n",
       "    <tr>\n",
       "      <th>2835</th>\n",
       "      <td>0.004040</td>\n",
       "      <td>0.868055</td>\n",
       "      <td>-0.291026</td>\n",
       "      <td>-0.655340</td>\n",
       "      <td>0.894374</td>\n",
       "      <td>2.335414</td>\n",
       "      <td>1.227740</td>\n",
       "      <td>-0.058114</td>\n",
       "      <td>-0.039498</td>\n",
       "      <td>1.861847</td>\n",
       "      <td>...</td>\n",
       "      <td>-0.329203</td>\n",
       "      <td>-0.170762</td>\n",
       "      <td>-0.295625</td>\n",
       "      <td>-0.309123</td>\n",
       "      <td>-0.280929</td>\n",
       "      <td>-0.293025</td>\n",
       "      <td>3.584153</td>\n",
       "      <td>-0.285127</td>\n",
       "      <td>-0.304062</td>\n",
       "      <td>-0.311275</td>\n",
       "    </tr>\n",
       "    <tr>\n",
       "      <th>21022</th>\n",
       "      <td>-0.706304</td>\n",
       "      <td>-0.360500</td>\n",
       "      <td>-0.291026</td>\n",
       "      <td>2.488687</td>\n",
       "      <td>-0.360310</td>\n",
       "      <td>-0.182804</td>\n",
       "      <td>1.693278</td>\n",
       "      <td>-0.058114</td>\n",
       "      <td>-0.039498</td>\n",
       "      <td>-0.406119</td>\n",
       "      <td>...</td>\n",
       "      <td>-0.329203</td>\n",
       "      <td>-0.170762</td>\n",
       "      <td>3.382661</td>\n",
       "      <td>-0.309123</td>\n",
       "      <td>-0.280929</td>\n",
       "      <td>-0.293025</td>\n",
       "      <td>-0.279006</td>\n",
       "      <td>-0.285127</td>\n",
       "      <td>-0.304062</td>\n",
       "      <td>-0.311275</td>\n",
       "    </tr>\n",
       "    <tr>\n",
       "      <th>5592</th>\n",
       "      <td>1.526208</td>\n",
       "      <td>0.868055</td>\n",
       "      <td>1.672175</td>\n",
       "      <td>-0.680096</td>\n",
       "      <td>0.894374</td>\n",
       "      <td>-0.182804</td>\n",
       "      <td>0.421564</td>\n",
       "      <td>2.199566</td>\n",
       "      <td>-0.039498</td>\n",
       "      <td>2.185842</td>\n",
       "      <td>...</td>\n",
       "      <td>-0.329203</td>\n",
       "      <td>-0.170762</td>\n",
       "      <td>-0.295625</td>\n",
       "      <td>-0.309123</td>\n",
       "      <td>-0.280929</td>\n",
       "      <td>-0.293025</td>\n",
       "      <td>-0.279006</td>\n",
       "      <td>-0.285127</td>\n",
       "      <td>3.288798</td>\n",
       "      <td>-0.311275</td>\n",
       "    </tr>\n",
       "    <tr>\n",
       "      <th>15773</th>\n",
       "      <td>0.105518</td>\n",
       "      <td>-0.360500</td>\n",
       "      <td>-0.291026</td>\n",
       "      <td>-0.482047</td>\n",
       "      <td>-0.360310</td>\n",
       "      <td>-0.182804</td>\n",
       "      <td>-1.009114</td>\n",
       "      <td>-0.058114</td>\n",
       "      <td>-0.039498</td>\n",
       "      <td>-0.568116</td>\n",
       "      <td>...</td>\n",
       "      <td>-0.329203</td>\n",
       "      <td>5.856118</td>\n",
       "      <td>-0.295625</td>\n",
       "      <td>-0.309123</td>\n",
       "      <td>-0.280929</td>\n",
       "      <td>-0.293025</td>\n",
       "      <td>-0.279006</td>\n",
       "      <td>-0.285127</td>\n",
       "      <td>-0.304062</td>\n",
       "      <td>-0.311275</td>\n",
       "    </tr>\n",
       "    <tr>\n",
       "      <th>15123</th>\n",
       "      <td>-1.010738</td>\n",
       "      <td>0.309621</td>\n",
       "      <td>-0.291026</td>\n",
       "      <td>3.206614</td>\n",
       "      <td>0.324063</td>\n",
       "      <td>-0.182804</td>\n",
       "      <td>1.727342</td>\n",
       "      <td>-0.058114</td>\n",
       "      <td>-0.039498</td>\n",
       "      <td>2.104843</td>\n",
       "      <td>...</td>\n",
       "      <td>-0.329203</td>\n",
       "      <td>-0.170762</td>\n",
       "      <td>-0.295625</td>\n",
       "      <td>3.234960</td>\n",
       "      <td>-0.280929</td>\n",
       "      <td>-0.293025</td>\n",
       "      <td>-0.279006</td>\n",
       "      <td>-0.285127</td>\n",
       "      <td>-0.304062</td>\n",
       "      <td>-0.311275</td>\n",
       "    </tr>\n",
       "    <tr>\n",
       "      <th>...</th>\n",
       "      <td>...</td>\n",
       "      <td>...</td>\n",
       "      <td>...</td>\n",
       "      <td>...</td>\n",
       "      <td>...</td>\n",
       "      <td>...</td>\n",
       "      <td>...</td>\n",
       "      <td>...</td>\n",
       "      <td>...</td>\n",
       "      <td>...</td>\n",
       "      <td>...</td>\n",
       "      <td>...</td>\n",
       "      <td>...</td>\n",
       "      <td>...</td>\n",
       "      <td>...</td>\n",
       "      <td>...</td>\n",
       "      <td>...</td>\n",
       "      <td>...</td>\n",
       "      <td>...</td>\n",
       "      <td>...</td>\n",
       "      <td>...</td>\n",
       "    </tr>\n",
       "    <tr>\n",
       "      <th>16094</th>\n",
       "      <td>4.570542</td>\n",
       "      <td>-0.360500</td>\n",
       "      <td>-0.291026</td>\n",
       "      <td>-0.680096</td>\n",
       "      <td>-0.360310</td>\n",
       "      <td>-0.182804</td>\n",
       "      <td>-1.020468</td>\n",
       "      <td>-0.058114</td>\n",
       "      <td>-0.039498</td>\n",
       "      <td>-0.649115</td>\n",
       "      <td>...</td>\n",
       "      <td>-0.329203</td>\n",
       "      <td>-0.170762</td>\n",
       "      <td>-0.295625</td>\n",
       "      <td>-0.309123</td>\n",
       "      <td>-0.280929</td>\n",
       "      <td>-0.293025</td>\n",
       "      <td>3.584153</td>\n",
       "      <td>-0.285127</td>\n",
       "      <td>-0.304062</td>\n",
       "      <td>-0.311275</td>\n",
       "    </tr>\n",
       "    <tr>\n",
       "      <th>9853</th>\n",
       "      <td>0.612907</td>\n",
       "      <td>-0.248814</td>\n",
       "      <td>0.690574</td>\n",
       "      <td>-0.655340</td>\n",
       "      <td>-0.246248</td>\n",
       "      <td>-0.182804</td>\n",
       "      <td>-1.031823</td>\n",
       "      <td>-0.058114</td>\n",
       "      <td>-0.039498</td>\n",
       "      <td>-0.649115</td>\n",
       "      <td>...</td>\n",
       "      <td>-0.329203</td>\n",
       "      <td>-0.170762</td>\n",
       "      <td>-0.295625</td>\n",
       "      <td>-0.309123</td>\n",
       "      <td>-0.280929</td>\n",
       "      <td>-0.293025</td>\n",
       "      <td>-0.279006</td>\n",
       "      <td>-0.285127</td>\n",
       "      <td>-0.304062</td>\n",
       "      <td>-0.311275</td>\n",
       "    </tr>\n",
       "    <tr>\n",
       "      <th>654</th>\n",
       "      <td>0.511429</td>\n",
       "      <td>-0.360500</td>\n",
       "      <td>-0.291026</td>\n",
       "      <td>-0.680096</td>\n",
       "      <td>-0.360310</td>\n",
       "      <td>2.335414</td>\n",
       "      <td>1.273158</td>\n",
       "      <td>-0.058114</td>\n",
       "      <td>-0.039498</td>\n",
       "      <td>-0.082124</td>\n",
       "      <td>...</td>\n",
       "      <td>-0.329203</td>\n",
       "      <td>-0.170762</td>\n",
       "      <td>-0.295625</td>\n",
       "      <td>-0.309123</td>\n",
       "      <td>-0.280929</td>\n",
       "      <td>-0.293025</td>\n",
       "      <td>-0.279006</td>\n",
       "      <td>-0.285127</td>\n",
       "      <td>3.288798</td>\n",
       "      <td>-0.311275</td>\n",
       "    </tr>\n",
       "    <tr>\n",
       "      <th>26252</th>\n",
       "      <td>-0.503349</td>\n",
       "      <td>-0.137127</td>\n",
       "      <td>-0.291026</td>\n",
       "      <td>0.334904</td>\n",
       "      <td>-0.132185</td>\n",
       "      <td>-0.182804</td>\n",
       "      <td>-0.305129</td>\n",
       "      <td>-0.058114</td>\n",
       "      <td>-0.039498</td>\n",
       "      <td>-0.406119</td>\n",
       "      <td>...</td>\n",
       "      <td>-0.329203</td>\n",
       "      <td>-0.170762</td>\n",
       "      <td>-0.295625</td>\n",
       "      <td>-0.309123</td>\n",
       "      <td>-0.280929</td>\n",
       "      <td>-0.293025</td>\n",
       "      <td>3.584153</td>\n",
       "      <td>-0.285127</td>\n",
       "      <td>-0.304062</td>\n",
       "      <td>-0.311275</td>\n",
       "    </tr>\n",
       "    <tr>\n",
       "      <th>10771</th>\n",
       "      <td>0.004040</td>\n",
       "      <td>-0.360500</td>\n",
       "      <td>-0.291026</td>\n",
       "      <td>-0.333511</td>\n",
       "      <td>-0.360310</td>\n",
       "      <td>-0.182804</td>\n",
       "      <td>-0.793377</td>\n",
       "      <td>-0.058114</td>\n",
       "      <td>-0.039498</td>\n",
       "      <td>-0.487118</td>\n",
       "      <td>...</td>\n",
       "      <td>-0.329203</td>\n",
       "      <td>-0.170762</td>\n",
       "      <td>-0.295625</td>\n",
       "      <td>-0.309123</td>\n",
       "      <td>-0.280929</td>\n",
       "      <td>-0.293025</td>\n",
       "      <td>-0.279006</td>\n",
       "      <td>-0.285127</td>\n",
       "      <td>-0.304062</td>\n",
       "      <td>-0.311275</td>\n",
       "    </tr>\n",
       "  </tbody>\n",
       "</table>\n",
       "<p>5400 rows × 41 columns</p>\n",
       "</div>"
      ],
      "text/plain": [
       "            age  deposits  withdrawal  purchases_partners  purchases  \\\n",
       "2835   0.004040  0.868055   -0.291026           -0.655340   0.894374   \n",
       "21022 -0.706304 -0.360500   -0.291026            2.488687  -0.360310   \n",
       "5592   1.526208  0.868055    1.672175           -0.680096   0.894374   \n",
       "15773  0.105518 -0.360500   -0.291026           -0.482047  -0.360310   \n",
       "15123 -1.010738  0.309621   -0.291026            3.206614   0.324063   \n",
       "...         ...       ...         ...                 ...        ...   \n",
       "16094  4.570542 -0.360500   -0.291026           -0.680096  -0.360310   \n",
       "9853   0.612907 -0.248814    0.690574           -0.655340  -0.246248   \n",
       "654    0.511429 -0.360500   -0.291026           -0.680096  -0.360310   \n",
       "26252 -0.503349 -0.137127   -0.291026            0.334904  -0.132185   \n",
       "10771  0.004040 -0.360500   -0.291026           -0.333511  -0.360310   \n",
       "\n",
       "       cc_taken  cc_recommended  cc_disliked  cc_liked  cc_application_begin  \\\n",
       "2835   2.335414        1.227740    -0.058114 -0.039498              1.861847   \n",
       "21022 -0.182804        1.693278    -0.058114 -0.039498             -0.406119   \n",
       "5592  -0.182804        0.421564     2.199566 -0.039498              2.185842   \n",
       "15773 -0.182804       -1.009114    -0.058114 -0.039498             -0.568116   \n",
       "15123 -0.182804        1.727342    -0.058114 -0.039498              2.104843   \n",
       "...         ...             ...          ...       ...                   ...   \n",
       "16094 -0.182804       -1.020468    -0.058114 -0.039498             -0.649115   \n",
       "9853  -0.182804       -1.031823    -0.058114 -0.039498             -0.649115   \n",
       "654    2.335414        1.273158    -0.058114 -0.039498             -0.082124   \n",
       "26252 -0.182804       -0.305129    -0.058114 -0.039498             -0.406119   \n",
       "10771 -0.182804       -0.793377    -0.058114 -0.039498             -0.487118   \n",
       "\n",
       "       ...  zodiac_sign_Cancer  zodiac_sign_Capricorn  zodiac_sign_Gemini  \\\n",
       "2835   ...           -0.329203              -0.170762           -0.295625   \n",
       "21022  ...           -0.329203              -0.170762            3.382661   \n",
       "5592   ...           -0.329203              -0.170762           -0.295625   \n",
       "15773  ...           -0.329203               5.856118           -0.295625   \n",
       "15123  ...           -0.329203              -0.170762           -0.295625   \n",
       "...    ...                 ...                    ...                 ...   \n",
       "16094  ...           -0.329203              -0.170762           -0.295625   \n",
       "9853   ...           -0.329203              -0.170762           -0.295625   \n",
       "654    ...           -0.329203              -0.170762           -0.295625   \n",
       "26252  ...           -0.329203              -0.170762           -0.295625   \n",
       "10771  ...           -0.329203              -0.170762           -0.295625   \n",
       "\n",
       "       zodiac_sign_Leo  zodiac_sign_Libra  zodiac_sign_Pisces  \\\n",
       "2835         -0.309123          -0.280929           -0.293025   \n",
       "21022        -0.309123          -0.280929           -0.293025   \n",
       "5592         -0.309123          -0.280929           -0.293025   \n",
       "15773        -0.309123          -0.280929           -0.293025   \n",
       "15123         3.234960          -0.280929           -0.293025   \n",
       "...                ...                ...                 ...   \n",
       "16094        -0.309123          -0.280929           -0.293025   \n",
       "9853         -0.309123          -0.280929           -0.293025   \n",
       "654          -0.309123          -0.280929           -0.293025   \n",
       "26252        -0.309123          -0.280929           -0.293025   \n",
       "10771        -0.309123          -0.280929           -0.293025   \n",
       "\n",
       "       zodiac_sign_Sagittarius  zodiac_sign_Scorpio  zodiac_sign_Taurus  \\\n",
       "2835                  3.584153            -0.285127           -0.304062   \n",
       "21022                -0.279006            -0.285127           -0.304062   \n",
       "5592                 -0.279006            -0.285127            3.288798   \n",
       "15773                -0.279006            -0.285127           -0.304062   \n",
       "15123                -0.279006            -0.285127           -0.304062   \n",
       "...                        ...                  ...                 ...   \n",
       "16094                 3.584153            -0.285127           -0.304062   \n",
       "9853                 -0.279006            -0.285127           -0.304062   \n",
       "654                  -0.279006            -0.285127            3.288798   \n",
       "26252                 3.584153            -0.285127           -0.304062   \n",
       "10771                -0.279006            -0.285127           -0.304062   \n",
       "\n",
       "       zodiac_sign_Virgo  \n",
       "2835           -0.311275  \n",
       "21022          -0.311275  \n",
       "5592           -0.311275  \n",
       "15773          -0.311275  \n",
       "15123          -0.311275  \n",
       "...                  ...  \n",
       "16094          -0.311275  \n",
       "9853           -0.311275  \n",
       "654            -0.311275  \n",
       "26252          -0.311275  \n",
       "10771          -0.311275  \n",
       "\n",
       "[5400 rows x 41 columns]"
      ]
     },
     "execution_count": 36,
     "metadata": {},
     "output_type": "execute_result"
    }
   ],
   "source": [
    "X_test"
   ]
  },
  {
   "cell_type": "markdown",
   "id": "19a52a07",
   "metadata": {},
   "source": [
    "## Model Building"
   ]
  },
  {
   "cell_type": "code",
   "execution_count": 37,
   "id": "9ed7bcd2",
   "metadata": {},
   "outputs": [
    {
     "data": {
      "text/html": [
       "<style>#sk-container-id-1 {color: black;background-color: white;}#sk-container-id-1 pre{padding: 0;}#sk-container-id-1 div.sk-toggleable {background-color: white;}#sk-container-id-1 label.sk-toggleable__label {cursor: pointer;display: block;width: 100%;margin-bottom: 0;padding: 0.3em;box-sizing: border-box;text-align: center;}#sk-container-id-1 label.sk-toggleable__label-arrow:before {content: \"▸\";float: left;margin-right: 0.25em;color: #696969;}#sk-container-id-1 label.sk-toggleable__label-arrow:hover:before {color: black;}#sk-container-id-1 div.sk-estimator:hover label.sk-toggleable__label-arrow:before {color: black;}#sk-container-id-1 div.sk-toggleable__content {max-height: 0;max-width: 0;overflow: hidden;text-align: left;background-color: #f0f8ff;}#sk-container-id-1 div.sk-toggleable__content pre {margin: 0.2em;color: black;border-radius: 0.25em;background-color: #f0f8ff;}#sk-container-id-1 input.sk-toggleable__control:checked~div.sk-toggleable__content {max-height: 200px;max-width: 100%;overflow: auto;}#sk-container-id-1 input.sk-toggleable__control:checked~label.sk-toggleable__label-arrow:before {content: \"▾\";}#sk-container-id-1 div.sk-estimator input.sk-toggleable__control:checked~label.sk-toggleable__label {background-color: #d4ebff;}#sk-container-id-1 div.sk-label input.sk-toggleable__control:checked~label.sk-toggleable__label {background-color: #d4ebff;}#sk-container-id-1 input.sk-hidden--visually {border: 0;clip: rect(1px 1px 1px 1px);clip: rect(1px, 1px, 1px, 1px);height: 1px;margin: -1px;overflow: hidden;padding: 0;position: absolute;width: 1px;}#sk-container-id-1 div.sk-estimator {font-family: monospace;background-color: #f0f8ff;border: 1px dotted black;border-radius: 0.25em;box-sizing: border-box;margin-bottom: 0.5em;}#sk-container-id-1 div.sk-estimator:hover {background-color: #d4ebff;}#sk-container-id-1 div.sk-parallel-item::after {content: \"\";width: 100%;border-bottom: 1px solid gray;flex-grow: 1;}#sk-container-id-1 div.sk-label:hover label.sk-toggleable__label {background-color: #d4ebff;}#sk-container-id-1 div.sk-serial::before {content: \"\";position: absolute;border-left: 1px solid gray;box-sizing: border-box;top: 0;bottom: 0;left: 50%;z-index: 0;}#sk-container-id-1 div.sk-serial {display: flex;flex-direction: column;align-items: center;background-color: white;padding-right: 0.2em;padding-left: 0.2em;position: relative;}#sk-container-id-1 div.sk-item {position: relative;z-index: 1;}#sk-container-id-1 div.sk-parallel {display: flex;align-items: stretch;justify-content: center;background-color: white;position: relative;}#sk-container-id-1 div.sk-item::before, #sk-container-id-1 div.sk-parallel-item::before {content: \"\";position: absolute;border-left: 1px solid gray;box-sizing: border-box;top: 0;bottom: 0;left: 50%;z-index: -1;}#sk-container-id-1 div.sk-parallel-item {display: flex;flex-direction: column;z-index: 1;position: relative;background-color: white;}#sk-container-id-1 div.sk-parallel-item:first-child::after {align-self: flex-end;width: 50%;}#sk-container-id-1 div.sk-parallel-item:last-child::after {align-self: flex-start;width: 50%;}#sk-container-id-1 div.sk-parallel-item:only-child::after {width: 0;}#sk-container-id-1 div.sk-dashed-wrapped {border: 1px dashed gray;margin: 0 0.4em 0.5em 0.4em;box-sizing: border-box;padding-bottom: 0.4em;background-color: white;}#sk-container-id-1 div.sk-label label {font-family: monospace;font-weight: bold;display: inline-block;line-height: 1.2em;}#sk-container-id-1 div.sk-label-container {text-align: center;}#sk-container-id-1 div.sk-container {/* jupyter's `normalize.less` sets `[hidden] { display: none; }` but bootstrap.min.css set `[hidden] { display: none !important; }` so we also need the `!important` here to be able to override the default hidden behavior on the sphinx rendered scikit-learn.org. See: https://github.com/scikit-learn/scikit-learn/issues/21755 */display: inline-block !important;position: relative;}#sk-container-id-1 div.sk-text-repr-fallback {display: none;}</style><div id=\"sk-container-id-1\" class=\"sk-top-container\"><div class=\"sk-text-repr-fallback\"><pre>LogisticRegression(random_state=0)</pre><b>In a Jupyter environment, please rerun this cell to show the HTML representation or trust the notebook. <br />On GitHub, the HTML representation is unable to render, please try loading this page with nbviewer.org.</b></div><div class=\"sk-container\" hidden><div class=\"sk-item\"><div class=\"sk-estimator sk-toggleable\"><input class=\"sk-toggleable__control sk-hidden--visually\" id=\"sk-estimator-id-1\" type=\"checkbox\" checked><label for=\"sk-estimator-id-1\" class=\"sk-toggleable__label sk-toggleable__label-arrow\">LogisticRegression</label><div class=\"sk-toggleable__content\"><pre>LogisticRegression(random_state=0)</pre></div></div></div></div></div>"
      ],
      "text/plain": [
       "LogisticRegression(random_state=0)"
      ]
     },
     "execution_count": 37,
     "metadata": {},
     "output_type": "execute_result"
    }
   ],
   "source": [
    "from sklearn.linear_model import LogisticRegression\n",
    "classifier = LogisticRegression(random_state=0)\n",
    "classifier.fit(X_train,y_train)"
   ]
  },
  {
   "cell_type": "code",
   "execution_count": 38,
   "id": "0348f4ee",
   "metadata": {},
   "outputs": [],
   "source": [
    "y_pred = classifier.predict(X_test)"
   ]
  },
  {
   "cell_type": "code",
   "execution_count": 39,
   "id": "9163f7a7",
   "metadata": {},
   "outputs": [
    {
     "data": {
      "text/plain": [
       "0.61"
      ]
     },
     "execution_count": 39,
     "metadata": {},
     "output_type": "execute_result"
    }
   ],
   "source": [
    "from sklearn.metrics import confusion_matrix, accuracy_score, f1_score, precision_score, recall_score\n",
    "\n",
    "cm= confusion_matrix(y_test, y_pred)\n",
    "accuracy_score(y_test, y_pred)"
   ]
  },
  {
   "cell_type": "code",
   "execution_count": 40,
   "id": "7b523a9b",
   "metadata": {},
   "outputs": [
    {
     "data": {
      "text/plain": [
       "0.5199625701809107"
      ]
     },
     "execution_count": 40,
     "metadata": {},
     "output_type": "execute_result"
    }
   ],
   "source": [
    "precision_score(y_test, y_pred)"
   ]
  },
  {
   "cell_type": "code",
   "execution_count": 41,
   "id": "540b6428",
   "metadata": {},
   "outputs": [
    {
     "data": {
      "text/plain": [
       "0.7461951656222023"
      ]
     },
     "execution_count": 41,
     "metadata": {},
     "output_type": "execute_result"
    }
   ],
   "source": [
    "recall_score(y_test, y_pred)"
   ]
  },
  {
   "cell_type": "code",
   "execution_count": 42,
   "id": "588b61f7",
   "metadata": {},
   "outputs": [
    {
     "data": {
      "text/plain": [
       "0.6128676470588235"
      ]
     },
     "execution_count": 42,
     "metadata": {},
     "output_type": "execute_result"
    }
   ],
   "source": [
    "f1_score(y_test, y_pred)"
   ]
  },
  {
   "cell_type": "code",
   "execution_count": 43,
   "id": "d1b06de9",
   "metadata": {},
   "outputs": [
    {
     "data": {
      "text/html": [
       "<div>\n",
       "<style scoped>\n",
       "    .dataframe tbody tr th:only-of-type {\n",
       "        vertical-align: middle;\n",
       "    }\n",
       "\n",
       "    .dataframe tbody tr th {\n",
       "        vertical-align: top;\n",
       "    }\n",
       "\n",
       "    .dataframe thead th {\n",
       "        text-align: right;\n",
       "    }\n",
       "</style>\n",
       "<table border=\"1\" class=\"dataframe\">\n",
       "  <thead>\n",
       "    <tr style=\"text-align: right;\">\n",
       "      <th></th>\n",
       "      <th>0</th>\n",
       "      <th>1</th>\n",
       "    </tr>\n",
       "  </thead>\n",
       "  <tbody>\n",
       "    <tr>\n",
       "      <th>0</th>\n",
       "      <td>1627</td>\n",
       "      <td>1539</td>\n",
       "    </tr>\n",
       "    <tr>\n",
       "      <th>1</th>\n",
       "      <td>567</td>\n",
       "      <td>1667</td>\n",
       "    </tr>\n",
       "  </tbody>\n",
       "</table>\n",
       "</div>"
      ],
      "text/plain": [
       "      0     1\n",
       "0  1627  1539\n",
       "1   567  1667"
      ]
     },
     "execution_count": 43,
     "metadata": {},
     "output_type": "execute_result"
    }
   ],
   "source": [
    "df_cm = pd.DataFrame(cm,index=(0,1),columns=(0,1))\n",
    "df_cm"
   ]
  },
  {
   "cell_type": "code",
   "execution_count": 44,
   "id": "ee900222",
   "metadata": {},
   "outputs": [
    {
     "name": "stdout",
     "output_type": "stream",
     "text": [
      "Test Data Accuracy: 0.6100\n"
     ]
    },
    {
     "data": {
      "image/png": "[encoded data removed]",
      "text/plain": [
       "<Figure size 720x504 with 2 Axes>"
      ]
     },
     "metadata": {},
     "output_type": "display_data"
    }
   ],
   "source": [
    "plt.figure(figsize=(10,7))\n",
    "sns.set(font_scale=1.4)\n",
    "sns.heatmap(df_cm, annot=True, fmt='g')\n",
    "print(\"Test Data Accuracy: %0.4f\" % accuracy_score(y_test,y_pred))"
   ]
  },
  {
   "cell_type": "markdown",
   "id": "fec5d42f",
   "metadata": {},
   "source": [
    "### Applying k-fold cross validation"
   ]
  },
  {
   "cell_type": "code",
   "execution_count": 45,
   "id": "12a225e0",
   "metadata": {},
   "outputs": [],
   "source": [
    "from sklearn.model_selection import cross_val_score\n",
    "\n",
    "accuracies = cross_val_score(estimator=classifier, X= X_train, y=y_train, cv=10)"
   ]
  },
  {
   "cell_type": "code",
   "execution_count": 46,
   "id": "714240b2",
   "metadata": {},
   "outputs": [
    {
     "data": {
      "text/plain": [
       "array([0.63590604, 0.66331096, 0.64876957, 0.62863535, 0.63926174,\n",
       "       0.64988814, 0.62863535, 0.65268456, 0.64821029, 0.64821029])"
      ]
     },
     "execution_count": 46,
     "metadata": {},
     "output_type": "execute_result"
    }
   ],
   "source": [
    "accuracies"
   ]
  },
  {
   "cell_type": "code",
   "execution_count": 47,
   "id": "369e7deb",
   "metadata": {},
   "outputs": [
    {
     "data": {
      "text/plain": [
       "0.6443512304250559"
      ]
     },
     "execution_count": 47,
     "metadata": {},
     "output_type": "execute_result"
    }
   ],
   "source": [
    "accuracies.mean()"
   ]
  },
  {
   "cell_type": "code",
   "execution_count": 48,
   "id": "fc62fc05",
   "metadata": {},
   "outputs": [
    {
     "data": {
      "text/html": [
       "<div>\n",
       "<style scoped>\n",
       "    .dataframe tbody tr th:only-of-type {\n",
       "        vertical-align: middle;\n",
       "    }\n",
       "\n",
       "    .dataframe tbody tr th {\n",
       "        vertical-align: top;\n",
       "    }\n",
       "\n",
       "    .dataframe thead th {\n",
       "        text-align: right;\n",
       "    }\n",
       "</style>\n",
       "<table border=\"1\" class=\"dataframe\">\n",
       "  <thead>\n",
       "    <tr style=\"text-align: right;\">\n",
       "      <th></th>\n",
       "      <th>features</th>\n",
       "      <th>coef</th>\n",
       "    </tr>\n",
       "  </thead>\n",
       "  <tbody>\n",
       "    <tr>\n",
       "      <th>0</th>\n",
       "      <td>age</td>\n",
       "      <td>-0.155607</td>\n",
       "    </tr>\n",
       "    <tr>\n",
       "      <th>1</th>\n",
       "      <td>deposits</td>\n",
       "      <td>0.576948</td>\n",
       "    </tr>\n",
       "    <tr>\n",
       "      <th>2</th>\n",
       "      <td>withdrawal</td>\n",
       "      <td>0.039649</td>\n",
       "    </tr>\n",
       "    <tr>\n",
       "      <th>3</th>\n",
       "      <td>purchases_partners</td>\n",
       "      <td>-0.722407</td>\n",
       "    </tr>\n",
       "    <tr>\n",
       "      <th>4</th>\n",
       "      <td>purchases</td>\n",
       "      <td>-0.718530</td>\n",
       "    </tr>\n",
       "    <tr>\n",
       "      <th>5</th>\n",
       "      <td>cc_taken</td>\n",
       "      <td>0.090847</td>\n",
       "    </tr>\n",
       "    <tr>\n",
       "      <th>6</th>\n",
       "      <td>cc_recommended</td>\n",
       "      <td>0.087520</td>\n",
       "    </tr>\n",
       "    <tr>\n",
       "      <th>7</th>\n",
       "      <td>cc_disliked</td>\n",
       "      <td>-0.010780</td>\n",
       "    </tr>\n",
       "    <tr>\n",
       "      <th>8</th>\n",
       "      <td>cc_liked</td>\n",
       "      <td>-0.015419</td>\n",
       "    </tr>\n",
       "    <tr>\n",
       "      <th>9</th>\n",
       "      <td>cc_application_begin</td>\n",
       "      <td>0.045749</td>\n",
       "    </tr>\n",
       "    <tr>\n",
       "      <th>10</th>\n",
       "      <td>app_downloaded</td>\n",
       "      <td>-0.063505</td>\n",
       "    </tr>\n",
       "    <tr>\n",
       "      <th>11</th>\n",
       "      <td>web_user</td>\n",
       "      <td>0.129334</td>\n",
       "    </tr>\n",
       "    <tr>\n",
       "      <th>12</th>\n",
       "      <td>ios_user</td>\n",
       "      <td>0.151093</td>\n",
       "    </tr>\n",
       "    <tr>\n",
       "      <th>13</th>\n",
       "      <td>android_user</td>\n",
       "      <td>0.072355</td>\n",
       "    </tr>\n",
       "    <tr>\n",
       "      <th>14</th>\n",
       "      <td>registered_phones</td>\n",
       "      <td>0.075982</td>\n",
       "    </tr>\n",
       "    <tr>\n",
       "      <th>15</th>\n",
       "      <td>waiting_4_loan</td>\n",
       "      <td>-0.050237</td>\n",
       "    </tr>\n",
       "    <tr>\n",
       "      <th>16</th>\n",
       "      <td>cancelled_loan</td>\n",
       "      <td>0.095050</td>\n",
       "    </tr>\n",
       "    <tr>\n",
       "      <th>17</th>\n",
       "      <td>received_loan</td>\n",
       "      <td>0.112842</td>\n",
       "    </tr>\n",
       "    <tr>\n",
       "      <th>18</th>\n",
       "      <td>rejected_loan</td>\n",
       "      <td>0.124411</td>\n",
       "    </tr>\n",
       "    <tr>\n",
       "      <th>19</th>\n",
       "      <td>left_for_two_month_plus</td>\n",
       "      <td>0.049485</td>\n",
       "    </tr>\n",
       "    <tr>\n",
       "      <th>20</th>\n",
       "      <td>left_for_one_month</td>\n",
       "      <td>0.065997</td>\n",
       "    </tr>\n",
       "    <tr>\n",
       "      <th>21</th>\n",
       "      <td>reward_rate</td>\n",
       "      <td>-0.239045</td>\n",
       "    </tr>\n",
       "    <tr>\n",
       "      <th>22</th>\n",
       "      <td>is_referred</td>\n",
       "      <td>0.038405</td>\n",
       "    </tr>\n",
       "    <tr>\n",
       "      <th>23</th>\n",
       "      <td>housing_O</td>\n",
       "      <td>-0.053990</td>\n",
       "    </tr>\n",
       "    <tr>\n",
       "      <th>24</th>\n",
       "      <td>housing_R</td>\n",
       "      <td>0.026799</td>\n",
       "    </tr>\n",
       "    <tr>\n",
       "      <th>25</th>\n",
       "      <td>payment_type_Bi-Weekly</td>\n",
       "      <td>-0.067012</td>\n",
       "    </tr>\n",
       "    <tr>\n",
       "      <th>26</th>\n",
       "      <td>payment_type_Monthly</td>\n",
       "      <td>-0.016509</td>\n",
       "    </tr>\n",
       "    <tr>\n",
       "      <th>27</th>\n",
       "      <td>payment_type_Semi-Monthly</td>\n",
       "      <td>-0.025773</td>\n",
       "    </tr>\n",
       "    <tr>\n",
       "      <th>28</th>\n",
       "      <td>payment_type_Weekly</td>\n",
       "      <td>0.049210</td>\n",
       "    </tr>\n",
       "    <tr>\n",
       "      <th>29</th>\n",
       "      <td>zodiac_sign_Aquarius</td>\n",
       "      <td>-0.029141</td>\n",
       "    </tr>\n",
       "    <tr>\n",
       "      <th>30</th>\n",
       "      <td>zodiac_sign_Aries</td>\n",
       "      <td>0.002754</td>\n",
       "    </tr>\n",
       "    <tr>\n",
       "      <th>31</th>\n",
       "      <td>zodiac_sign_Cancer</td>\n",
       "      <td>0.016311</td>\n",
       "    </tr>\n",
       "    <tr>\n",
       "      <th>32</th>\n",
       "      <td>zodiac_sign_Capricorn</td>\n",
       "      <td>0.043316</td>\n",
       "    </tr>\n",
       "    <tr>\n",
       "      <th>33</th>\n",
       "      <td>zodiac_sign_Gemini</td>\n",
       "      <td>-0.006351</td>\n",
       "    </tr>\n",
       "    <tr>\n",
       "      <th>34</th>\n",
       "      <td>zodiac_sign_Leo</td>\n",
       "      <td>-0.014348</td>\n",
       "    </tr>\n",
       "    <tr>\n",
       "      <th>35</th>\n",
       "      <td>zodiac_sign_Libra</td>\n",
       "      <td>-0.020666</td>\n",
       "    </tr>\n",
       "    <tr>\n",
       "      <th>36</th>\n",
       "      <td>zodiac_sign_Pisces</td>\n",
       "      <td>0.029355</td>\n",
       "    </tr>\n",
       "    <tr>\n",
       "      <th>37</th>\n",
       "      <td>zodiac_sign_Sagittarius</td>\n",
       "      <td>0.002075</td>\n",
       "    </tr>\n",
       "    <tr>\n",
       "      <th>38</th>\n",
       "      <td>zodiac_sign_Scorpio</td>\n",
       "      <td>-0.013334</td>\n",
       "    </tr>\n",
       "    <tr>\n",
       "      <th>39</th>\n",
       "      <td>zodiac_sign_Taurus</td>\n",
       "      <td>-0.021707</td>\n",
       "    </tr>\n",
       "    <tr>\n",
       "      <th>40</th>\n",
       "      <td>zodiac_sign_Virgo</td>\n",
       "      <td>0.015760</td>\n",
       "    </tr>\n",
       "  </tbody>\n",
       "</table>\n",
       "</div>"
      ],
      "text/plain": [
       "                     features      coef\n",
       "0                         age -0.155607\n",
       "1                    deposits  0.576948\n",
       "2                  withdrawal  0.039649\n",
       "3          purchases_partners -0.722407\n",
       "4                   purchases -0.718530\n",
       "5                    cc_taken  0.090847\n",
       "6              cc_recommended  0.087520\n",
       "7                 cc_disliked -0.010780\n",
       "8                    cc_liked -0.015419\n",
       "9        cc_application_begin  0.045749\n",
       "10             app_downloaded -0.063505\n",
       "11                   web_user  0.129334\n",
       "12                   ios_user  0.151093\n",
       "13               android_user  0.072355\n",
       "14          registered_phones  0.075982\n",
       "15             waiting_4_loan -0.050237\n",
       "16             cancelled_loan  0.095050\n",
       "17              received_loan  0.112842\n",
       "18              rejected_loan  0.124411\n",
       "19    left_for_two_month_plus  0.049485\n",
       "20         left_for_one_month  0.065997\n",
       "21                reward_rate -0.239045\n",
       "22                is_referred  0.038405\n",
       "23                  housing_O -0.053990\n",
       "24                  housing_R  0.026799\n",
       "25     payment_type_Bi-Weekly -0.067012\n",
       "26       payment_type_Monthly -0.016509\n",
       "27  payment_type_Semi-Monthly -0.025773\n",
       "28        payment_type_Weekly  0.049210\n",
       "29       zodiac_sign_Aquarius -0.029141\n",
       "30          zodiac_sign_Aries  0.002754\n",
       "31         zodiac_sign_Cancer  0.016311\n",
       "32      zodiac_sign_Capricorn  0.043316\n",
       "33         zodiac_sign_Gemini -0.006351\n",
       "34            zodiac_sign_Leo -0.014348\n",
       "35          zodiac_sign_Libra -0.020666\n",
       "36         zodiac_sign_Pisces  0.029355\n",
       "37    zodiac_sign_Sagittarius  0.002075\n",
       "38        zodiac_sign_Scorpio -0.013334\n",
       "39         zodiac_sign_Taurus -0.021707\n",
       "40          zodiac_sign_Virgo  0.015760"
      ]
     },
     "execution_count": 48,
     "metadata": {},
     "output_type": "execute_result"
    }
   ],
   "source": [
    "pd.concat([pd.DataFrame(X_train.columns, columns=[\"features\"]),\n",
    "          pd.DataFrame(np.transpose(classifier.coef_), columns=[\"coef\"])],\n",
    "          axis=1)"
   ]
  },
  {
   "cell_type": "markdown",
   "id": "f7970703",
   "metadata": {},
   "source": [
    "## feature selection"
   ]
  },
  {
   "cell_type": "code",
   "execution_count": 49,
   "id": "848275a8",
   "metadata": {},
   "outputs": [],
   "source": [
    "from sklearn.feature_selection import RFE\n",
    "from sklearn.linear_model import LogisticRegression"
   ]
  },
  {
   "cell_type": "code",
   "execution_count": 50,
   "id": "1df08d6c",
   "metadata": {},
   "outputs": [],
   "source": [
    "classifier = LogisticRegression()\n",
    "\n",
    "rfe=RFE(estimator=classifier, n_features_to_select=20)\n",
    "rfe=rfe.fit(X_train,y_train)"
   ]
  },
  {
   "cell_type": "code",
   "execution_count": 51,
   "id": "0fa58a4c",
   "metadata": {},
   "outputs": [
    {
     "name": "stdout",
     "output_type": "stream",
     "text": [
      "[ True  True False  True  True  True  True False False  True  True  True\n",
      "  True  True  True  True  True  True  True False  True  True False  True\n",
      " False False False False  True False False False False False False False\n",
      " False False False False False]\n"
     ]
    }
   ],
   "source": [
    "print(rfe.support_)"
   ]
  },
  {
   "cell_type": "code",
   "execution_count": 52,
   "id": "a1b3dd36",
   "metadata": {},
   "outputs": [
    {
     "data": {
      "text/plain": [
       "Index(['age', 'deposits', 'purchases_partners', 'purchases', 'cc_taken',\n",
       "       'cc_recommended', 'cc_application_begin', 'app_downloaded', 'web_user',\n",
       "       'ios_user', 'android_user', 'registered_phones', 'waiting_4_loan',\n",
       "       'cancelled_loan', 'received_loan', 'rejected_loan',\n",
       "       'left_for_one_month', 'reward_rate', 'housing_O',\n",
       "       'payment_type_Weekly'],\n",
       "      dtype='object')"
      ]
     },
     "execution_count": 52,
     "metadata": {},
     "output_type": "execute_result"
    }
   ],
   "source": [
    "X_train.columns[rfe.support_]"
   ]
  },
  {
   "cell_type": "code",
   "execution_count": 53,
   "id": "dfd053d2",
   "metadata": {},
   "outputs": [
    {
     "data": {
      "text/plain": [
       "array([ 1,  1,  6,  1,  1,  1,  1, 19, 13,  1,  1,  1,  1,  1,  1,  1,  1,\n",
       "        1,  1,  2,  1,  1,  5,  1, 10,  4, 14, 12,  1, 11, 21,  8,  3, 20,\n",
       "       17, 16,  7, 22, 18, 15,  9])"
      ]
     },
     "execution_count": 53,
     "metadata": {},
     "output_type": "execute_result"
    }
   ],
   "source": [
    "rfe.ranking_"
   ]
  },
  {
   "cell_type": "markdown",
   "id": "4794de05",
   "metadata": {},
   "source": [
    "### model building after feature selection"
   ]
  },
  {
   "cell_type": "code",
   "execution_count": 54,
   "id": "130eb8bc",
   "metadata": {},
   "outputs": [
    {
     "data": {
      "text/html": [
       "<style>#sk-container-id-2 {color: black;background-color: white;}#sk-container-id-2 pre{padding: 0;}#sk-container-id-2 div.sk-toggleable {background-color: white;}#sk-container-id-2 label.sk-toggleable__label {cursor: pointer;display: block;width: 100%;margin-bottom: 0;padding: 0.3em;box-sizing: border-box;text-align: center;}#sk-container-id-2 label.sk-toggleable__label-arrow:before {content: \"▸\";float: left;margin-right: 0.25em;color: #696969;}#sk-container-id-2 label.sk-toggleable__label-arrow:hover:before {color: black;}#sk-container-id-2 div.sk-estimator:hover label.sk-toggleable__label-arrow:before {color: black;}#sk-container-id-2 div.sk-toggleable__content {max-height: 0;max-width: 0;overflow: hidden;text-align: left;background-color: #f0f8ff;}#sk-container-id-2 div.sk-toggleable__content pre {margin: 0.2em;color: black;border-radius: 0.25em;background-color: #f0f8ff;}#sk-container-id-2 input.sk-toggleable__control:checked~div.sk-toggleable__content {max-height: 200px;max-width: 100%;overflow: auto;}#sk-container-id-2 input.sk-toggleable__control:checked~label.sk-toggleable__label-arrow:before {content: \"▾\";}#sk-container-id-2 div.sk-estimator input.sk-toggleable__control:checked~label.sk-toggleable__label {background-color: #d4ebff;}#sk-container-id-2 div.sk-label input.sk-toggleable__control:checked~label.sk-toggleable__label {background-color: #d4ebff;}#sk-container-id-2 input.sk-hidden--visually {border: 0;clip: rect(1px 1px 1px 1px);clip: rect(1px, 1px, 1px, 1px);height: 1px;margin: -1px;overflow: hidden;padding: 0;position: absolute;width: 1px;}#sk-container-id-2 div.sk-estimator {font-family: monospace;background-color: #f0f8ff;border: 1px dotted black;border-radius: 0.25em;box-sizing: border-box;margin-bottom: 0.5em;}#sk-container-id-2 div.sk-estimator:hover {background-color: #d4ebff;}#sk-container-id-2 div.sk-parallel-item::after {content: \"\";width: 100%;border-bottom: 1px solid gray;flex-grow: 1;}#sk-container-id-2 div.sk-label:hover label.sk-toggleable__label {background-color: #d4ebff;}#sk-container-id-2 div.sk-serial::before {content: \"\";position: absolute;border-left: 1px solid gray;box-sizing: border-box;top: 0;bottom: 0;left: 50%;z-index: 0;}#sk-container-id-2 div.sk-serial {display: flex;flex-direction: column;align-items: center;background-color: white;padding-right: 0.2em;padding-left: 0.2em;position: relative;}#sk-container-id-2 div.sk-item {position: relative;z-index: 1;}#sk-container-id-2 div.sk-parallel {display: flex;align-items: stretch;justify-content: center;background-color: white;position: relative;}#sk-container-id-2 div.sk-item::before, #sk-container-id-2 div.sk-parallel-item::before {content: \"\";position: absolute;border-left: 1px solid gray;box-sizing: border-box;top: 0;bottom: 0;left: 50%;z-index: -1;}#sk-container-id-2 div.sk-parallel-item {display: flex;flex-direction: column;z-index: 1;position: relative;background-color: white;}#sk-container-id-2 div.sk-parallel-item:first-child::after {align-self: flex-end;width: 50%;}#sk-container-id-2 div.sk-parallel-item:last-child::after {align-self: flex-start;width: 50%;}#sk-container-id-2 div.sk-parallel-item:only-child::after {width: 0;}#sk-container-id-2 div.sk-dashed-wrapped {border: 1px dashed gray;margin: 0 0.4em 0.5em 0.4em;box-sizing: border-box;padding-bottom: 0.4em;background-color: white;}#sk-container-id-2 div.sk-label label {font-family: monospace;font-weight: bold;display: inline-block;line-height: 1.2em;}#sk-container-id-2 div.sk-label-container {text-align: center;}#sk-container-id-2 div.sk-container {/* jupyter's `normalize.less` sets `[hidden] { display: none; }` but bootstrap.min.css set `[hidden] { display: none !important; }` so we also need the `!important` here to be able to override the default hidden behavior on the sphinx rendered scikit-learn.org. See: https://github.com/scikit-learn/scikit-learn/issues/21755 */display: inline-block !important;position: relative;}#sk-container-id-2 div.sk-text-repr-fallback {display: none;}</style><div id=\"sk-container-id-2\" class=\"sk-top-container\"><div class=\"sk-text-repr-fallback\"><pre>LogisticRegression(random_state=0)</pre><b>In a Jupyter environment, please rerun this cell to show the HTML representation or trust the notebook. <br />On GitHub, the HTML representation is unable to render, please try loading this page with nbviewer.org.</b></div><div class=\"sk-container\" hidden><div class=\"sk-item\"><div class=\"sk-estimator sk-toggleable\"><input class=\"sk-toggleable__control sk-hidden--visually\" id=\"sk-estimator-id-2\" type=\"checkbox\" checked><label for=\"sk-estimator-id-2\" class=\"sk-toggleable__label sk-toggleable__label-arrow\">LogisticRegression</label><div class=\"sk-toggleable__content\"><pre>LogisticRegression(random_state=0)</pre></div></div></div></div></div>"
      ],
      "text/plain": [
       "LogisticRegression(random_state=0)"
      ]
     },
     "execution_count": 54,
     "metadata": {},
     "output_type": "execute_result"
    }
   ],
   "source": [
    "from sklearn.linear_model import LogisticRegression\n",
    "classifier = LogisticRegression(random_state=0)\n",
    "classifier.fit(X_train[X_train.columns[rfe.support_]],y_train)"
   ]
  },
  {
   "cell_type": "code",
   "execution_count": 55,
   "id": "8046fd50",
   "metadata": {},
   "outputs": [],
   "source": [
    "y_pred = classifier.predict(X_test[X_test.columns[rfe.support_]])"
   ]
  },
  {
   "cell_type": "code",
   "execution_count": 56,
   "id": "ec76681e",
   "metadata": {},
   "outputs": [
    {
     "data": {
      "text/plain": [
       "0.605"
      ]
     },
     "execution_count": 56,
     "metadata": {},
     "output_type": "execute_result"
    }
   ],
   "source": [
    "from sklearn.metrics import confusion_matrix, accuracy_score, f1_score, precision_score, recall_score\n",
    "\n",
    "cm= confusion_matrix(y_test, y_pred)\n",
    "accuracy_score(y_test, y_pred)"
   ]
  },
  {
   "cell_type": "code",
   "execution_count": 57,
   "id": "4549b337",
   "metadata": {},
   "outputs": [
    {
     "data": {
      "text/plain": [
       "0.5156492097923768"
      ]
     },
     "execution_count": 57,
     "metadata": {},
     "output_type": "execute_result"
    }
   ],
   "source": [
    "precision_score(y_test, y_pred)"
   ]
  },
  {
   "cell_type": "code",
   "execution_count": 58,
   "id": "99433c65",
   "metadata": {},
   "outputs": [
    {
     "data": {
      "text/plain": [
       "0.7448522829006267"
      ]
     },
     "execution_count": 58,
     "metadata": {},
     "output_type": "execute_result"
    }
   ],
   "source": [
    "recall_score(y_test, y_pred)"
   ]
  },
  {
   "cell_type": "code",
   "execution_count": 59,
   "id": "8342086e",
   "metadata": {},
   "outputs": [
    {
     "data": {
      "text/plain": [
       "0.6094121955685773"
      ]
     },
     "execution_count": 59,
     "metadata": {},
     "output_type": "execute_result"
    }
   ],
   "source": [
    "f1_score(y_test, y_pred)"
   ]
  },
  {
   "cell_type": "code",
   "execution_count": 60,
   "id": "1e119c8e",
   "metadata": {},
   "outputs": [
    {
     "data": {
      "text/html": [
       "<div>\n",
       "<style scoped>\n",
       "    .dataframe tbody tr th:only-of-type {\n",
       "        vertical-align: middle;\n",
       "    }\n",
       "\n",
       "    .dataframe tbody tr th {\n",
       "        vertical-align: top;\n",
       "    }\n",
       "\n",
       "    .dataframe thead th {\n",
       "        text-align: right;\n",
       "    }\n",
       "</style>\n",
       "<table border=\"1\" class=\"dataframe\">\n",
       "  <thead>\n",
       "    <tr style=\"text-align: right;\">\n",
       "      <th></th>\n",
       "      <th>0</th>\n",
       "      <th>1</th>\n",
       "    </tr>\n",
       "  </thead>\n",
       "  <tbody>\n",
       "    <tr>\n",
       "      <th>0</th>\n",
       "      <td>1603</td>\n",
       "      <td>1563</td>\n",
       "    </tr>\n",
       "    <tr>\n",
       "      <th>1</th>\n",
       "      <td>570</td>\n",
       "      <td>1664</td>\n",
       "    </tr>\n",
       "  </tbody>\n",
       "</table>\n",
       "</div>"
      ],
      "text/plain": [
       "      0     1\n",
       "0  1603  1563\n",
       "1   570  1664"
      ]
     },
     "execution_count": 60,
     "metadata": {},
     "output_type": "execute_result"
    }
   ],
   "source": [
    "df_cm = pd.DataFrame(cm,index=(0,1),columns=(0,1))\n",
    "df_cm"
   ]
  },
  {
   "cell_type": "code",
   "execution_count": 61,
   "id": "b058e4d3",
   "metadata": {},
   "outputs": [
    {
     "name": "stdout",
     "output_type": "stream",
     "text": [
      "Test Data Accuracy: 0.6050\n"
     ]
    },
    {
     "data": {
      "image/png": "[encoded data removed]",
      "text/plain": [
       "<Figure size 360x216 with 2 Axes>"
      ]
     },
     "metadata": {},
     "output_type": "display_data"
    }
   ],
   "source": [
    "\n",
    "plt.figure(figsize=(5,3))\n",
    "sns.set(font_scale=1.4)\n",
    "sns.heatmap(df_cm, annot=True, fmt='g')\n",
    "print(\"Test Data Accuracy: %0.4f\" % accuracy_score(y_test,y_pred))"
   ]
  },
  {
   "cell_type": "code",
   "execution_count": 62,
   "id": "33c717c0",
   "metadata": {},
   "outputs": [
    {
     "data": {
      "text/html": [
       "<div>\n",
       "<style scoped>\n",
       "    .dataframe tbody tr th:only-of-type {\n",
       "        vertical-align: middle;\n",
       "    }\n",
       "\n",
       "    .dataframe tbody tr th {\n",
       "        vertical-align: top;\n",
       "    }\n",
       "\n",
       "    .dataframe thead th {\n",
       "        text-align: right;\n",
       "    }\n",
       "</style>\n",
       "<table border=\"1\" class=\"dataframe\">\n",
       "  <thead>\n",
       "    <tr style=\"text-align: right;\">\n",
       "      <th></th>\n",
       "      <th>features</th>\n",
       "      <th>coef</th>\n",
       "    </tr>\n",
       "  </thead>\n",
       "  <tbody>\n",
       "    <tr>\n",
       "      <th>0</th>\n",
       "      <td>age</td>\n",
       "      <td>-0.154826</td>\n",
       "    </tr>\n",
       "    <tr>\n",
       "      <th>1</th>\n",
       "      <td>deposits</td>\n",
       "      <td>0.624438</td>\n",
       "    </tr>\n",
       "    <tr>\n",
       "      <th>2</th>\n",
       "      <td>purchases_partners</td>\n",
       "      <td>-0.693491</td>\n",
       "    </tr>\n",
       "    <tr>\n",
       "      <th>3</th>\n",
       "      <td>purchases</td>\n",
       "      <td>-0.739276</td>\n",
       "    </tr>\n",
       "    <tr>\n",
       "      <th>4</th>\n",
       "      <td>cc_taken</td>\n",
       "      <td>0.084916</td>\n",
       "    </tr>\n",
       "    <tr>\n",
       "      <th>5</th>\n",
       "      <td>cc_recommended</td>\n",
       "      <td>0.089165</td>\n",
       "    </tr>\n",
       "    <tr>\n",
       "      <th>6</th>\n",
       "      <td>cc_application_begin</td>\n",
       "      <td>0.058684</td>\n",
       "    </tr>\n",
       "    <tr>\n",
       "      <th>7</th>\n",
       "      <td>app_downloaded</td>\n",
       "      <td>-0.056782</td>\n",
       "    </tr>\n",
       "    <tr>\n",
       "      <th>8</th>\n",
       "      <td>web_user</td>\n",
       "      <td>0.132527</td>\n",
       "    </tr>\n",
       "    <tr>\n",
       "      <th>9</th>\n",
       "      <td>ios_user</td>\n",
       "      <td>0.149224</td>\n",
       "    </tr>\n",
       "    <tr>\n",
       "      <th>10</th>\n",
       "      <td>android_user</td>\n",
       "      <td>0.070748</td>\n",
       "    </tr>\n",
       "    <tr>\n",
       "      <th>11</th>\n",
       "      <td>registered_phones</td>\n",
       "      <td>0.080229</td>\n",
       "    </tr>\n",
       "    <tr>\n",
       "      <th>12</th>\n",
       "      <td>waiting_4_loan</td>\n",
       "      <td>-0.050080</td>\n",
       "    </tr>\n",
       "    <tr>\n",
       "      <th>13</th>\n",
       "      <td>cancelled_loan</td>\n",
       "      <td>0.094999</td>\n",
       "    </tr>\n",
       "    <tr>\n",
       "      <th>14</th>\n",
       "      <td>received_loan</td>\n",
       "      <td>0.110100</td>\n",
       "    </tr>\n",
       "    <tr>\n",
       "      <th>15</th>\n",
       "      <td>rejected_loan</td>\n",
       "      <td>0.124163</td>\n",
       "    </tr>\n",
       "    <tr>\n",
       "      <th>16</th>\n",
       "      <td>left_for_one_month</td>\n",
       "      <td>0.067155</td>\n",
       "    </tr>\n",
       "    <tr>\n",
       "      <th>17</th>\n",
       "      <td>reward_rate</td>\n",
       "      <td>-0.242105</td>\n",
       "    </tr>\n",
       "    <tr>\n",
       "      <th>18</th>\n",
       "      <td>housing_O</td>\n",
       "      <td>-0.060728</td>\n",
       "    </tr>\n",
       "    <tr>\n",
       "      <th>19</th>\n",
       "      <td>payment_type_Weekly</td>\n",
       "      <td>0.089605</td>\n",
       "    </tr>\n",
       "  </tbody>\n",
       "</table>\n",
       "</div>"
      ],
      "text/plain": [
       "                features      coef\n",
       "0                    age -0.154826\n",
       "1               deposits  0.624438\n",
       "2     purchases_partners -0.693491\n",
       "3              purchases -0.739276\n",
       "4               cc_taken  0.084916\n",
       "5         cc_recommended  0.089165\n",
       "6   cc_application_begin  0.058684\n",
       "7         app_downloaded -0.056782\n",
       "8               web_user  0.132527\n",
       "9               ios_user  0.149224\n",
       "10          android_user  0.070748\n",
       "11     registered_phones  0.080229\n",
       "12        waiting_4_loan -0.050080\n",
       "13        cancelled_loan  0.094999\n",
       "14         received_loan  0.110100\n",
       "15         rejected_loan  0.124163\n",
       "16    left_for_one_month  0.067155\n",
       "17           reward_rate -0.242105\n",
       "18             housing_O -0.060728\n",
       "19   payment_type_Weekly  0.089605"
      ]
     },
     "execution_count": 62,
     "metadata": {},
     "output_type": "execute_result"
    }
   ],
   "source": [
    "pd.concat([pd.DataFrame(X_train.columns[rfe.support_], columns=[\"features\"]),\n",
    "          pd.DataFrame(np.transpose(classifier.coef_), columns=[\"coef\"])],\n",
    "          axis=1)"
   ]
  },
  {
   "cell_type": "markdown",
   "id": "0edfab2a",
   "metadata": {},
   "source": [
    "From the above analysis, we can see that 20 columns are not giving us anything new in this model. So many of the fields that we have nothing to do with their ability to churn. So they are going to be pretty much useless."
   ]
  },
  {
   "cell_type": "markdown",
   "id": "e299233c",
   "metadata": {},
   "source": [
    "## Final Results"
   ]
  },
  {
   "cell_type": "code",
   "execution_count": 63,
   "id": "8f2d69e4",
   "metadata": {},
   "outputs": [],
   "source": [
    "final_results = pd.concat([y_test, user_identifier], axis=1).dropna()\n",
    "final_results['predicted_churn'] = y_pred\n",
    "final_results= final_results[['user','churn','predicted_churn']].reset_index(drop=True)"
   ]
  },
  {
   "cell_type": "code",
   "execution_count": 64,
   "id": "810a60cd",
   "metadata": {},
   "outputs": [
    {
     "data": {
      "text/html": [
       "<div>\n",
       "<style scoped>\n",
       "    .dataframe tbody tr th:only-of-type {\n",
       "        vertical-align: middle;\n",
       "    }\n",
       "\n",
       "    .dataframe tbody tr th {\n",
       "        vertical-align: top;\n",
       "    }\n",
       "\n",
       "    .dataframe thead th {\n",
       "        text-align: right;\n",
       "    }\n",
       "</style>\n",
       "<table border=\"1\" class=\"dataframe\">\n",
       "  <thead>\n",
       "    <tr style=\"text-align: right;\">\n",
       "      <th></th>\n",
       "      <th>user</th>\n",
       "      <th>churn</th>\n",
       "      <th>predicted_churn</th>\n",
       "    </tr>\n",
       "  </thead>\n",
       "  <tbody>\n",
       "    <tr>\n",
       "      <th>0</th>\n",
       "      <td>53016</td>\n",
       "      <td>1.0</td>\n",
       "      <td>1</td>\n",
       "    </tr>\n",
       "    <tr>\n",
       "      <th>1</th>\n",
       "      <td>54963</td>\n",
       "      <td>0.0</td>\n",
       "      <td>0</td>\n",
       "    </tr>\n",
       "    <tr>\n",
       "      <th>2</th>\n",
       "      <td>10511</td>\n",
       "      <td>0.0</td>\n",
       "      <td>0</td>\n",
       "    </tr>\n",
       "    <tr>\n",
       "      <th>3</th>\n",
       "      <td>64269</td>\n",
       "      <td>0.0</td>\n",
       "      <td>1</td>\n",
       "    </tr>\n",
       "    <tr>\n",
       "      <th>4</th>\n",
       "      <td>30978</td>\n",
       "      <td>0.0</td>\n",
       "      <td>0</td>\n",
       "    </tr>\n",
       "    <tr>\n",
       "      <th>...</th>\n",
       "      <td>...</td>\n",
       "      <td>...</td>\n",
       "      <td>...</td>\n",
       "    </tr>\n",
       "    <tr>\n",
       "      <th>5395</th>\n",
       "      <td>50513</td>\n",
       "      <td>1.0</td>\n",
       "      <td>1</td>\n",
       "    </tr>\n",
       "    <tr>\n",
       "      <th>5396</th>\n",
       "      <td>42775</td>\n",
       "      <td>0.0</td>\n",
       "      <td>1</td>\n",
       "    </tr>\n",
       "    <tr>\n",
       "      <th>5397</th>\n",
       "      <td>15284</td>\n",
       "      <td>1.0</td>\n",
       "      <td>1</td>\n",
       "    </tr>\n",
       "    <tr>\n",
       "      <th>5398</th>\n",
       "      <td>10432</td>\n",
       "      <td>1.0</td>\n",
       "      <td>0</td>\n",
       "    </tr>\n",
       "    <tr>\n",
       "      <th>5399</th>\n",
       "      <td>55716</td>\n",
       "      <td>0.0</td>\n",
       "      <td>1</td>\n",
       "    </tr>\n",
       "  </tbody>\n",
       "</table>\n",
       "<p>5400 rows × 3 columns</p>\n",
       "</div>"
      ],
      "text/plain": [
       "       user  churn  predicted_churn\n",
       "0     53016    1.0                1\n",
       "1     54963    0.0                0\n",
       "2     10511    0.0                0\n",
       "3     64269    0.0                1\n",
       "4     30978    0.0                0\n",
       "...     ...    ...              ...\n",
       "5395  50513    1.0                1\n",
       "5396  42775    0.0                1\n",
       "5397  15284    1.0                1\n",
       "5398  10432    1.0                0\n",
       "5399  55716    0.0                1\n",
       "\n",
       "[5400 rows x 3 columns]"
      ]
     },
     "execution_count": 64,
     "metadata": {},
     "output_type": "execute_result"
    }
   ],
   "source": [
    "final_results"
   ]
  },
  {
   "cell_type": "markdown",
   "id": "be3f64ce",
   "metadata": {},
   "source": [
    "# Conclusion"
   ]
  },
  {
   "cell_type": "markdown",
   "id": "c4cd1f43",
   "metadata": {},
   "source": [
    "- Our model has provided us with an indication of which users are likely to churn.\n",
    "\n",
    "  We have purposefully left the date of the expected churn open-ended because we are focused on only gauging the features that indicate disengagement with the product, and not the exact manner in which users will disengage.\n",
    "  \n",
    "  In this case study we have chosen this open-ended emphasis to get a sense of those who are even just a bit likely to churn because we are not aiming to create new products for people who are going to leave us for sure, but for people who are starting to lose interest in the app."
   ]
  },
  {
   "cell_type": "markdown",
   "id": "eb71be68",
   "metadata": {},
   "source": [
    "- If after creating new product features, we start seeing our model predict that fewer of our users are going to churn, then we can assume our customers are feeling more engaged with what we are offering them.\n",
    "\n",
    "  We can move forward with these efforts by inquiring about the opinions of our users about our new features eg. Polls. \n",
    "  \n",
    "  If we want to transition into predicting churn more accurately, in order to put emphasis strictly on those leaving us, then we can add a time dimension to churn, which could add more accuracy to our model"
   ]
  }
 ],
 "metadata": {
  "kernelspec": {
   "display_name": "Python 3 (ipykernel)",
   "language": "python",
   "name": "python3"
  },
  "language_info": {
   "codemirror_mode": {
    "name": "ipython",
    "version": 3
   },
   "file_extension": ".py",
   "mimetype": "text/x-python",
   "name": "python",
   "nbconvert_exporter": "python",
   "pygments_lexer": "ipython3",
   "version": "3.9.12"
  }
 },
 "nbformat": 4,
 "nbformat_minor": 5
}
