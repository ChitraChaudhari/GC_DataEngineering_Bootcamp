{
 "cells": [
  {
   "cell_type": "code",
   "execution_count": 1,
   "id": "b00e6f89",
   "metadata": {},
   "outputs": [],
   "source": [
    "from pyspark.sql import SparkSession"
   ]
  },
  {
   "cell_type": "code",
   "execution_count": 2,
   "id": "2755c290",
   "metadata": {},
   "outputs": [],
   "source": [
    "spark = SparkSession.builder.appName('Practice').getOrCreate()"
   ]
  },
  {
   "cell_type": "code",
   "execution_count": 3,
   "id": "89ecc89c",
   "metadata": {},
   "outputs": [
    {
     "name": "stdout",
     "output_type": "stream",
     "text": [
      "+---------+--------------+---------------+----------+---------+\n",
      "|R&D Spend|Administration|Marketing Spend|     State|   Profit|\n",
      "+---------+--------------+---------------+----------+---------+\n",
      "| 165349.2|      136897.8|       471784.1|  New York|192261.83|\n",
      "| 162597.7|     151377.59|      443898.53|California|191792.06|\n",
      "|153441.51|     101145.55|      407934.54|   Florida|191050.39|\n",
      "|144372.41|     118671.85|      383199.62|  New York|182901.99|\n",
      "|142107.34|      91391.77|      366168.42|   Florida|166187.94|\n",
      "| 131876.9|      99814.71|      362861.36|  New York|156991.12|\n",
      "|134615.46|     147198.87|      127716.82|California|156122.51|\n",
      "|130298.13|     145530.06|      323876.68|   Florida| 155752.6|\n",
      "|120542.52|     148718.95|      311613.29|  New York|152211.77|\n",
      "|123334.88|     108679.17|      304981.62|California|149759.96|\n",
      "|101913.08|     110594.11|      229160.95|   Florida|146121.95|\n",
      "|100671.96|      91790.61|      249744.55|California| 144259.4|\n",
      "| 93863.75|     127320.38|      249839.44|   Florida|141585.52|\n",
      "| 91992.39|     135495.07|      252664.93|California|134307.35|\n",
      "|119943.24|     156547.42|      256512.92|   Florida|132602.65|\n",
      "|114523.61|     122616.84|      261776.23|  New York|129917.04|\n",
      "| 78013.11|     121597.55|      264346.06|California|126992.93|\n",
      "| 94657.16|     145077.58|      282574.31|  New York|125370.37|\n",
      "| 91749.16|     114175.79|      294919.57|   Florida| 124266.9|\n",
      "|  86419.7|     153514.11|            0.0|  New York|122776.86|\n",
      "+---------+--------------+---------------+----------+---------+\n",
      "only showing top 20 rows\n",
      "\n"
     ]
    }
   ],
   "source": [
    "df = spark.read.csv('50_Startups.csv',header=True,inferSchema=True)\n",
    "df.show()"
   ]
  },
  {
   "cell_type": "code",
   "execution_count": 6,
   "id": "583ff81e",
   "metadata": {},
   "outputs": [
    {
     "name": "stdout",
     "output_type": "stream",
     "text": [
      "+---------+--------------+---------------+----------+--------+\n",
      "|R&D Spend|Administration|Marketing Spend|     State|  Profit|\n",
      "+---------+--------------+---------------+----------+--------+\n",
      "| 61994.48|     115641.28|       91131.24|   Florida|99937.59|\n",
      "| 61136.38|     152701.92|       88218.23|  New York|97483.56|\n",
      "| 63408.86|     129219.61|       46085.25|California|97427.84|\n",
      "| 55493.95|     103057.49|      214634.81|   Florida|96778.92|\n",
      "| 46426.07|     157693.92|      210797.67|California| 96712.8|\n",
      "| 46014.02|      85047.44|      205517.64|  New York|96479.51|\n",
      "| 28663.76|     127056.21|      201126.82|   Florida|90708.19|\n",
      "| 44069.95|      51283.14|      197029.42|California|89949.14|\n",
      "| 20229.59|      65947.93|       185265.1|  New York|81229.06|\n",
      "| 38558.51|      82982.09|       174999.3|California|81005.76|\n",
      "| 28754.33|     118546.05|      172795.67|California|78239.91|\n",
      "| 27892.92|      84710.77|      164470.71|   Florida|77798.83|\n",
      "| 23640.93|      96189.63|      148001.11|California|71498.49|\n",
      "| 15505.73|      127382.3|       35534.17|  New York|69758.98|\n",
      "| 22177.74|     154806.14|       28334.72|California|65200.33|\n",
      "|  1000.23|     124153.04|        1903.93|  New York|64926.08|\n",
      "|  1315.46|     115816.21|      297114.46|   Florida|49490.75|\n",
      "|      0.0|     135426.92|            0.0|California|42559.73|\n",
      "|   542.05|      51743.15|            0.0|  New York|35673.41|\n",
      "|      0.0|      116983.8|       45173.06|California| 14681.4|\n",
      "+---------+--------------+---------------+----------+--------+\n",
      "\n"
     ]
    }
   ],
   "source": [
    "## Filter Operations\n",
    "\n",
    "df.filter('Profit<=100000').show()"
   ]
  },
  {
   "cell_type": "code",
   "execution_count": 9,
   "id": "6bba110e",
   "metadata": {},
   "outputs": [
    {
     "name": "stdout",
     "output_type": "stream",
     "text": [
      "+----------+---------+--------+\n",
      "|     State|R&D Spend|  Profit|\n",
      "+----------+---------+--------+\n",
      "|   Florida| 61994.48|99937.59|\n",
      "|  New York| 61136.38|97483.56|\n",
      "|California| 63408.86|97427.84|\n",
      "|   Florida| 55493.95|96778.92|\n",
      "|California| 46426.07| 96712.8|\n",
      "|  New York| 46014.02|96479.51|\n",
      "|   Florida| 28663.76|90708.19|\n",
      "|California| 44069.95|89949.14|\n",
      "|  New York| 20229.59|81229.06|\n",
      "|California| 38558.51|81005.76|\n",
      "|California| 28754.33|78239.91|\n",
      "|   Florida| 27892.92|77798.83|\n",
      "|California| 23640.93|71498.49|\n",
      "|  New York| 15505.73|69758.98|\n",
      "|California| 22177.74|65200.33|\n",
      "|  New York|  1000.23|64926.08|\n",
      "|   Florida|  1315.46|49490.75|\n",
      "|California|      0.0|42559.73|\n",
      "|  New York|   542.05|35673.41|\n",
      "|California|      0.0| 14681.4|\n",
      "+----------+---------+--------+\n",
      "\n"
     ]
    }
   ],
   "source": [
    "df.filter('Profit<=100000').select(['State','R&D Spend','Profit']).show()"
   ]
  },
  {
   "cell_type": "code",
   "execution_count": 10,
   "id": "32167572",
   "metadata": {},
   "outputs": [
    {
     "name": "stdout",
     "output_type": "stream",
     "text": [
      "+---------+--------------+---------------+----------+--------+\n",
      "|R&D Spend|Administration|Marketing Spend|     State|  Profit|\n",
      "+---------+--------------+---------------+----------+--------+\n",
      "| 63408.86|     129219.61|       46085.25|California|97427.84|\n",
      "| 46426.07|     157693.92|      210797.67|California| 96712.8|\n",
      "| 44069.95|      51283.14|      197029.42|California|89949.14|\n",
      "| 38558.51|      82982.09|       174999.3|California|81005.76|\n",
      "| 28754.33|     118546.05|      172795.67|California|78239.91|\n",
      "| 23640.93|      96189.63|      148001.11|California|71498.49|\n",
      "| 22177.74|     154806.14|       28334.72|California|65200.33|\n",
      "|      0.0|     135426.92|            0.0|California|42559.73|\n",
      "|      0.0|      116983.8|       45173.06|California| 14681.4|\n",
      "+---------+--------------+---------------+----------+--------+\n",
      "\n"
     ]
    }
   ],
   "source": [
    "df.filter((df['Profit']<=100000) & (df['State']=='California')).show()"
   ]
  },
  {
   "cell_type": "code",
   "execution_count": 11,
   "id": "a16cccf5",
   "metadata": {},
   "outputs": [
    {
     "name": "stdout",
     "output_type": "stream",
     "text": [
      "+---------+--------------+---------------+--------+--------+\n",
      "|R&D Spend|Administration|Marketing Spend|   State|  Profit|\n",
      "+---------+--------------+---------------+--------+--------+\n",
      "| 61994.48|     115641.28|       91131.24| Florida|99937.59|\n",
      "| 61136.38|     152701.92|       88218.23|New York|97483.56|\n",
      "| 55493.95|     103057.49|      214634.81| Florida|96778.92|\n",
      "| 46014.02|      85047.44|      205517.64|New York|96479.51|\n",
      "| 28663.76|     127056.21|      201126.82| Florida|90708.19|\n",
      "| 20229.59|      65947.93|       185265.1|New York|81229.06|\n",
      "| 27892.92|      84710.77|      164470.71| Florida|77798.83|\n",
      "| 15505.73|      127382.3|       35534.17|New York|69758.98|\n",
      "|  1000.23|     124153.04|        1903.93|New York|64926.08|\n",
      "|  1315.46|     115816.21|      297114.46| Florida|49490.75|\n",
      "|   542.05|      51743.15|            0.0|New York|35673.41|\n",
      "+---------+--------------+---------------+--------+--------+\n",
      "\n"
     ]
    }
   ],
   "source": [
    "df.filter((df['Profit']<=100000) & (df['State']!='California')).show()"
   ]
  },
  {
   "cell_type": "code",
   "execution_count": 12,
   "id": "b537aeca",
   "metadata": {
    "scrolled": true
   },
   "outputs": [
    {
     "name": "stdout",
     "output_type": "stream",
     "text": [
      "+---------+--------------+---------------+--------+---------+\n",
      "|R&D Spend|Administration|Marketing Spend|   State|   Profit|\n",
      "+---------+--------------+---------------+--------+---------+\n",
      "| 165349.2|      136897.8|       471784.1|New York|192261.83|\n",
      "|153441.51|     101145.55|      407934.54| Florida|191050.39|\n",
      "|144372.41|     118671.85|      383199.62|New York|182901.99|\n",
      "|142107.34|      91391.77|      366168.42| Florida|166187.94|\n",
      "| 131876.9|      99814.71|      362861.36|New York|156991.12|\n",
      "|130298.13|     145530.06|      323876.68| Florida| 155752.6|\n",
      "|120542.52|     148718.95|      311613.29|New York|152211.77|\n",
      "|101913.08|     110594.11|      229160.95| Florida|146121.95|\n",
      "| 93863.75|     127320.38|      249839.44| Florida|141585.52|\n",
      "|119943.24|     156547.42|      256512.92| Florida|132602.65|\n",
      "|114523.61|     122616.84|      261776.23|New York|129917.04|\n",
      "| 94657.16|     145077.58|      282574.31|New York|125370.37|\n",
      "| 91749.16|     114175.79|      294919.57| Florida| 124266.9|\n",
      "|  86419.7|     153514.11|            0.0|New York|122776.86|\n",
      "| 78389.47|     153773.43|      299737.29|New York|111313.02|\n",
      "| 73994.56|     122782.75|      303319.26| Florida|110352.25|\n",
      "| 67532.53|     105751.03|      304768.73| Florida|108733.99|\n",
      "| 77044.01|      99281.34|      140574.81|New York|108552.04|\n",
      "| 75328.87|     144135.98|      134050.07| Florida|105733.54|\n",
      "|  72107.6|     127864.55|      353183.81|New York|105008.31|\n",
      "+---------+--------------+---------------+--------+---------+\n",
      "only showing top 20 rows\n",
      "\n"
     ]
    }
   ],
   "source": [
    "df.filter(~(df['State']=='California')).show()"
   ]
  },
  {
   "cell_type": "code",
   "execution_count": 14,
   "id": "e41785c9",
   "metadata": {},
   "outputs": [
    {
     "data": {
      "text/plain": [
       "17"
      ]
     },
     "execution_count": 14,
     "metadata": {},
     "output_type": "execute_result"
    }
   ],
   "source": [
    "df.filter((df['State']=='California')).count()"
   ]
  },
  {
   "cell_type": "markdown",
   "id": "f8025e19",
   "metadata": {},
   "source": [
    "# GroupBy And Aggregate"
   ]
  },
  {
   "cell_type": "code",
   "execution_count": 15,
   "id": "28873145",
   "metadata": {},
   "outputs": [
    {
     "name": "stdout",
     "output_type": "stream",
     "text": [
      "+---------+------------+------+\n",
      "|     Name| Departments|Salary|\n",
      "+---------+------------+------+\n",
      "|    Krish|Data Science| 10000|\n",
      "|    Krish|         IOT|  5000|\n",
      "|Sudhanshu|Data Science| 10000|\n",
      "|    Sunny|Data Science| 10000|\n",
      "|    Sunny|    Big Data|  2000|\n",
      "|   Mahesh|Data Science|  3000|\n",
      "|Sudhanshu|         IOT| 10000|\n",
      "|   Mahesh|    Big Data|  4000|\n",
      "|    Krish|    Big Data|  4000|\n",
      "|Sudhanshu|    Big Data|  2000|\n",
      "+---------+------------+------+\n",
      "\n"
     ]
    }
   ],
   "source": [
    "df = spark.read.csv('test2.csv',header=True,inferSchema=True)\n",
    "df.show()"
   ]
  },
  {
   "cell_type": "code",
   "execution_count": 17,
   "id": "0d759788",
   "metadata": {},
   "outputs": [
    {
     "data": {
      "text/plain": [
       "<pyspark.sql.group.GroupedData at 0x2412dc2d040>"
      ]
     },
     "execution_count": 17,
     "metadata": {},
     "output_type": "execute_result"
    }
   ],
   "source": [
    "df.groupBy('Name')"
   ]
  },
  {
   "cell_type": "code",
   "execution_count": 18,
   "id": "2abde7be",
   "metadata": {},
   "outputs": [
    {
     "name": "stdout",
     "output_type": "stream",
     "text": [
      "+---------+-----------+\n",
      "|     Name|sum(Salary)|\n",
      "+---------+-----------+\n",
      "|Sudhanshu|      22000|\n",
      "|    Sunny|      12000|\n",
      "|    Krish|      19000|\n",
      "|   Mahesh|       7000|\n",
      "+---------+-----------+\n",
      "\n"
     ]
    }
   ],
   "source": [
    "df.groupBy('Name').sum().show()"
   ]
  },
  {
   "cell_type": "code",
   "execution_count": 20,
   "id": "ec7f1cf6",
   "metadata": {},
   "outputs": [
    {
     "name": "stdout",
     "output_type": "stream",
     "text": [
      "+------------+-----------+\n",
      "| Departments|sum(Salary)|\n",
      "+------------+-----------+\n",
      "|         IOT|      15000|\n",
      "|    Big Data|      12000|\n",
      "|Data Science|      33000|\n",
      "+------------+-----------+\n",
      "\n"
     ]
    }
   ],
   "source": [
    "df.groupBy('Departments').sum().show()"
   ]
  },
  {
   "cell_type": "code",
   "execution_count": 21,
   "id": "eec823c0",
   "metadata": {},
   "outputs": [
    {
     "name": "stdout",
     "output_type": "stream",
     "text": [
      "+------------+-----------+\n",
      "| Departments|avg(Salary)|\n",
      "+------------+-----------+\n",
      "|         IOT|     7500.0|\n",
      "|    Big Data|     3000.0|\n",
      "|Data Science|     8250.0|\n",
      "+------------+-----------+\n",
      "\n"
     ]
    }
   ],
   "source": [
    "df.groupBy('Departments').mean().show()"
   ]
  },
  {
   "cell_type": "code",
   "execution_count": 22,
   "id": "66823780",
   "metadata": {},
   "outputs": [
    {
     "name": "stdout",
     "output_type": "stream",
     "text": [
      "+------------+-----+\n",
      "| Departments|count|\n",
      "+------------+-----+\n",
      "|         IOT|    2|\n",
      "|    Big Data|    4|\n",
      "|Data Science|    4|\n",
      "+------------+-----+\n",
      "\n"
     ]
    }
   ],
   "source": [
    "df.groupBy('Departments').count().show()"
   ]
  },
  {
   "cell_type": "code",
   "execution_count": 23,
   "id": "3bf2a6c6",
   "metadata": {},
   "outputs": [
    {
     "name": "stdout",
     "output_type": "stream",
     "text": [
      "+---------+-----------+\n",
      "|     Name|min(Salary)|\n",
      "+---------+-----------+\n",
      "|Sudhanshu|       2000|\n",
      "|    Sunny|       2000|\n",
      "|    Krish|       4000|\n",
      "|   Mahesh|       3000|\n",
      "+---------+-----------+\n",
      "\n"
     ]
    }
   ],
   "source": [
    "df.groupBy('Name').min().show()"
   ]
  },
  {
   "cell_type": "code",
   "execution_count": 24,
   "id": "9343c92f",
   "metadata": {},
   "outputs": [
    {
     "name": "stdout",
     "output_type": "stream",
     "text": [
      "+---------+-----------------+\n",
      "|     Name|      avg(Salary)|\n",
      "+---------+-----------------+\n",
      "|Sudhanshu|7333.333333333333|\n",
      "|    Sunny|           6000.0|\n",
      "|    Krish|6333.333333333333|\n",
      "|   Mahesh|           3500.0|\n",
      "+---------+-----------------+\n",
      "\n"
     ]
    }
   ],
   "source": [
    "df.groupBy('Name').avg().show()"
   ]
  }
 ],
 "metadata": {
  "kernelspec": {
   "display_name": "Python 3 (ipykernel)",
   "language": "python",
   "name": "python3"
  },
  "language_info": {
   "codemirror_mode": {
    "name": "ipython",
    "version": 3
   },
   "file_extension": ".py",
   "mimetype": "text/x-python",
   "name": "python",
   "nbconvert_exporter": "python",
   "pygments_lexer": "ipython3",
   "version": "3.9.12"
  }
 },
 "nbformat": 4,
 "nbformat_minor": 5
}
