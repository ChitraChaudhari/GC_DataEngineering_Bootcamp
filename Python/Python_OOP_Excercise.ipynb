{
  "nbformat": 4,
  "nbformat_minor": 0,
  "metadata": {
    "colab": {
      "name": "Python_OOP_Excercise.ipynb",
      "provenance": [],
      "authorship_tag": "ABX9TyOene0Qdsi3ruq8FGuEVqjk",
      "include_colab_link": true
    },
    "kernelspec": {
      "name": "python3",
      "display_name": "Python 3"
    },
    "language_info": {
      "name": "python"
    }
  },
  "cells": [
    {
      "cell_type": "markdown",
      "metadata": {
        "id": "view-in-github",
        "colab_type": "text"
      },
      "source": [
        "<a href=\"https://colab.research.google.com/github/ChitraChaudhari/GC_DataEngineering_Bootcamp/blob/main/Python/Python_OOP_Excercise.ipynb\" target=\"_parent\"><img src=\"https://colab.research.google.com/assets/colab-badge.svg\" alt=\"Open In Colab\"/></a>"
      ]
    },
    {
      "cell_type": "markdown",
      "source": [
        "Problem 1\n",
        "\n",
        "Fill in the Line class methods to accept coordinates as a pair of tuples and return the slope and distance of the line."
      ],
      "metadata": {
        "id": "OU6NZ-BEC8hj"
      }
    },
    {
      "cell_type": "code",
      "execution_count": null,
      "metadata": {
        "id": "-MV8n6qzCbCS"
      },
      "outputs": [],
      "source": [
        "class Line:\n",
        "    \n",
        "    def __init__(self,coor1,coor2):\n",
        "        self.coor1 = coor1\n",
        "        self.coor2 = coor2\n",
        "    \n",
        "    def distance(self):\n",
        "        return ((self.coor2[1]-self.coor1[1])**2+(self.coor2[0]-self.coor1[0])**2)**0.5\n",
        "    \n",
        "    def slope(self):\n",
        "        return (self.coor2[1]-self.coor1[1])/(self.coor2[0]-self.coor1[0])"
      ]
    },
    {
      "cell_type": "code",
      "source": [
        "# EXAMPLE OUTPUT\n",
        "\n",
        "coordinate1 = (3,2)\n",
        "coordinate2 = (8,10)\n",
        "\n",
        "li = Line(coordinate1,coordinate2)"
      ],
      "metadata": {
        "id": "g3j3jo7UDFWz"
      },
      "execution_count": null,
      "outputs": []
    },
    {
      "cell_type": "code",
      "source": [
        "li.distance()"
      ],
      "metadata": {
        "colab": {
          "base_uri": "https://localhost:8080/"
        },
        "id": "XDRWZygaDI8G",
        "outputId": "e2c3beb6-3dec-4f32-b716-1227af28fbfd"
      },
      "execution_count": null,
      "outputs": [
        {
          "output_type": "execute_result",
          "data": {
            "text/plain": [
              "9.433981132056603"
            ]
          },
          "metadata": {},
          "execution_count": 7
        }
      ]
    },
    {
      "cell_type": "code",
      "source": [
        "li.slope()"
      ],
      "metadata": {
        "colab": {
          "base_uri": "https://localhost:8080/"
        },
        "id": "3yEt_ES1DKbj",
        "outputId": "97502f98-4191-497a-dae3-eb663afe15f2"
      },
      "execution_count": null,
      "outputs": [
        {
          "output_type": "execute_result",
          "data": {
            "text/plain": [
              "1.6"
            ]
          },
          "metadata": {},
          "execution_count": 4
        }
      ]
    },
    {
      "cell_type": "markdown",
      "source": [
        "Problem 2\n",
        "\n",
        "Fill in the class"
      ],
      "metadata": {
        "id": "89CbIpooENFC"
      }
    },
    {
      "cell_type": "code",
      "source": [
        "class Cylinder:\n",
        "    \n",
        "    pi=3.14\n",
        "\n",
        "    def __init__(self,height=1,radius=1):\n",
        "        self.height=height\n",
        "        self.radius=radius\n",
        "        \n",
        "    def volume(self):\n",
        "        return self.pi*(self.radius**2)*self.height\n",
        "    \n",
        "    def surface_area(self):\n",
        "        return (2*self.pi*self.radius*self.height) + 2*self.pi*(self.radius**2)"
      ],
      "metadata": {
        "id": "Pb3zIv2TERzb"
      },
      "execution_count": null,
      "outputs": []
    },
    {
      "cell_type": "code",
      "source": [
        "# EXAMPLE OUTPUT\n",
        "c = Cylinder(2,3)"
      ],
      "metadata": {
        "id": "HAYnD1NNEU-7"
      },
      "execution_count": null,
      "outputs": []
    },
    {
      "cell_type": "code",
      "source": [
        "c.volume()"
      ],
      "metadata": {
        "colab": {
          "base_uri": "https://localhost:8080/"
        },
        "id": "tzS727wHEWjv",
        "outputId": "a8153e2f-7cc5-42ed-e0f6-c0b0c9abd340"
      },
      "execution_count": null,
      "outputs": [
        {
          "output_type": "execute_result",
          "data": {
            "text/plain": [
              "56.52"
            ]
          },
          "metadata": {},
          "execution_count": 12
        }
      ]
    },
    {
      "cell_type": "code",
      "source": [
        "c.surface_area()"
      ],
      "metadata": {
        "colab": {
          "base_uri": "https://localhost:8080/"
        },
        "id": "rqGsoPcIEZ6b",
        "outputId": "9cc56835-a66b-4dc4-c22a-e9c028a01649"
      },
      "execution_count": null,
      "outputs": [
        {
          "output_type": "execute_result",
          "data": {
            "text/plain": [
              "94.2"
            ]
          },
          "metadata": {},
          "execution_count": 13
        }
      ]
    },
    {
      "cell_type": "markdown",
      "source": [
        "For this challenge, create a bank account class that has two attributes:\n",
        "\n",
        "  - owner\n",
        "\n",
        "  - balance\n",
        "\n",
        "and two methods:\n",
        "\n",
        "  - deposit\n",
        "\n",
        "  - withdraw\n",
        "\n",
        "As an added requirement, withdrawals may not exceed the available balance.\n",
        "\n",
        "Instantiate your class, make several deposits and withdrawals, and test to make sure the account can't be overdrawn."
      ],
      "metadata": {
        "id": "voLfKjD3FxrM"
      }
    },
    {
      "cell_type": "code",
      "source": [
        "class Account:\n",
        "    def __init__(self,owner,balance):\n",
        "      self.owner=owner\n",
        "      self.balance=balance\n",
        "\n",
        "    def __str__(self):\n",
        "      return (f\"Account owner : {self.owner} \\nAccount balance : ${self.balance}\")\n",
        "\n",
        "    def deposit(self,deposit):\n",
        "      self.balance+=deposit\n",
        "      print(\"Deposit Accepted\")\n",
        "\n",
        "    def withdraw(self,amount):\n",
        "      if(self.balance<amount):\n",
        "        print(\"Funds Unavailable\")\n",
        "      else:\n",
        "        self.balance-=amount\n",
        "        print(\"Withdrawal Accepted\")"
      ],
      "metadata": {
        "id": "JRhPw-adFxJF"
      },
      "execution_count": null,
      "outputs": []
    },
    {
      "cell_type": "code",
      "source": [
        "# 1. Instantiate the class\n",
        "acct1 = Account('Jose',100)"
      ],
      "metadata": {
        "id": "fORGqpxyGyAV"
      },
      "execution_count": null,
      "outputs": []
    },
    {
      "cell_type": "code",
      "source": [
        "# 2. Print the object\n",
        "print(acct1)"
      ],
      "metadata": {
        "colab": {
          "base_uri": "https://localhost:8080/"
        },
        "id": "iuoe-wiaG0Qd",
        "outputId": "0c442c11-bf60-4eb9-ceb0-2c2dce21cef0"
      },
      "execution_count": null,
      "outputs": [
        {
          "output_type": "stream",
          "name": "stdout",
          "text": [
            "Account owner : Jose \n",
            "Account balance : $100\n"
          ]
        }
      ]
    },
    {
      "cell_type": "code",
      "source": [
        "# 3. Show the account owner attribute\n",
        "acct1.owner"
      ],
      "metadata": {
        "colab": {
          "base_uri": "https://localhost:8080/",
          "height": 35
        },
        "id": "7dVKIoXcG3LM",
        "outputId": "12c4458f-8a67-42d5-f275-f11fd4ae0de2"
      },
      "execution_count": null,
      "outputs": [
        {
          "output_type": "execute_result",
          "data": {
            "text/plain": [
              "'Jose'"
            ],
            "application/vnd.google.colaboratory.intrinsic+json": {
              "type": "string"
            }
          },
          "metadata": {},
          "execution_count": 35
        }
      ]
    },
    {
      "cell_type": "code",
      "source": [
        "# 4. Show the account balance attribute\n",
        "acct1.balance"
      ],
      "metadata": {
        "colab": {
          "base_uri": "https://localhost:8080/"
        },
        "id": "8XFkY4xsG5jl",
        "outputId": "4928769d-8bd1-4b71-80e2-9716340443cf"
      },
      "execution_count": null,
      "outputs": [
        {
          "output_type": "execute_result",
          "data": {
            "text/plain": [
              "475"
            ]
          },
          "metadata": {},
          "execution_count": 59
        }
      ]
    },
    {
      "cell_type": "code",
      "source": [
        "# 5. Make a series of deposits and withdrawals\n",
        "acct1.deposit(50)"
      ],
      "metadata": {
        "colab": {
          "base_uri": "https://localhost:8080/"
        },
        "id": "LmD9pNX4G79F",
        "outputId": "59bbec7a-5b55-4a38-cbb5-39e12f684a31"
      },
      "execution_count": null,
      "outputs": [
        {
          "output_type": "stream",
          "name": "stdout",
          "text": [
            "Deposit Accepted\n"
          ]
        }
      ]
    },
    {
      "cell_type": "code",
      "source": [
        "acct1.withdraw(75)"
      ],
      "metadata": {
        "colab": {
          "base_uri": "https://localhost:8080/"
        },
        "id": "w8LZ9b9nG9r7",
        "outputId": "5e83200d-f976-459e-97e7-3391f08dbed2"
      },
      "execution_count": null,
      "outputs": [
        {
          "output_type": "stream",
          "name": "stdout",
          "text": [
            "Withdrawal Accepted\n"
          ]
        }
      ]
    },
    {
      "cell_type": "code",
      "source": [
        "# 6. Make a withdrawal that exceeds the available balance\n",
        "acct1.withdraw(500)"
      ],
      "metadata": {
        "colab": {
          "base_uri": "https://localhost:8080/"
        },
        "id": "MP4EMrG4G_wU",
        "outputId": "e3cda827-769c-4ae5-c5df-fae02d535453"
      },
      "execution_count": null,
      "outputs": [
        {
          "output_type": "stream",
          "name": "stdout",
          "text": [
            "Funds Unavailable\n"
          ]
        }
      ]
    }
  ]
}