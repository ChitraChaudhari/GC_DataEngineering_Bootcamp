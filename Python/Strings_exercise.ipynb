{
  "nbformat": 4,
  "nbformat_minor": 0,
  "metadata": {
    "colab": {
      "name": "Strings_exercise.ipynb",
      "provenance": [],
      "collapsed_sections": [],
      "include_colab_link": true
    },
    "kernelspec": {
      "name": "python3",
      "display_name": "Python 3"
    }
  },
  "cells": [
    {
      "cell_type": "markdown",
      "metadata": {
        "id": "view-in-github",
        "colab_type": "text"
      },
      "source": [
        "<a href=\"https://colab.research.google.com/github/ChitraChaudhari/GC_DataEngineering_Bootcamp/blob/main/Python/Strings_exercise.ipynb\" target=\"_parent\"><img src=\"https://colab.research.google.com/assets/colab-badge.svg\" alt=\"Open In Colab\"/></a>"
      ]
    },
    {
      "cell_type": "markdown",
      "metadata": {
        "id": "ItePI2cSJ0Rw"
      },
      "source": [
        "# *Permission to copy this copyrighted document is given only to Mobi Boot Camp Corp., students*\n",
        "\n",
        "---\n",
        "<!-- &#169; 2021, Mobi Boot Camp Corp, all rights reserved  -->\n",
        "# Please Copy this file by selecting 'File-->Save a Copy in Drive' from the top menu bar, and then start working on these problems. You cannot edit this file as it is a READ-ONLY file. \n",
        "\n",
        "###When you make a copy, you will be able to run the copied file through your account. You can also code your answers in the respective code cells and run the program\n",
        "\n",
        "\n",
        "---\n",
        "\n",
        "#Strings\n",
        "Solve the below problems. Once you solve, run the assert statements in the code cell next to the Problem code cell and make them pass\n",
        "\n",
        "#Problem 1\n",
        "Format the value contained in 'a' by removing all the numbers after the decimal point using an appropriate format expression"
      ]
    },
    {
      "cell_type": "code",
      "metadata": {
        "id": "_X9XTBtWJs75",
        "colab": {
          "base_uri": "https://localhost:8080/"
        },
        "outputId": "db5a85d1-9c32-415a-e4a4-8546f5859758"
      },
      "source": [
        "a = 10.34567\n",
        "b = '{:.0f}'.format(a)\n",
        "print(b)"
      ],
      "execution_count": null,
      "outputs": [
        {
          "output_type": "stream",
          "name": "stdout",
          "text": [
            "10\n"
          ]
        }
      ]
    },
    {
      "cell_type": "code",
      "metadata": {
        "id": "8pBH6pKtNoN6",
        "colab": {
          "base_uri": "https://localhost:8080/"
        },
        "outputId": "8ff3e39a-cbeb-438f-8b43-b4e075035be1"
      },
      "source": [
        "#Test\n",
        "assert( b == '10')\n",
        "print(\"passed!\")"
      ],
      "execution_count": null,
      "outputs": [
        {
          "output_type": "stream",
          "name": "stdout",
          "text": [
            "passed!\n"
          ]
        }
      ]
    },
    {
      "cell_type": "markdown",
      "metadata": {
        "id": "-ff7bLHNRDtT"
      },
      "source": [
        "#Problem 2\n",
        "Apply formatter to round the decimal to two positions and add comma for thousand separator"
      ]
    },
    {
      "cell_type": "code",
      "metadata": {
        "id": "M9dMeJ8KRWQe",
        "colab": {
          "base_uri": "https://localhost:8080/"
        },
        "outputId": "25324f80-0e53-44f5-acce-d70e6f5ac048"
      },
      "source": [
        "a = 123456.345\n",
        "b = '{:.2f}'.format(a)\n",
        "b = '{:,}'.format(float(b))\n",
        "print(b)"
      ],
      "execution_count": null,
      "outputs": [
        {
          "output_type": "stream",
          "name": "stdout",
          "text": [
            "123,456.35\n"
          ]
        }
      ]
    },
    {
      "cell_type": "code",
      "metadata": {
        "id": "xgSfuVOtT7nn",
        "colab": {
          "base_uri": "https://localhost:8080/"
        },
        "outputId": "5409376a-c355-4668-8064-4a0badddb938"
      },
      "source": [
        "#Test\n",
        "assert ( b == '123,456.35')\n",
        "print(\"Test passed!\")"
      ],
      "execution_count": null,
      "outputs": [
        {
          "output_type": "stream",
          "name": "stdout",
          "text": [
            "Test passed!\n"
          ]
        }
      ]
    },
    {
      "cell_type": "markdown",
      "metadata": {
        "id": "a7m8A3YqVClB"
      },
      "source": [
        "#Problem 3\n",
        "Concatenate the two strings in two different ways\n",
        "* One using the regular string concatenation\n",
        "* Second using a formatter\n",
        "\n",
        "Format the given two strings to get a hiphen between them using formatter expressions"
      ]
    },
    {
      "cell_type": "code",
      "metadata": {
        "id": "p2mAcL9OVBPe",
        "colab": {
          "base_uri": "https://localhost:8080/"
        },
        "outputId": "c9de2268-3ede-4c20-807a-60568cd59203"
      },
      "source": [
        "a = 'abc'\n",
        "b = 'xyz'\n",
        "y = a+'-'+b # Use String concatenation\n",
        "z = \"{}-{}\".format(a,b) # Use a formatter expression\n",
        "print(y)\n",
        "print(z)"
      ],
      "execution_count": null,
      "outputs": [
        {
          "output_type": "stream",
          "name": "stdout",
          "text": [
            "abc-xyz\n",
            "abc-xyz\n"
          ]
        }
      ]
    },
    {
      "cell_type": "code",
      "metadata": {
        "id": "Xkfzeu5dVOUL",
        "colab": {
          "base_uri": "https://localhost:8080/"
        },
        "outputId": "dc38a2ea-a615-4767-ac40-6d818659d6bf"
      },
      "source": [
        "#Test\n",
        "assert (y == 'abc-xyz')\n",
        "assert (z == 'abc-xyz')\n",
        "print(\"Test passed!\")"
      ],
      "execution_count": null,
      "outputs": [
        {
          "output_type": "stream",
          "name": "stdout",
          "text": [
            "Test passed!\n"
          ]
        }
      ]
    },
    {
      "cell_type": "markdown",
      "metadata": {
        "id": "VKh0KkssV7LY"
      },
      "source": [
        "# Problem 4\n",
        "Get a list of strings by splitting the given string at the ';' separator"
      ]
    },
    {
      "cell_type": "code",
      "metadata": {
        "id": "h6EAEHhsWDRj",
        "colab": {
          "base_uri": "https://localhost:8080/"
        },
        "outputId": "f38fd362-a39e-491f-da97-a01d83bde5e9"
      },
      "source": [
        "a = \"abc;bcd;cde\"\n",
        "b = a.split(';')\n",
        "print(b)"
      ],
      "execution_count": null,
      "outputs": [
        {
          "output_type": "stream",
          "name": "stdout",
          "text": [
            "['abc', 'bcd', 'cde']\n"
          ]
        }
      ]
    },
    {
      "cell_type": "code",
      "metadata": {
        "id": "VjP7e7KVWILq",
        "colab": {
          "base_uri": "https://localhost:8080/"
        },
        "outputId": "1cbdae8b-4e04-4553-f743-4735015fb0a1"
      },
      "source": [
        "#Test\n",
        "assert (b == ['abc', 'bcd', 'cde'])\n",
        "print(\"Test passed!\")"
      ],
      "execution_count": null,
      "outputs": [
        {
          "output_type": "stream",
          "name": "stdout",
          "text": [
            "Test passed!\n"
          ]
        }
      ]
    },
    {
      "cell_type": "markdown",
      "metadata": {
        "id": "wMcQrU-HWfEc"
      },
      "source": [
        "# Problem 5\n",
        "\n",
        "Get a list of Strings by splitting the given string at the space separator"
      ]
    },
    {
      "cell_type": "code",
      "metadata": {
        "id": "ksq0zyp2Wd0f"
      },
      "source": [
        "a = \"abc bcd cde\"\n",
        "#b = a.split(' ')\n",
        "b=a.split()"
      ],
      "execution_count": null,
      "outputs": []
    },
    {
      "cell_type": "code",
      "metadata": {
        "id": "AZMTNZY-WwwG",
        "colab": {
          "base_uri": "https://localhost:8080/"
        },
        "outputId": "10be5ba8-89d5-4cfe-b291-da620284fc01"
      },
      "source": [
        "#Test\n",
        "assert (b == ['abc', 'bcd', 'cde'])\n",
        "print(\"Test passed!\")"
      ],
      "execution_count": null,
      "outputs": [
        {
          "output_type": "stream",
          "name": "stdout",
          "text": [
            "Test passed!\n"
          ]
        }
      ]
    },
    {
      "cell_type": "markdown",
      "metadata": {
        "id": "sB7V3iRQFl85"
      },
      "source": [
        "#Problem 6\n",
        "Remove all the spaces in the given string\n"
      ]
    },
    {
      "cell_type": "code",
      "metadata": {
        "id": "q4GvApixFlKU",
        "colab": {
          "base_uri": "https://localhost:8080/"
        },
        "outputId": "3f402c52-91ff-4681-b5e0-66f00b28d662"
      },
      "source": [
        "a = \"almonds peaches bananas apples oranges apricots\"\n",
        "a = a.replace(' ', '')\n",
        "print(a)"
      ],
      "execution_count": null,
      "outputs": [
        {
          "output_type": "stream",
          "name": "stdout",
          "text": [
            "almondspeachesbananasapplesorangesapricots\n"
          ]
        }
      ]
    },
    {
      "cell_type": "code",
      "metadata": {
        "id": "ibm-G0qBFyp6",
        "colab": {
          "base_uri": "https://localhost:8080/"
        },
        "outputId": "eabb4cf0-cb37-4367-bae2-893491f645d5"
      },
      "source": [
        "#TestCase\n",
        "assert ( a == 'almondspeachesbananasapplesorangesapricots')\n",
        "print(\"Test Passed!\")"
      ],
      "execution_count": null,
      "outputs": [
        {
          "output_type": "stream",
          "name": "stdout",
          "text": [
            "Test Passed!\n"
          ]
        }
      ]
    }
  ]
}