{
  "nbformat": 4,
  "nbformat_minor": 0,
  "metadata": {
    "colab": {
      "name": "Python_Regular_Expression.ipynb",
      "provenance": [],
      "authorship_tag": "ABX9TyMnLyaJMpFbkARlE2kcD3+6",
      "include_colab_link": true
    },
    "kernelspec": {
      "name": "python3",
      "display_name": "Python 3"
    },
    "language_info": {
      "name": "python"
    }
  },
  "cells": [
    {
      "cell_type": "markdown",
      "metadata": {
        "id": "view-in-github",
        "colab_type": "text"
      },
      "source": [
        "<a href=\"https://colab.research.google.com/github/ChitraChaudhari/GC_DataEngineering_Bootcamp/blob/main/Python/Python_Regular_Expression.ipynb\" target=\"_parent\"><img src=\"https://colab.research.google.com/assets/colab-badge.svg\" alt=\"Open In Colab\"/></a>"
      ]
    },
    {
      "cell_type": "code",
      "execution_count": null,
      "metadata": {
        "id": "nK7jGFKiyebR"
      },
      "outputs": [],
      "source": [
        "text = \"The agents phone number is 123-456-7890. Call soon!\""
      ]
    },
    {
      "cell_type": "code",
      "source": [
        "'phone' in text"
      ],
      "metadata": {
        "colab": {
          "base_uri": "https://localhost:8080/"
        },
        "id": "WK4vGpHd7f6H",
        "outputId": "dbc2980a-fd5e-455a-dad1-0d02c0b36f4f"
      },
      "execution_count": null,
      "outputs": [
        {
          "output_type": "execute_result",
          "data": {
            "text/plain": [
              "True"
            ]
          },
          "metadata": {},
          "execution_count": 3
        }
      ]
    },
    {
      "cell_type": "markdown",
      "source": [
        "**Regular Expressions**\n",
        "\n",
        "Regular Expressions (sometimes called regex for short) allows a user to search for strings using almost any sort of rule they can come up. For example, finding all capital letters in a string, or finding a phone number in a document."
      ],
      "metadata": {
        "id": "nkKr_9AGENfv"
      }
    },
    {
      "cell_type": "code",
      "source": [
        "import re"
      ],
      "metadata": {
        "id": "juDKWa6u7i58"
      },
      "execution_count": null,
      "outputs": []
    },
    {
      "cell_type": "code",
      "source": [
        "pattern = 'phone'"
      ],
      "metadata": {
        "id": "NgGArlaK7llb"
      },
      "execution_count": null,
      "outputs": []
    },
    {
      "cell_type": "code",
      "source": [
        "re.search(pattern, text)"
      ],
      "metadata": {
        "colab": {
          "base_uri": "https://localhost:8080/"
        },
        "id": "khmX-kRX7pJs",
        "outputId": "1eb418fc-f1d3-482e-e598-bff0e6c21a5b"
      },
      "execution_count": null,
      "outputs": [
        {
          "output_type": "execute_result",
          "data": {
            "text/plain": [
              "<re.Match object; span=(11, 16), match='phone'>"
            ]
          },
          "metadata": {},
          "execution_count": 6
        }
      ]
    },
    {
      "cell_type": "code",
      "source": [
        "pattern = 'Not in text'\n",
        "re.search(pattern,text)"
      ],
      "metadata": {
        "id": "mtR300sO7vyF"
      },
      "execution_count": null,
      "outputs": []
    },
    {
      "cell_type": "code",
      "source": [
        "pattern = 'phone'"
      ],
      "metadata": {
        "id": "gldcdtj_78CX"
      },
      "execution_count": null,
      "outputs": []
    },
    {
      "cell_type": "code",
      "source": [
        "match = re.search(pattern,text)\n",
        "match"
      ],
      "metadata": {
        "colab": {
          "base_uri": "https://localhost:8080/"
        },
        "id": "y6gbJ1w07-bl",
        "outputId": "af261795-f482-4eb6-f057-a5ae5d4109a6"
      },
      "execution_count": null,
      "outputs": [
        {
          "output_type": "execute_result",
          "data": {
            "text/plain": [
              "<re.Match object; span=(11, 16), match='phone'>"
            ]
          },
          "metadata": {},
          "execution_count": 9
        }
      ]
    },
    {
      "cell_type": "code",
      "source": [
        "match.span()"
      ],
      "metadata": {
        "colab": {
          "base_uri": "https://localhost:8080/"
        },
        "id": "xIvR1-tZ8FTE",
        "outputId": "e2b7ff55-5fc3-4db4-a079-808313e9c3e1"
      },
      "execution_count": null,
      "outputs": [
        {
          "output_type": "execute_result",
          "data": {
            "text/plain": [
              "(11, 16)"
            ]
          },
          "metadata": {},
          "execution_count": 10
        }
      ]
    },
    {
      "cell_type": "code",
      "source": [
        "match.start()"
      ],
      "metadata": {
        "colab": {
          "base_uri": "https://localhost:8080/"
        },
        "id": "BJ2mWJtr8Itc",
        "outputId": "1ad2d37d-7f01-4b28-f8ea-cbb427d052fd"
      },
      "execution_count": null,
      "outputs": [
        {
          "output_type": "execute_result",
          "data": {
            "text/plain": [
              "11"
            ]
          },
          "metadata": {},
          "execution_count": 11
        }
      ]
    },
    {
      "cell_type": "code",
      "source": [
        "match.end()"
      ],
      "metadata": {
        "colab": {
          "base_uri": "https://localhost:8080/"
        },
        "id": "jJSU04Vm8V2c",
        "outputId": "9ad0f2b6-a778-402d-af85-5b468c90cd94"
      },
      "execution_count": null,
      "outputs": [
        {
          "output_type": "execute_result",
          "data": {
            "text/plain": [
              "16"
            ]
          },
          "metadata": {},
          "execution_count": 12
        }
      ]
    },
    {
      "cell_type": "code",
      "source": [
        "text = 'my phone once, my phone twice'\n",
        "match = re.search(\"phone\",text)\n",
        "match"
      ],
      "metadata": {
        "id": "dUyOpoHO8Zmj",
        "colab": {
          "base_uri": "https://localhost:8080/"
        },
        "outputId": "3822f4c2-d584-4329-cd9a-4d02a57f215c"
      },
      "execution_count": null,
      "outputs": [
        {
          "output_type": "execute_result",
          "data": {
            "text/plain": [
              "<re.Match object; span=(3, 8), match='phone'>"
            ]
          },
          "metadata": {},
          "execution_count": 16
        }
      ]
    },
    {
      "cell_type": "code",
      "source": [
        "matches = re.findall('phone',text)\n",
        "matches"
      ],
      "metadata": {
        "colab": {
          "base_uri": "https://localhost:8080/"
        },
        "id": "FTIrdKG8BnA5",
        "outputId": "58a3621c-cfa5-4bc0-89ba-04230a8a1d48"
      },
      "execution_count": null,
      "outputs": [
        {
          "output_type": "execute_result",
          "data": {
            "text/plain": [
              "['phone', 'phone']"
            ]
          },
          "metadata": {},
          "execution_count": 18
        }
      ]
    },
    {
      "cell_type": "code",
      "source": [
        "len(matches)"
      ],
      "metadata": {
        "colab": {
          "base_uri": "https://localhost:8080/"
        },
        "id": "knEXNGjDBw_5",
        "outputId": "10f08b44-d177-4c90-f9df-58cb11c895e1"
      },
      "execution_count": null,
      "outputs": [
        {
          "output_type": "execute_result",
          "data": {
            "text/plain": [
              "2"
            ]
          },
          "metadata": {},
          "execution_count": 19
        }
      ]
    },
    {
      "cell_type": "code",
      "source": [
        "for match in re.finditer('phone',text):\n",
        "  print(match)\n"
      ],
      "metadata": {
        "colab": {
          "base_uri": "https://localhost:8080/"
        },
        "id": "btwxbB8zBz_P",
        "outputId": "6fa387fd-2ae7-4bdb-dc32-2a3f8ffebb32"
      },
      "execution_count": null,
      "outputs": [
        {
          "output_type": "stream",
          "name": "stdout",
          "text": [
            "<re.Match object; span=(3, 8), match='phone'>\n",
            "<re.Match object; span=(18, 23), match='phone'>\n"
          ]
        }
      ]
    },
    {
      "cell_type": "markdown",
      "source": [
        "**Identifiers for Characters in Patterns**\n",
        "\n",
        "Characters such as a digit or a single string have different codes that represent them. You can use these to build up a pattern string. When defining a pattern string for regular expression we use the format:\n",
        "\n",
        "`r'mypattern'`\n",
        "\n",
        "placing the r in front of the string allows python to understand that the \\ in the pattern string are not meant to be escape slashes."
      ],
      "metadata": {
        "id": "NZ_ONxq8EWWI"
      }
    },
    {
      "cell_type": "markdown",
      "source": [
        "**Quantifiers**\n",
        "Now that we know the special character designations, we can use them along with quantifiers to define how many we expect.\n",
        "\n",
        "![image.png](data:image/png;base64,iVBORw0KGgoAAAANSUhEUgAAAbkAAADKCAYAAAA4lT7zAAAgAElEQVR4nO3dX0ib2d4v8O8c9lXP5UnQwchMAz0FI6gpJUQKhTliUKkXo1M49WJThtIGrbGVum92C6edm7Fk6r8gUoayeXE4dHTDpKhEwkChGEJpjGDklULoYGR04nt5eptz8fxbz5MnMYlR4+P3s5E9xufvetZ6fmv91srMF7lcLgciIiIL+m+nfQFERETHhUGOiIgsi0GOiIgsi0GOiIgsi0GOiIgs6whBLoGQ0wmn8BNaB7AegtPphP9NtmoXaWXZN35dGTqdTjiHwjiR0pOflXM6UcHOWYSHnHA6/QjvVf3Kjp1ZuYfWT/uqgMR0BWW6F4b/tOrQkSh1SPsp/72hHCOESmpxMdKzEH/OWF1X6kWZ7Vu7b+P9Cu/8Ktaviup8GSoLcnth+J39CHZPIJ5OI51OI702gcYqX1xl13U2A+zoolaOvuUReI6h0Rbi+7qUJydX8LwG0wxH/XFc1clQyz2dxmDbaV/NET1YkO5lcRRYHoHnsJebSXuRgv9JvMwTCDk9GFkexYLyDkkvoOu4T1s2HybWlOubRe8Zruvli2DlvfAuXY8hWM7uNfI+riDIZRH+YQQRjGJhphd25eP6XvSe8ksi+34FkdO9hKOr78Xs4iiAIF4ed+VoG0Q6ncbsDfvh2+ZVcDt6Z9JIpwfhPqbLowq1eTEKANuZor3t/PaSRSxyMi0oMd2PIHyYWBPrjxu9pdRFOgE++LqBSCSm1qHEuyDQ7YOvxCPUyvu4/CC3F8PKMoAH3uIvt8iT/NRJXlpFGa1oqS+/mgIzpkP1vUtdKmEojP9844cnIBVpJOApeE6lV6EMkf1DtZOqUn3ZCB8MFWzarNwMZaT23A1poOmEVg5Dfvn/w8jqUsvGZyCU13oIzj45xL3ol8+fnyYypgDVHpzx3E79frVEKWd9PZHqR16KUylv0/vzIzTtL3nbgiOnAvW3KKVDctkBe4E2l81rL/+B/xjyYGQZACIYac8vA91zK1afhoT7Nk1rJRB7AaC7C95CIyMllZ5Xt41lolxz4X2r2rbVcxvLQbpPY4pTfV5mZeMMITSdv63x3STdf0ho61p9Md+2cMsyf4+YaUaXzwcsryC2B6jP7HIzmk3L47D6JdcD3bPR1/uVH46Sti4iV64/f8vdu3gxd3Hqg/nfEzO5i8Lf/wrfy128eDE3kzDf7l74r1wu91fut8GL5tuZnPPDlPm2yrmkY2r7Kb9L+93L/fandgx121NiXj4fcjMXL+YuDv6W+yunXOtM7kMuJ5RFVC4z6X6EI5p/ruynHCeXO+QZGI5jeK7a3+Xj6Y5leBbKueX7yXtOp0C5Bu1HKS/hvgz1RyTWpUL3J5WVoRyNz8Gwr9lxzeqvjnpM4cesfRZ7Rjnx3rVzmNe9D0Xr02Ht1Fi/8xjfMbrjGuqd8TrkbfV1WLjGMijXr/3k13Vd+eiYtw9j2UhlL5eHvK2+3JS/mbdD43tMt6/pe9PkWZret6H+q+Va5NkdVr/y3iH6cq7GMzPzt+qFSz3jPM9mJgu02aXI3z6iDmMjn3YAdTZvFF5dyjOBkLNfS5PJ6RepFziBm4ekR9XhcsADZ0D5NIKdPwGHdJXoulqD6ZG9DDYBqSeOBF6/AIAg+p1CwnD7/+G/XwawLPW6VybjUtpRHWnfMZ8/OGwErj4DO7w+H7AslddhEu+CEMvTfrULPkSk53tV3uiyQ0pvO5oB5W843fIfXTTOxdnR+88JrCyPoL8dQPcE4kIKTeyhKnUJX8q/yven9EGlNmCH4zIA42hDeQ71XnR1A5HlHewYNilWf2H6bBeQvm/ydE3bXCnlLvfe8+qekAY1qU9K22/82gcgorX9Ein3PXpNPrKcfg1uZ5Ddy+gzSWr5yVf8TrrOYJ9TSK9vIrMHuCuaT/NhYs0wF9c2iIUHQfQHPNJ1LupT9olpJ/pfGM6tHM3wXmx2SOXS2A1DHfGh8UvdlvLct5zlMVyj0u7c10aBF0GpzHX7F3uWbvPaIJftSCSG8OUglHdDzLhdifVLeUdMfGf2BjLe71GemV756cp6hzRcfRErO92UmHbC2T4CTMalBRZFtpVSQ/0IPlhAOr0gzTFUSFxccBYWGCiNXNcgxEU+6TTSM734X/flRQYwpASoetTgI6WGPQFgYi2N+GSpMxNHd5T6W06bK8ik7h2ta9Iov9SVVFi1iYtFjn/ByGZGn5bvfyEtpll4cHznrFhZz1Lp6K5gZRumHZqq1K9jVsHCEzcG5YUR/eJLdS+McNHc938hsw0Ao7hzww78uVN0UnLnUwRq1FdGNgC0BjKC14bz2R3Npr8Hf9auM/GmxgPBXhhPAhGgewJPb9hher9iWbcNap2A5R3sqJ2QlxWukAsitg4ACbwORKCO7OR5wkLc10YhrsbK642fGcLCKqWeTye0OiiPkKX6eQRKJ3H9tTSnZPICOXr9zRZtc8b2oo46VYfUvYpJo2UfIhhpF+eFEgi/ycpZACD4Tv6LPMfo83lhN3aylcyFcsXy6HHkV2F++k2VZ3/XQ+h/AfgmFzDRDUQCT6S2Jpevb/Im3GrZnwSl3WUR/lmfUdFU9izVjMyyWVsur37lP5uTUdlXCNoGhaXu8mRh+0heukXvf6D3e/ml4XTC+fNm8Zfmd0ojcML5w4rwFzt6Z+KY6JZSErrJ7babcqWTRzVtg9pyavk6+2thuY8J9V7aRxB5sCD0sEzut30EO7rFJeJKNTcG0wsYVcqugu/JSOcxrH6r78WdBxAWnhi0DSI+6ZPK3umEJxCBbzJe86NmtUydTvjf/CfC8uIL3+RNuOX6hBf9CP0p3r8TL7eP2meV20FfUOpdm6UZj1x/7cXbnLG9QN/u/G9QoO5VQX0vZtMLGFWuTa7HK8rfFkfVsnb2BYEHC/IqYKGT7XTC2b4CdAt3fGNWGmUr+zo9GPl0lAsV2pHTidD/VRZhjeLODbdcvhGM/BBGVixP5xOsHHboKpLOKdXd0UWzkWuh98gh5JRl/lSSfMwy6hfyns3JfO/wi1yO/6kdAqTVlcr3lvi1gGOjzF8Umj8jKoM0/2cyb0gq/mu9iIjIshjkiIjIspiuJCIiy+JIjoiILItBjoiILItBjoiILItBjoiILItBjoiILKvgv6D58+fPJ3kdREREJblw4ULJ23IkR0RElsUgR0RElsUgR0RElsUgR0RElsUgR0RElsUgR0RElsUgR0RElsUgR0RElsUgR0REllV2kEvOujC3cehWmHPNIVnZNZ05B8sBuB4u4aDMfQLL0h7JWZf6z8WUuh2VJjnrgssllalYtqXVcT3xeRbZCksPA1jaL7F9bMzBNXteWlEtOsDSQ6mOzG0kMecKYGkfwP4SAmW2d4VS51wul+HZJjHnEv5W4fEpX8F/rVchre3DGFhL4m5L63Fczxl0gHi0CcOXxrC40YO7LeUfodWfwmS5223MwbXmQcrP51CR/SW8+jiOt6ke2AAApT2DQmxXOoEf4zjoVo5XTCs8QwOIb9xFawX1hU7IxiLGLs0j9ZPcxlJyDdmv9IBJ7H71FqmUVEOkjtVbTHbbgP1dbPnG8fanUuoPlaP8dGVLH8Y/xs/NKO1Q+3GsXvLgbvswptZYKudWXQ9uX1pFvMQXYOu349hifTlnWtHTrYUwx1cd+j9famCAOwYVzMnZ4OnYwitDauZgOaAOtQPLu1W6vNp38GEVTe2tQIsHwzPFgr+YjphDXPyLLj2m327JkNac24A0irs1BcwMwKWkUKh0+0sIfDOGaGQM1+XyK5yi1FJWUtqq8GFb25sw9m9DDdiYE9JTwlOv86Dz4yvDsxPPFcDS+WlGtUfXxuaQLDYFIz7jMtKMmT+iaGqQw9peBtGZAe3Zs01XTUULT2zdt9EUjWsPc2MO1x81YT6VQiqVwmOsYqp611jDklh81ARPCyCloKYQL/iiHMDW87dIpVJIpTzIPIpWvl3LXaR+GQaG5pFKTaKnrqo3ZX11PZj8fRwdvnG8LVp+B1h6+Az4R0p+HvPArSJzacYsx/4SAre2MP67vH97BmMR5Y829Py9CasftFdicva6lB5LpZBKPQai56MV1SRdG7uLgpMCyrSB/O5727GKZ6XMm2/MYeDjOPqUdHXLXfUYqV+aMPbN+VnTcNwqXF3ZCo+QmjnY3cLwL1pFsHXfxnBVLq/GbcQxNeRR77u1YMoygwzG8VhNVbSi73mH+XaRYdw+dDs6GRlkIlGMfaOMrgYwhS3sFuxlS1kOtaOzlwGeP9aCaEsfxn3C5i0eobN4gN2Pw5hX51ht6Pn7uWhFZ9rB7pY82pPqyPVHUUT/yBTdJznrkgJjofm3lj6M+4rVMypH2QtPFK3tTRj4dxI9/lZk/ogCDdW8rLMhuTYFzACuGfHTYST9rfqe3/4utgD0HXbA/V1s+RyHb0cnaBjzxXryBrYrndj6cQkHP/UAu4c99VZ4Lg3IC5YyyETOZTM68zqey4tHSpCcdSHenkKKC45OTOXfkxNSM63tw5j6l5aLPlh+dQ7SlUnEZ4bVFK3yMz80lTdfiToPOjGGRWHebdEsDVnqdnRCHHD4TJ5nMcICFNuVTuDRopZ22lgU0pUSbQGKlO7WznWApX9ZvxWddbaGJkTFZ1zM/hJeYf7wFdgbixhDJzychqiKI3wZXFiA0nIX85fGcF0esj9Dp/XTlYZUpaK1fRhRcb4SAGBDzz/GsXVLSXvF4TBNQ5a6HeSFLlx4crxs6PlpHk2Prpe1sEBdgFLXg8fPtzCg7Lvm0KcrAd0ClFa/eK5nQIflW9HZ13IXb8VnXGxxkm5xib4+iQv3XLeAeX6VoGq+yOVyObM/fP78uYTdk5h7uIs+PpBjo6Q3Kvn+HZ2WAyw9XETDTyWmOTfmENjtKznlRXTeXbhwoeRtjxjk6FjtLyHwTQa3y5gTouN3sBzAdUMauZx5GbK6JOZcA4Ypm/Lmdqk4BrkzLDnrwoC6kKUD47/zKwJERCIGOSIisqxyghz/KwRERGRZDHJERGRZDHJERGRZDHJERGRZDHJERGRZBVdXEhERnXUcyRERkWUxyBERkWUxyBERkWUxyBERkWUxyBERkWUxyBERkWUxyBERkWUxyBERkWUxyBERkWWVHeQS006E1o/jUs6u7Bs/nENhZHWfJhByhpA4dO9St6tNiWkn/G+yh29YQ7Jv/FW55oqOsxeGP6+uHOZs15Gzzrx9m6jo2cr7Of0I71V2fVRc2UHOfW0UwXdsbposYpFmjF4ewetzGPzd99OYvWE/7csoi/1qFxCJlf8yqsZx6r3owgpiZb3Q3PA+CCJ2DuvX6TvO9p1FeMgJ5w87aO6u9rFJUX66su0mJrZj7FUq9mJYuezFIIP/2VHfizuXyw001TqOHb3fN2PlfXkh1v3dBDZZv07esbZvO3pn0kjP3ERjlY9Mmgrm5Ozw+jbxUk3TZBEeEoba6yHd0D4xbe1hePb9CpqvuYE2L0ZfFAj+choj8cYPp9MJp9Mk5bseMvlbAiH5M6dTSAvmHU8rY2M6WfxdSq8lpN6jcjzT8+qvR3ueUtos/MavnlN3vr0w/Or11nZ6zX2tGSO/Cle4HoJzWvld6mHr7mva/G4qOk6bF82B11r5GNJc+hRwAqGhMLL1XnRtv9TaUin7lFMgZKqk9m2wU6yd04mraOGJ/cYdNKtpGjsclyPY+VP6W+LdJnxqOiaB2ItmOOqrdLU1J4HXgWZ424BDU0rLI3iJp0in00ivTWCzTwwCQfS/80p/WxxF8GflBeXGYDotfZ5e0L8YhePFJ6F/0RYRCbwE/qkczwOn2XnXQ9rn6TTivhU8UV+gQazgKdLpWfTqnmsCofYVdK0p1zsId4mleCqMGYkvG+Hbzkj3vxfDCnzqyCn7fgX4ukBfu6LjuHFzclOrK/UONC/vYAcAkEBs26elQddjCF52wG4cAZa0Dx1NGe1bUbSd02mocHWlG14hTaPN0yUQ2+7CHR+koLeXweYDb22/7I5iPYagcH9F5yu7J/BUmbuq78UdXYMZxcJ9+ShtXoyqLy950tvphNPZjyA2kdnLP579apf2Yj2Eb/KpHJwa0djtw8R38nm/bIRPOWdmE3jRr/ZGPYEIIp+UKxrFHbM5uPUYgg/uGAJfLZMyElqg0ebKsu9X0Pz9HTTLZbrzCei6ai8wuq3gOJCemZZ+FF6g6zFs+u6gC1IdyGY2MXpNqxta57LEfahyxdp3oaxF0XZOp6HirxDo0jTKUH4vA/i8cMsNWB3qW1TiXVAXDJx9QaDElEYpsm/88Hy6I4+M4pg4wclp32RcHcml02mk7xd/jtnMJnyFRjs1yn61C5s/i8EKWHmfxc6nZnjblI6c1HHz1gNoG9TKY6ZXHSmVfRxACoZC+lF5gWYzQNdVtxw4pUUP0kgCkDqX2gKI0vahShVt3/W9mE2fkazFOVf59+R0aRo3vA82Eft1B41X7WoDfmLpxpZA7MUoFsRAkE5j4UFQmK8ULAsLFPbCePli9NCy2fkU0QLHXgwry4dfVePXPmE0mUDsRan3o7E7mhERU6Ol7HO1Cwg8OVvzr4aFI/arXcCn14hB6r27rzVj5YeX2PR5i6f+KjqOIf3Y5sXodgyvPzXCW68EzidYuazPhOgWoJS4D1WizPatqKCd0/E6wpfB9QtQ3NeaEdxulHuqUm82YuXGZkhlKNzXRhExW1be3YydH+QeYfsKutYO7/25v5sAAh5pnxKXGdtv3MGo2vuMAQ9KvyVV2yDik5voFxa9HDqBXt+L2cVmjLSfjYUnCl1Got6Lru0gIKYHl7UUY9WPo1uA4ob3chCbX8uBsN6LLkTyMyG6EWCJ+1D5ym3figraOR2vL3K5XK7y3RMIDWVwU0jdkIm9MPw/AE9ZTjUoi/DQazhmjvoyquw42Td+vHbMYrCc3v56CP7MzTP3/USi03DEIEclYZAjOr/2wvC3jyAiftY9gTjfByfib6d9AUREllbfi9l072lfxbnFkRwREVkW/ysERERkWQxyRERkWQxyRERkWQxyRERkWQxyRERkWQW/QvD58+eTvA4iIqKSXLhwoeRtOZIjIiLLYpAjIiLLYpAjIiLLYpAjIiLLYpAjIiLLYpAjIiLLYpAjIiLLYpAjIiLLYpAjIiLLKjvIJWddmNs4jks5Yzbm4JpN6j46WA4YPjvA0kOpvA6WAwgsH5geKjnrKvg3OkH7Swg8XEIpT6JQOyj2nMl6+LxrX9lBrrV9GFNrycM3tLoWD4Zn4tBK4gDxaBT4uCu8JDPIRIbhaSl+qFZ/CpPdNukXk+BJJ6TOg06sIr5f+SFsVzqBaLykQElEx6/8dGVLH8Y/ii/388oBh28Lu8oLcT+OVQxjWHxJbsQxNeRB62ldIpXJhp6/N2H1wxFCVF0Pbl86WqAkouqpYE7OBk/HFl7phuhJzLlccLlccLkCWDoXDdwGTwe0F+JeBujoQ5/w2cHuFjq+cgj7ZLD0UC4nIS2mpr425uC6NQXMDAjleKDt4yqUKjYpfzn1llwOmOyrP6Zu5Li/hIB6rDm1M5Oc1ba3RHpmY067f7HOtnjQ9GhR14k7EMpQP8oWyl14nq3tTRj7d37aOu85FChrqg265170+Qjtuth2fN6noqKFJ7bu22gSUjIHy6+w9fwtUqkUUqlJ9NRV8QprmK2hCVG5HJJrU2hqsEmf/ZGBlL4EOq/Y1O2jj14B/0ghlXqLcYxh0RiwWu4i9cswMDQvl+MBlh4+k/dJIZWaB27lN46C5R8Zwys8lj7/fRxb6r429PykHPMtxj++kl/yScx9s4rO35W/3UUrpAAXb9e274w+O/sdmZa78v2kkPpFDEqt6Hu+hbj6bJJYfNSEeWVbvzYun7oVh0f+fP7SGJ4pwd+Y7dhYxNilefV8d1uk45qVNdUOW/ek+szePjd27DVau5a2GzCdbuDzPi0Vrq5shUdIydgamhB9dP38LUhp8WA4kkEGB9j9KM+9qXN1GWQiTWgQAn7H88dyALLB09GBrd3DRkQZZCJRjH2j9P4GMAUhRSorWP6+cTxW5vrqenB7aEp7easjmesYi0SR2YOcXr1t6KQcYPcjMHXLlb/9mSaMrm5N6eZSbVc6saXOOzvg8E1hwGRByvAv2ouq9dtxYS5OynaoZV3vQMfMgH4EbFrWVFu0kfr1R1G585pPa9fSAEA/Vy/j8z41FX+FQJeSkXvFnrXzlK4EgFZ4hqYQX45jFQ5IiUl5rm65WvNxw9oootBIudzy35iD618OvFVGIUPSx/npVUUHxn8Xr0EZjZxVB1h6eB2Zv6fUUW6H+Oc6DzrV0a086v0H8CwvXVmY7Uontv4lB8a6HkymUniMZ2q6snBZU21IYs71Cg6l3v8yfKSj8Xmfnsq/J2eyAKXVn8Lb5zjaxP0Z4/iqA1vRVaDDA2nMJM/VRatRqaVRRKE0iVFe+UeEBRD7S3g1I402D3a3gEsN8vUmEZ+RNrFd6QQeGVORNjRcihrmmM66DDKRDjjqpd8OPqwiqvu7yQKUuh5MpuZ1vXRxlXHy32NCHYDpAhRb9yRSv0irk83LmmrG/i62oGVikmtTBTeNGqZuzDq3fN6n5whfBtcWoIgTtNejnVqK7BywXekEIvq5N1tDE6KGz0rW4sGwuvDEhp6f5tH06Lo2AW6SNitY/r4mZH6U9/tmFZ2/S+k1KaUyIO8TB+SRHOp6MPlLk5AelebwWv1vMf5xoMRJ+LOgFX3Pod7nsz+a9CM5QFiAIi7qGQCEFOUw4mqZDGBe+xqIchYl2yEucrkFzPtbC5Y11Qg5vT8gP7c4Co/kOi5lpFG+3P7e+k3yN3zep+aLXC6XM/vD58+fS9g9ibmHu+j7qQfnJ6ydEftLCPwIPOazqdjBcgCLDZNHSM0eYOnhIhp+4iIDomq6cOFCydseMchRzWKQIyKLKifI8d9dSURElsWRHBERnSkcyREREYFBjoiILIxBjoiILItBjoiILItBjoiILKvg6koiIqKzjiM5IiKyLAY5IiKyLAY5IiKyLAY5IiKyLAY5IiKyLAY5IiKyLAY5IiKyLAY5IiKyLAY5IiKyrLKDXGLaidB63qcIOZ1wij/Tiepc4RmQfeOHcyiM7GlfiCD7xg//G+mKEtNO9Z+LKXW7s04sG+Pnujrs9CO8V2yfLMJDhnov1INK9qHaY96+jc8xhLw33nrItC7RySo7yLmvjSL4ziyAjWIhnUZa/llA/zlpvFnEIs0YvTyC13nBvza476cxe8Ne1nbmnRlrsF/tAiIx07rpm4yrdTi91oWVdqkcCu/jw8SaVu/jvhV45BdeJftQrSnWvrXnGJ/cRL/QsU9MO+H8uRFx9Z34FHjPJ3wayk9Xtt3ExHbs0Abpvp/GQg2/+KtmL4aVy14MFgz+VHPqe3Hn8gpih/Ws63sxuzaBzZ/DyJa4j/3GLOKTm3j5JlvyeXT7UG0psX3br3bBt52ROjR7YbzcnkB8phda19KO3hvu479eylPBnJwdXl9pDbLwqM86su9X0HzNDbR5MfqicPCXRkZCWldM5+6F4RfSV9oIKoGQM4SEkPYoPLoSU8YhxPLOLf8iplCmwwgPaWkUZbvEtBP9L4Bgn3VTae5rzRj5tYS6We9FF6RAVeo+4giukn2odpTcvn8dQfP3UlDLvl8BfF4cnjuhk1DRwhP7jTtoZoMEkMDrQDO8bQDghvdBELEiI9dgXwzedBrp9AJGX7yUgsteGP72FXSp6asFoE/M3wfR/84r/W1xFMGfzYJOFuGhfmyqqTYvdgKR/AvYC8Pft6mlyq7tYGQ5fzP3/TQWHgCji2mkdb1RCykxI3Eq+1CNOKx9RzDSLnUY+7cncLNN+nTnUwTNDku2mjOpwtWVbnhLSfcA8H3dWNkpzoL1GIIPvFCSEIeNXEcXB+Vt3fA+iGDnTwB/7gCTT9Fbr2zlxs1JYOW9EspGsXBfPkObF6PLO9jJO/IOdjCBp+q8mxs3J335F/DnDiIP7mjnaruJie7Sb9dapIxEsU6JphmO+jL3ueyQOweV7EM14dD2Lcyt/hN4Is+rNn7tw2aGQ4BaUfFXCA5Pw2QR/jlo6R5N4l0QeNGvpf/6gkCRlMax2ctgs4TNsplNa3c6ymS/2iXNtxXbaP01RtCIxjL2Sfw6AgjlXMk+dPrKat/1XnR1byKzB9gdzYgw01UzKv+eXNE0TBbhIQ9GLi9gsK3iM9S4BGIv9CtK0+k0Fh4Ey1tA8GUjEHgipCcTeB0Auq6W0Tmo96IL4iKfBF6bpCvtV7uAwGvtma2/Nk1XnhuHLQxZD8HZt4mJfwop20P2SUxLqaun4mrWSvahU1Zm+96LYWVZHvG33cQERuDRfY0qgdA5+lpVLTnCl8GNC1CC6FcXPniw4osjfd/Cq4kMqQyF+9poeb24+l7MLjaruX2nsx9YnBXSl6Wwo/efE9jsU44RQ6NZurK+F08nN7Xn9K6xYLrSfW3U0gtPFMaMRCTgEXruwEI6/1no94kIz86JfiyYzmNWsg+dopLat/Ac21fQtaZMR9jROyN/jcqptUmvld+HNeyLXC6Xq3z3BEJDGdxkAz2jEgg5Y/CmB/Ma8/mRRXjoNRwz5ZTBSe1DREd1xCBHZ1n2jR+eT3esPeImonPtb6d9AXSSEgg5+xFUfu2eQHyGAY6IrIsjOSIisiz+VwiIiMiyGOSIiMiyGOSIiMiyGOSIiMiyGOSIiMiyCn6F4PPnzyd5HURERCW5cOFCydtyJEdERJbFIEdERJbFIEdERJbFIEdERJbFIEdERJbFIEdERJbFIEdERJbFIEdERJbFIEdERJZVdpBLzrowtyF+coClhwEs7eu2wpzL8NnGHFwPl3BQ4YXWooPlAFyuOSQNnydnjeVxnJKYM7mGyrerTclZFwLL1ak9B8uB/GNtzME1m8zbTv/ZAZYeusImI28AAA3cSURBVPD4sbENFGoXhs/2lxBwPcbjvOdQRhu6939w19iO9pcQMH5m0t6Ssy7cfXr3SPduvG+rO1ieO962vL+EwBlul2dB2UGutX0YU2viI7HB0wGsfhAazkYcU4gis6d9dLC7hY4OD2xHuNha1OHbwsAsq+hxa/WnMNldndpju9IJROP6oNDiwfBMXHjZHCAejQIfd4XtMshEhtHXb2wDJu1iP47VCLC1K5xlL4PoUB/6hqYQ1wWLMtpQ7/9GL1YRF1+8dR50Gj5Lrk0BkQwywv3sfuxA77e9R7p3TwvOBzn4xAHgwzF20Ot68Pj5Fl5VqQNH+cpPV7b0YfxjXNfzsDU0IfqH1pySa1MYHhIb/QHiUaDzitVCHICO2xj/+OoER250ZHU9uH3JECjggMO3hV3ls/04VjGMYTF4bMQxNeRBq0kbQL0DHUJQOPiwCgwN6wJKcm0Kw+2taP12HFuGIFl6G/qf6Pl7kz4gwoaGS2JATCI+M4xhMZjux7GKTniaj3jvRYrVUup6MJnyIPNoCmN/eJD6qefYOuimnS6qmgrm5GzwdBh6Hrqe4AF2Pw7D4xc/yyATaUJDXTUuudY40PP3Joz9WKinJ6V5XC75Rxj1SSmuJOZM/pZP2M5VIHUnp62SywF1u7z00sacyd8KHDvveFr6zJieE3833tfchpLa1R/DeD1ab1lKrS4tB9TtdefbX0JAvd7KUj2t7U0Y+3eRjMReBujoQ5/w2cHuFjq+csC0DRhGU5k/gM5v+4TPpJGUo17e1tgxKqcNtXjQ9GhRd9+6keT+LraGPLgrfraXQfRSA2xHvvfzIzn7Co7fU3j71avS0rQbc5Wl1E1G4lQ9FS08sXXfRpOu5+GAwyf3GvfjWIVD+p/SO7R6L7DlLuYvjeFZXgU/wNLD61jteItUKoVUKoV5DOgawtStODypFFKpeQzPFBsRtuKufIxUaj7vJaeKjOEVHkvb/T6OrVtiEJjCwJpH+tsvw5j6lxJUihxbON7b5zC8HAtT7+v3cWzdcuGZ2TE25uBSrieVwtuOVaEMp7CKx0ilJtGj6xwlMffNKjp/V673bmX1qlBGQq7XybUpNDXYhBGWPhuR3wak0ZQUFJKIzzShoU4YYSkjqTpp2/zRWDltqBV9z7f0Kc96BzrkgHjwYRX4yqEbXSqjyGrc+3nR6pfqnq17EnePkqYVO3Lqj9jZM47EqZoqXF3ZCo8u5WGDp6NDmn/YywAdHtiE3uF56AW2+s0CTwYZjOOxMJfU+u24LjUx/Mtd9cXlGVJeiOYjFW00NIApCOklkU84X10Pbuvmf4Yx71dedB4MC3M2BY8tHM92pVOXkitGva+6BjRhGLeVYzQ0qdsc7G4BMwNqw7/+KCqk7LR9dDbimBq6bQh8lZBGY7pAoZaJPJJqgTDCMmYjjG1AGk1F/8ioI6lWCCMsYSSlnMsYJMtpQ7YrnfqUZ50HnXJAzPwhByR1hCCMIqty7+eVPisjZi5cLhdct6YQfXTdkJUA0HJX7chpP8bOGx2Xir9CYEx5KHnlJbkXCCjzDPFz0guUetdVWYRS14PJlH6kcrAcwPU/bsufvcW47+inURznsQ/T8fytvvH7i4/Lqtlhsl3pxNa/xDRzKzxDU4gvKyMpQJ2vWs7PRuSl/eSgsKSMpAB1NLUkjqSUc10aw6IQaMpqQ3kpTyUgLsmjSOmzhktRZD6Io8jq3Pv5ZEPPT1pdVUZ3rf6Umh1R6/MxzuFReSr/npwx5VHXgKbIKlY/CiuwWjwY/riK1XPSC7R1P8b4x1d49VH5xAEH9GnM5L/H5F56eTJ/RLWXu7xyz1REGF3sL+HVzOEr4ko+tsDxVYewKCKJ+Mzh+xjZGpoQLZR2LbTPlU7g0bPqLPQxWYDi+KoDW9FV4RnJwSNqElzz0n5SUFgVA5I8mlrVjaQkeQtQympD+SlPKeW4qo4iAWkkuRVd1Y8iq3HvVLpD05XGkTZV0xG+DG6cfJfSbdFLYo/PAQeiiJ6bXqD04olGhN9/mkeTksJwuTCA+YqWwrd+Ow4ox/kxg6ZCoy1fEzI/yg3pm1V0/n74nFXJxxbYum9jWE01xoGhcu8IQMtdvH2+hQFXfgqooLoeTP7ShLFvjrbwRGGakYjoR022BumZ5mcjjG1ACgpR3ahJGk1FDSMp6V6Mo7Ey25BxAUqLB8ORKJrEEWO9A4hEDaPIatw75Wm5a962D0tX7uePtKl6vsjlcjmzP3z+/LmE3ZOYe7iLPg7Na8P+EgI/Ao/5PMpwgKWHi2j4qcIFLEdtAxtzCOz2VfwdwIPlABYbKl0YcdR7p2o4WA7gGR5X7Xug58GFCxdK3vaIQY5qCoMc0dmyv4TANxncrnSV8DlVTpD72zFeBxERFVPXg8nUaV+EtXEkR0REZ0o5Izn+VwiIiMiyGOSIiMiyGOSIiMiyGOSIiMiyGOSIiMiyCq6uJCIiOus4kiMiIstikCMiIstikCMiIstikCMiIstikCMiIstikCMiIstikCMiIstikCMiIstikCMiIssqO8glpp0Ired/nn3jh9PplH6GwshW4+pqnHTPISQMnyem/Qjvnc71+N+Yl3xi2lnwb+dN4XJKIKTUYadUzwtuux7S6rtcB8rZtlA7MtuWTsF6KP89th6Cc5pP5KwpO8i5r40i+M7woNdD8ES6EE+nkU6nkf4eiJ3CS/40+Lo30X8GKr77fhqzN+zSL+e8sdqvdgGRmKEjlkV4qB9YlOtwOo7GTMJ8270w/H3AglLf1xqRWS9w3ALbmrajAtvSKWi7iQms6N5jiXebmPjOfXrXRBUpP13ZdhMT2zFdDzOb2YTP54Vd3aYXvfXVuLwzwHcHE9svT2XkRhWq78WdyyuGjtgOdpZH4W1Tfrej94bbfNs/dxB54IVbOF5vW4HjFtrWpB0V3JZOgR293zdj5Ff5Ce2F8XK7C97z8l6zkArm5Ozw+jbxUkjL2K92AQGPefrF8hqlxvBDoRRtFuEhLQUmjqCklJWQIis4usoiPCSkQA2pFH16dEc7n24bOT22HoKzLwi86IfTqeynv0b1OYqpM/lYUkouIWwvptT06T5d6s7kWAXPewLc14QXmPQJvA+C6DdJtedt2+bF6It+09Rk6dvmt6Nix6VT0ObF6AupA5v4dQTN3/dKHXldSllpQwmEnPppCnGKIDHtNKn/dCJyFfmQmxn8LfeX8bOLF3MXL97L/fZnZUc9a/4K38vdC0ul8GHqovDPShn8lfttUPs8f7uLuYsXZ3IfpN9yM0XK7sPUxdxMQvnne7l7g8q2H3Iz8jH+Ct8Tyl86t7aP9s+5xEzu4tQH5S5yvw2K51WOZ/xcu2fxGf8VviccS3fF6nXl/vwtd0+9T/VIBc57Uv7K/TaYfz7p/i4a7slsW6l8L14UyrXsbc3aUaFt6TT8Fb6Xuzc1k7unPKfEjNBmc7q6Lb4PxPr8YUpfnwq3GToOFa6udMObl+5xYzCdRnqtCyvtp7Pw4jS57y+gOfDasFBgBzuYwNMbdm277yZ08zaji4NyesoN74MIdv6ENDdjWHygzeEkENvuwh0f5G0z2BRSXL7Jp3Kq2A6vz4fNzGF9xh3sLEcw0q6crx9BbCKzZ4fjcgQj7fmLH7RzAPYbdzD6Qku7aQuQlOMA2fcrwORN6GczCp33kMutGmkkFTOMHu03ZpFOp7GAfmFkbbatHb0zaaTTC0CfOAotZ1uzdlRoWzoN9ht30PwiqI7isplNoc1CSlE/CCJmnJNdjyH4wAs3sshsj2Lhvlt3TLHN0PGq+CsE+ekeWX0vnk4CK+/P24DcjZuTVVqEUt+LWWXxQVpuUG1eqWHsZQCfF+6rXdh8l0D2/Qqarx11MnxUW+yQTiOdnkVvvbRYJZ32IlZiiiX7xg/Ppzvqwo2JbunznU8RNDvsJnuYn/ek2K92YfNn8/ty31/QvYgKb+vG4KJ+EUk52xZsRybb0mloRGO3D41flrCpMCfLRSq1o/LvyQkT59k3Id3IbedT5OhXdgbZbzzFxPZLvNxWPmlEI0bwRJhjSfw6AoiLdErmhvfBJmK/7qDxqh2o96Jr+yWeRJqFxRKVaERjd1A/N2Q472A6rltpFhFGotk3L+Ueq/TcfV83Sn/Yi2FlWT7CtVEE+4wjwsPOewJ0C0USCIkdlL0MNgttux7SjbCyGd2W5W0rLkA5bFs6dXZHs74u74Xx8oW2YMl9rRkr78OIqYtU7HBcDuo6v2KboeN3hC+DaxPn9hte7LRrE6v9WNCWq58r0oqsyLLw+8wCmgOeqpSN+1ozgtuNauPx+oDI5Qoai7zAQZo0z79GadQmLgrxYMWnpSh9l3fwRN7WE+lCXE7FuL+bAJTj/LCD5m7lfIOIT26iX3f8Quc9WdpIyo2bX7/UrqV9BV1rg7qyVbdtu4nGn7X6LpZB+dsKC1BKOC6dMmNdNtaTNi+aAyOAskgFgPt+HBPb/Xyup+SLXC6Xq3z3BEJDGdyc6a1gZEJnUfaNH0/w1EKdmCzCQ6/hmBksobNwXNuyHVlHAiFnDN50Kc+dTsIRgxydN9YLckTVo85Lc6RWM/jvriQiOjLpO6JMRdYejuSIiMiyOJIjIiLLYpAjIiLLYpAjIiLLYpAjIiLLYpAjIiLLYpAjIiLLYpAjIiLLYpAjIiLLYpAjIiLLYpAjIiLLYpAjIiLLYpAjIiLLYpAjIiLLYpAjIiLLYpAjIiLL+v80Ebv12U2ZxQAAAABJRU5ErkJggg==)\n"
      ],
      "metadata": {
        "id": "REbOR0BwEwGw"
      }
    },
    {
      "cell_type": "code",
      "source": [
        "text = 'my phone number is 123-456-7890'\n",
        "phone = re.search('123-456-7890',text)\n",
        "phone"
      ],
      "metadata": {
        "colab": {
          "base_uri": "https://localhost:8080/"
        },
        "id": "PLbsSjnqFNHZ",
        "outputId": "b55c672d-d6d3-42e9-8627-497444e194f3"
      },
      "execution_count": null,
      "outputs": [
        {
          "output_type": "execute_result",
          "data": {
            "text/plain": [
              "<re.Match object; span=(19, 31), match='123-456-7890'>"
            ]
          },
          "metadata": {},
          "execution_count": 24
        }
      ]
    },
    {
      "cell_type": "code",
      "source": [
        "phone = re.search(r'\\d\\d\\d-\\d\\d\\d-\\d\\d\\d\\d',text)\n",
        "phone"
      ],
      "metadata": {
        "colab": {
          "base_uri": "https://localhost:8080/"
        },
        "id": "ArbbMvesGAaZ",
        "outputId": "c96baa2e-e7c5-4ef8-b487-e823c2232034"
      },
      "execution_count": null,
      "outputs": [
        {
          "output_type": "execute_result",
          "data": {
            "text/plain": [
              "<re.Match object; span=(19, 31), match='123-456-7890'>"
            ]
          },
          "metadata": {},
          "execution_count": 26
        }
      ]
    },
    {
      "cell_type": "code",
      "source": [
        "phone.group()"
      ],
      "metadata": {
        "colab": {
          "base_uri": "https://localhost:8080/",
          "height": 35
        },
        "id": "Bp0O2L7bGKnS",
        "outputId": "14ae57fe-a666-4b39-b251-1e8ce4d32db2"
      },
      "execution_count": null,
      "outputs": [
        {
          "output_type": "execute_result",
          "data": {
            "text/plain": [
              "'123-456-7890'"
            ],
            "application/vnd.google.colaboratory.intrinsic+json": {
              "type": "string"
            }
          },
          "metadata": {},
          "execution_count": 27
        }
      ]
    },
    {
      "cell_type": "markdown",
      "source": [
        "![image.png](data:image/png;base64,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)"
      ],
      "metadata": {
        "id": "LvWZSaSpJMiv"
      }
    },
    {
      "cell_type": "code",
      "source": [
        "phone = re.search(r'\\d{3}-\\d{3}-\\d{4}',text)\n",
        "phone"
      ],
      "metadata": {
        "colab": {
          "base_uri": "https://localhost:8080/"
        },
        "id": "1uqetR25JMLh",
        "outputId": "c81ba2d3-c185-4055-df1c-434178238125"
      },
      "execution_count": null,
      "outputs": [
        {
          "output_type": "execute_result",
          "data": {
            "text/plain": [
              "<re.Match object; span=(19, 31), match='123-456-7890'>"
            ]
          },
          "metadata": {},
          "execution_count": 28
        }
      ]
    },
    {
      "cell_type": "code",
      "source": [
        "phone_pattern = re.compile(r'(\\d{3})-(\\d{3})-(\\d{4})')"
      ],
      "metadata": {
        "id": "SAzCaiaOIIDD"
      },
      "execution_count": null,
      "outputs": []
    },
    {
      "cell_type": "code",
      "source": [
        "results = re.search(phone_pattern,text)\n",
        "results.group()"
      ],
      "metadata": {
        "colab": {
          "base_uri": "https://localhost:8080/",
          "height": 35
        },
        "id": "cmU32CcIJ6HH",
        "outputId": "ac726cab-1170-4457-d404-e52f29b8496b"
      },
      "execution_count": null,
      "outputs": [
        {
          "output_type": "execute_result",
          "data": {
            "text/plain": [
              "'123-456-7890'"
            ],
            "application/vnd.google.colaboratory.intrinsic+json": {
              "type": "string"
            }
          },
          "metadata": {},
          "execution_count": 30
        }
      ]
    },
    {
      "cell_type": "code",
      "source": [
        "results.group(1)"
      ],
      "metadata": {
        "colab": {
          "base_uri": "https://localhost:8080/",
          "height": 35
        },
        "id": "u0yKZn6YKoXg",
        "outputId": "2ecc97e0-d9d5-4c66-af5c-9ed538674d9c"
      },
      "execution_count": null,
      "outputs": [
        {
          "output_type": "execute_result",
          "data": {
            "text/plain": [
              "'123'"
            ],
            "application/vnd.google.colaboratory.intrinsic+json": {
              "type": "string"
            }
          },
          "metadata": {},
          "execution_count": 31
        }
      ]
    },
    {
      "cell_type": "code",
      "source": [
        "results.group(4)"
      ],
      "metadata": {
        "colab": {
          "base_uri": "https://localhost:8080/",
          "height": 165
        },
        "id": "OVdDyk9_KsL8",
        "outputId": "7f954e18-8502-480a-f756-545ee13be569"
      },
      "execution_count": null,
      "outputs": [
        {
          "output_type": "error",
          "ename": "IndexError",
          "evalue": "ignored",
          "traceback": [
            "\u001b[0;31m---------------------------------------------------------------------------\u001b[0m",
            "\u001b[0;31mIndexError\u001b[0m                                Traceback (most recent call last)",
            "\u001b[0;32m<ipython-input-32-33984beeecd9>\u001b[0m in \u001b[0;36m<module>\u001b[0;34m()\u001b[0m\n\u001b[0;32m----> 1\u001b[0;31m \u001b[0mresults\u001b[0m\u001b[0;34m.\u001b[0m\u001b[0mgroup\u001b[0m\u001b[0;34m(\u001b[0m\u001b[0;36m4\u001b[0m\u001b[0;34m)\u001b[0m\u001b[0;34m\u001b[0m\u001b[0;34m\u001b[0m\u001b[0m\n\u001b[0m",
            "\u001b[0;31mIndexError\u001b[0m: no such group"
          ]
        }
      ]
    },
    {
      "cell_type": "code",
      "source": [
        "re.search(r'cat|dog','The cat is here')"
      ],
      "metadata": {
        "colab": {
          "base_uri": "https://localhost:8080/"
        },
        "id": "6gr8jtONKw9K",
        "outputId": "842c8421-c84e-4081-8b32-a59d657307c5"
      },
      "execution_count": null,
      "outputs": [
        {
          "output_type": "execute_result",
          "data": {
            "text/plain": [
              "<re.Match object; span=(4, 7), match='cat'>"
            ]
          },
          "metadata": {},
          "execution_count": 33
        }
      ]
    },
    {
      "cell_type": "code",
      "source": [
        "re.search(r'cat|dog','The dog is here')"
      ],
      "metadata": {
        "colab": {
          "base_uri": "https://localhost:8080/"
        },
        "id": "onNMnawdO3t0",
        "outputId": "be7e641b-8cae-44d1-bfc7-718251741771"
      },
      "execution_count": null,
      "outputs": [
        {
          "output_type": "execute_result",
          "data": {
            "text/plain": [
              "<re.Match object; span=(4, 7), match='dog'>"
            ]
          },
          "metadata": {},
          "execution_count": 34
        }
      ]
    },
    {
      "cell_type": "code",
      "source": [
        "re.findall(r'at','the cat in the hat sat there')"
      ],
      "metadata": {
        "colab": {
          "base_uri": "https://localhost:8080/"
        },
        "id": "6VpCyBGvO_NU",
        "outputId": "68477dda-deef-499c-d404-f444398afc96"
      },
      "execution_count": null,
      "outputs": [
        {
          "output_type": "execute_result",
          "data": {
            "text/plain": [
              "['at', 'at', 'at']"
            ]
          },
          "metadata": {},
          "execution_count": 35
        }
      ]
    },
    {
      "cell_type": "code",
      "source": [
        "re.findall(r'.at','the cat in the hat sat there')"
      ],
      "metadata": {
        "colab": {
          "base_uri": "https://localhost:8080/"
        },
        "id": "XdMpUhHwP1A9",
        "outputId": "c7b1df69-45af-44c7-c97d-5dd32f344cbf"
      },
      "execution_count": null,
      "outputs": [
        {
          "output_type": "execute_result",
          "data": {
            "text/plain": [
              "['cat', 'hat', 'sat']"
            ]
          },
          "metadata": {},
          "execution_count": 36
        }
      ]
    },
    {
      "cell_type": "code",
      "source": [
        "re.findall(r'...at','the cat in the hat went splat there')"
      ],
      "metadata": {
        "colab": {
          "base_uri": "https://localhost:8080/"
        },
        "id": "BKh9MJV-QWGL",
        "outputId": "aa882520-3686-4e8a-e088-f9f0b0089013"
      },
      "execution_count": null,
      "outputs": [
        {
          "output_type": "execute_result",
          "data": {
            "text/plain": [
              "['e cat', 'e hat', 'splat']"
            ]
          },
          "metadata": {},
          "execution_count": 38
        }
      ]
    },
    {
      "cell_type": "code",
      "source": [
        "re.findall(r'^\\d','2 is a number')#only if text starts with number"
      ],
      "metadata": {
        "colab": {
          "base_uri": "https://localhost:8080/"
        },
        "id": "Ua2W0c6dQeZD",
        "outputId": "51f669b5-a024-4859-8464-c3e70020da06"
      },
      "execution_count": null,
      "outputs": [
        {
          "output_type": "execute_result",
          "data": {
            "text/plain": [
              "['2']"
            ]
          },
          "metadata": {},
          "execution_count": 39
        }
      ]
    },
    {
      "cell_type": "code",
      "source": [
        "re.findall(r'^\\d','The 2 is a number')"
      ],
      "metadata": {
        "colab": {
          "base_uri": "https://localhost:8080/"
        },
        "id": "zPw2g0rTQt9g",
        "outputId": "9e4f7d0f-2035-48d7-a557-c1ce1da6e37b"
      },
      "execution_count": null,
      "outputs": [
        {
          "output_type": "execute_result",
          "data": {
            "text/plain": [
              "[]"
            ]
          },
          "metadata": {},
          "execution_count": 40
        }
      ]
    },
    {
      "cell_type": "code",
      "source": [
        "re.findall(r'\\d$','The 2 is a number')"
      ],
      "metadata": {
        "colab": {
          "base_uri": "https://localhost:8080/"
        },
        "id": "_BBXfREPQ4Oj",
        "outputId": "a0aa0aca-2acf-4d49-e581-a665098d7ebe"
      },
      "execution_count": null,
      "outputs": [
        {
          "output_type": "execute_result",
          "data": {
            "text/plain": [
              "[]"
            ]
          },
          "metadata": {},
          "execution_count": 41
        }
      ]
    },
    {
      "cell_type": "code",
      "source": [
        "re.findall(r'\\d$','The number is 2')"
      ],
      "metadata": {
        "colab": {
          "base_uri": "https://localhost:8080/"
        },
        "id": "O-TWmZtYRFu4",
        "outputId": "287a01bf-abe5-4cb2-f6a0-678361afc6ac"
      },
      "execution_count": null,
      "outputs": [
        {
          "output_type": "execute_result",
          "data": {
            "text/plain": [
              "['2']"
            ]
          },
          "metadata": {},
          "execution_count": 42
        }
      ]
    },
    {
      "cell_type": "code",
      "source": [
        "phrase = 'there are 3 numbers 34 inside 5 this sentence'"
      ],
      "metadata": {
        "id": "7AJjYR7ORKXF"
      },
      "execution_count": null,
      "outputs": []
    },
    {
      "cell_type": "code",
      "source": [
        "pattern = r'[^\\d]'"
      ],
      "metadata": {
        "id": "zUHTvfW-Rpfs"
      },
      "execution_count": null,
      "outputs": []
    },
    {
      "cell_type": "code",
      "source": [
        "re.findall(pattern,phrase)"
      ],
      "metadata": {
        "colab": {
          "base_uri": "https://localhost:8080/"
        },
        "id": "5V3fU5iGRudb",
        "outputId": "b65123e2-329d-4ddf-f345-2781d0f6f932"
      },
      "execution_count": null,
      "outputs": [
        {
          "output_type": "execute_result",
          "data": {
            "text/plain": [
              "['t',\n",
              " 'h',\n",
              " 'e',\n",
              " 'r',\n",
              " 'e',\n",
              " ' ',\n",
              " 'a',\n",
              " 'r',\n",
              " 'e',\n",
              " ' ',\n",
              " ' ',\n",
              " 'n',\n",
              " 'u',\n",
              " 'm',\n",
              " 'b',\n",
              " 'e',\n",
              " 'r',\n",
              " 's',\n",
              " ' ',\n",
              " ' ',\n",
              " 'i',\n",
              " 'n',\n",
              " 's',\n",
              " 'i',\n",
              " 'd',\n",
              " 'e',\n",
              " ' ',\n",
              " ' ',\n",
              " 't',\n",
              " 'h',\n",
              " 'i',\n",
              " 's',\n",
              " ' ',\n",
              " 's',\n",
              " 'e',\n",
              " 'n',\n",
              " 't',\n",
              " 'e',\n",
              " 'n',\n",
              " 'c',\n",
              " 'e']"
            ]
          },
          "metadata": {},
          "execution_count": 45
        }
      ]
    },
    {
      "cell_type": "code",
      "source": [
        "pattern = r'[^\\d]+'\n",
        "re.findall(pattern,phrase)"
      ],
      "metadata": {
        "colab": {
          "base_uri": "https://localhost:8080/"
        },
        "id": "bywbhsmSR0cB",
        "outputId": "d7726fc7-c1b9-4bb7-a275-0b3b7cd9065e"
      },
      "execution_count": null,
      "outputs": [
        {
          "output_type": "execute_result",
          "data": {
            "text/plain": [
              "['there are ', ' numbers ', ' inside ', ' this sentence']"
            ]
          },
          "metadata": {},
          "execution_count": 47
        }
      ]
    },
    {
      "cell_type": "code",
      "source": [
        "text = 'This is a string! But it has punctuation. How can we remove it?'"
      ],
      "metadata": {
        "id": "hotEv-49S2h6"
      },
      "execution_count": null,
      "outputs": []
    },
    {
      "cell_type": "code",
      "source": [
        "re.findall(r'[^!.?]+', text)"
      ],
      "metadata": {
        "colab": {
          "base_uri": "https://localhost:8080/"
        },
        "id": "v2WCTh2_S9B8",
        "outputId": "fc106f2f-2813-4165-daf7-c84ca3e6f2ee"
      },
      "execution_count": null,
      "outputs": [
        {
          "output_type": "execute_result",
          "data": {
            "text/plain": [
              "['This is a string', ' But it has punctuation', ' How can we remove it']"
            ]
          },
          "metadata": {},
          "execution_count": 49
        }
      ]
    },
    {
      "cell_type": "code",
      "source": [
        "re.findall(r'[^!.? ]+', text)"
      ],
      "metadata": {
        "colab": {
          "base_uri": "https://localhost:8080/"
        },
        "id": "VOEJ3iHiTIga",
        "outputId": "a32383d8-db7b-40f2-d88e-cf83e920871e"
      },
      "execution_count": null,
      "outputs": [
        {
          "output_type": "execute_result",
          "data": {
            "text/plain": [
              "['This',\n",
              " 'is',\n",
              " 'a',\n",
              " 'string',\n",
              " 'But',\n",
              " 'it',\n",
              " 'has',\n",
              " 'punctuation',\n",
              " 'How',\n",
              " 'can',\n",
              " 'we',\n",
              " 'remove',\n",
              " 'it']"
            ]
          },
          "metadata": {},
          "execution_count": 50
        }
      ]
    },
    {
      "cell_type": "code",
      "source": [
        "clean= re.findall(r'[^!.? ]+', text)"
      ],
      "metadata": {
        "id": "y6Uv2hWXTNxy"
      },
      "execution_count": null,
      "outputs": []
    },
    {
      "cell_type": "code",
      "source": [
        "' '.join(clean)"
      ],
      "metadata": {
        "colab": {
          "base_uri": "https://localhost:8080/",
          "height": 35
        },
        "id": "xplyYReCTUtC",
        "outputId": "bbb82554-a6ba-4f38-bfba-44bd93b49fa9"
      },
      "execution_count": null,
      "outputs": [
        {
          "output_type": "execute_result",
          "data": {
            "text/plain": [
              "'This is a string But it has punctuation How can we remove it'"
            ],
            "application/vnd.google.colaboratory.intrinsic+json": {
              "type": "string"
            }
          },
          "metadata": {},
          "execution_count": 52
        }
      ]
    },
    {
      "cell_type": "code",
      "source": [
        "text = 'Only find the hypen-words in this sentence. But you do not know how long-ish they are'\n",
        "pattern = r'[\\w]+-[\\w]+'\n",
        "re.findall(pattern,text)"
      ],
      "metadata": {
        "colab": {
          "base_uri": "https://localhost:8080/"
        },
        "id": "-ktAwcGxUh4L",
        "outputId": "8d19c9b7-7d16-4072-e942-4a64d6711225"
      },
      "execution_count": null,
      "outputs": [
        {
          "output_type": "execute_result",
          "data": {
            "text/plain": [
              "['hypen-words', 'long-ish']"
            ]
          },
          "metadata": {},
          "execution_count": 53
        }
      ]
    },
    {
      "cell_type": "code",
      "source": [
        "# Find words that start with cat and end with one of these options: 'fish','nap', or 'claw'\n",
        "text = 'Hello, would you like some catfish?'\n",
        "texttwo = \"Hello, would you like to take a catnap?\"\n",
        "textthree = \"Hello, have you seen this caterpillar?\""
      ],
      "metadata": {
        "id": "vMKV4NjYU7fb"
      },
      "execution_count": null,
      "outputs": []
    },
    {
      "cell_type": "code",
      "source": [
        "re.search(r'cat(fish|nap|claw)',text)"
      ],
      "metadata": {
        "colab": {
          "base_uri": "https://localhost:8080/"
        },
        "id": "QoCWxo38U_tm",
        "outputId": "ab91c965-9790-4dca-d22d-6e791d69bde5"
      },
      "execution_count": null,
      "outputs": [
        {
          "output_type": "execute_result",
          "data": {
            "text/plain": [
              "<re.Match object; span=(27, 34), match='catfish'>"
            ]
          },
          "metadata": {},
          "execution_count": 55
        }
      ]
    },
    {
      "cell_type": "code",
      "source": [
        "re.search(r'cat(fish|nap|claw)',texttwo)"
      ],
      "metadata": {
        "colab": {
          "base_uri": "https://localhost:8080/"
        },
        "id": "B8JGH-llVOjE",
        "outputId": "dfd7550a-00f1-447c-aa4b-4222c2434ddd"
      },
      "execution_count": null,
      "outputs": [
        {
          "output_type": "execute_result",
          "data": {
            "text/plain": [
              "<re.Match object; span=(32, 38), match='catnap'>"
            ]
          },
          "metadata": {},
          "execution_count": 56
        }
      ]
    },
    {
      "cell_type": "code",
      "source": [
        "re.search(r'cat(fish|nap|claw)',textthree)"
      ],
      "metadata": {
        "id": "LsYcf24lVRpM"
      },
      "execution_count": null,
      "outputs": []
    }
  ]
}