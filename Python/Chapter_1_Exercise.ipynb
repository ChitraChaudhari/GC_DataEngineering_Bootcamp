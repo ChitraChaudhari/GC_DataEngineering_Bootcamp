{
  "nbformat": 4,
  "nbformat_minor": 0,
  "metadata": {
    "colab": {
      "name": "Chapter-1-Exercise.ipynb",
      "provenance": [],
      "collapsed_sections": [],
      "include_colab_link": true
    },
    "kernelspec": {
      "name": "python3",
      "display_name": "Python 3"
    }
  },
  "cells": [
    {
      "cell_type": "markdown",
      "metadata": {
        "id": "view-in-github",
        "colab_type": "text"
      },
      "source": [
        "<a href=\"https://colab.research.google.com/github/ChitraChaudhari/GC_DataEngineering_Bootcamp/blob/main/Chapter_1_Exercise.ipynb\" target=\"_parent\"><img src=\"https://colab.research.google.com/assets/colab-badge.svg\" alt=\"Open In Colab\"/></a>"
      ]
    },
    {
      "cell_type": "markdown",
      "metadata": {
        "id": "Y10381Xe5fTA"
      },
      "source": [
        "# *Permission to copy this copyrighted document is given only to Mobi Boot Camp Corp., students*\n",
        "\n",
        "---\n",
        "<!-- &#169; 2021, Mobi Boot Camp Corp, all rights reserved  -->\n",
        "# Please Copy this file by selecting 'File-->Save a Copy in Drive' from the top menu bar, and then start working on these problems. You cannot edit this file as it is a READ-ONLY file. \n",
        "\n",
        "###When you make a copy, you will be able to run the copied file through your account. You can also code your answers in the respective code cells and run the program\n",
        "\n",
        "## DO NOT CHANGE THE TESTCASE CODE CELL\n",
        "\n",
        "---\n",
        "\n",
        "#First Chapter Exercises\n",
        "\n",
        "#Problem 1\n",
        "Fix the below code blocks and explain what was wrong"
      ]
    },
    {
      "cell_type": "code",
      "metadata": {
        "id": "KOnBD3bC1xfJ"
      },
      "source": [
        "# Trying to assign a String value to variable name\n",
        "name = \"Joe\""
      ],
      "execution_count": 3,
      "outputs": []
    },
    {
      "cell_type": "code",
      "metadata": {
        "id": "Ky7MUHvh5y6t"
      },
      "source": [
        "# Trying to declare a variable name and assign a literal value\n",
        "my_variable = 10"
      ],
      "execution_count": 1,
      "outputs": []
    },
    {
      "cell_type": "code",
      "metadata": {
        "id": "UAL9z9cJ53bf"
      },
      "source": [
        "# trying to assign two variables and assign String values to them\n",
        "first_name = 'John'\n",
        "last_name = \"Doe\""
      ],
      "execution_count": 2,
      "outputs": []
    },
    {
      "cell_type": "markdown",
      "metadata": {
        "id": "8sb-8QAR6dA5"
      },
      "source": [
        "#Problem 2\n",
        "The below sentence spans multiple lines. Fix the code to make it work"
      ]
    },
    {
      "cell_type": "code",
      "metadata": {
        "id": "9fnGurph6AMG",
        "colab": {
          "base_uri": "https://localhost:8080/"
        },
        "outputId": "a7e8cba4-2a17-4871-e333-4127855c0fab"
      },
      "source": [
        "long_sentence = '''this sentence is too long to go in one line. \n",
        "                   blah blah blah  blah .  blah . \n",
        "                   blah blah blah blah  blah .  blah .  \n",
        "                   blah blah blah blah  blah .  blah .  \n",
        "                   blah blah blah blah '''\n",
        "print(long_sentence)"
      ],
      "execution_count": 4,
      "outputs": [
        {
          "output_type": "stream",
          "name": "stdout",
          "text": [
            "this sentence is too long to go in one line. \n",
            "                   blah blah blah  blah .  blah . \n",
            "                   blah blah blah blah  blah .  blah .  \n",
            "                   blah blah blah blah  blah .  blah .  \n",
            "                   blah blah blah blah \n"
          ]
        }
      ]
    },
    {
      "cell_type": "markdown",
      "metadata": {
        "id": "76a4ydan62d_"
      },
      "source": [
        "#Problem 3\n",
        "Write code to find the data type of the variable long_sentence used in the previous Problem 3"
      ]
    },
    {
      "cell_type": "code",
      "metadata": {
        "id": "HzfBPWYNAXmM",
        "colab": {
          "base_uri": "https://localhost:8080/"
        },
        "outputId": "1f6fb999-e340-43d5-fe9b-0a9084ce4621"
      },
      "source": [
        "# Your code goes here\n",
        "type(long_sentence)"
      ],
      "execution_count": 5,
      "outputs": [
        {
          "output_type": "execute_result",
          "data": {
            "text/plain": [
              "str"
            ]
          },
          "metadata": {},
          "execution_count": 5
        }
      ]
    },
    {
      "cell_type": "markdown",
      "metadata": {
        "id": "tV2jqClzAdi0"
      },
      "source": [
        "# Problem 4 \n",
        "Write a program to \n",
        "receive two decimal point numbers from the user. Multiply the numbers and show the result as the program output\n",
        "\n",
        "For e.g., if the user input 3.5 and 4.5, the output should be 15.75. \n",
        "\n",
        "**Note:** Do not assign the given example values into variables to form your solution "
      ]
    },
    {
      "cell_type": "code",
      "metadata": {
        "id": "dUqOY60QAZ4U",
        "colab": {
          "base_uri": "https://localhost:8080/"
        },
        "outputId": "e7b96fe0-9474-4a22-acff-6e810fdbf0ff"
      },
      "source": [
        "# Your program goes here\n",
        "print(float(input(\"Enter first decimal number\")) * float(input(\"Enter second decimal number\")))"
      ],
      "execution_count": 6,
      "outputs": [
        {
          "output_type": "stream",
          "name": "stdout",
          "text": [
            "Enter first decimal number3.5\n",
            "Enter second decimal number4.5\n",
            "15.75\n"
          ]
        }
      ]
    },
    {
      "cell_type": "markdown",
      "metadata": {
        "id": "D170k2IFJT1q"
      },
      "source": [
        "# Problem 5\n",
        "Fix the program\n",
        "\n",
        "The intent of this program is to find the mean (average) of all the numbers. However the expression is evaluating incorrectly. Please fix the expression"
      ]
    },
    {
      "cell_type": "code",
      "metadata": {
        "id": "h6fifhxAJS3_",
        "colab": {
          "base_uri": "https://localhost:8080/"
        },
        "outputId": "942d2908-c948-4045-f4f2-5cf71ef80d52"
      },
      "source": [
        "a = 10\n",
        "b = 20\n",
        "c = 30\n",
        "\n",
        "mean = (a+b+c)/3\n",
        "print(mean)"
      ],
      "execution_count": 7,
      "outputs": [
        {
          "output_type": "stream",
          "name": "stdout",
          "text": [
            "20.0\n"
          ]
        }
      ]
    },
    {
      "cell_type": "code",
      "metadata": {
        "id": "DXyMRgHs_4aR",
        "colab": {
          "base_uri": "https://localhost:8080/"
        },
        "outputId": "2211cb09-455c-4c3f-c4aa-e148ac46e208"
      },
      "source": [
        "#TestCase \n",
        "assert ( mean == 20)\n",
        "print(\"Test passed!\")"
      ],
      "execution_count": 8,
      "outputs": [
        {
          "output_type": "stream",
          "name": "stdout",
          "text": [
            "Test passed!\n"
          ]
        }
      ]
    },
    {
      "cell_type": "markdown",
      "metadata": {
        "id": "ezlYWh2b1F2J"
      },
      "source": [
        "# Problem 6\n",
        "\n",
        "The below program is partially written. The age of a person is given in months. You have to write a program in which the 'years' contain the year part of the age and 'months' has the month part of the age. \n",
        "\n",
        "**Hint:** You have to use one or more of the arithmetic operators on the given 'age' variable to find the answers for this question. Which one will you use?"
      ]
    },
    {
      "cell_type": "code",
      "metadata": {
        "id": "4nJnp8hg1IJc",
        "colab": {
          "base_uri": "https://localhost:8080/"
        },
        "outputId": "273d5326-5f72-42dd-a185-88748568d9c2"
      },
      "source": [
        "age = 220\n",
        "years = age//12\n",
        "months = age%12\n",
        "print(\"years =\", years , \"\\nmonths =\", months)"
      ],
      "execution_count": 11,
      "outputs": [
        {
          "output_type": "stream",
          "name": "stdout",
          "text": [
            "years = 18 \n",
            "months = 4\n"
          ]
        }
      ]
    },
    {
      "cell_type": "code",
      "metadata": {
        "id": "PrWnQN3P1Oup"
      },
      "source": [
        "#TestCase\n",
        "assert (years == 18)\n",
        "assert (months == 4)\n",
        "print(\"Test passed!\")"
      ],
      "execution_count": null,
      "outputs": []
    }
  ]
}
