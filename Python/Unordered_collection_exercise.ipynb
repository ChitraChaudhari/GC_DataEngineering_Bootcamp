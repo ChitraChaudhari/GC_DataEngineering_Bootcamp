{
  "nbformat": 4,
  "nbformat_minor": 0,
  "metadata": {
    "colab": {
      "name": "Unordered-collection-exercise.ipynb",
      "provenance": [],
      "collapsed_sections": [],
      "include_colab_link": true
    },
    "kernelspec": {
      "name": "python3",
      "display_name": "Python 3"
    }
  },
  "cells": [
    {
      "cell_type": "markdown",
      "metadata": {
        "id": "view-in-github",
        "colab_type": "text"
      },
      "source": [
        "<a href=\"https://colab.research.google.com/github/ChitraChaudhari/GC_DataEngineering_Bootcamp/blob/main/Python/Unordered_collection_exercise.ipynb\" target=\"_parent\"><img src=\"https://colab.research.google.com/assets/colab-badge.svg\" alt=\"Open In Colab\"/></a>"
      ]
    },
    {
      "cell_type": "markdown",
      "metadata": {
        "id": "B5XQsw2bGDn1"
      },
      "source": [
        "# *Permission to copy this copyrighted document is given only to Mobi Boot Camp Corp., students*\n",
        "\n",
        "---\n",
        "<!-- &#169; 2021, Mobi Boot Camp Corp, all rights reserved  -->\n",
        "# Please Copy this file by selecting 'File-->Save a Copy in Drive' from the top menu bar, and then start working on these problems. You cannot edit this file as it is a READ-ONLY file. \n",
        "\n",
        "###When you make a copy, you will be able to run the copied file through your account. You can also code your answers in the respective code cells and run the program\n",
        "\n",
        "\n",
        "---\n",
        "\n",
        "#Unordered Collection - Dictionary\n",
        "Solve the below problems. Once you solve, run the assert statements in the code cell next to the Problem code cell and make them pass\n",
        "\n",
        "#Problem 1\n",
        "Retrieve the value of the \"fn\" key of the 'student' dictionary and assign that value to 'first_name' variable\n"
      ]
    },
    {
      "cell_type": "code",
      "metadata": {
        "id": "phlAYQQRCsfn"
      },
      "source": [
        "student = {'fn':'Jane', 'ln':'Doe', 'age':23}\n",
        "first_name = student['fn']\n"
      ],
      "execution_count": null,
      "outputs": []
    },
    {
      "cell_type": "code",
      "metadata": {
        "id": "jBmRRZpuHE8Q",
        "colab": {
          "base_uri": "https://localhost:8080/"
        },
        "outputId": "7e070aa4-480b-4587-a71e-9dc181dc2c25"
      },
      "source": [
        "#Test\n",
        "assert(first_name == 'Jane')\n",
        "print(\"Test passed!\")"
      ],
      "execution_count": null,
      "outputs": [
        {
          "output_type": "stream",
          "name": "stdout",
          "text": [
            "Test passed!\n"
          ]
        }
      ]
    },
    {
      "cell_type": "markdown",
      "metadata": {
        "id": "m2o0lDxKH5c-"
      },
      "source": [
        "#Problem 2\n",
        "Change the value for the 'ln' key in the above 'student' dictionary to 'Foo'\n"
      ]
    },
    {
      "cell_type": "code",
      "metadata": {
        "id": "w5g_5EU9IN4j"
      },
      "source": [
        "# Your impementation here\n",
        "student['ln'] = 'Foo'"
      ],
      "execution_count": null,
      "outputs": []
    },
    {
      "cell_type": "code",
      "metadata": {
        "id": "ZdrIj5dRIShn",
        "colab": {
          "base_uri": "https://localhost:8080/"
        },
        "outputId": "b343bce2-2f38-4249-8050-de7e17ffacce"
      },
      "source": [
        "#Test\n",
        "assert(student['ln'] == 'Foo')\n",
        "print('Test passed!')"
      ],
      "execution_count": null,
      "outputs": [
        {
          "output_type": "stream",
          "name": "stdout",
          "text": [
            "Test passed!\n"
          ]
        }
      ]
    },
    {
      "cell_type": "markdown",
      "metadata": {
        "id": "83t5B2fgIiH4"
      },
      "source": [
        "#Problem 3\n",
        "Add a new key/value pair with key being 'state' and value being 'Michigan' to the above 'student' dictionary"
      ]
    },
    {
      "cell_type": "code",
      "metadata": {
        "id": "_Va27AcmIhHN"
      },
      "source": [
        "# Your implementation here\n",
        "student['state'] = 'Michigan'"
      ],
      "execution_count": null,
      "outputs": []
    },
    {
      "cell_type": "code",
      "metadata": {
        "id": "vwsX2f2JIzHx",
        "colab": {
          "base_uri": "https://localhost:8080/"
        },
        "outputId": "ca01f469-d947-47ea-d121-cb1a169387ae"
      },
      "source": [
        "#Test\n",
        "assert(student['state'] == 'Michigan')\n",
        "print('Test passed!')"
      ],
      "execution_count": null,
      "outputs": [
        {
          "output_type": "stream",
          "name": "stdout",
          "text": [
            "Test passed!\n"
          ]
        }
      ]
    },
    {
      "cell_type": "markdown",
      "metadata": {
        "id": "y9lU9s-NI9Ls"
      },
      "source": [
        "# Problem 4\n",
        "Use 'pop' method to remove the key 'age' from the above 'student' dictionary and assign the popped value to 'popped_value' variable"
      ]
    },
    {
      "cell_type": "code",
      "metadata": {
        "id": "IBjVtFGxI79y"
      },
      "source": [
        "#Your impementation here\n",
        "popped_value = student.pop('age')"
      ],
      "execution_count": null,
      "outputs": []
    },
    {
      "cell_type": "code",
      "metadata": {
        "id": "VWrxteVBJFcD",
        "colab": {
          "base_uri": "https://localhost:8080/"
        },
        "outputId": "9aafd1c0-c724-4120-f661-d738f4be23f2"
      },
      "source": [
        "#Test\n",
        "assert (popped_value == 23)\n",
        "print(\"Test Passed\")\n"
      ],
      "execution_count": null,
      "outputs": [
        {
          "output_type": "stream",
          "name": "stdout",
          "text": [
            "Test Passed\n"
          ]
        }
      ]
    },
    {
      "cell_type": "markdown",
      "metadata": {
        "id": "ZQhG8_lHJbXL"
      },
      "source": [
        "#Problem 5\n",
        "\n",
        "Remove all key/value pairs of the 'student' dictionary with one statement"
      ]
    },
    {
      "cell_type": "code",
      "metadata": {
        "id": "52LuBFrNJjIE"
      },
      "source": [
        "# Your implementation here\n",
        "#student = {}\n",
        "student.clear()"
      ],
      "execution_count": null,
      "outputs": []
    },
    {
      "cell_type": "code",
      "metadata": {
        "id": "BH5V3DajJlkg",
        "colab": {
          "base_uri": "https://localhost:8080/"
        },
        "outputId": "d6ccc26d-1e63-405e-a63d-9bf313999f84"
      },
      "source": [
        "assert(student == {})\n",
        "print('Test passed!')"
      ],
      "execution_count": null,
      "outputs": [
        {
          "output_type": "stream",
          "name": "stdout",
          "text": [
            "Test passed!\n"
          ]
        }
      ]
    },
    {
      "cell_type": "markdown",
      "metadata": {
        "id": "Rc09KzJUJqGN"
      },
      "source": [
        "# Problem 6\n",
        "Delete the 'student' dictionary from memory using one statement\n"
      ]
    },
    {
      "cell_type": "code",
      "metadata": {
        "id": "5b4BQbdSJume"
      },
      "source": [
        "# Your implementation here\n",
        "del student"
      ],
      "execution_count": null,
      "outputs": []
    },
    {
      "cell_type": "code",
      "metadata": {
        "id": "6AN7WkLqJw6J",
        "colab": {
          "base_uri": "https://localhost:8080/"
        },
        "outputId": "9f967cd8-a590-4f4c-8d1d-26f98d0aa4be"
      },
      "source": [
        "\n",
        "try:\n",
        "  print(student)\n",
        "except NameError:\n",
        "  print(\"Passed\")"
      ],
      "execution_count": null,
      "outputs": [
        {
          "output_type": "stream",
          "name": "stdout",
          "text": [
            "Passed\n"
          ]
        }
      ]
    },
    {
      "cell_type": "markdown",
      "metadata": {
        "id": "ZPVgrW2-W67y"
      },
      "source": [
        "# Unordered Collection - Sets\n",
        "\n",
        "#Problem 1\n",
        "Find if 'y' is a subset of 'x' using the a suitable set function"
      ]
    },
    {
      "cell_type": "code",
      "metadata": {
        "id": "Ede0MiHZW9cO"
      },
      "source": [
        "x = {\"usa\", \"uk\", \"mx\"}\n",
        "y = {'usa','uk'}\n",
        "\n",
        "z = y.issubset(x) # find if y is a subset of x\n"
      ],
      "execution_count": null,
      "outputs": []
    },
    {
      "cell_type": "code",
      "metadata": {
        "id": "qQ9aD5_eeIq3",
        "colab": {
          "base_uri": "https://localhost:8080/"
        },
        "outputId": "8b19947c-41dc-410f-9c16-772d5393d452"
      },
      "source": [
        "assert (z == True)\n",
        "print(\"Test passed!\")"
      ],
      "execution_count": null,
      "outputs": [
        {
          "output_type": "stream",
          "name": "stdout",
          "text": [
            "Test passed!\n"
          ]
        }
      ]
    },
    {
      "cell_type": "markdown",
      "metadata": {
        "id": "LY3-V9h6f0EO"
      },
      "source": [
        "#Problem 2\n",
        "Remove a random element of set 'x' and assign that value to variable 'random_item'"
      ]
    },
    {
      "cell_type": "code",
      "metadata": {
        "id": "u2ptRT96fvOI"
      },
      "source": [
        "# Your code goes here\n",
        "random_item = x.pop()\n"
      ],
      "execution_count": null,
      "outputs": []
    },
    {
      "cell_type": "code",
      "metadata": {
        "id": "SRjhIdrEf7CY",
        "colab": {
          "base_uri": "https://localhost:8080/"
        },
        "outputId": "99905443-46ff-4f73-dc4c-722cb8fc89e2"
      },
      "source": [
        "#Test\n",
        "assert (len(x) == 2)\n",
        "print(\"Test passed!\")"
      ],
      "execution_count": null,
      "outputs": [
        {
          "output_type": "stream",
          "name": "stdout",
          "text": [
            "Test passed!\n"
          ]
        }
      ]
    },
    {
      "cell_type": "markdown",
      "metadata": {
        "id": "5eB8lsSbgmbN"
      },
      "source": [
        "#Problem 3\n",
        "Join the two sets using two different constructs\n"
      ]
    },
    {
      "cell_type": "code",
      "metadata": {
        "id": "3D7xoyPXgrcW"
      },
      "source": [
        "x = {\"A\", \"B\" , \"C\"}\n",
        "y = {1, 2, 3}\n",
        "z1 = x | y\n",
        "#z2 = {*x,*y}\n",
        "z2 = x.union(y)"
      ],
      "execution_count": null,
      "outputs": []
    },
    {
      "cell_type": "code",
      "metadata": {
        "id": "CBPvkyqZgyFV",
        "colab": {
          "base_uri": "https://localhost:8080/"
        },
        "outputId": "ab6b3d40-0581-4621-ba61-9ddfa03c23ac"
      },
      "source": [
        "#Test\n",
        "assert(len(z1) == 6)\n",
        "assert(len(z2) == 6)\n",
        "assert(x == {\"A\", \"B\" , \"C\"})\n",
        "assert(y == {1, 2, 3})\n",
        "print('Test passed!')"
      ],
      "execution_count": null,
      "outputs": [
        {
          "output_type": "stream",
          "name": "stdout",
          "text": [
            "Test passed!\n"
          ]
        }
      ]
    },
    {
      "cell_type": "markdown",
      "metadata": {
        "id": "8Ka7t3EThZzf"
      },
      "source": [
        "#Problem 4\n",
        "\n",
        "Insert all the elements of set 'y' into set 'x' given above"
      ]
    },
    {
      "cell_type": "code",
      "metadata": {
        "id": "BnWELq3ShXNY"
      },
      "source": [
        "# Your implementation here\n",
        "x.update(y)"
      ],
      "execution_count": null,
      "outputs": []
    },
    {
      "cell_type": "code",
      "metadata": {
        "id": "4LxCGr6LiNtQ",
        "colab": {
          "base_uri": "https://localhost:8080/"
        },
        "outputId": "3b950a52-7261-4a18-ed34-69c2a763c476"
      },
      "source": [
        "#Test\n",
        "assert(len(x) == 6)\n",
        "print('Test passed!')"
      ],
      "execution_count": null,
      "outputs": [
        {
          "output_type": "stream",
          "name": "stdout",
          "text": [
            "Test passed!\n"
          ]
        }
      ]
    }
  ]
}