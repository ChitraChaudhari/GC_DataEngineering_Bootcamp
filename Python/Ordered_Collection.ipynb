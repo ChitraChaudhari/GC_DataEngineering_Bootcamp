{
  "nbformat": 4,
  "nbformat_minor": 0,
  "metadata": {
    "colab": {
      "name": "Ordered_Collection.ipynb",
      "provenance": [],
      "collapsed_sections": [],
      "include_colab_link": true
    },
    "kernelspec": {
      "name": "python3",
      "display_name": "Python 3"
    }
  },
  "cells": [
    {
      "cell_type": "markdown",
      "metadata": {
        "id": "view-in-github",
        "colab_type": "text"
      },
      "source": [
        "<a href=\"https://colab.research.google.com/github/ChitraChaudhari/GC_DataEngineering_Bootcamp/blob/main/Ordered_Collection.ipynb\" target=\"_parent\"><img src=\"https://colab.research.google.com/assets/colab-badge.svg\" alt=\"Open In Colab\"/></a>"
      ]
    },
    {
      "cell_type": "markdown",
      "metadata": {
        "id": "r7LkWLD6yJ54"
      },
      "source": [
        "# *Permission to copy this copyrighted document is given only to Mobi Boot Camp Corp., students*\n",
        "\n",
        "---\n",
        "<!-- &#169; 2021, Mobi Boot Camp Corp, all rights reserved  -->\n",
        "# Please Copy this file by selecting 'File-->Save a Copy in Drive' from the top menu bar, and then start working on these problems. You cannot edit this file as it is a READ-ONLY file. \n",
        "\n",
        "###When you make a copy, you will be able to run the copied file through your account. You can also code your answers in the respective code cells and run the program\n",
        "\n",
        "\n",
        "---\n",
        "\n",
        "\n",
        "\n",
        "#Ordered Collection\n",
        "Solve the below problems. Once you solve, run the assert statements in the next cell and make them pass\n",
        "\n",
        "#Problem 1\n",
        "Assign the my_list variable with a **list** object containing the elements of my_tuple. \n",
        "\n",
        "**Note,** you have to use the tuple object to create your list. Then add 10 as the first element of the list. \n",
        "\n",
        "Hint: Use the 'list' function"
      ]
    },
    {
      "cell_type": "code",
      "metadata": {
        "id": "ofIt53EEyHPa"
      },
      "source": [
        "my_tuple = (3, 4, 5)\n",
        "my_list = list(my_tuple)\n",
        "my_list.insert(0,10)"
      ],
      "execution_count": null,
      "outputs": []
    },
    {
      "cell_type": "code",
      "metadata": {
        "id": "5-Ps-_h0FYsQ",
        "colab": {
          "base_uri": "https://localhost:8080/"
        },
        "outputId": "baa155f5-9263-4dbe-db7e-9ed11185f80f"
      },
      "source": [
        "#TestCase\n",
        "assert(my_list == [10, 3, 4, 5])\n",
        "print(\"Test passed!\")"
      ],
      "execution_count": null,
      "outputs": [
        {
          "output_type": "stream",
          "name": "stdout",
          "text": [
            "Test passed!\n"
          ]
        }
      ]
    },
    {
      "cell_type": "markdown",
      "metadata": {
        "id": "wgqq0uog7__r"
      },
      "source": [
        "# Problem 2 \n",
        "Remove the element 'dog' from list2 below\n",
        " "
      ]
    },
    {
      "cell_type": "code",
      "metadata": {
        "id": "5UeugoOqiiRw"
      },
      "source": [
        "list2 = ['cat', 'dog', 'fish', 'elephant']\n",
        "list2.remove('dog')"
      ],
      "execution_count": null,
      "outputs": []
    },
    {
      "cell_type": "code",
      "metadata": {
        "id": "2IkFmApeFba_",
        "colab": {
          "base_uri": "https://localhost:8080/"
        },
        "outputId": "73c9208e-86f7-4cf6-9b59-0513ab1b4e72"
      },
      "source": [
        "#TestCase\n",
        "assert(list2 == ['cat', 'fish', 'elephant'])\n",
        "print(\"Test Passed!\")"
      ],
      "execution_count": null,
      "outputs": [
        {
          "output_type": "stream",
          "name": "stdout",
          "text": [
            "Test Passed!\n"
          ]
        }
      ]
    },
    {
      "cell_type": "markdown",
      "metadata": {
        "id": "bxQibrQoiwgC"
      },
      "source": [
        "# Problem 3\n",
        "Write two ways to get the first two elements of the tuple using slicing functionality.\n",
        "Assign the sliced result into variables actual3_1 and actual3_2"
      ]
    },
    {
      "cell_type": "code",
      "metadata": {
        "id": "wHEdW2VKikYf",
        "colab": {
          "base_uri": "https://localhost:8080/"
        },
        "outputId": "d05be281-80dd-4990-e2a3-011cda16a55b"
      },
      "source": [
        "tuple3 = (10, 20, 30, 40)\n",
        "actual3_1 = tuple3[:-2]\n",
        "actual3_2 = tuple3[-4:-2]\n",
        "print(actual3_1)"
      ],
      "execution_count": null,
      "outputs": [
        {
          "output_type": "stream",
          "name": "stdout",
          "text": [
            "(10, 20)\n"
          ]
        }
      ]
    },
    {
      "cell_type": "code",
      "metadata": {
        "id": "yBQpKf09FMIS",
        "colab": {
          "base_uri": "https://localhost:8080/"
        },
        "outputId": "299536d3-2aac-480e-e9f7-8738e6699ae9"
      },
      "source": [
        "#TestCase\n",
        "expected_output3 = (10, 20)\n",
        "assert ( actual3_1 == expected_output3)\n",
        "assert( actual3_2 == expected_output3)\n",
        "print(\"Test Passed!\")"
      ],
      "execution_count": null,
      "outputs": [
        {
          "output_type": "stream",
          "name": "stdout",
          "text": [
            "Test Passed!\n"
          ]
        }
      ]
    },
    {
      "cell_type": "markdown",
      "metadata": {
        "id": "eUOxYBvvjAbO"
      },
      "source": [
        "# Problem 4 \n",
        "Reverse the elements of the tuple using slicing and place the new tuple in variable 'actual4'"
      ]
    },
    {
      "cell_type": "code",
      "metadata": {
        "id": "Mc0yRC6gi_2I",
        "colab": {
          "base_uri": "https://localhost:8080/"
        },
        "outputId": "6ce4608d-da8c-4f0c-a53b-d2e621e73d4f"
      },
      "source": [
        "tuple4 = ('usa', 'canada', 'mexico')\n",
        "actual4 = tuple4[::-1]\n",
        "tuple5 = reversed(tuple4)\n",
        "print(list(tuple5))"
      ],
      "execution_count": null,
      "outputs": [
        {
          "output_type": "stream",
          "name": "stdout",
          "text": [
            "['mexico', 'canada', 'usa']\n"
          ]
        }
      ]
    },
    {
      "cell_type": "code",
      "metadata": {
        "id": "X6DWZA4lFS5n",
        "colab": {
          "base_uri": "https://localhost:8080/"
        },
        "outputId": "c138560e-206d-4486-cbe9-ff38e48500a9"
      },
      "source": [
        "#TestCase\n",
        "expected_output4 = ('mexico', 'canada', 'usa')\n",
        "assert(actual4 == expected_output4)\n",
        "print(\"Test Passed!\")"
      ],
      "execution_count": null,
      "outputs": [
        {
          "output_type": "stream",
          "name": "stdout",
          "text": [
            "Test Passed!\n"
          ]
        }
      ]
    },
    {
      "cell_type": "markdown",
      "metadata": {
        "id": "I5tiHwVTcY1b"
      },
      "source": [
        "# Problem 5\n",
        "You constructed a list with a few letters and numbers but it is giving you an error. Fix the issue"
      ]
    },
    {
      "cell_type": "code",
      "metadata": {
        "id": "eO9q99t_cjHX"
      },
      "source": [
        "a = ['b', 10,'c', 20, 'd', 50]"
      ],
      "execution_count": null,
      "outputs": []
    }
  ]
}
