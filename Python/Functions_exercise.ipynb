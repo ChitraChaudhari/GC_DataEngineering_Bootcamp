{
  "nbformat": 4,
  "nbformat_minor": 0,
  "metadata": {
    "colab": {
      "name": "Functions_exercise.ipynb",
      "provenance": [],
      "collapsed_sections": [],
      "include_colab_link": true
    },
    "kernelspec": {
      "name": "python3",
      "display_name": "Python 3"
    }
  },
  "cells": [
    {
      "cell_type": "markdown",
      "metadata": {
        "id": "view-in-github",
        "colab_type": "text"
      },
      "source": [
        "<a href=\"https://colab.research.google.com/github/ChitraChaudhari/GC_DataEngineering_Bootcamp/blob/main/Python/Functions_exercise.ipynb\" target=\"_parent\"><img src=\"https://colab.research.google.com/assets/colab-badge.svg\" alt=\"Open In Colab\"/></a>"
      ]
    },
    {
      "cell_type": "markdown",
      "metadata": {
        "id": "i57m4-A-4G8B"
      },
      "source": [
        "# *Permission to copy this copyrighted document is given only to Mobi Boot Camp Corp., students*\n",
        "\n",
        "---\n",
        "<!-- &#169; 2021, Mobi Boot Camp Corp, all rights reserved  -->\n",
        "# Please Copy this file by selecting 'File-->Save a Copy in Drive' from the top menu bar, and then start working on these problems. You cannot edit this file as it is a READ-ONLY file. \n",
        "\n",
        "###When you make a copy, you will be able to run the copied file through your account. You can also code your answers in the respective code cells and run the program\n",
        "\n",
        "\n",
        "---\n",
        "# Functions and Modules\n",
        "Solve the below problems. Once you solve, run the assert statements (if any) in the next cell and make them pass\n",
        "\n",
        "#Problem 1\n",
        "Fix the compilation issue of the below program. Basically the programmer intended to send in variable list of keyword arguments to myfunction and the first and second arguments that are passed is compared to each other. However currently it is throwing an error instead.\n",
        "\n",
        "Without changing the function parameter definition, fix the code to ensure that you compare the elements of the list passed, in the 'if' block correctly"
      ]
    },
    {
      "cell_type": "code",
      "source": [
        "mydict = {'a':[2,3]}\n",
        "mydict['a'][0]"
      ],
      "metadata": {
        "colab": {
          "base_uri": "https://localhost:8080/"
        },
        "id": "wQnjaXbWOoIM",
        "outputId": "1b94758b-a0fb-4614-94de-9db79018a444"
      },
      "execution_count": 2,
      "outputs": [
        {
          "output_type": "execute_result",
          "data": {
            "text/plain": [
              "2"
            ]
          },
          "metadata": {},
          "execution_count": 2
        }
      ]
    },
    {
      "cell_type": "code",
      "metadata": {
        "id": "EijYp9M03_uP",
        "colab": {
          "base_uri": "https://localhost:8080/"
        },
        "outputId": "5c8e16bf-5ec1-4442-d7f0-f92783b29133"
      },
      "source": [
        "def myfunction(**a):\n",
        "  if(a['a'][0] > a['a'][1]):\n",
        "    print('hi')\n",
        "  else:\n",
        "    print('hello')\n",
        "myfunction(a=[2, 3])"
      ],
      "execution_count": 3,
      "outputs": [
        {
          "output_type": "stream",
          "name": "stdout",
          "text": [
            "hello\n"
          ]
        }
      ]
    },
    {
      "cell_type": "markdown",
      "metadata": {
        "id": "pxEGEhAd9WVK"
      },
      "source": [
        "#Problem 2\n",
        "\n",
        "Construct a function called 'buildFib' which constructs and returns a list of Fibonacci sequence. The function will build the sequence with the total numbers generated being equal to the received function argument.\n",
        "So if the function is called with 5 as the argument; buildFib(5) then it returns\n",
        "[0, 1, 1, 2, 3] as the sequence\n",
        "\n",
        "If the given argument is 10; buildFib(10) then it returns\n",
        "[0, 1, 1, 2, 3, 5, 8, 13, 21, 34]\n",
        "\n",
        "Your function should work for any given argument other than a negative number. If a negative number is given, it should return a message 'cannot generate sequence for negative numbers'"
      ]
    },
    {
      "cell_type": "code",
      "source": [
        "num = -3\n",
        "if(num<0):\n",
        "    print('cannot generate sequence for negative numbers')"
      ],
      "metadata": {
        "colab": {
          "base_uri": "https://localhost:8080/"
        },
        "id": "OWcYkxVUQyAc",
        "outputId": "f5fd5e05-6ee7-4db0-fc78-2eac7c04f57c"
      },
      "execution_count": 4,
      "outputs": [
        {
          "output_type": "stream",
          "name": "stdout",
          "text": [
            "cannot generate sequence for negative numbers\n"
          ]
        }
      ]
    },
    {
      "cell_type": "code",
      "metadata": {
        "id": "GVXYFIMw-Bli",
        "colab": {
          "base_uri": "https://localhost:8080/"
        },
        "outputId": "38577d33-0160-40b1-e7ae-e39e49c5cd64"
      },
      "source": [
        "# Your solution below.\n",
        "def buildFib(count):\n",
        "  a=0\n",
        "  b=1\n",
        "  fiblist = []\n",
        "  \n",
        "  if count <0:\n",
        "    return 'cannot generate sequence for negative numbers'\n",
        "  elif count == 0:\n",
        "    return fiblist\n",
        "\n",
        "  fiblist.append(a)\n",
        "\n",
        "  for n in range(1,count):\n",
        "      a,b = b,a+b\n",
        "      fiblist.append(a)\n",
        "  \n",
        "  return fiblist\n",
        "\n",
        "buildFib(5)\n"
      ],
      "execution_count": 29,
      "outputs": [
        {
          "output_type": "execute_result",
          "data": {
            "text/plain": [
              "[0, 1, 1, 2, 3]"
            ]
          },
          "metadata": {},
          "execution_count": 29
        }
      ]
    },
    {
      "cell_type": "code",
      "source": [
        "def buildFib(num) : \n",
        "  sequence = [0,1]\n",
        "  if num > 0 : \n",
        "    for idx in range(0,num - 2) :\n",
        "        sequence.append(sequence[-1] + sequence[-2])\n",
        "    return sequence\n",
        "  \n",
        "  elif num == 0:\n",
        "    sequence.clear()\n",
        "    return sequence\n",
        "  \n",
        "  else:\n",
        "    return 'cannot generate sequence for negative numbers'\n",
        "\n",
        "    \n",
        "    \n",
        "#buildFib(int(input('enter a positive number: ')))\n"
      ],
      "metadata": {
        "id": "h5Z4OID69f3S"
      },
      "execution_count": 30,
      "outputs": []
    },
    {
      "cell_type": "code",
      "metadata": {
        "id": "I39vaylq-H9d",
        "colab": {
          "base_uri": "https://localhost:8080/"
        },
        "outputId": "97770481-5452-4530-ad61-a254fe629bf1"
      },
      "source": [
        "assert ( buildFib(10) == [0, 1, 1, 2, 3, 5, 8, 13, 21, 34])\n",
        "assert ( buildFib(-3) == 'cannot generate sequence for negative numbers')\n",
        "print(\"Test Passed\")"
      ],
      "execution_count": 31,
      "outputs": [
        {
          "output_type": "stream",
          "name": "stdout",
          "text": [
            "Test Passed\n"
          ]
        }
      ]
    },
    {
      "cell_type": "markdown",
      "metadata": {
        "id": "6nX-phWccCpB"
      },
      "source": [
        "#Problem 3\n",
        "Construct a function called 'multiply_all' which takes variable argument list of numbers and returns the product of numbers given as arguments"
      ]
    },
    {
      "cell_type": "code",
      "metadata": {
        "id": "B3I3kJ7ucJ5a"
      },
      "source": [
        "#Your code here\n",
        "\n",
        "def multiply_all(*numbers):\n",
        "  total = 1\n",
        "  for num in numbers:\n",
        "    total*=num\n",
        "  return total\n",
        "\n"
      ],
      "execution_count": 7,
      "outputs": []
    },
    {
      "cell_type": "code",
      "metadata": {
        "id": "7IPOWKF3cRWo",
        "colab": {
          "base_uri": "https://localhost:8080/"
        },
        "outputId": "6d6272b0-de1e-473f-96a0-29326705ebad"
      },
      "source": [
        "#TestCase\n",
        "assert(multiply_all(3, 4, 5) == 60)\n",
        "assert(multiply_all(3) == 3)\n",
        "assert(multiply_all(3, 4) == 12)\n",
        "print(\"Test passed!\")"
      ],
      "execution_count": 8,
      "outputs": [
        {
          "output_type": "stream",
          "name": "stdout",
          "text": [
            "Test passed!\n"
          ]
        }
      ]
    },
    {
      "cell_type": "markdown",
      "metadata": {
        "id": "ajHyaPFxIcsO"
      },
      "source": [
        "# Problem 4\n",
        "Write a function that will take a string as input and returns the reverse of the given string as output. You are **NOT** allowed to use any builtin function for reversing the given string. You are required to use loop and/or conditional statements to complete this task."
      ]
    },
    {
      "cell_type": "code",
      "source": [
        "def reverse_string(original_string):\n",
        "  reversed_string = ''\n",
        "  length = len(original_string) - 1\n",
        "  while length >= 0:\n",
        "\t  reversed_string = reversed_string + original_string[length]\n",
        "\t  length = length - 1\n",
        "  return reversed_string"
      ],
      "metadata": {
        "id": "Ybd0gH3lTNlb"
      },
      "execution_count": 9,
      "outputs": []
    },
    {
      "cell_type": "code",
      "source": [
        "original_string = 'chitra'\n",
        "for index in range(10,0,-1):\n",
        "  print(index)\n"
      ],
      "metadata": {
        "colab": {
          "base_uri": "https://localhost:8080/"
        },
        "id": "eNBSdsJLyoJA",
        "outputId": "2662c32d-1f00-4b6f-e623-9f8b7f50f8c6"
      },
      "execution_count": 11,
      "outputs": [
        {
          "output_type": "stream",
          "name": "stdout",
          "text": [
            "10\n",
            "9\n",
            "8\n",
            "7\n",
            "6\n",
            "5\n",
            "4\n",
            "3\n",
            "2\n",
            "1\n"
          ]
        }
      ]
    },
    {
      "cell_type": "code",
      "source": [
        "def reverse_string(original_string):\n",
        "  reversed_string = ''\n",
        "  length = len(original_string) - 1\n",
        "  for index in range(length,-1,-1):\n",
        "\t  reversed_string = reversed_string + original_string[index]\n",
        "  return reversed_string\n",
        "\n",
        "reverse_string('chitra')"
      ],
      "metadata": {
        "colab": {
          "base_uri": "https://localhost:8080/",
          "height": 35
        },
        "id": "T7eO6NmoyXCe",
        "outputId": "906bb0b8-416a-4a84-fed1-4efbefedc5a8"
      },
      "execution_count": 17,
      "outputs": [
        {
          "output_type": "execute_result",
          "data": {
            "text/plain": [
              "'artihc'"
            ],
            "application/vnd.google.colaboratory.intrinsic+json": {
              "type": "string"
            }
          },
          "metadata": {},
          "execution_count": 17
        }
      ]
    },
    {
      "cell_type": "code",
      "source": [
        "def reverse_string(original_string):\n",
        "    n = len(original_string)\n",
        " \n",
        "    i, j = 0, n-1\n",
        "    reversed_string = ''\n",
        "    # Swap character starting from\n",
        "    # two corners\n",
        "    while i < j:\n",
        "        reversed_string[i] = original_string[j]\n",
        " \n",
        "        i += 1\n",
        "        j -= 1"
      ],
      "metadata": {
        "id": "yJ6fqJfN7l5P"
      },
      "execution_count": null,
      "outputs": []
    },
    {
      "cell_type": "code",
      "source": [
        "def reverse_string(original_string):\n",
        "  reversed_string = ''\n",
        "\n",
        "  for letter in original_string:\n",
        "    reversed_string = letter+reversed_string \n",
        "    #print(reversed_string)\n",
        "     \n",
        "  return reversed_string"
      ],
      "metadata": {
        "id": "absKsTJdYdp2"
      },
      "execution_count": 18,
      "outputs": []
    },
    {
      "cell_type": "code",
      "source": [
        "reverse_string('chitra')"
      ],
      "metadata": {
        "colab": {
          "base_uri": "https://localhost:8080/",
          "height": 35
        },
        "id": "vPQB2a8VW-q0",
        "outputId": "d815718f-67a3-45ff-9bbf-b205cb87c4c1"
      },
      "execution_count": 19,
      "outputs": [
        {
          "output_type": "execute_result",
          "data": {
            "text/plain": [
              "'artihc'"
            ],
            "application/vnd.google.colaboratory.intrinsic+json": {
              "type": "string"
            }
          },
          "metadata": {},
          "execution_count": 19
        }
      ]
    },
    {
      "cell_type": "code",
      "source": [
        "reverse_string('coding is fun!')"
      ],
      "metadata": {
        "colab": {
          "base_uri": "https://localhost:8080/",
          "height": 35
        },
        "id": "6pdVflr7YB9g",
        "outputId": "9eccada1-e3ae-44c7-c949-ec8911fa4ad6"
      },
      "execution_count": 20,
      "outputs": [
        {
          "output_type": "execute_result",
          "data": {
            "text/plain": [
              "'!nuf si gnidoc'"
            ],
            "application/vnd.google.colaboratory.intrinsic+json": {
              "type": "string"
            }
          },
          "metadata": {},
          "execution_count": 20
        }
      ]
    },
    {
      "cell_type": "code",
      "source": [
        "s= 'III'\n",
        "len(s)"
      ],
      "metadata": {
        "colab": {
          "base_uri": "https://localhost:8080/"
        },
        "id": "PBQzRK9Vcdsb",
        "outputId": "8b331696-cdc7-4e09-8572-8efabbc5fa81"
      },
      "execution_count": 21,
      "outputs": [
        {
          "output_type": "execute_result",
          "data": {
            "text/plain": [
              "3"
            ]
          },
          "metadata": {},
          "execution_count": 21
        }
      ]
    },
    {
      "cell_type": "code",
      "source": [
        "#I can be placed before V (5) and X (10) to make 4 and 9. \n",
        "#X can be placed before L (50) and C (100) to make 40 and 90. \n",
        "#C can be placed before D (500) and M (1000) to make 400 and 900.\n",
        "\n",
        "def romanToInt(s):\n",
        "  roman_dict = {'I':1,'V':5,'X':10,'L':50,'C':100,'D':500,'M':1000}\n",
        "  integer_value = 0\n",
        "  length = len(s) \n",
        "  \n",
        "  for index in range(length):\n",
        "    if(index!=(length-1)):\n",
        "      if s[index] == 'I' and (s[index+1]=='V' or s[index+1]=='X'):\n",
        "          integer_value -= roman_dict[s[index]]\n",
        "      elif s[index] == 'X' and (s[index+1]=='L' or s[index+1]=='C'):\n",
        "          integer_value -= roman_dict[s[index]]\n",
        "      elif s[index] == 'C' and (s[index+1]=='D' or s[index+1]=='M'):\n",
        "          integer_value -= roman_dict[s[index]]\n",
        "      else:\n",
        "        integer_value += roman_dict[s[index]]\n",
        "    else:\n",
        "      integer_value += roman_dict[s[index]]\n",
        "  return integer_value\n",
        "        \n",
        "romanToInt(\"IX\")"
      ],
      "metadata": {
        "colab": {
          "base_uri": "https://localhost:8080/"
        },
        "id": "2coQfwi4Zx_I",
        "outputId": "c0772a69-197a-44e7-c557-9b4a9b1ef8f3"
      },
      "execution_count": 22,
      "outputs": [
        {
          "output_type": "execute_result",
          "data": {
            "text/plain": [
              "9"
            ]
          },
          "metadata": {},
          "execution_count": 22
        }
      ]
    },
    {
      "cell_type": "code",
      "source": [
        "romanToInt('IX')"
      ],
      "metadata": {
        "colab": {
          "base_uri": "https://localhost:8080/"
        },
        "id": "xFkSzucfarop",
        "outputId": "f6f602f7-cc7f-4f4d-cfa7-057db29dc67a"
      },
      "execution_count": 23,
      "outputs": [
        {
          "output_type": "execute_result",
          "data": {
            "text/plain": [
              "9"
            ]
          },
          "metadata": {},
          "execution_count": 23
        }
      ]
    }
  ]
}