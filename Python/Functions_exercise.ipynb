{
  "nbformat": 4,
  "nbformat_minor": 0,
  "metadata": {
    "colab": {
      "name": "Functions_exercise.ipynb",
      "provenance": [],
      "collapsed_sections": [],
      "include_colab_link": true
    },
    "kernelspec": {
      "name": "python3",
      "display_name": "Python 3"
    }
  },
  "cells": [
    {
      "cell_type": "markdown",
      "metadata": {
        "id": "view-in-github",
        "colab_type": "text"
      },
      "source": [
        "<a href=\"https://colab.research.google.com/github/ChitraChaudhari/GC_DataEngineering_Bootcamp/blob/main/Python/Functions_exercise.ipynb\" target=\"_parent\"><img src=\"https://colab.research.google.com/assets/colab-badge.svg\" alt=\"Open In Colab\"/></a>"
      ]
    },
    {
      "cell_type": "markdown",
      "metadata": {
        "id": "i57m4-A-4G8B"
      },
      "source": [
        "# *Permission to copy this copyrighted document is given only to Mobi Boot Camp Corp., students*\n",
        "\n",
        "---\n",
        "<!-- &#169; 2021, Mobi Boot Camp Corp, all rights reserved  -->\n",
        "# Please Copy this file by selecting 'File-->Save a Copy in Drive' from the top menu bar, and then start working on these problems. You cannot edit this file as it is a READ-ONLY file. \n",
        "\n",
        "###When you make a copy, you will be able to run the copied file through your account. You can also code your answers in the respective code cells and run the program\n",
        "\n",
        "\n",
        "---\n",
        "# Functions and Modules\n",
        "Solve the below problems. Once you solve, run the assert statements (if any) in the next cell and make them pass\n",
        "\n",
        "#Problem 1\n",
        "Fix the compilation issue of the below program. Basically the programmer intended to send in variable list of keyword arguments to myfunction and the first and second arguments that are passed is compared to each other. However currently it is throwing an error instead.\n",
        "\n",
        "Without changing the function parameter definition, fix the code to ensure that you compare the elements of the list passed, in the 'if' block correctly"
      ]
    },
    {
      "cell_type": "code",
      "source": [
        "mydict = {'a':[2,3]}\n",
        "mydict['a'][0]"
      ],
      "metadata": {
        "colab": {
          "base_uri": "https://localhost:8080/"
        },
        "id": "wQnjaXbWOoIM",
        "outputId": "3408bf53-1dd9-4dca-d5d0-ff2a916f4a8c"
      },
      "execution_count": null,
      "outputs": [
        {
          "output_type": "execute_result",
          "data": {
            "text/plain": [
              "2"
            ]
          },
          "metadata": {},
          "execution_count": 2
        }
      ]
    },
    {
      "cell_type": "code",
      "metadata": {
        "id": "EijYp9M03_uP",
        "colab": {
          "base_uri": "https://localhost:8080/"
        },
        "outputId": "881e0895-f13e-49ee-c66b-415ffa09db66"
      },
      "source": [
        "def myfunction(**a):\n",
        "  if(a['a'][0] > a['a'][1]):\n",
        "    print('hi')\n",
        "  else:\n",
        "    print('hello')\n",
        "myfunction(a=[2, 3])"
      ],
      "execution_count": null,
      "outputs": [
        {
          "output_type": "stream",
          "name": "stdout",
          "text": [
            "hello\n"
          ]
        }
      ]
    },
    {
      "cell_type": "markdown",
      "metadata": {
        "id": "pxEGEhAd9WVK"
      },
      "source": [
        "#Problem 2\n",
        "\n",
        "Construct a function called 'buildFib' which constructs and returns a list of Fibonacci sequence. The function will build the sequence with the total numbers generated being equal to the received function argument.\n",
        "So if the function is called with 5 as the argument; buildFib(5) then it returns\n",
        "[0, 1, 1, 2, 3] as the sequence\n",
        "\n",
        "If the given argument is 10; buildFib(10) then it returns\n",
        "[0, 1, 1, 2, 3, 5, 8, 13, 21, 34]\n",
        "\n",
        "Your function should work for any given argument other than a negative number. If a negative number is given, it should return a message 'cannot generate sequence for negative numbers'"
      ]
    },
    {
      "cell_type": "code",
      "source": [
        "num = -3\n",
        "if(num<0):\n",
        "    print('cannot generate sequence for negative numbers')"
      ],
      "metadata": {
        "colab": {
          "base_uri": "https://localhost:8080/"
        },
        "id": "OWcYkxVUQyAc",
        "outputId": "e9a4a5cf-7399-4be9-8c01-8f034afaecfd"
      },
      "execution_count": null,
      "outputs": [
        {
          "output_type": "stream",
          "name": "stdout",
          "text": [
            "cannot generate sequence for negative numbers\n"
          ]
        }
      ]
    },
    {
      "cell_type": "code",
      "metadata": {
        "id": "GVXYFIMw-Bli",
        "colab": {
          "base_uri": "https://localhost:8080/"
        },
        "outputId": "2cfaa913-71b7-43ac-c557-e7a00b255323"
      },
      "source": [
        "# Your solution below.\n",
        "def buildFib(count):\n",
        "  a=0\n",
        "  b=1\n",
        "  fiblist = [a]\n",
        "  if(count>0):\n",
        "    for n in range(1,count):\n",
        "      a,b = b,a+b\n",
        "      fiblist.append(a)\n",
        "  else:\n",
        "    return 'cannot generate sequence for negative numbers'\n",
        "  return fiblist\n",
        "\n",
        "buildFib(5)\n"
      ],
      "execution_count": null,
      "outputs": [
        {
          "output_type": "execute_result",
          "data": {
            "text/plain": [
              "[0, 1, 1, 2, 3]"
            ]
          },
          "metadata": {},
          "execution_count": 15
        }
      ]
    },
    {
      "cell_type": "code",
      "metadata": {
        "id": "I39vaylq-H9d",
        "colab": {
          "base_uri": "https://localhost:8080/"
        },
        "outputId": "5fb692fb-2ab2-4288-be01-56fe91a1eb08"
      },
      "source": [
        "assert ( buildFib(10) == [0, 1, 1, 2, 3, 5, 8, 13, 21, 34])\n",
        "assert ( buildFib(-3) == 'cannot generate sequence for negative numbers')\n",
        "print(\"Test Passed\")"
      ],
      "execution_count": null,
      "outputs": [
        {
          "output_type": "stream",
          "name": "stdout",
          "text": [
            "Test Passed\n"
          ]
        }
      ]
    },
    {
      "cell_type": "markdown",
      "metadata": {
        "id": "6nX-phWccCpB"
      },
      "source": [
        "#Problem 3\n",
        "Construct a function called 'multiply_all' which takes variable argument list of numbers and returns the product of numbers given as arguments"
      ]
    },
    {
      "cell_type": "code",
      "metadata": {
        "id": "B3I3kJ7ucJ5a"
      },
      "source": [
        "#Your code here\n",
        "\n",
        "def multiply_all(*numbers):\n",
        "  total = 1\n",
        "  for num in numbers:\n",
        "    total*=num\n",
        "  return total\n",
        "\n"
      ],
      "execution_count": null,
      "outputs": []
    },
    {
      "cell_type": "code",
      "metadata": {
        "id": "7IPOWKF3cRWo",
        "colab": {
          "base_uri": "https://localhost:8080/"
        },
        "outputId": "912ac0ac-710f-4b08-e83d-c9a9d173ec80"
      },
      "source": [
        "#TestCase\n",
        "assert(multiply_all(3, 4, 5) == 60)\n",
        "assert(multiply_all(3) == 3)\n",
        "assert(multiply_all(3, 4) == 12)\n",
        "print(\"Test passed!\")"
      ],
      "execution_count": null,
      "outputs": [
        {
          "output_type": "stream",
          "name": "stdout",
          "text": [
            "Test passed!\n"
          ]
        }
      ]
    },
    {
      "cell_type": "markdown",
      "metadata": {
        "id": "ajHyaPFxIcsO"
      },
      "source": [
        "# Problem 4\n",
        "Write a function that will take a string as input and returns the reverse of the given string as output. You are **NOT** allowed to use any builtin function for reversing the given string. You are required to use loop and/or conditional statements to complete this task."
      ]
    },
    {
      "cell_type": "code",
      "source": [
        "def reverse_string(original_string):\n",
        "  reversed_string = ''\n",
        "  length = len(original_string) - 1\n",
        "  while length >= 0:\n",
        "\t  reversed_string = reversed_string + original_string[length]\n",
        "\t  length = length - 1\n",
        "  return reversed_string"
      ],
      "metadata": {
        "id": "Ybd0gH3lTNlb"
      },
      "execution_count": null,
      "outputs": []
    },
    {
      "cell_type": "code",
      "source": [
        "def reverse_string(original_string):\n",
        "  reversed_string = ''\n",
        "\n",
        "  for letter in original_string:\n",
        "    reversed_string = letter+reversed_string \n",
        "    #print(reversed_string)\n",
        "     \n",
        "  return reversed_string"
      ],
      "metadata": {
        "id": "absKsTJdYdp2"
      },
      "execution_count": null,
      "outputs": []
    },
    {
      "cell_type": "code",
      "source": [
        "reverse_string('chitra')"
      ],
      "metadata": {
        "colab": {
          "base_uri": "https://localhost:8080/",
          "height": 35
        },
        "id": "vPQB2a8VW-q0",
        "outputId": "984812e5-7796-4cab-98f4-31198c643978"
      },
      "execution_count": null,
      "outputs": [
        {
          "output_type": "execute_result",
          "data": {
            "text/plain": [
              "'artihc'"
            ],
            "application/vnd.google.colaboratory.intrinsic+json": {
              "type": "string"
            }
          },
          "metadata": {},
          "execution_count": 53
        }
      ]
    },
    {
      "cell_type": "code",
      "source": [
        "reverse_string('coding is fun!')"
      ],
      "metadata": {
        "colab": {
          "base_uri": "https://localhost:8080/",
          "height": 35
        },
        "id": "6pdVflr7YB9g",
        "outputId": "248701c8-bcf5-47e1-9118-9b33c3300f17"
      },
      "execution_count": null,
      "outputs": [
        {
          "output_type": "execute_result",
          "data": {
            "text/plain": [
              "'!nuf si gnidoc'"
            ],
            "application/vnd.google.colaboratory.intrinsic+json": {
              "type": "string"
            }
          },
          "metadata": {},
          "execution_count": 54
        }
      ]
    },
    {
      "cell_type": "code",
      "source": [
        "s= 'III'\n",
        "len(s)"
      ],
      "metadata": {
        "colab": {
          "base_uri": "https://localhost:8080/"
        },
        "id": "PBQzRK9Vcdsb",
        "outputId": "5e3b235e-d2af-404b-9362-c7f84dfade84"
      },
      "execution_count": null,
      "outputs": [
        {
          "output_type": "execute_result",
          "data": {
            "text/plain": [
              "3"
            ]
          },
          "metadata": {},
          "execution_count": 39
        }
      ]
    },
    {
      "cell_type": "code",
      "source": [
        "#I can be placed before V (5) and X (10) to make 4 and 9. \n",
        "#X can be placed before L (50) and C (100) to make 40 and 90. \n",
        "#C can be placed before D (500) and M (1000) to make 400 and 900.\n",
        "\n",
        "def romanToInt(s):\n",
        "  roman_dict = {'I':1,'V':5,'X':10,'L':50,'C':100,'D':500,'M':1000}\n",
        "  integer_value = 0\n",
        "  length = len(s) \n",
        "  \n",
        "  for index in range(length):\n",
        "    if(index!=(length-1)):\n",
        "      if s[index] == 'I' and (s[index+1]=='V' or s[index+1]=='X'):\n",
        "          integer_value -= roman_dict[s[index]]\n",
        "      elif s[index] == 'X' and (s[index+1]=='L' or s[index+1]=='C'):\n",
        "          integer_value -= roman_dict[s[index]]\n",
        "      elif s[index] == 'C' and (s[index+1]=='D' or s[index+1]=='M'):\n",
        "          integer_value -= roman_dict[s[index]]\n",
        "      else:\n",
        "        integer_value += roman_dict[s[index]]\n",
        "    else:\n",
        "      integer_value += roman_dict[s[index]]\n",
        "  return integer_value\n",
        "        \n",
        "romanToInt(\"IX\")"
      ],
      "metadata": {
        "colab": {
          "base_uri": "https://localhost:8080/"
        },
        "id": "2coQfwi4Zx_I",
        "outputId": "20140f70-bac4-4cae-9c8b-63e287b6a33d"
      },
      "execution_count": null,
      "outputs": [
        {
          "output_type": "execute_result",
          "data": {
            "text/plain": [
              "9"
            ]
          },
          "metadata": {},
          "execution_count": 75
        }
      ]
    },
    {
      "cell_type": "code",
      "source": [
        "romanToInt('IX')"
      ],
      "metadata": {
        "colab": {
          "base_uri": "https://localhost:8080/"
        },
        "id": "xFkSzucfarop",
        "outputId": "6a16419f-89b6-4986-d6f4-69eabf156cbf"
      },
      "execution_count": null,
      "outputs": [
        {
          "output_type": "execute_result",
          "data": {
            "text/plain": [
              "9"
            ]
          },
          "metadata": {},
          "execution_count": 45
        }
      ]
    }
  ]
}