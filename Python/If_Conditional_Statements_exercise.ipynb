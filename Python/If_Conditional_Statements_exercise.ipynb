{
  "nbformat": 4,
  "nbformat_minor": 0,
  "metadata": {
    "colab": {
      "name": "If_Conditional_Statements_exercise.ipynb",
      "provenance": [],
      "collapsed_sections": [],
      "include_colab_link": true
    },
    "kernelspec": {
      "name": "python3",
      "display_name": "Python 3"
    }
  },
  "cells": [
    {
      "cell_type": "markdown",
      "metadata": {
        "id": "view-in-github",
        "colab_type": "text"
      },
      "source": [
        "<a href=\"https://colab.research.google.com/github/ChitraChaudhari/GC_DataEngineering_Bootcamp/blob/main/If_Conditional_Statements_exercise.ipynb\" target=\"_parent\"><img src=\"https://colab.research.google.com/assets/colab-badge.svg\" alt=\"Open In Colab\"/></a>"
      ]
    },
    {
      "cell_type": "markdown",
      "metadata": {
        "id": "9hgp2Z3FztJ6"
      },
      "source": [
        "# *Permission to copy this copyrighted document is given only to Mobi Boot Camp Corp., students*\n",
        "\n",
        "---\n",
        "<!-- &#169; 2021, Mobi Boot Camp Corp, all rights reserved  -->\n",
        "# Please Copy this file by selecting 'File-->Save a Copy in Drive' from the top menu bar, and then start working on these problems. You cannot edit this file as it is a READ-ONLY file. \n",
        "\n",
        "###When you make a copy, you will be able to run the copied file through your account. You can also code your answers in the respective code cells and run the program\n",
        "\n",
        "---\n",
        "#If Conditional Statements\n",
        "Solve the below problems. \n",
        "\n",
        "\n",
        "# Problem 1\n",
        "\n",
        "Write a program that accepts an integer value from the user and prints out if the given number is a multiple of 7. If the given number is a multiple of 7 then it prints out, \"You gave a multiple of 7\" else, it prints out the remainder when you divide the given number by 7"
      ]
    },
    {
      "cell_type": "code",
      "metadata": {
        "id": "MGSvCg0RrRaL",
        "colab": {
          "base_uri": "https://localhost:8080/"
        },
        "outputId": "af1bc280-3da9-4d55-9a84-fb3197a87b7e"
      },
      "source": [
        "number = int(input(print(\"Enter any number\")))\n",
        "\n",
        "if(number%7 == 0):\n",
        "  print(\"You gave a multiple of 7\")\n",
        "else:\n",
        "  print(\"remainder is \", number%7)\n"
      ],
      "execution_count": null,
      "outputs": [
        {
          "output_type": "stream",
          "name": "stdout",
          "text": [
            "Enter any number\n",
            "71\n",
            "remainder is  1\n"
          ]
        }
      ]
    },
    {
      "cell_type": "markdown",
      "metadata": {
        "id": "MvnbWG5Z7vEx"
      },
      "source": [
        "# Problem 2 (Chapter 1A revision)\n",
        "\n",
        "Write a program to solve quadratic equations. Receive the values for a, b and c from the user input. \n",
        "This problem may not need an if-construct\n",
        "Hint: Use the Math module"
      ]
    },
    {
      "cell_type": "code",
      "metadata": {
        "id": "96kEoHZb8BeT",
        "colab": {
          "base_uri": "https://localhost:8080/"
        },
        "outputId": "3b97ee5c-9906-4564-e185-73528e60fcfb"
      },
      "source": [
        "import math\n",
        "\n",
        "a = int(input(\"enter the value of a\"));\n",
        "b = int(input(\"Enter the value of b\"));\n",
        "c = int(input(\"Enter the value of c\"));\n",
        "\n",
        "d = math.sqrt(b**2-(4*a*c))\n",
        "\n",
        "result1 = (-b + d )/(2*a)\n",
        "result2 = (-b - d)/(2*a)\n",
        "\n",
        "print(\"the roots for quadratic equation are \", result1, \" and \", result2 )"
      ],
      "execution_count": null,
      "outputs": [
        {
          "output_type": "stream",
          "name": "stdout",
          "text": [
            "enter the value of a1\n",
            "Enter the value of b5\n",
            "Enter the value of c6\n",
            "the roots for quadratic equation are  -2.0  and  -3.0\n"
          ]
        }
      ]
    },
    {
      "cell_type": "markdown",
      "metadata": {
        "id": "XClsd96sCH4d"
      },
      "source": [
        "# Problem 3\n",
        "\n",
        "Write a program to take three floating point numbers from the user and print the greatest number. For this problem, you should use if-else conditionals and not use any of the builtin functions."
      ]
    },
    {
      "cell_type": "code",
      "metadata": {
        "id": "WTCNQ0vhCXxp",
        "colab": {
          "base_uri": "https://localhost:8080/"
        },
        "outputId": "61dad708-7a1a-4fbb-ab16-41b1122102ba"
      },
      "source": [
        "number1 = float(input(\"Enter any number \"))\n",
        "number2 = float(input(\"Enter any number \"))\n",
        "number3 = float(input(\"Enter any number \"))\n",
        "\n",
        "if(number1 > number2):\n",
        "  if(number1 > number3):\n",
        "    print(\"Greatest number is \", number1)\n",
        "  else:\n",
        "    print(\"Greatest number is \", number3)\n",
        "else:\n",
        "  if( number2 > number3):\n",
        "    print(\"Greatest number is \", number2)\n",
        "  else:\n",
        "    print(\"greatest number is \", number3)"
      ],
      "execution_count": null,
      "outputs": [
        {
          "output_type": "stream",
          "name": "stdout",
          "text": [
            "Enter any number 30\n",
            "Enter any number 20\n",
            "Enter any number 10\n",
            "Greatest number is  30.0\n"
          ]
        }
      ]
    },
    {
      "cell_type": "code",
      "source": [
        "if number1 > number2 and number1 > number3 :\n",
        "  print('Number one is the largest')\n",
        "elif number2 > number1 and number2 > number3 :\n",
        "  print('Number two is the largest')\n",
        "elif number3 > number1 and number3 > number2 :\n",
        "  print('Number three is the largest')\n"
      ],
      "metadata": {
        "id": "YXzrCwHCPwPr"
      },
      "execution_count": null,
      "outputs": []
    },
    {
      "cell_type": "markdown",
      "metadata": {
        "id": "jTtX0Al_GpQt"
      },
      "source": [
        "#Problem 4 (Chapter 1A revision)\n",
        "\n",
        "Write a program which takes three numbers as input and then print out their average.\n",
        "This problem does not need an if-construct"
      ]
    },
    {
      "cell_type": "code",
      "metadata": {
        "id": "sggoickMGz3A",
        "colab": {
          "base_uri": "https://localhost:8080/"
        },
        "outputId": "c27ce036-97e1-47ba-8dab-c7f08664b960"
      },
      "source": [
        "number1 = float(input(\"Enter any number \"))\n",
        "number2 = float(input(\"Enter any number \"))\n",
        "number3 = float(input(\"Enter any number \"))\n",
        "\n",
        "print(\" Average is \", (number1+number2+number3)/3)"
      ],
      "execution_count": null,
      "outputs": [
        {
          "output_type": "stream",
          "name": "stdout",
          "text": [
            "Enter any number 10\n",
            "Enter any number 20\n",
            "Enter any number 30\n",
            " Average is  20.0\n"
          ]
        }
      ]
    },
    {
      "cell_type": "markdown",
      "metadata": {
        "id": "xLOfzH9uAmS2"
      },
      "source": [
        "#Problem 5\n",
        "\n",
        "Generate a random number between 10 and 20 and then ask the user to input a number between 10 and 20  \n",
        "\n",
        "If the user input matches the random number, print 'Bingo!' \n",
        "\n",
        "Else let the user know, how far away his input number is by printing how much is the difference with a positive or negative sign \n",
        "\n",
        "Hint: Check the ranint module in Modules page of Chapter 6"
      ]
    },
    {
      "cell_type": "code",
      "metadata": {
        "id": "oXfaGN4ZBWQG",
        "colab": {
          "base_uri": "https://localhost:8080/"
        },
        "outputId": "9503322f-be5f-4081-ef34-6c1b13b42ac2"
      },
      "source": [
        "\n",
        "import random\n",
        "\n",
        "random_number = random.randint(10,20)\n",
        "user_number = int(input(\"Print any number between 10 to 20 \"))\n",
        "\n",
        "if(user_number == random_number):\n",
        "  print(\"Bingo!\")\n",
        "else:\n",
        " print(\"Your number is far away from random number by \", random_number- user_number)\n",
        "\n",
        "#print(random_number)"
      ],
      "execution_count": null,
      "outputs": [
        {
          "output_type": "stream",
          "name": "stdout",
          "text": [
            "Print any number between 10 to 2020\n",
            "Bingo!\n"
          ]
        }
      ]
    }
  ]
}
