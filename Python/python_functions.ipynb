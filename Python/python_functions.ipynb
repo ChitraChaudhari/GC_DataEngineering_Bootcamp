{
  "nbformat": 4,
  "nbformat_minor": 0,
  "metadata": {
    "colab": {
      "name": "python_functions.ipynb",
      "provenance": [],
      "authorship_tag": "ABX9TyMMmOzq4C2fdabRPDd2irmc",
      "include_colab_link": true
    },
    "kernelspec": {
      "name": "python3",
      "display_name": "Python 3"
    },
    "language_info": {
      "name": "python"
    }
  },
  "cells": [
    {
      "cell_type": "markdown",
      "metadata": {
        "id": "view-in-github",
        "colab_type": "text"
      },
      "source": [
        "<a href=\"https://colab.research.google.com/github/ChitraChaudhari/GC_DataEngineering_Bootcamp/blob/main/Python/python_functions.ipynb\" target=\"_parent\"><img src=\"https://colab.research.google.com/assets/colab-badge.svg\" alt=\"Open In Colab\"/></a>"
      ]
    },
    {
      "cell_type": "code",
      "execution_count": null,
      "metadata": {
        "id": "mch19UsKBF4M"
      },
      "outputs": [],
      "source": [
        "def say_hello(name='there'):\n",
        "   print(f'Hello {name}!')"
      ]
    },
    {
      "cell_type": "code",
      "source": [
        "say_hello('chitra')"
      ],
      "metadata": {
        "colab": {
          "base_uri": "https://localhost:8080/"
        },
        "id": "F_I52DjPLopA",
        "outputId": "da9c0b01-384b-4360-c9bb-5044018d0928"
      },
      "execution_count": null,
      "outputs": [
        {
          "output_type": "stream",
          "name": "stdout",
          "text": [
            "Hello chitra!\n"
          ]
        }
      ]
    },
    {
      "cell_type": "code",
      "source": [
        "say_hello()"
      ],
      "metadata": {
        "colab": {
          "base_uri": "https://localhost:8080/"
        },
        "id": "ufne87HEMH9O",
        "outputId": "87dc5ae6-e996-4b53-f5ee-b6f61dd11f1e"
      },
      "execution_count": null,
      "outputs": [
        {
          "output_type": "stream",
          "name": "stdout",
          "text": [
            "Hello there!\n"
          ]
        }
      ]
    },
    {
      "cell_type": "code",
      "source": [
        "def add_num(num1,num2):\n",
        "  return num1+num2"
      ],
      "metadata": {
        "id": "clc20SqZMNWO"
      },
      "execution_count": null,
      "outputs": []
    },
    {
      "cell_type": "code",
      "source": [
        "result = add_num(10,20)\n",
        "result"
      ],
      "metadata": {
        "colab": {
          "base_uri": "https://localhost:8080/"
        },
        "id": "3Z5XkIf-MUhV",
        "outputId": "8b81e74f-22e2-49ff-9d00-76d81f51e048"
      },
      "execution_count": null,
      "outputs": [
        {
          "output_type": "execute_result",
          "data": {
            "text/plain": [
              "30"
            ]
          },
          "metadata": {},
          "execution_count": 5
        }
      ]
    },
    {
      "cell_type": "code",
      "source": [
        "def check_even(num):\n",
        "  if(num%2 == 0):\n",
        "    return True\n",
        "  \n",
        "  return False"
      ],
      "metadata": {
        "id": "_GCy7t9bNz-H"
      },
      "execution_count": null,
      "outputs": []
    },
    {
      "cell_type": "code",
      "source": [
        "check_even(5)"
      ],
      "metadata": {
        "colab": {
          "base_uri": "https://localhost:8080/"
        },
        "id": "lLP4E3RLOGH9",
        "outputId": "7ac181a7-4a6c-4ca6-8e83-25e6eab5e2d0"
      },
      "execution_count": null,
      "outputs": [
        {
          "output_type": "execute_result",
          "data": {
            "text/plain": [
              "False"
            ]
          },
          "metadata": {},
          "execution_count": 88
        }
      ]
    },
    {
      "cell_type": "code",
      "source": [
        "check_even(1024)"
      ],
      "metadata": {
        "colab": {
          "base_uri": "https://localhost:8080/"
        },
        "id": "SuMvPzL_OJpd",
        "outputId": "bf566ab2-f811-489c-bbc5-4346c9269a7b"
      },
      "execution_count": null,
      "outputs": [
        {
          "output_type": "execute_result",
          "data": {
            "text/plain": [
              "True"
            ]
          },
          "metadata": {},
          "execution_count": 89
        }
      ]
    },
    {
      "cell_type": "code",
      "source": [
        "def check_even_list(num_list):\n",
        "  even_numbers = []\n",
        "  for num in num_list:\n",
        "    if(num%2==0):\n",
        "      even_numbers.append(num)\n",
        "    else:\n",
        "      pass\n",
        "    \n",
        "  return even_numbers"
      ],
      "metadata": {
        "id": "65B90Dk6QJlO"
      },
      "execution_count": null,
      "outputs": []
    },
    {
      "cell_type": "code",
      "source": [
        "check_even_list([11,3,6,3,97,54,67,8])"
      ],
      "metadata": {
        "colab": {
          "base_uri": "https://localhost:8080/"
        },
        "id": "qvJFKW65Qnxg",
        "outputId": "822caee8-5395-4d7a-c61f-d53c266d63c9"
      },
      "execution_count": null,
      "outputs": [
        {
          "output_type": "execute_result",
          "data": {
            "text/plain": [
              "[6, 54, 8]"
            ]
          },
          "metadata": {},
          "execution_count": 15
        }
      ]
    },
    {
      "cell_type": "code",
      "source": [
        "work_hours = [('Abby',1000),('Billy',4000),('Cassie',800)]"
      ],
      "metadata": {
        "id": "w1Te8S01MFzs"
      },
      "execution_count": null,
      "outputs": []
    },
    {
      "cell_type": "code",
      "source": [
        "def employee_check(work_hours):\n",
        "  current_max = 0\n",
        "  employee_of_month = ''\n",
        "\n",
        "  for employee,hours in work_hours:\n",
        "    if hours > current_max:\n",
        "      current_max = hours\n",
        "      employee_of_month = employee\n",
        "    else:\n",
        "      pass\n",
        "\n",
        "  return (employee_of_month,current_max)"
      ],
      "metadata": {
        "id": "siOO_XouMWws"
      },
      "execution_count": null,
      "outputs": []
    },
    {
      "cell_type": "code",
      "source": [
        "employee_check(work_hours)"
      ],
      "metadata": {
        "colab": {
          "base_uri": "https://localhost:8080/"
        },
        "id": "nITm8oZsM-r0",
        "outputId": "22789247-59ef-4fcc-aab2-29a9ea6947bd"
      },
      "execution_count": null,
      "outputs": [
        {
          "output_type": "execute_result",
          "data": {
            "text/plain": [
              "('Billy', 4000)"
            ]
          },
          "metadata": {},
          "execution_count": 8
        }
      ]
    },
    {
      "cell_type": "code",
      "source": [
        "result = employee_check(work_hours)\n",
        "result"
      ],
      "metadata": {
        "colab": {
          "base_uri": "https://localhost:8080/"
        },
        "id": "w_bdKS6zN1hk",
        "outputId": "7443c455-cc1f-46fc-c4db-f901274c4843"
      },
      "execution_count": null,
      "outputs": [
        {
          "output_type": "execute_result",
          "data": {
            "text/plain": [
              "('Billy', 4000)"
            ]
          },
          "metadata": {},
          "execution_count": 10
        }
      ]
    },
    {
      "cell_type": "code",
      "source": [
        "name,hours = employee_check(work_hours)\n",
        "name"
      ],
      "metadata": {
        "colab": {
          "base_uri": "https://localhost:8080/",
          "height": 35
        },
        "id": "IZLm8FASN8XL",
        "outputId": "8358e058-71cf-4723-84fd-c13aab5dde7b"
      },
      "execution_count": null,
      "outputs": [
        {
          "output_type": "execute_result",
          "data": {
            "text/plain": [
              "'Billy'"
            ],
            "application/vnd.google.colaboratory.intrinsic+json": {
              "type": "string"
            }
          },
          "metadata": {},
          "execution_count": 11
        }
      ]
    },
    {
      "cell_type": "code",
      "source": [
        "hours"
      ],
      "metadata": {
        "colab": {
          "base_uri": "https://localhost:8080/"
        },
        "id": "okHw9ttCOFzi",
        "outputId": "c738e22b-ba2e-458c-e9b8-fd4e978933a8"
      },
      "execution_count": null,
      "outputs": [
        {
          "output_type": "execute_result",
          "data": {
            "text/plain": [
              "4000"
            ]
          },
          "metadata": {},
          "execution_count": 12
        }
      ]
    },
    {
      "cell_type": "code",
      "source": [
        "from random import shuffle\n",
        "\n",
        "def shuffle_list(mylist):\n",
        "  shuffle(mylist)\n",
        "  return mylist"
      ],
      "metadata": {
        "id": "2yyuO5aPORRC"
      },
      "execution_count": null,
      "outputs": []
    },
    {
      "cell_type": "code",
      "source": [
        "def player_guess():\n",
        "  guess = ''\n",
        "\n",
        "  while guess not in ['0','1','2']:\n",
        "    guess = input(\"pick a number: 0,1, or 2 \")\n",
        "\n",
        "  return int(guess)"
      ],
      "metadata": {
        "id": "rCxmAlW7QOe8"
      },
      "execution_count": null,
      "outputs": []
    },
    {
      "cell_type": "code",
      "source": [
        "def check_guess(mylist,guess):\n",
        "  if mylist[guess] == 'O':\n",
        "    print(\"Correct!\")\n",
        "  else:\n",
        "    print(\"Wrong guess!\")\n",
        "    print(mylist)"
      ],
      "metadata": {
        "id": "g7DXFpBOQ6CE"
      },
      "execution_count": null,
      "outputs": []
    },
    {
      "cell_type": "code",
      "source": [
        "#Initial list\n",
        "mylist = [' ','O',' ']\n",
        "#Shuffle list\n",
        "mixedup_list = shuffle_list(mylist)\n",
        "#User guess\n",
        "user_guess = player_guess()\n",
        "#check guess\n",
        "check_guess(mixedup_list,user_guess)"
      ],
      "metadata": {
        "colab": {
          "base_uri": "https://localhost:8080/"
        },
        "id": "03rZSZ2lPonZ",
        "outputId": "a7e1f56d-0113-4316-8ba5-743281d6cbfb"
      },
      "execution_count": null,
      "outputs": [
        {
          "output_type": "stream",
          "name": "stdout",
          "text": [
            "pick a number: 0,1, or 2 5\n",
            "pick a number: 0,1, or 2 1\n",
            "Wrong guess!\n",
            "['O', ' ', ' ']\n"
          ]
        }
      ]
    },
    {
      "cell_type": "code",
      "source": [
        "mylist = [4, 5, 6, 7, 8, 9]\n",
        "\n",
        "for num in mylist:\n",
        "  if num==6 and 9 in mylist:\n",
        "    print('True')"
      ],
      "metadata": {
        "colab": {
          "base_uri": "https://localhost:8080/"
        },
        "id": "0BGulelfKBYv",
        "outputId": "5fff0f6c-a6a7-4835-af34-d108b13d76c3"
      },
      "execution_count": null,
      "outputs": [
        {
          "output_type": "stream",
          "name": "stdout",
          "text": [
            "True\n"
          ]
        }
      ]
    },
    {
      "cell_type": "code",
      "source": [
        ""
      ],
      "metadata": {
        "id": "cV7xE1yYzCLZ"
      },
      "execution_count": null,
      "outputs": []
    },
    {
      "cell_type": "markdown",
      "source": [
        "#****args and **kwargs**"
      ],
      "metadata": {
        "id": "faMWEplL0dLv"
      }
    },
    {
      "cell_type": "code",
      "source": [
        "def myfunc(*args):\n",
        "  print(args)\n",
        "  return sum(args)"
      ],
      "metadata": {
        "id": "ukKDFr8-0s-N"
      },
      "execution_count": null,
      "outputs": []
    },
    {
      "cell_type": "code",
      "source": [
        "myfunc(10,30)"
      ],
      "metadata": {
        "colab": {
          "base_uri": "https://localhost:8080/"
        },
        "id": "Ml0FsjOd0_4x",
        "outputId": "413cdf55-c788-41e2-cebc-574945fdf91e"
      },
      "execution_count": null,
      "outputs": [
        {
          "output_type": "stream",
          "name": "stdout",
          "text": [
            "(10, 30)\n"
          ]
        },
        {
          "output_type": "execute_result",
          "data": {
            "text/plain": [
              "40"
            ]
          },
          "metadata": {},
          "execution_count": 61
        }
      ]
    },
    {
      "cell_type": "code",
      "source": [
        "myfunc(10,30,50,60)"
      ],
      "metadata": {
        "colab": {
          "base_uri": "https://localhost:8080/"
        },
        "id": "CQMXjzuZ1DQx",
        "outputId": "b496ef87-8a29-4943-f5a2-89d181a19bf3"
      },
      "execution_count": null,
      "outputs": [
        {
          "output_type": "stream",
          "name": "stdout",
          "text": [
            "(10, 30, 50, 60)\n"
          ]
        },
        {
          "output_type": "execute_result",
          "data": {
            "text/plain": [
              "150"
            ]
          },
          "metadata": {},
          "execution_count": 62
        }
      ]
    },
    {
      "cell_type": "code",
      "source": [
        "def myfunc(**kwargs):\n",
        "  print(kwargs)\n",
        "  if 'fruit' in kwargs:\n",
        "    print('My fruit of choice is {}'.format(kwargs['fruit']))\n",
        "  else:\n",
        "    print('I did not find any fruit here')"
      ],
      "metadata": {
        "id": "qBHsz7HB1QEN"
      },
      "execution_count": null,
      "outputs": []
    },
    {
      "cell_type": "code",
      "source": [
        "myfunc(fruit='banana', veggie='spinach')"
      ],
      "metadata": {
        "colab": {
          "base_uri": "https://localhost:8080/"
        },
        "id": "cDXFJLkw2rE8",
        "outputId": "4686bd89-afe3-40b1-f41c-2f5539c9aa6a"
      },
      "execution_count": null,
      "outputs": [
        {
          "output_type": "stream",
          "name": "stdout",
          "text": [
            "{'fruit': 'banana', 'veggie': 'spinach'}\n",
            "My fruit of choice is banana\n"
          ]
        }
      ]
    },
    {
      "cell_type": "code",
      "source": [
        "def myfunc(*args,**kwargs):\n",
        "  print(args)\n",
        "  print(kwargs)\n",
        "  print('I would like {} {}'.format(args[0],kwargs['food']))"
      ],
      "metadata": {
        "id": "KIkWE03D3uuS"
      },
      "execution_count": null,
      "outputs": []
    },
    {
      "cell_type": "code",
      "source": [
        "myfunc(10,20,30, fruit='Orange', food='chapati', animal='dog')"
      ],
      "metadata": {
        "colab": {
          "base_uri": "https://localhost:8080/"
        },
        "id": "XaYZVf-l4Inr",
        "outputId": "728196bc-4697-47d6-ff9b-995fcad886ab"
      },
      "execution_count": null,
      "outputs": [
        {
          "output_type": "stream",
          "name": "stdout",
          "text": [
            "(10, 20, 30)\n",
            "{'fruit': 'Orange', 'food': 'chapati', 'animal': 'dog'}\n",
            "I would like 10 chapati\n"
          ]
        }
      ]
    },
    {
      "cell_type": "code",
      "source": [
        "# define function that takes an arbitrary number of arguments \n",
        "#and returns list containing those arguments that are even\n",
        "def myfunc(*args):\n",
        "  even_numlist = []\n",
        "  for num in args:\n",
        "    if num%2==0:\n",
        "      even_numlist.append(num)\n",
        "  return even_numlist"
      ],
      "metadata": {
        "id": "aTH8ew7x45wj"
      },
      "execution_count": null,
      "outputs": []
    },
    {
      "cell_type": "code",
      "source": [
        "myfunc(5,6,7,8)"
      ],
      "metadata": {
        "colab": {
          "base_uri": "https://localhost:8080/"
        },
        "id": "N7TxHUub5s28",
        "outputId": "e4847861-6f04-4a93-d9f5-6c2f0600f8b2"
      },
      "execution_count": null,
      "outputs": [
        {
          "output_type": "execute_result",
          "data": {
            "text/plain": [
              "[6, 8]"
            ]
          },
          "metadata": {},
          "execution_count": 71
        }
      ]
    },
    {
      "cell_type": "code",
      "source": [
        "myfunc(1,2,3,4,5,6,7,8,9)"
      ],
      "metadata": {
        "colab": {
          "base_uri": "https://localhost:8080/"
        },
        "id": "b6dath7f5wek",
        "outputId": "7b18b020-3eef-4ffa-cffc-504d161f4a1f"
      },
      "execution_count": null,
      "outputs": [
        {
          "output_type": "execute_result",
          "data": {
            "text/plain": [
              "[2, 4, 6, 8]"
            ]
          },
          "metadata": {},
          "execution_count": 73
        }
      ]
    },
    {
      "cell_type": "markdown",
      "source": [
        "#**map**"
      ],
      "metadata": {
        "id": "a3QAOEUa96vE"
      }
    },
    {
      "cell_type": "code",
      "source": [
        "def square(num):\n",
        "  return num**2"
      ],
      "metadata": {
        "id": "vUSGPgde99Zi"
      },
      "execution_count": null,
      "outputs": []
    },
    {
      "cell_type": "code",
      "source": [
        "my_nums=[1,2,3,4,5,6]"
      ],
      "metadata": {
        "id": "6VlSOdxNAFI5"
      },
      "execution_count": null,
      "outputs": []
    },
    {
      "cell_type": "code",
      "source": [
        "list(map(square,my_nums))"
      ],
      "metadata": {
        "colab": {
          "base_uri": "https://localhost:8080/"
        },
        "id": "H1tQH-lTAVzI",
        "outputId": "ddcefcd1-acda-40f6-806e-1edab927a30d"
      },
      "execution_count": null,
      "outputs": [
        {
          "output_type": "execute_result",
          "data": {
            "text/plain": [
              "[1, 4, 9, 16, 25, 36]"
            ]
          },
          "metadata": {},
          "execution_count": 83
        }
      ]
    },
    {
      "cell_type": "code",
      "source": [
        "def splicer(mystring):\n",
        "  if len(mystring)%2==0:\n",
        "    return 'EVEN'\n",
        "  else:\n",
        "    return mystring[0]"
      ],
      "metadata": {
        "id": "tr5X0ppgBqXB"
      },
      "execution_count": null,
      "outputs": []
    },
    {
      "cell_type": "code",
      "source": [
        "names = ['andy','eve','sally']"
      ],
      "metadata": {
        "id": "r22XwTTaCDJa"
      },
      "execution_count": null,
      "outputs": []
    },
    {
      "cell_type": "code",
      "source": [
        "list(map(splicer,names))"
      ],
      "metadata": {
        "colab": {
          "base_uri": "https://localhost:8080/"
        },
        "id": "L5ZLaG5nCL_S",
        "outputId": "57860ee8-33d5-487a-bfc4-590cb27ecbf4"
      },
      "execution_count": null,
      "outputs": [
        {
          "output_type": "execute_result",
          "data": {
            "text/plain": [
              "['EVEN', 'e', 's']"
            ]
          },
          "metadata": {},
          "execution_count": 86
        }
      ]
    },
    {
      "cell_type": "markdown",
      "source": [
        "#**filter**\n"
      ],
      "metadata": {
        "id": "_IL6ljF3EaT1"
      }
    },
    {
      "cell_type": "code",
      "source": [
        "mynnums = [1,2,3,4,5,6]"
      ],
      "metadata": {
        "id": "nrEaIii9EpNz"
      },
      "execution_count": null,
      "outputs": []
    },
    {
      "cell_type": "code",
      "source": [
        "list(filter(check_even,mynnums))"
      ],
      "metadata": {
        "colab": {
          "base_uri": "https://localhost:8080/"
        },
        "id": "yP4jJ6cPFjsE",
        "outputId": "4a0144ff-141f-4b91-e828-4b24e7a09245"
      },
      "execution_count": null,
      "outputs": [
        {
          "output_type": "execute_result",
          "data": {
            "text/plain": [
              "[2, 4, 6]"
            ]
          },
          "metadata": {},
          "execution_count": 91
        }
      ]
    },
    {
      "cell_type": "markdown",
      "source": [
        "#**lambda**"
      ],
      "metadata": {
        "id": "LHG6NFPYG13t"
      }
    },
    {
      "cell_type": "code",
      "source": [
        "square = lambda num: num**2"
      ],
      "metadata": {
        "id": "LGQ0kH1OF0vY"
      },
      "execution_count": null,
      "outputs": []
    },
    {
      "cell_type": "code",
      "source": [
        "square(8)"
      ],
      "metadata": {
        "colab": {
          "base_uri": "https://localhost:8080/"
        },
        "id": "vnSVkV7QHLxG",
        "outputId": "3f9b9e5a-b30b-48a6-9b6f-9d976634efe4"
      },
      "execution_count": null,
      "outputs": [
        {
          "output_type": "execute_result",
          "data": {
            "text/plain": [
              "64"
            ]
          },
          "metadata": {},
          "execution_count": 98
        }
      ]
    },
    {
      "cell_type": "code",
      "source": [
        "list(map(lambda num: num**2,mynnums))"
      ],
      "metadata": {
        "colab": {
          "base_uri": "https://localhost:8080/"
        },
        "id": "QbY6qFngJUkO",
        "outputId": "3d02fb5d-602d-456b-9ad5-db3ccd22f176"
      },
      "execution_count": null,
      "outputs": [
        {
          "output_type": "execute_result",
          "data": {
            "text/plain": [
              "[1, 4, 9, 16, 25, 36]"
            ]
          },
          "metadata": {},
          "execution_count": 99
        }
      ]
    },
    {
      "cell_type": "code",
      "source": [
        "list(filter(lambda num: num%2==0,mynnums))"
      ],
      "metadata": {
        "colab": {
          "base_uri": "https://localhost:8080/"
        },
        "id": "BQvEBp5aJlvE",
        "outputId": "e67d6b69-195b-4004-b3c9-f3bea26f6abb"
      },
      "execution_count": null,
      "outputs": [
        {
          "output_type": "execute_result",
          "data": {
            "text/plain": [
              "[2, 4, 6]"
            ]
          },
          "metadata": {},
          "execution_count": 100
        }
      ]
    },
    {
      "cell_type": "code",
      "source": [
        "list(map(lambda name:name[0],names))"
      ],
      "metadata": {
        "colab": {
          "base_uri": "https://localhost:8080/"
        },
        "id": "bvk3NHGqJ5OQ",
        "outputId": "72adf4b0-108c-4f7c-ea5b-f6d49b18f4a2"
      },
      "execution_count": null,
      "outputs": [
        {
          "output_type": "execute_result",
          "data": {
            "text/plain": [
              "['a', 'e', 's']"
            ]
          },
          "metadata": {},
          "execution_count": 101
        }
      ]
    }
  ]
}