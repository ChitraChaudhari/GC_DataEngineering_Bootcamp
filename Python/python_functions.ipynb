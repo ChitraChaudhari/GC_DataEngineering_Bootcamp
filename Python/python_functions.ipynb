{
  "nbformat": 4,
  "nbformat_minor": 0,
  "metadata": {
    "colab": {
      "name": "python_functions.ipynb",
      "provenance": [],
      "authorship_tag": "ABX9TyNvLSSjvqWZQ22J5VZOxs5c",
      "include_colab_link": true
    },
    "kernelspec": {
      "name": "python3",
      "display_name": "Python 3"
    },
    "language_info": {
      "name": "python"
    }
  },
  "cells": [
    {
      "cell_type": "markdown",
      "metadata": {
        "id": "view-in-github",
        "colab_type": "text"
      },
      "source": [
        "<a href=\"https://colab.research.google.com/github/ChitraChaudhari/GC_DataEngineering_Bootcamp/blob/main/Python/python_functions.ipynb\" target=\"_parent\"><img src=\"https://colab.research.google.com/assets/colab-badge.svg\" alt=\"Open In Colab\"/></a>"
      ]
    },
    {
      "cell_type": "code",
      "execution_count": null,
      "metadata": {
        "id": "mch19UsKBF4M"
      },
      "outputs": [],
      "source": [
        "def say_hello(name='there'):\n",
        "   print(f'Hello {name}!')"
      ]
    },
    {
      "cell_type": "code",
      "source": [
        "say_hello('chitra')"
      ],
      "metadata": {
        "colab": {
          "base_uri": "https://localhost:8080/"
        },
        "id": "F_I52DjPLopA",
        "outputId": "da9c0b01-384b-4360-c9bb-5044018d0928"
      },
      "execution_count": null,
      "outputs": [
        {
          "output_type": "stream",
          "name": "stdout",
          "text": [
            "Hello chitra!\n"
          ]
        }
      ]
    },
    {
      "cell_type": "code",
      "source": [
        "say_hello()"
      ],
      "metadata": {
        "colab": {
          "base_uri": "https://localhost:8080/"
        },
        "id": "ufne87HEMH9O",
        "outputId": "87dc5ae6-e996-4b53-f5ee-b6f61dd11f1e"
      },
      "execution_count": null,
      "outputs": [
        {
          "output_type": "stream",
          "name": "stdout",
          "text": [
            "Hello there!\n"
          ]
        }
      ]
    },
    {
      "cell_type": "code",
      "source": [
        "def add_num(num1,num2):\n",
        "  return num1+num2"
      ],
      "metadata": {
        "id": "clc20SqZMNWO"
      },
      "execution_count": null,
      "outputs": []
    },
    {
      "cell_type": "code",
      "source": [
        "result = add_num(10,20)\n",
        "result"
      ],
      "metadata": {
        "colab": {
          "base_uri": "https://localhost:8080/"
        },
        "id": "3Z5XkIf-MUhV",
        "outputId": "8b81e74f-22e2-49ff-9d00-76d81f51e048"
      },
      "execution_count": null,
      "outputs": [
        {
          "output_type": "execute_result",
          "data": {
            "text/plain": [
              "30"
            ]
          },
          "metadata": {},
          "execution_count": 5
        }
      ]
    },
    {
      "cell_type": "code",
      "source": [
        "def check_even(num):\n",
        "  if(num%2 == 0):\n",
        "    return True\n",
        "  \n",
        "  return False"
      ],
      "metadata": {
        "id": "_GCy7t9bNz-H"
      },
      "execution_count": null,
      "outputs": []
    },
    {
      "cell_type": "code",
      "source": [
        "check_even(5)"
      ],
      "metadata": {
        "colab": {
          "base_uri": "https://localhost:8080/"
        },
        "id": "lLP4E3RLOGH9",
        "outputId": "1917b236-53fc-4772-8a41-a7836e745233"
      },
      "execution_count": null,
      "outputs": [
        {
          "output_type": "execute_result",
          "data": {
            "text/plain": [
              "False"
            ]
          },
          "metadata": {},
          "execution_count": 10
        }
      ]
    },
    {
      "cell_type": "code",
      "source": [
        "check_even(1024)"
      ],
      "metadata": {
        "colab": {
          "base_uri": "https://localhost:8080/"
        },
        "id": "SuMvPzL_OJpd",
        "outputId": "bd894f39-ebb5-458e-a71f-b949b37585dc"
      },
      "execution_count": null,
      "outputs": [
        {
          "output_type": "execute_result",
          "data": {
            "text/plain": [
              "True"
            ]
          },
          "metadata": {},
          "execution_count": 11
        }
      ]
    },
    {
      "cell_type": "code",
      "source": [
        "def check_even_list(num_list):\n",
        "  even_numbers = []\n",
        "  for num in num_list:\n",
        "    if(num%2==0):\n",
        "      even_numbers.append(num)\n",
        "    else:\n",
        "      pass\n",
        "    \n",
        "  return even_numbers"
      ],
      "metadata": {
        "id": "65B90Dk6QJlO"
      },
      "execution_count": null,
      "outputs": []
    },
    {
      "cell_type": "code",
      "source": [
        "check_even_list([11,3,6,3,97,54,67,8])"
      ],
      "metadata": {
        "colab": {
          "base_uri": "https://localhost:8080/"
        },
        "id": "qvJFKW65Qnxg",
        "outputId": "822caee8-5395-4d7a-c61f-d53c266d63c9"
      },
      "execution_count": null,
      "outputs": [
        {
          "output_type": "execute_result",
          "data": {
            "text/plain": [
              "[6, 54, 8]"
            ]
          },
          "metadata": {},
          "execution_count": 15
        }
      ]
    },
    {
      "cell_type": "code",
      "source": [
        "work_hours = [('Abby',1000),('Billy',4000),('Cassie',800)]"
      ],
      "metadata": {
        "id": "w1Te8S01MFzs"
      },
      "execution_count": null,
      "outputs": []
    },
    {
      "cell_type": "code",
      "source": [
        "def employee_check(work_hours):\n",
        "  current_max = 0\n",
        "  employee_of_month = ''\n",
        "\n",
        "  for employee,hours in work_hours:\n",
        "    if hours > current_max:\n",
        "      current_max = hours\n",
        "      employee_of_month = employee\n",
        "    else:\n",
        "      pass\n",
        "\n",
        "  return (employee_of_month,current_max)"
      ],
      "metadata": {
        "id": "siOO_XouMWws"
      },
      "execution_count": null,
      "outputs": []
    },
    {
      "cell_type": "code",
      "source": [
        "employee_check(work_hours)"
      ],
      "metadata": {
        "colab": {
          "base_uri": "https://localhost:8080/"
        },
        "id": "nITm8oZsM-r0",
        "outputId": "22789247-59ef-4fcc-aab2-29a9ea6947bd"
      },
      "execution_count": null,
      "outputs": [
        {
          "output_type": "execute_result",
          "data": {
            "text/plain": [
              "('Billy', 4000)"
            ]
          },
          "metadata": {},
          "execution_count": 8
        }
      ]
    },
    {
      "cell_type": "code",
      "source": [
        "result = employee_check(work_hours)\n",
        "result"
      ],
      "metadata": {
        "colab": {
          "base_uri": "https://localhost:8080/"
        },
        "id": "w_bdKS6zN1hk",
        "outputId": "7443c455-cc1f-46fc-c4db-f901274c4843"
      },
      "execution_count": null,
      "outputs": [
        {
          "output_type": "execute_result",
          "data": {
            "text/plain": [
              "('Billy', 4000)"
            ]
          },
          "metadata": {},
          "execution_count": 10
        }
      ]
    },
    {
      "cell_type": "code",
      "source": [
        "name,hours = employee_check(work_hours)\n",
        "name"
      ],
      "metadata": {
        "colab": {
          "base_uri": "https://localhost:8080/",
          "height": 35
        },
        "id": "IZLm8FASN8XL",
        "outputId": "8358e058-71cf-4723-84fd-c13aab5dde7b"
      },
      "execution_count": null,
      "outputs": [
        {
          "output_type": "execute_result",
          "data": {
            "text/plain": [
              "'Billy'"
            ],
            "application/vnd.google.colaboratory.intrinsic+json": {
              "type": "string"
            }
          },
          "metadata": {},
          "execution_count": 11
        }
      ]
    },
    {
      "cell_type": "code",
      "source": [
        "hours"
      ],
      "metadata": {
        "colab": {
          "base_uri": "https://localhost:8080/"
        },
        "id": "okHw9ttCOFzi",
        "outputId": "c738e22b-ba2e-458c-e9b8-fd4e978933a8"
      },
      "execution_count": null,
      "outputs": [
        {
          "output_type": "execute_result",
          "data": {
            "text/plain": [
              "4000"
            ]
          },
          "metadata": {},
          "execution_count": 12
        }
      ]
    },
    {
      "cell_type": "code",
      "source": [
        "from random import shuffle\n",
        "\n",
        "def shuffle_list(mylist):\n",
        "  shuffle(mylist)\n",
        "  return mylist"
      ],
      "metadata": {
        "id": "2yyuO5aPORRC"
      },
      "execution_count": null,
      "outputs": []
    },
    {
      "cell_type": "code",
      "source": [
        "def player_guess():\n",
        "  guess = ''\n",
        "\n",
        "  while guess not in ['0','1','2']:\n",
        "    guess = input(\"pick a number: 0,1, or 2 \")\n",
        "\n",
        "  return int(guess)"
      ],
      "metadata": {
        "id": "rCxmAlW7QOe8"
      },
      "execution_count": null,
      "outputs": []
    },
    {
      "cell_type": "code",
      "source": [
        "def check_guess(mylist,guess):\n",
        "  if mylist[guess] == 'O':\n",
        "    print(\"Correct!\")\n",
        "  else:\n",
        "    print(\"Wrong guess!\")\n",
        "    print(mylist)"
      ],
      "metadata": {
        "id": "g7DXFpBOQ6CE"
      },
      "execution_count": null,
      "outputs": []
    },
    {
      "cell_type": "code",
      "source": [
        "#Initial list\n",
        "mylist = [' ','O',' ']\n",
        "#Shuffle list\n",
        "mixedup_list = shuffle_list(mylist)\n",
        "#User guess\n",
        "user_guess = player_guess()\n",
        "#check guess\n",
        "check_guess(mixedup_list,user_guess)"
      ],
      "metadata": {
        "colab": {
          "base_uri": "https://localhost:8080/"
        },
        "id": "03rZSZ2lPonZ",
        "outputId": "a7e1f56d-0113-4316-8ba5-743281d6cbfb"
      },
      "execution_count": null,
      "outputs": [
        {
          "output_type": "stream",
          "name": "stdout",
          "text": [
            "pick a number: 0,1, or 2 5\n",
            "pick a number: 0,1, or 2 1\n",
            "Wrong guess!\n",
            "['O', ' ', ' ']\n"
          ]
        }
      ]
    },
    {
      "cell_type": "markdown",
      "source": [
        "# **LESSER OF TWO EVENS:**\n",
        "\n",
        " Write a function that returns the lesser of two given numbers if both numbers are even, but returns the greater if one or both numbers are odd\n",
        "\n",
        "lesser_of_two_evens(2,4) --> 2\n",
        "\n",
        "lesser_of_two_evens(2,5) --> 5"
      ],
      "metadata": {
        "id": "2IuR1-h9b7oT"
      }
    },
    {
      "cell_type": "code",
      "source": [
        "def lesser_of_two_evens(a,b):\n",
        "  if(a%2==0 and b%2==0):\n",
        "    return a if a<b else b\n",
        "  else:\n",
        "    return a if a>b else b "
      ],
      "metadata": {
        "id": "1hlIk1yJcECM"
      },
      "execution_count": null,
      "outputs": []
    },
    {
      "cell_type": "code",
      "source": [
        "# Check\n",
        "lesser_of_two_evens(2,4)"
      ],
      "metadata": {
        "colab": {
          "base_uri": "https://localhost:8080/"
        },
        "id": "8MYQFQeydFOX",
        "outputId": "6b35d0b7-5539-4533-9ae3-868c1dd1ce82"
      },
      "execution_count": null,
      "outputs": [
        {
          "output_type": "execute_result",
          "data": {
            "text/plain": [
              "2"
            ]
          },
          "metadata": {},
          "execution_count": 2
        }
      ]
    },
    {
      "cell_type": "code",
      "source": [
        "lesser_of_two_evens(2,5)"
      ],
      "metadata": {
        "colab": {
          "base_uri": "https://localhost:8080/"
        },
        "id": "XqEyiN-5dHMV",
        "outputId": "1946e2df-bdd2-4c28-c6c6-62ab2d85f4d2"
      },
      "execution_count": null,
      "outputs": [
        {
          "output_type": "execute_result",
          "data": {
            "text/plain": [
              "5"
            ]
          },
          "metadata": {},
          "execution_count": 3
        }
      ]
    },
    {
      "cell_type": "markdown",
      "source": [
        "# **ANIMAL CRACKERS:**\n",
        "##Write a function takes a two-word string and returns True if both words begin with same letter\n",
        "\n",
        "animal_crackers('Levelheaded Llama') --> True\n",
        "\n",
        "animal_crackers('Crazy Kangaroo') --> False"
      ],
      "metadata": {
        "id": "bgAt4YuZGgdf"
      }
    },
    {
      "cell_type": "code",
      "source": [
        "def animal_crackers(text):\n",
        "    if len(text.split())==2:\n",
        "      if(text[0]==text.split()[1][0]):\n",
        "        return True\n",
        "      else:\n",
        "        return False\n",
        "    else:\n",
        "      print(\"Enter two word string only\")"
      ],
      "metadata": {
        "id": "TQMg_8SsGqgv"
      },
      "execution_count": 6,
      "outputs": []
    },
    {
      "cell_type": "code",
      "source": [
        "text = 'Crazy Kangaroo'\n",
        "text.split()[1][0]\n",
        "text[0]"
      ],
      "metadata": {
        "colab": {
          "base_uri": "https://localhost:8080/",
          "height": 35
        },
        "id": "zb0y1Kaz9ZGU",
        "outputId": "87822d0e-d88e-4648-d89c-6de6b1270951"
      },
      "execution_count": 2,
      "outputs": [
        {
          "output_type": "execute_result",
          "data": {
            "text/plain": [
              "'C'"
            ],
            "application/vnd.google.colaboratory.intrinsic+json": {
              "type": "string"
            }
          },
          "metadata": {},
          "execution_count": 2
        }
      ]
    },
    {
      "cell_type": "code",
      "source": [
        "# Check\n",
        "animal_crackers('Levelheaded Llama')"
      ],
      "metadata": {
        "id": "yTDqk9WlG4zG",
        "colab": {
          "base_uri": "https://localhost:8080/"
        },
        "outputId": "e8c05509-42c1-4a3c-c862-1dce33216d6a"
      },
      "execution_count": 7,
      "outputs": [
        {
          "output_type": "execute_result",
          "data": {
            "text/plain": [
              "True"
            ]
          },
          "metadata": {},
          "execution_count": 7
        }
      ]
    },
    {
      "cell_type": "code",
      "source": [
        "# Check\n",
        "animal_crackers('Crazy Kangaroo')"
      ],
      "metadata": {
        "id": "F-zyNx-_G7KM",
        "colab": {
          "base_uri": "https://localhost:8080/"
        },
        "outputId": "0f543303-29a0-427c-e4d3-e5252328e08e"
      },
      "execution_count": 8,
      "outputs": [
        {
          "output_type": "execute_result",
          "data": {
            "text/plain": [
              "False"
            ]
          },
          "metadata": {},
          "execution_count": 8
        }
      ]
    },
    {
      "cell_type": "markdown",
      "source": [
        "#**MAKES TWENTY:**\n",
        "# Given two integers, return True if the sum of the integers is 20 or if one of the integers is 20. If not, return False\n",
        "\n",
        "makes_twenty(20,10) --> True\n",
        "\n",
        "makes_twenty(12,8) --> True\n",
        "\n",
        "makes_twenty(2,3) --> False"
      ],
      "metadata": {
        "id": "0088QtIF-YdB"
      }
    },
    {
      "cell_type": "code",
      "source": [
        "def makes_twenty(n1,n2):\n",
        "  if(n1+n2==20 or n1==20 or n2==20):\n",
        "    return True\n",
        "  else:\n",
        "    return False"
      ],
      "metadata": {
        "id": "-dcIJKDp-X_c"
      },
      "execution_count": 9,
      "outputs": []
    },
    {
      "cell_type": "code",
      "source": [
        "# Check\n",
        "makes_twenty(20,10)"
      ],
      "metadata": {
        "colab": {
          "base_uri": "https://localhost:8080/"
        },
        "id": "jRa1sB19-vJG",
        "outputId": "94599666-a567-444a-bd73-4dbfd892c4a1"
      },
      "execution_count": 10,
      "outputs": [
        {
          "output_type": "execute_result",
          "data": {
            "text/plain": [
              "True"
            ]
          },
          "metadata": {},
          "execution_count": 10
        }
      ]
    },
    {
      "cell_type": "code",
      "source": [
        "# Check\n",
        "makes_twenty(2,3)"
      ],
      "metadata": {
        "colab": {
          "base_uri": "https://localhost:8080/"
        },
        "id": "lJ-XJxDX-ylZ",
        "outputId": "276320ff-6b68-4959-b479-fe52eedb6c2f"
      },
      "execution_count": 11,
      "outputs": [
        {
          "output_type": "execute_result",
          "data": {
            "text/plain": [
              "False"
            ]
          },
          "metadata": {},
          "execution_count": 11
        }
      ]
    },
    {
      "cell_type": "code",
      "source": [
        "makes_twenty(12,8)"
      ],
      "metadata": {
        "colab": {
          "base_uri": "https://localhost:8080/"
        },
        "id": "zWeaIN0K_8Ux",
        "outputId": "f1251f53-3bd8-4e88-b7b1-9c37ea992490"
      },
      "execution_count": 12,
      "outputs": [
        {
          "output_type": "execute_result",
          "data": {
            "text/plain": [
              "True"
            ]
          },
          "metadata": {},
          "execution_count": 12
        }
      ]
    },
    {
      "cell_type": "markdown",
      "source": [
        "#**OLD MACDONALD:**\n",
        "#Write a function that capitalizes the first and fourth letters of a name\n",
        "\n",
        "old_macdonald('macdonald') --> MacDonald"
      ],
      "metadata": {
        "id": "yhHWdEiFANnC"
      }
    },
    {
      "cell_type": "code",
      "source": [
        "def old_macdonald(name):\n",
        "  if(len(name)>3):\n",
        "    return name[:3].capitalize() + name[3:].capitalize()\n",
        "  else:\n",
        "    return \"Name is too short!\""
      ],
      "metadata": {
        "id": "cbaZWjf0AgDQ"
      },
      "execution_count": 30,
      "outputs": []
    },
    {
      "cell_type": "code",
      "source": [
        "# Check\n",
        "new_name=old_macdonald('macdonald')\n",
        "new_name"
      ],
      "metadata": {
        "colab": {
          "base_uri": "https://localhost:8080/",
          "height": 35
        },
        "id": "nP6u3hVLBJt-",
        "outputId": "cf2029b4-37a5-4d83-86fe-8ef88d38ae21"
      },
      "execution_count": 31,
      "outputs": [
        {
          "output_type": "execute_result",
          "data": {
            "text/plain": [
              "'MacDonald'"
            ],
            "application/vnd.google.colaboratory.intrinsic+json": {
              "type": "string"
            }
          },
          "metadata": {},
          "execution_count": 31
        }
      ]
    },
    {
      "cell_type": "markdown",
      "source": [
        "#**MASTER YODA:**\n",
        "#Given a sentence, return a sentence with the words reversed\n",
        "\n",
        "master_yoda('I am home') --> 'home am I'\n",
        "\n",
        "master_yoda('We are ready') --> 'ready are We'"
      ],
      "metadata": {
        "id": "OaDlO_F2DSSG"
      }
    },
    {
      "cell_type": "code",
      "source": [
        "def master_yoda(text):\n",
        "    text_list = text.split()\n",
        "    text_list.reverse()\n",
        "    new_sentence = \" \".join(text_list)\n",
        "    return new_sentence"
      ],
      "metadata": {
        "id": "tjo8kPYEDc1A"
      },
      "execution_count": 3,
      "outputs": []
    },
    {
      "cell_type": "code",
      "source": [
        "# Check\n",
        "master_yoda('I am home')"
      ],
      "metadata": {
        "colab": {
          "base_uri": "https://localhost:8080/",
          "height": 35
        },
        "id": "jk8KV-0-PZjS",
        "outputId": "aadf13b8-9fbe-46da-b7fe-3233f087035c"
      },
      "execution_count": 5,
      "outputs": [
        {
          "output_type": "execute_result",
          "data": {
            "text/plain": [
              "'home am I'"
            ],
            "application/vnd.google.colaboratory.intrinsic+json": {
              "type": "string"
            }
          },
          "metadata": {},
          "execution_count": 5
        }
      ]
    },
    {
      "cell_type": "code",
      "source": [
        "# Check\n",
        "master_yoda('We are ready')"
      ],
      "metadata": {
        "colab": {
          "base_uri": "https://localhost:8080/",
          "height": 35
        },
        "id": "zMAUU8rCGV_S",
        "outputId": "af302e19-0283-4a93-c6b5-208798095671"
      },
      "execution_count": 4,
      "outputs": [
        {
          "output_type": "execute_result",
          "data": {
            "text/plain": [
              "'ready are We'"
            ],
            "application/vnd.google.colaboratory.intrinsic+json": {
              "type": "string"
            }
          },
          "metadata": {},
          "execution_count": 4
        }
      ]
    },
    {
      "cell_type": "code",
      "source": [
        "text = 'chitra kiran'\n",
        "new_text = text.split()\n",
        "new_text.reverse()\n",
        "new_sentence = \" \".join(new_text)\n",
        "new_sentence"
      ],
      "metadata": {
        "colab": {
          "base_uri": "https://localhost:8080/",
          "height": 35
        },
        "id": "k6cS8KlyET-b",
        "outputId": "bf8d2112-7d8e-4da6-eb1d-617aab9e28a1"
      },
      "execution_count": 45,
      "outputs": [
        {
          "output_type": "execute_result",
          "data": {
            "text/plain": [
              "'kiran chitra'"
            ],
            "application/vnd.google.colaboratory.intrinsic+json": {
              "type": "string"
            }
          },
          "metadata": {},
          "execution_count": 45
        }
      ]
    },
    {
      "cell_type": "markdown",
      "source": [
        "#**ALMOST THERE:**\n",
        "\n",
        "##Given an integer n, return True if n is within 10 of either 100 or 200\n",
        "almost_there(90) --> True\n",
        "\n",
        "almost_there(104) --> True\n",
        "\n",
        "almost_there(150) --> False"
      ],
      "metadata": {
        "id": "LkXQ3wi8PcSj"
      }
    },
    {
      "cell_type": "code",
      "source": [
        "def almost_there(n):\n",
        "  if(n>=90 and n<=110 or n>=190 and n<=210):\n",
        "    return True\n",
        "  else:\n",
        "    return False"
      ],
      "metadata": {
        "id": "4ClnGGLYPrmJ"
      },
      "execution_count": 9,
      "outputs": []
    },
    {
      "cell_type": "code",
      "source": [
        "# Check\n",
        "almost_there(104)"
      ],
      "metadata": {
        "colab": {
          "base_uri": "https://localhost:8080/"
        },
        "id": "ffJ5ve6XP3xC",
        "outputId": "1d203e08-bc63-4905-db61-4fd6172e839d"
      },
      "execution_count": 10,
      "outputs": [
        {
          "output_type": "execute_result",
          "data": {
            "text/plain": [
              "True"
            ]
          },
          "metadata": {},
          "execution_count": 10
        }
      ]
    },
    {
      "cell_type": "code",
      "source": [
        "# Check\n",
        "almost_there(150)"
      ],
      "metadata": {
        "colab": {
          "base_uri": "https://localhost:8080/"
        },
        "id": "NOpBITD3P6Fi",
        "outputId": "4b3c6657-7567-4e26-98e4-842b9ae80cdc"
      },
      "execution_count": 11,
      "outputs": [
        {
          "output_type": "execute_result",
          "data": {
            "text/plain": [
              "False"
            ]
          },
          "metadata": {},
          "execution_count": 11
        }
      ]
    },
    {
      "cell_type": "code",
      "source": [
        "# Check\n",
        "almost_there(2000)"
      ],
      "metadata": {
        "colab": {
          "base_uri": "https://localhost:8080/"
        },
        "id": "6KN1j-nUP8S6",
        "outputId": "81034844-090f-44c0-c951-219a65b45b15"
      },
      "execution_count": 13,
      "outputs": [
        {
          "output_type": "execute_result",
          "data": {
            "text/plain": [
              "False"
            ]
          },
          "metadata": {},
          "execution_count": 13
        }
      ]
    },
    {
      "cell_type": "markdown",
      "source": [
        "#**FIND 33:**\n",
        "##Given a list of ints, return True if the array contains a 3 next to a 3 somewhere.\n",
        "\n",
        "has_33([1, 3, 3]) → True\n",
        "\n",
        "has_33([1, 3, 1, 3]) → False\n",
        "\n",
        "has_33([3, 1, 3]) → False"
      ],
      "metadata": {
        "id": "2ExLnIlMV6-5"
      }
    },
    {
      "cell_type": "code",
      "source": [
        "def has_33(nums):\n",
        "  teststr = ''\n",
        "  for num in nums:\n",
        "    teststr = teststr+str(num)\n",
        "  \n",
        "  if '33' in teststr:\n",
        "    return True\n",
        "  else:\n",
        "    return False\n",
        "   "
      ],
      "metadata": {
        "id": "tF118KFcWGOl"
      },
      "execution_count": 30,
      "outputs": []
    },
    {
      "cell_type": "code",
      "source": [
        "# Check\n",
        "has_33([1, 3, 3])"
      ],
      "metadata": {
        "colab": {
          "base_uri": "https://localhost:8080/"
        },
        "id": "s4XMJnfKWTWu",
        "outputId": "168e8024-2c5b-46e0-ebbf-47d70882bf14"
      },
      "execution_count": 31,
      "outputs": [
        {
          "output_type": "execute_result",
          "data": {
            "text/plain": [
              "True"
            ]
          },
          "metadata": {},
          "execution_count": 31
        }
      ]
    },
    {
      "cell_type": "code",
      "source": [
        "# Check\n",
        "has_33([1, 3, 1, 3])"
      ],
      "metadata": {
        "colab": {
          "base_uri": "https://localhost:8080/"
        },
        "id": "Yq1idJcYWW0a",
        "outputId": "e778b327-f557-4538-e4bd-14ac3c9613f7"
      },
      "execution_count": 32,
      "outputs": [
        {
          "output_type": "execute_result",
          "data": {
            "text/plain": [
              "False"
            ]
          },
          "metadata": {},
          "execution_count": 32
        }
      ]
    },
    {
      "cell_type": "code",
      "source": [
        "# Check\n",
        "has_33([3, 1, 3])"
      ],
      "metadata": {
        "colab": {
          "base_uri": "https://localhost:8080/"
        },
        "id": "s61xDDtaWYJT",
        "outputId": "2399ec54-b68a-46e8-8b35-8afad59143a5"
      },
      "execution_count": 36,
      "outputs": [
        {
          "output_type": "execute_result",
          "data": {
            "text/plain": [
              "False"
            ]
          },
          "metadata": {},
          "execution_count": 36
        }
      ]
    },
    {
      "cell_type": "markdown",
      "source": [
        "#**PAPER DOLL:**\n",
        "#Given a string, return a string where for every character in the original there are three characters\n",
        "\n",
        "paper_doll('Hello') --> 'HHHeeellllllooo'\n",
        "\n",
        "paper_doll('Mississippi') --> 'MMMiiissssssiiippppppiii'"
      ],
      "metadata": {
        "id": "CS1GQSA5ZWus"
      }
    },
    {
      "cell_type": "code",
      "source": [
        "def paper_doll(text):\n",
        "    newstr = ''\n",
        "    for letter in text:\n",
        "      newstr += 3*letter\n",
        "    return newstr"
      ],
      "metadata": {
        "id": "X7vq7GkiZc6c"
      },
      "execution_count": 37,
      "outputs": []
    },
    {
      "cell_type": "code",
      "source": [
        "# Check\n",
        "paper_doll('Hello')"
      ],
      "metadata": {
        "colab": {
          "base_uri": "https://localhost:8080/",
          "height": 35
        },
        "id": "kt_wPROCZi_o",
        "outputId": "eac71482-2d7e-4139-eb00-9da2b47c6800"
      },
      "execution_count": 38,
      "outputs": [
        {
          "output_type": "execute_result",
          "data": {
            "text/plain": [
              "'HHHeeellllllooo'"
            ],
            "application/vnd.google.colaboratory.intrinsic+json": {
              "type": "string"
            }
          },
          "metadata": {},
          "execution_count": 38
        }
      ]
    },
    {
      "cell_type": "code",
      "source": [
        "# Check\n",
        "paper_doll('Mississippi')"
      ],
      "metadata": {
        "colab": {
          "base_uri": "https://localhost:8080/",
          "height": 35
        },
        "id": "NsWMxKBHZliA",
        "outputId": "eaa7560d-f161-4257-ba4a-0dad3cd6913c"
      },
      "execution_count": 39,
      "outputs": [
        {
          "output_type": "execute_result",
          "data": {
            "text/plain": [
              "'MMMiiissssssiiissssssiiippppppiii'"
            ],
            "application/vnd.google.colaboratory.intrinsic+json": {
              "type": "string"
            }
          },
          "metadata": {},
          "execution_count": 39
        }
      ]
    },
    {
      "cell_type": "markdown",
      "source": [
        "#**BLACKJACK:**\n",
        "##Given three integers between 1 and 11, if their sum is less than or equal to 21, return their sum. If their sum exceeds 21 and there's an eleven, reduce the total sum by 10. Finally, if the sum (even after adjustment) exceeds 21, return 'BUST'\n",
        "blackjack(5,6,7) --> 18\n",
        "\n",
        "blackjack(9,9,9) --> 'BUST'\n",
        "\n",
        "blackjack(9,9,11) --> 19"
      ],
      "metadata": {
        "id": "Q-ZV9_D6ddZD"
      }
    },
    {
      "cell_type": "code",
      "source": [
        "def blackjack(a,b,c):\n",
        "  sum = a+b+c\n",
        "  if(sum<=21):\n",
        "    return sum\n",
        "  elif(a==11 or b==11 or c==11):\n",
        "    return sum-10\n",
        "  else:\n",
        "    return 'BUST'"
      ],
      "metadata": {
        "id": "EeyN5B_edo80"
      },
      "execution_count": 40,
      "outputs": []
    },
    {
      "cell_type": "code",
      "source": [
        "# Check\n",
        "blackjack(5,6,7)"
      ],
      "metadata": {
        "colab": {
          "base_uri": "https://localhost:8080/"
        },
        "id": "P6ExnPmydy5n",
        "outputId": "ee55ec73-ffa6-4580-bb80-ef2be2c40ed3"
      },
      "execution_count": 41,
      "outputs": [
        {
          "output_type": "execute_result",
          "data": {
            "text/plain": [
              "18"
            ]
          },
          "metadata": {},
          "execution_count": 41
        }
      ]
    },
    {
      "cell_type": "code",
      "source": [
        "# Check\n",
        "blackjack(9,9,9)"
      ],
      "metadata": {
        "colab": {
          "base_uri": "https://localhost:8080/",
          "height": 35
        },
        "id": "jjT0okdOd1pC",
        "outputId": "adeff942-d702-45f1-8cdd-16f2bc5916ff"
      },
      "execution_count": 42,
      "outputs": [
        {
          "output_type": "execute_result",
          "data": {
            "text/plain": [
              "'BUST'"
            ],
            "application/vnd.google.colaboratory.intrinsic+json": {
              "type": "string"
            }
          },
          "metadata": {},
          "execution_count": 42
        }
      ]
    },
    {
      "cell_type": "code",
      "source": [
        "# Check\n",
        "blackjack(9,9,11)"
      ],
      "metadata": {
        "colab": {
          "base_uri": "https://localhost:8080/"
        },
        "id": "RyKO6DC1d3S4",
        "outputId": "e35f8fbc-87f4-4e3d-c05b-5be8840300ed"
      },
      "execution_count": 43,
      "outputs": [
        {
          "output_type": "execute_result",
          "data": {
            "text/plain": [
              "19"
            ]
          },
          "metadata": {},
          "execution_count": 43
        }
      ]
    },
    {
      "cell_type": "markdown",
      "source": [
        "#**SUMMER OF '69:**\n",
        "##Return the sum of the numbers in the array, except ignore sections of numbers starting with a 6 and extending to the next 9 (every 6 will be followed by at least one 9). Return 0 for no numbers.\n",
        "summer_69([1, 3, 5]) --> 9\n",
        "\n",
        "summer_69([4, 5, 6, 7, 8, 9]) --> 9\n",
        "\n",
        "summer_69([2, 1, 6, 9, 11]) --> 14"
      ],
      "metadata": {
        "id": "ZMp2Qf2diWYI"
      }
    },
    {
      "cell_type": "code",
      "source": [
        "def summer_69(arr):\n",
        "    pass"
      ],
      "metadata": {
        "id": "yKTmTocbiUkT"
      },
      "execution_count": null,
      "outputs": []
    },
    {
      "cell_type": "code",
      "source": [
        "# Check\n",
        "summer_69([1, 3, 5])"
      ],
      "metadata": {
        "id": "6c3hMn7djlm6"
      },
      "execution_count": null,
      "outputs": []
    },
    {
      "cell_type": "code",
      "source": [
        "# Check\n",
        "summer_69([4, 5, 6, 7, 8, 9])"
      ],
      "metadata": {
        "id": "x7iGuzq7jotH"
      },
      "execution_count": null,
      "outputs": []
    },
    {
      "cell_type": "code",
      "source": [
        "# Check\n",
        "summer_69([2, 1, 6, 9, 11])"
      ],
      "metadata": {
        "id": "HsqJrwhyjqrZ"
      },
      "execution_count": null,
      "outputs": []
    },
    {
      "cell_type": "markdown",
      "source": [
        "#**SPY GAME:**\n",
        "#Write a function that takes in a list of integers and returns True if it contains 007 in order\n",
        " \n",
        " spy_game([1,2,4,0,0,7,5]) --> True\n",
        "\n",
        " spy_game([1,0,2,4,0,5,7]) --> True\n",
        "\n",
        " spy_game([1,7,2,0,4,5,0]) --> False"
      ],
      "metadata": {
        "id": "LFCJzMvWj4p_"
      }
    },
    {
      "cell_type": "code",
      "source": [
        "def spy_game(nums):\n",
        "    pass"
      ],
      "metadata": {
        "id": "MfOf-2sFkG-b"
      },
      "execution_count": null,
      "outputs": []
    },
    {
      "cell_type": "code",
      "source": [
        "# Check\n",
        "spy_game([1,2,4,0,0,7,5])"
      ],
      "metadata": {
        "id": "5rG_Rln0kJnD"
      },
      "execution_count": null,
      "outputs": []
    },
    {
      "cell_type": "code",
      "source": [
        "# Check\n",
        "spy_game([1,0,2,4,0,5,7])"
      ],
      "metadata": {
        "id": "dS9_qOcqkMrU"
      },
      "execution_count": null,
      "outputs": []
    },
    {
      "cell_type": "code",
      "source": [
        "# Check\n",
        "spy_game([1,7,2,0,4,5,0])"
      ],
      "metadata": {
        "id": "Oi7p1G4XkObw"
      },
      "execution_count": null,
      "outputs": []
    },
    {
      "cell_type": "markdown",
      "source": [
        "#**COUNT PRIMES:**\n",
        "##Write a function that returns the number of prime numbers that exist up to and including a given number\n",
        "\n",
        "count_primes(100) --> 25\n",
        "\n",
        "By convention, 0 and 1 are not prime."
      ],
      "metadata": {
        "id": "uNnUNqNmkSOv"
      }
    },
    {
      "cell_type": "code",
      "source": [
        "def count_primes(num):\n",
        "    pass"
      ],
      "metadata": {
        "id": "9BEwksBtkZHP"
      },
      "execution_count": null,
      "outputs": []
    },
    {
      "cell_type": "code",
      "source": [
        "# Check\n",
        "count_primes(100)"
      ],
      "metadata": {
        "id": "OT_ZHU3Jkd8x"
      },
      "execution_count": null,
      "outputs": []
    },
    {
      "cell_type": "markdown",
      "source": [
        "#**PRINT BIG:**\n",
        "##Write a function that takes in a single letter, and returns a 5x5 representation of that letter\n",
        "\n",
        "print_big('a')\n",
        "\n",
        "out:\n",
        "\n",
        "       *\n",
        "      * *\n",
        "     *****\n",
        "     *   *\n",
        "     *   *\n",
        "\n",
        "HINT: Consider making a dictionary of possible patterns, and mapping the alphabet to specific 5-line combinations of patterns.\n",
        "\n",
        "For purposes of this exercise, it's ok if your dictionary stops at \"E\"."
      ],
      "metadata": {
        "id": "yw-0V76jklIT"
      }
    },
    {
      "cell_type": "code",
      "source": [
        "def print_big(letter):\n",
        "    pass"
      ],
      "metadata": {
        "id": "SZviZ103k-a4"
      },
      "execution_count": null,
      "outputs": []
    },
    {
      "cell_type": "code",
      "source": [
        "print_big('a')"
      ],
      "metadata": {
        "id": "XR0VSLeMlCZ0"
      },
      "execution_count": null,
      "outputs": []
    }
  ]
}