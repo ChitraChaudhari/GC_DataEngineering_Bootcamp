{
  "nbformat": 4,
  "nbformat_minor": 0,
  "metadata": {
    "colab": {
      "name": "Python_Generators.ipynb",
      "provenance": [],
      "authorship_tag": "ABX9TyNWKmJxp0Xtl81SWXA0O0IT",
      "include_colab_link": true
    },
    "kernelspec": {
      "name": "python3",
      "display_name": "Python 3"
    },
    "language_info": {
      "name": "python"
    }
  },
  "cells": [
    {
      "cell_type": "markdown",
      "metadata": {
        "id": "view-in-github",
        "colab_type": "text"
      },
      "source": [
        "<a href=\"https://colab.research.google.com/github/ChitraChaudhari/GC_DataEngineering_Bootcamp/blob/main/Python/Python_Generators.ipynb\" target=\"_parent\"><img src=\"https://colab.research.google.com/assets/colab-badge.svg\" alt=\"Open In Colab\"/></a>"
      ]
    },
    {
      "cell_type": "markdown",
      "source": [
        "## A **generator** is a special kind of iterator, which stores the instructions for how to generate each of its members, in order, along with its current state of iterations. It generates each member, one at a time, only as it is requested via iteration.\n",
        "\n",
        "Recall that a list readily stores all of its members; you can access any of its contents via indexing. A generator, on the other hand, does not store any items. Instead, it stores the instructions for generating each of its members, and stores its iteration state; this means that the generator will know if it has generated its second member, and will thus generate its third member the next time it is iterated on.\n",
        "\n",
        "The whole point of this is that you can use a generator to produce a long sequence of items, without having to store them all in memory.\n"
      ],
      "metadata": {
        "id": "ilapU2fbLgHT"
      }
    },
    {
      "cell_type": "code",
      "execution_count": 1,
      "metadata": {
        "id": "MwuRjsJxcglR"
      },
      "outputs": [],
      "source": [
        "def create_cubes(n):\n",
        "  result = []\n",
        "  for x in range(n):\n",
        "    result.append(x**3)\n",
        "  return result"
      ]
    },
    {
      "cell_type": "code",
      "source": [
        "create_cubes(10)"
      ],
      "metadata": {
        "colab": {
          "base_uri": "https://localhost:8080/"
        },
        "id": "4D3ckOWUq5yQ",
        "outputId": "84313c15-8fcf-4c08-d622-bbd1a44207f4"
      },
      "execution_count": 2,
      "outputs": [
        {
          "output_type": "execute_result",
          "data": {
            "text/plain": [
              "[0, 1, 8, 27, 64, 125, 216, 343, 512, 729]"
            ]
          },
          "metadata": {},
          "execution_count": 2
        }
      ]
    },
    {
      "cell_type": "code",
      "source": [
        "for x in create_cubes(10):\n",
        "  print(x)"
      ],
      "metadata": {
        "colab": {
          "base_uri": "https://localhost:8080/"
        },
        "id": "A6pzYxPrrSkM",
        "outputId": "c6acf370-55fe-4715-825b-8c06bb66fffc"
      },
      "execution_count": 3,
      "outputs": [
        {
          "output_type": "stream",
          "name": "stdout",
          "text": [
            "0\n",
            "1\n",
            "8\n",
            "27\n",
            "64\n",
            "125\n",
            "216\n",
            "343\n",
            "512\n",
            "729\n"
          ]
        }
      ]
    },
    {
      "cell_type": "code",
      "source": [
        "def create_cubes(n):\n",
        "  for x in range(n):\n",
        "    yield x**3"
      ],
      "metadata": {
        "id": "RJm8s4q4rahC"
      },
      "execution_count": 4,
      "outputs": []
    },
    {
      "cell_type": "code",
      "source": [
        "create_cubes(10)"
      ],
      "metadata": {
        "colab": {
          "base_uri": "https://localhost:8080/"
        },
        "id": "t15_jNIkrm9Y",
        "outputId": "8265728e-80c8-41a6-eeef-275c13c8ba38"
      },
      "execution_count": 5,
      "outputs": [
        {
          "output_type": "execute_result",
          "data": {
            "text/plain": [
              "<generator object create_cubes at 0x7f8d17562e50>"
            ]
          },
          "metadata": {},
          "execution_count": 5
        }
      ]
    },
    {
      "cell_type": "code",
      "source": [
        "for x in create_cubes(10):\n",
        "  print(x)"
      ],
      "metadata": {
        "colab": {
          "base_uri": "https://localhost:8080/"
        },
        "id": "KRuEHkk0rviu",
        "outputId": "fb28e4e1-c332-491b-eafa-38c526b13608"
      },
      "execution_count": 6,
      "outputs": [
        {
          "output_type": "stream",
          "name": "stdout",
          "text": [
            "0\n",
            "1\n",
            "8\n",
            "27\n",
            "64\n",
            "125\n",
            "216\n",
            "343\n",
            "512\n",
            "729\n"
          ]
        }
      ]
    },
    {
      "cell_type": "code",
      "source": [
        "list(create_cubes(10))"
      ],
      "metadata": {
        "colab": {
          "base_uri": "https://localhost:8080/"
        },
        "id": "A2oJakrpryuI",
        "outputId": "d332d50c-fdd3-4c3d-e72e-5cc20498fc31"
      },
      "execution_count": 7,
      "outputs": [
        {
          "output_type": "execute_result",
          "data": {
            "text/plain": [
              "[0, 1, 8, 27, 64, 125, 216, 343, 512, 729]"
            ]
          },
          "metadata": {},
          "execution_count": 7
        }
      ]
    },
    {
      "cell_type": "code",
      "source": [
        "def gen_fibon(n):\n",
        "  a=1\n",
        "  b=1\n",
        "  for i in range(n):\n",
        "    yield a\n",
        "    a,b = b,a+b"
      ],
      "metadata": {
        "id": "nTkf5hLxr6H1"
      },
      "execution_count": 8,
      "outputs": []
    },
    {
      "cell_type": "code",
      "source": [
        "gen_fibon(10)"
      ],
      "metadata": {
        "colab": {
          "base_uri": "https://localhost:8080/"
        },
        "id": "WGFz4KBosOwp",
        "outputId": "6732b6e4-79af-4763-f1a3-65f5c08ef36d"
      },
      "execution_count": 9,
      "outputs": [
        {
          "output_type": "execute_result",
          "data": {
            "text/plain": [
              "<generator object gen_fibon at 0x7f8d12c1e8d0>"
            ]
          },
          "metadata": {},
          "execution_count": 9
        }
      ]
    },
    {
      "cell_type": "code",
      "source": [
        "for x in gen_fibon(10):\n",
        "  print(x)"
      ],
      "metadata": {
        "colab": {
          "base_uri": "https://localhost:8080/"
        },
        "id": "JSSe5495sR_j",
        "outputId": "aaa6cc37-1635-4e61-c1e1-6323c0b68382"
      },
      "execution_count": 10,
      "outputs": [
        {
          "output_type": "stream",
          "name": "stdout",
          "text": [
            "1\n",
            "1\n",
            "2\n",
            "3\n",
            "5\n",
            "8\n",
            "13\n",
            "21\n",
            "34\n",
            "55\n"
          ]
        }
      ]
    },
    {
      "cell_type": "code",
      "source": [
        "list(gen_fibon(10))"
      ],
      "metadata": {
        "colab": {
          "base_uri": "https://localhost:8080/"
        },
        "id": "k3wZIXyEsXXA",
        "outputId": "92973032-cc29-42fc-a81a-446409f70e71"
      },
      "execution_count": 11,
      "outputs": [
        {
          "output_type": "execute_result",
          "data": {
            "text/plain": [
              "[1, 1, 2, 3, 5, 8, 13, 21, 34, 55]"
            ]
          },
          "metadata": {},
          "execution_count": 11
        }
      ]
    },
    {
      "cell_type": "code",
      "source": [
        "def simple_gen():\n",
        "  for x in range(3):\n",
        "    yield x"
      ],
      "metadata": {
        "id": "C-0MbTTgG08O"
      },
      "execution_count": 12,
      "outputs": []
    },
    {
      "cell_type": "code",
      "source": [
        "for num in simple_gen():\n",
        "  print(num)"
      ],
      "metadata": {
        "colab": {
          "base_uri": "https://localhost:8080/"
        },
        "id": "jnu_gH6XHDj9",
        "outputId": "79212b9c-c134-4512-fc5a-7bb66eca6ea9"
      },
      "execution_count": 13,
      "outputs": [
        {
          "output_type": "stream",
          "name": "stdout",
          "text": [
            "0\n",
            "1\n",
            "2\n"
          ]
        }
      ]
    },
    {
      "cell_type": "code",
      "source": [
        "g= simple_gen()"
      ],
      "metadata": {
        "id": "RLNAvWDUHgQ6"
      },
      "execution_count": 14,
      "outputs": []
    },
    {
      "cell_type": "code",
      "source": [
        "g"
      ],
      "metadata": {
        "colab": {
          "base_uri": "https://localhost:8080/"
        },
        "id": "QiBEn-7sHoU9",
        "outputId": "17ccedd9-a769-4398-f520-fb303e8209c6"
      },
      "execution_count": 15,
      "outputs": [
        {
          "output_type": "execute_result",
          "data": {
            "text/plain": [
              "<generator object simple_gen at 0x7f8d16ed2bd0>"
            ]
          },
          "metadata": {},
          "execution_count": 15
        }
      ]
    },
    {
      "cell_type": "code",
      "source": [
        "print(next(g))"
      ],
      "metadata": {
        "colab": {
          "base_uri": "https://localhost:8080/"
        },
        "id": "cAYaH2gpHqmH",
        "outputId": "d2999f2e-4520-4ab3-937f-c7ed94ae690e"
      },
      "execution_count": 16,
      "outputs": [
        {
          "output_type": "stream",
          "name": "stdout",
          "text": [
            "0\n"
          ]
        }
      ]
    },
    {
      "cell_type": "code",
      "source": [
        "print(next(g))"
      ],
      "metadata": {
        "colab": {
          "base_uri": "https://localhost:8080/"
        },
        "id": "KNuF_YQgHtOE",
        "outputId": "0506f362-c99d-45e4-d6c2-fadc24f8e057"
      },
      "execution_count": 17,
      "outputs": [
        {
          "output_type": "stream",
          "name": "stdout",
          "text": [
            "1\n"
          ]
        }
      ]
    },
    {
      "cell_type": "code",
      "source": [
        "print(next(g))"
      ],
      "metadata": {
        "colab": {
          "base_uri": "https://localhost:8080/"
        },
        "id": "9pZIV-1aHwJY",
        "outputId": "40fe4736-ac7d-4fbc-c485-0c51cea04f8c"
      },
      "execution_count": 18,
      "outputs": [
        {
          "output_type": "stream",
          "name": "stdout",
          "text": [
            "2\n"
          ]
        }
      ]
    },
    {
      "cell_type": "code",
      "source": [
        "print(next(g)) #error as all numbers are printed out"
      ],
      "metadata": {
        "colab": {
          "base_uri": "https://localhost:8080/",
          "height": 165
        },
        "id": "2h1MKb_VHz2V",
        "outputId": "0756edbc-98ec-43e3-99d2-01c7826055d4"
      },
      "execution_count": 19,
      "outputs": [
        {
          "output_type": "error",
          "ename": "StopIteration",
          "evalue": "ignored",
          "traceback": [
            "\u001b[0;31m---------------------------------------------------------------------------\u001b[0m",
            "\u001b[0;31mStopIteration\u001b[0m                             Traceback (most recent call last)",
            "\u001b[0;32m<ipython-input-19-ccf79460e4ea>\u001b[0m in \u001b[0;36m<module>\u001b[0;34m()\u001b[0m\n\u001b[0;32m----> 1\u001b[0;31m \u001b[0mprint\u001b[0m\u001b[0;34m(\u001b[0m\u001b[0mnext\u001b[0m\u001b[0;34m(\u001b[0m\u001b[0mg\u001b[0m\u001b[0;34m)\u001b[0m\u001b[0;34m)\u001b[0m \u001b[0;31m#error as all numbers are printed out\u001b[0m\u001b[0;34m\u001b[0m\u001b[0;34m\u001b[0m\u001b[0m\n\u001b[0m",
            "\u001b[0;31mStopIteration\u001b[0m: "
          ]
        }
      ]
    },
    {
      "cell_type": "code",
      "source": [
        "s=\"hello\"\n",
        "\n",
        "for letter in s:\n",
        "  print(letter)"
      ],
      "metadata": {
        "colab": {
          "base_uri": "https://localhost:8080/"
        },
        "id": "68lfcY0wH3R5",
        "outputId": "3c23a48d-ef56-4dcd-c020-f84e041b451a"
      },
      "execution_count": 20,
      "outputs": [
        {
          "output_type": "stream",
          "name": "stdout",
          "text": [
            "h\n",
            "e\n",
            "l\n",
            "l\n",
            "o\n"
          ]
        }
      ]
    },
    {
      "cell_type": "code",
      "source": [
        "s_iter = iter(s)\n",
        "next(s_iter)"
      ],
      "metadata": {
        "colab": {
          "base_uri": "https://localhost:8080/",
          "height": 35
        },
        "id": "HvZUgk1_ILe8",
        "outputId": "bff6085d-6889-4dea-c6c4-11eee92689f3"
      },
      "execution_count": 21,
      "outputs": [
        {
          "output_type": "execute_result",
          "data": {
            "text/plain": [
              "'h'"
            ],
            "application/vnd.google.colaboratory.intrinsic+json": {
              "type": "string"
            }
          },
          "metadata": {},
          "execution_count": 21
        }
      ]
    },
    {
      "cell_type": "code",
      "source": [
        "next(s_iter)"
      ],
      "metadata": {
        "colab": {
          "base_uri": "https://localhost:8080/",
          "height": 35
        },
        "id": "m00aMeR6IZP7",
        "outputId": "491be8ad-376e-4273-9256-aed1e0dd9eb2"
      },
      "execution_count": 22,
      "outputs": [
        {
          "output_type": "execute_result",
          "data": {
            "text/plain": [
              "'e'"
            ],
            "application/vnd.google.colaboratory.intrinsic+json": {
              "type": "string"
            }
          },
          "metadata": {},
          "execution_count": 22
        }
      ]
    },
    {
      "cell_type": "markdown",
      "source": [
        "Create a generator that yields \"n\" random numbers between a low and high number (that are inputs).\n",
        "Note: Use the random library. For example:"
      ],
      "metadata": {
        "id": "qDiiRRMJJuZ8"
      }
    },
    {
      "cell_type": "code",
      "source": [
        "import random\n",
        "\n",
        "random.randint(1,10)"
      ],
      "metadata": {
        "colab": {
          "base_uri": "https://localhost:8080/"
        },
        "id": "8lgky9PsJkWP",
        "outputId": "08055dea-41ec-4184-f902-ae554d1fd9ec"
      },
      "execution_count": 23,
      "outputs": [
        {
          "output_type": "execute_result",
          "data": {
            "text/plain": [
              "6"
            ]
          },
          "metadata": {},
          "execution_count": 23
        }
      ]
    },
    {
      "cell_type": "code",
      "source": [
        "def rand_num(low,high,n):\n",
        "  for i in range(n):\n",
        "    yield random.randint(low,high)"
      ],
      "metadata": {
        "id": "Klcp-xCsJzsU"
      },
      "execution_count": 24,
      "outputs": []
    },
    {
      "cell_type": "code",
      "source": [
        "for num in rand_num(1,10,12):\n",
        "    print(num)"
      ],
      "metadata": {
        "colab": {
          "base_uri": "https://localhost:8080/"
        },
        "id": "KJ3YQWAVKSej",
        "outputId": "94a049da-252c-4f07-d8bd-07c50c63173b"
      },
      "execution_count": 25,
      "outputs": [
        {
          "output_type": "stream",
          "name": "stdout",
          "text": [
            "8\n",
            "8\n",
            "5\n",
            "5\n",
            "3\n",
            "3\n",
            "2\n",
            "9\n",
            "10\n",
            "10\n",
            "8\n",
            "4\n"
          ]
        }
      ]
    },
    {
      "cell_type": "markdown",
      "source": [
        "##**generator comprehensions**\n",
        "Python provides a sleek syntax for defining a simple generator in a single line of code; this expression is known as a generator comprehension. The following syntax is extremely useful and will appear very frequently in Python code:\n",
        "\n",
        "`(<expression> for <var> in <iterable> if <condition>)`\n",
        "\n",
        "\n"
      ],
      "metadata": {
        "id": "7s6wJiGUMb1q"
      }
    },
    {
      "cell_type": "code",
      "source": [
        "#generator comprehension\n",
        "\n",
        "my_list = [1,2,3,4,5]\n",
        "\n",
        "gencomp = (item for item in my_list if item > 3)\n",
        "\n",
        "for item in gencomp:\n",
        "    print(item)"
      ],
      "metadata": {
        "colab": {
          "base_uri": "https://localhost:8080/"
        },
        "id": "NKAdGDwTK6-s",
        "outputId": "24e8d793-16a5-41a6-dd5a-3ee2940a2a64"
      },
      "execution_count": 26,
      "outputs": [
        {
          "output_type": "stream",
          "name": "stdout",
          "text": [
            "4\n",
            "5\n"
          ]
        }
      ]
    },
    {
      "cell_type": "code",
      "source": [
        "# when iterated over, `example_gen` will generate 0/2.. 9/2.. 21/2.. 32/2\n",
        "example_gen = (i/2 for i in [0, 9, 21, 32])\n",
        "\n",
        "for item in example_gen:\n",
        "    print(item)\n",
        "# prints: 0.0.. 4.5.. 10.5.. 16.0"
      ],
      "metadata": {
        "colab": {
          "base_uri": "https://localhost:8080/"
        },
        "id": "q9HPEwu-M-kO",
        "outputId": "1c0b236c-676f-495f-d234-8bb8df67ac0a"
      },
      "execution_count": 27,
      "outputs": [
        {
          "output_type": "stream",
          "name": "stdout",
          "text": [
            "0.0\n",
            "4.5\n",
            "10.5\n",
            "16.0\n"
          ]
        }
      ]
    },
    {
      "cell_type": "code",
      "source": [
        "simple_gen = ((\"apple\" if i < 3 else \"pie\") for i in range(6))"
      ],
      "metadata": {
        "id": "C-TQsix-NFc4"
      },
      "execution_count": 28,
      "outputs": []
    },
    {
      "cell_type": "code",
      "source": [
        "for word in simple_gen:\n",
        "  print(word)"
      ],
      "metadata": {
        "colab": {
          "base_uri": "https://localhost:8080/"
        },
        "id": "00YtTQtYNQSG",
        "outputId": "47a2a4e3-ed63-4c7a-9d77-9ef474c0f355"
      },
      "execution_count": 29,
      "outputs": [
        {
          "output_type": "stream",
          "name": "stdout",
          "text": [
            "apple\n",
            "apple\n",
            "apple\n",
            "pie\n",
            "pie\n",
            "pie\n"
          ]
        }
      ]
    },
    {
      "cell_type": "markdown",
      "source": [
        "An **iterator** object stores its current state of iteration and **“yields”** each of its members in order, on demand via next, until it is exhausted. As we’ve seen, a generator is an example of an iterator. We now must understand that **every iterator is an iterable, but not every iterable is an iterator.**\n",
        "\n",
        "An **iterable** is an object that can be iterated over but does not necessarily have all the machinery of an iterator. For example, sequences (e.g lists, tuples, and strings) and other containers (e.g. dictionaries and sets) do not keep track of their own state of iteration. Thus you cannot call next on one of these outright:"
      ],
      "metadata": {
        "id": "NjoU_2DGN6W_"
      }
    },
    {
      "cell_type": "code",
      "source": [
        "x = [1,2,3]\n",
        "next(x)"
      ],
      "metadata": {
        "colab": {
          "base_uri": "https://localhost:8080/",
          "height": 183
        },
        "id": "iqbQi9RBPRnU",
        "outputId": "75f39861-659b-4819-8c12-630e83f71a05"
      },
      "execution_count": 30,
      "outputs": [
        {
          "output_type": "error",
          "ename": "TypeError",
          "evalue": "ignored",
          "traceback": [
            "\u001b[0;31m---------------------------------------------------------------------------\u001b[0m",
            "\u001b[0;31mTypeError\u001b[0m                                 Traceback (most recent call last)",
            "\u001b[0;32m<ipython-input-30-f81eff0bc701>\u001b[0m in \u001b[0;36m<module>\u001b[0;34m()\u001b[0m\n\u001b[1;32m      1\u001b[0m \u001b[0mx\u001b[0m \u001b[0;34m=\u001b[0m \u001b[0;34m[\u001b[0m\u001b[0;36m1\u001b[0m\u001b[0;34m,\u001b[0m\u001b[0;36m2\u001b[0m\u001b[0;34m,\u001b[0m\u001b[0;36m3\u001b[0m\u001b[0;34m]\u001b[0m\u001b[0;34m\u001b[0m\u001b[0;34m\u001b[0m\u001b[0m\n\u001b[0;32m----> 2\u001b[0;31m \u001b[0mnext\u001b[0m\u001b[0;34m(\u001b[0m\u001b[0mx\u001b[0m\u001b[0;34m)\u001b[0m\u001b[0;34m\u001b[0m\u001b[0;34m\u001b[0m\u001b[0m\n\u001b[0m",
            "\u001b[0;31mTypeError\u001b[0m: 'list' object is not an iterator"
          ]
        }
      ]
    },
    {
      "cell_type": "code",
      "source": [
        "x_it = iter(x)\n",
        "next(x_it)"
      ],
      "metadata": {
        "colab": {
          "base_uri": "https://localhost:8080/"
        },
        "id": "eDUjwPwWPbG4",
        "outputId": "f34ac3cc-b31d-48ae-c832-05627157bd4d"
      },
      "execution_count": 31,
      "outputs": [
        {
          "output_type": "execute_result",
          "data": {
            "text/plain": [
              "1"
            ]
          },
          "metadata": {},
          "execution_count": 31
        }
      ]
    }
  ]
}