{
  "nbformat": 4,
  "nbformat_minor": 0,
  "metadata": {
    "colab": {
      "name": "Control_statements_exercise.ipynb",
      "provenance": [],
      "collapsed_sections": [],
      "include_colab_link": true
    },
    "kernelspec": {
      "name": "python3",
      "display_name": "Python 3"
    }
  },
  "cells": [
    {
      "cell_type": "markdown",
      "metadata": {
        "id": "view-in-github",
        "colab_type": "text"
      },
      "source": [
        "<a href=\"https://colab.research.google.com/github/ChitraChaudhari/GC_DataEngineering_Bootcamp/blob/main/Python/Control_statements_exercise.ipynb\" target=\"_parent\"><img src=\"https://colab.research.google.com/assets/colab-badge.svg\" alt=\"Open In Colab\"/></a>"
      ]
    },
    {
      "cell_type": "markdown",
      "metadata": {
        "id": "9hgp2Z3FztJ6"
      },
      "source": [
        "\n",
        "# *Permission to copy this copyrighted document is given only to Mobi Boot Camp Corp., students*\n",
        "\n",
        "---\n",
        "<!-- &#169; 2021, Mobi Boot Camp Corp, all rights reserved  -->\n",
        "\n",
        "# Please Copy this file by selecting 'File-->Save a Copy in Drive' from the top menu bar, and then start working on these problems. You cannot edit this file as it is a READ-ONLY file. \n",
        "\n",
        "###When you make a copy, you will be able to run the copied file through your account. You can also code your answers in the respective code cells and run the program\n",
        "\n",
        "---\n",
        "#Control Statements\n",
        "Solve the below problems. Once you solve, run the assert statements (if any) in the next cell and make them pass\n",
        "\n",
        "# Problem 1\n",
        "\n",
        "The below program will print all the states and when the state is michigan, it also prints out Home state. However currently it does not compile. Please fix the compilation errors. The output of this program should be\n",
        "\n",
        "michigan -- Home State,ohio,indiana,"
      ]
    },
    {
      "cell_type": "code",
      "metadata": {
        "id": "MGSvCg0RrRaL",
        "colab": {
          "base_uri": "https://localhost:8080/"
        },
        "outputId": "a1597655-7b85-48fe-8acb-7ad69113b097"
      },
      "source": [
        "states = [\"michigan\", \"ohio\", \"indiana\"]\n",
        "for x in states:\n",
        "  if x == \"michigan\":\n",
        "    print(x,\"Home State\", sep=' -- ', end=\",\")\n",
        "  else:\n",
        "    print(x, end=\",\")"
      ],
      "execution_count": 17,
      "outputs": [
        {
          "output_type": "stream",
          "name": "stdout",
          "text": [
            "michigan -- Home State,ohio,indiana,"
          ]
        }
      ]
    },
    {
      "cell_type": "markdown",
      "metadata": {
        "id": "4G4C9tGbrpI4"
      },
      "source": [
        "#Problem 2\n",
        "The sum of all even numbers below 10 is 2+4+6+8 = 20\n",
        "\n",
        "Find the sum of all even numbers below 100. Write a program with a 'for' or 'while' loop to solve this problem."
      ]
    },
    {
      "cell_type": "code",
      "metadata": {
        "id": "gHrY9zCnzhyb",
        "colab": {
          "base_uri": "https://localhost:8080/"
        },
        "outputId": "f1002bdb-4fd4-4d42-d76b-b09a2cad5b5c"
      },
      "source": [
        "total = 0  # update this sum variable in your program\n",
        "\n",
        "for num in range(1,100):\n",
        "  if(num%2==0):\n",
        "    total+=num\n",
        "total"
      ],
      "execution_count": 18,
      "outputs": [
        {
          "output_type": "execute_result",
          "data": {
            "text/plain": [
              "2450"
            ]
          },
          "metadata": {},
          "execution_count": 18
        }
      ]
    },
    {
      "cell_type": "code",
      "source": [
        "total = 0\n",
        "for x in range(0,100,2):\n",
        "  total = total + x\n",
        "print(total)\n"
      ],
      "metadata": {
        "id": "mc9i6HxVyGwU",
        "outputId": "dd0b2ac3-ba16-4458-f82b-a51153218093",
        "colab": {
          "base_uri": "https://localhost:8080/"
        }
      },
      "execution_count": 19,
      "outputs": [
        {
          "output_type": "stream",
          "name": "stdout",
          "text": [
            "2450\n"
          ]
        }
      ]
    },
    {
      "cell_type": "code",
      "metadata": {
        "id": "XtYM7dYL2Akd",
        "colab": {
          "base_uri": "https://localhost:8080/"
        },
        "outputId": "09c69b4e-5694-4755-d5cc-1fa271f6de0c"
      },
      "source": [
        "# TestCase\n",
        "assert (total == 2450)\n",
        "print(\"Test passed!\")"
      ],
      "execution_count": 20,
      "outputs": [
        {
          "output_type": "stream",
          "name": "stdout",
          "text": [
            "Test passed!\n"
          ]
        }
      ]
    },
    {
      "cell_type": "markdown",
      "metadata": {
        "id": "MvnbWG5Z7vEx"
      },
      "source": [
        "# Problem 3\n",
        "\n",
        "Split the given String at the semicolon (;) separator and add the words that start with the character 'a' to the given list\n",
        " "
      ]
    },
    {
      "cell_type": "code",
      "metadata": {
        "id": "96kEoHZb8BeT",
        "colab": {
          "base_uri": "https://localhost:8080/"
        },
        "outputId": "b157bae1-67d5-4723-f9f9-2d70cb5ead10"
      },
      "source": [
        "a = \"almonds;peaches;bananas;apples;oranges;apricots\"\n",
        "a_list = [word for word in a.split(';') if word[0]=='a']  # add all the words starting with 'a' to this list\n",
        "# Your code here\n",
        "a_list"
      ],
      "execution_count": 21,
      "outputs": [
        {
          "output_type": "execute_result",
          "data": {
            "text/plain": [
              "['almonds', 'apples', 'apricots']"
            ]
          },
          "metadata": {},
          "execution_count": 21
        }
      ]
    },
    {
      "cell_type": "code",
      "metadata": {
        "id": "xfFsvC-v8YcC",
        "outputId": "64b7e877-40b3-40fb-dfaa-f25ae6d92eb8",
        "colab": {
          "base_uri": "https://localhost:8080/"
        }
      },
      "source": [
        "#TestCase\n",
        "assert (a_list == ['almonds', 'apples', 'apricots'])\n",
        "print(\"Test passed!\")"
      ],
      "execution_count": 22,
      "outputs": [
        {
          "output_type": "stream",
          "name": "stdout",
          "text": [
            "Test passed!\n"
          ]
        }
      ]
    },
    {
      "cell_type": "markdown",
      "metadata": {
        "id": "XClsd96sCH4d"
      },
      "source": [
        "# Problem 4\n",
        "\n",
        "Find all the words which are palindrome in the given set of words. A palindrome is a word, which reads the same both forward and backward. E.g., 'madam' is a palidrome. If you reverse the alphabets, starting from the end on 'madam' you still get 'madam'. \n",
        "\n",
        "If a word is a palindrome, irrespective of its case, collect that in another set called 'palindrome'. In other words your program should not be case sensitive. It has to identify the palindrome even if the word has mixed upper and lower case letters"
      ]
    },
    {
      "cell_type": "code",
      "metadata": {
        "id": "WTCNQ0vhCXxp",
        "colab": {
          "base_uri": "https://localhost:8080/"
        },
        "outputId": "04fa108d-0884-4952-d6cb-1cc118a92602"
      },
      "source": [
        "words = {'maDam', 'kIng', 'ANna', 'kayak', 'levels', 'dad', 'morning'}\n",
        "palindrome = set()\n",
        "\n",
        "for word in words:\n",
        "  reverse_word = word[::-1]\n",
        "  if(word.lower()==reverse_word.lower()):\n",
        "    palindrome.add(word)\n",
        "\n",
        "print(palindrome)"
      ],
      "execution_count": 23,
      "outputs": [
        {
          "output_type": "stream",
          "name": "stdout",
          "text": [
            "{'dad', 'maDam', 'ANna', 'kayak'}\n"
          ]
        }
      ]
    },
    {
      "cell_type": "code",
      "source": [
        "#another way\n",
        "for word in words:\n",
        "  if word.lower() == \"\".join(reversed(word)).lower():\n",
        "    print(word)"
      ],
      "metadata": {
        "id": "hTl0URJX7S_8",
        "outputId": "ba505a63-d7c4-46f2-ecdd-326d59930dcf",
        "colab": {
          "base_uri": "https://localhost:8080/"
        }
      },
      "execution_count": 24,
      "outputs": [
        {
          "output_type": "stream",
          "name": "stdout",
          "text": [
            "ANna\n",
            "kayak\n",
            "dad\n",
            "maDam\n"
          ]
        }
      ]
    },
    {
      "cell_type": "code",
      "metadata": {
        "id": "GNGqeWAqDpLc",
        "colab": {
          "base_uri": "https://localhost:8080/"
        },
        "outputId": "edd7fb6d-0a22-467d-f077-b5d1a078d606"
      },
      "source": [
        "#TestCase\n",
        "assert (palindrome == {'dad', 'maDam', 'kayak', 'ANna'})\n",
        "print(\"Test passed!\")"
      ],
      "execution_count": 25,
      "outputs": [
        {
          "output_type": "stream",
          "name": "stdout",
          "text": [
            "Test passed!\n"
          ]
        }
      ]
    },
    {
      "cell_type": "markdown",
      "metadata": {
        "id": "jTtX0Al_GpQt"
      },
      "source": [
        "#Problem 5\n",
        "\n",
        "Replace all the words which contain 'an' with 'bn'. If the word is 'anna' then it gets changed to 'bnna'. If the word is 'banana' then it gets encoded to 'bbnbnas'. Words which do not have 'an' substring in them will be added as-is without any changes"
      ]
    },
    {
      "cell_type": "code",
      "metadata": {
        "id": "sggoickMGz3A",
        "colab": {
          "base_uri": "https://localhost:8080/"
        },
        "outputId": "f22f6ceb-5314-41a4-d11e-492f0b8e181a"
      },
      "source": [
        "a = ['almonds','peaches', 'bananas', 'apples', 'oranges', 'apricots']\n",
        "encoded = []\n",
        "\n",
        "for word in a:\n",
        "  #if('an' in word):\n",
        "    encoded.append(word.replace('an','bn'))\n",
        "  #else:\n",
        "   # encoded.append(word)\n",
        "\n",
        "print(encoded)\n"
      ],
      "execution_count": 26,
      "outputs": [
        {
          "output_type": "stream",
          "name": "stdout",
          "text": [
            "['almonds', 'peaches', 'bbnbnas', 'apples', 'orbnges', 'apricots']\n"
          ]
        }
      ]
    },
    {
      "cell_type": "code",
      "metadata": {
        "id": "oZvXK8ctH3E5",
        "colab": {
          "base_uri": "https://localhost:8080/"
        },
        "outputId": "e9bbc946-d665-4f8b-e583-a04197c213b5"
      },
      "source": [
        "#TestCase\n",
        "assert (encoded == ['almonds', 'peaches', 'bbnbnas', 'apples', 'orbnges', 'apricots'])\n",
        "print(\"Test passed!\")"
      ],
      "execution_count": 27,
      "outputs": [
        {
          "output_type": "stream",
          "name": "stdout",
          "text": [
            "Test passed!\n"
          ]
        }
      ]
    }
  ]
}