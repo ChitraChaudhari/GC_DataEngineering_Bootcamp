{
  "nbformat": 4,
  "nbformat_minor": 0,
  "metadata": {
    "colab": {
      "name": "Control_statements_exercise.ipynb",
      "provenance": [],
      "collapsed_sections": [],
      "include_colab_link": true
    },
    "kernelspec": {
      "name": "python3",
      "display_name": "Python 3"
    }
  },
  "cells": [
    {
      "cell_type": "markdown",
      "metadata": {
        "id": "view-in-github",
        "colab_type": "text"
      },
      "source": [
        "<a href=\"https://colab.research.google.com/github/ChitraChaudhari/GC_DataEngineering_Bootcamp/blob/main/Control_statements_exercise.ipynb\" target=\"_parent\"><img src=\"https://colab.research.google.com/assets/colab-badge.svg\" alt=\"Open In Colab\"/></a>"
      ]
    },
    {
      "cell_type": "markdown",
      "metadata": {
        "id": "9hgp2Z3FztJ6"
      },
      "source": [
        "\n",
        "# *Permission to copy this copyrighted document is given only to Mobi Boot Camp Corp., students*\n",
        "\n",
        "---\n",
        "<!-- &#169; 2021, Mobi Boot Camp Corp, all rights reserved  -->\n",
        "\n",
        "# Please Copy this file by selecting 'File-->Save a Copy in Drive' from the top menu bar, and then start working on these problems. You cannot edit this file as it is a READ-ONLY file. \n",
        "\n",
        "###When you make a copy, you will be able to run the copied file through your account. You can also code your answers in the respective code cells and run the program\n",
        "\n",
        "---\n",
        "#Control Statements\n",
        "Solve the below problems. Once you solve, run the assert statements (if any) in the next cell and make them pass\n",
        "\n",
        "# Problem 1\n",
        "\n",
        "The below program will print all the states and when the state is michigan, it also prints out Home state. However currently it does not compile. Please fix the compilation errors. The output of this program should be\n",
        "\n",
        "michigan -- Home State,ohio,indiana,"
      ]
    },
    {
      "cell_type": "code",
      "metadata": {
        "id": "MGSvCg0RrRaL",
        "colab": {
          "base_uri": "https://localhost:8080/"
        },
        "outputId": "4c8e016d-0771-4c2d-a06a-1207b0bc4816"
      },
      "source": [
        "states = [\"michigan\", \"ohio\", \"indiana\"]\n",
        "for x in states:\n",
        "  if x == \"michigan\":\n",
        "    print(x,\"Home State\", sep=' -- ', end=\",\")\n",
        "  else:\n",
        "    print(x, end=\",\")"
      ],
      "execution_count": 4,
      "outputs": [
        {
          "output_type": "stream",
          "name": "stdout",
          "text": [
            "michigan -- Home State,ohio,indiana,"
          ]
        }
      ]
    },
    {
      "cell_type": "markdown",
      "metadata": {
        "id": "4G4C9tGbrpI4"
      },
      "source": [
        "#Problem 2\n",
        "The sum of all even numbers below 10 is 2+4+6+8 = 20\n",
        "\n",
        "Find the sum of all even numbers below 100. Write a program with a 'for' or 'while' loop to solve this problem."
      ]
    },
    {
      "cell_type": "code",
      "metadata": {
        "id": "gHrY9zCnzhyb",
        "colab": {
          "base_uri": "https://localhost:8080/"
        },
        "outputId": "bcf1d600-a295-49f4-dcd6-ba27210873f9"
      },
      "source": [
        "total = 0  # update this sum variable in your program\n",
        "\n",
        "for num in range(1,100):\n",
        "  if(num%2==0):\n",
        "    total+=num\n",
        "  else:\n",
        "    pass\n",
        "total"
      ],
      "execution_count": 10,
      "outputs": [
        {
          "output_type": "execute_result",
          "data": {
            "text/plain": [
              "2450"
            ]
          },
          "metadata": {},
          "execution_count": 10
        }
      ]
    },
    {
      "cell_type": "code",
      "metadata": {
        "id": "XtYM7dYL2Akd",
        "colab": {
          "base_uri": "https://localhost:8080/"
        },
        "outputId": "bf07c7ff-79a4-4382-bc58-df6ebdac8801"
      },
      "source": [
        "# TestCase\n",
        "assert (total == 2450)\n",
        "print(\"Test passed!\")"
      ],
      "execution_count": 11,
      "outputs": [
        {
          "output_type": "stream",
          "name": "stdout",
          "text": [
            "Test passed!\n"
          ]
        }
      ]
    },
    {
      "cell_type": "markdown",
      "metadata": {
        "id": "MvnbWG5Z7vEx"
      },
      "source": [
        "# Problem 3\n",
        "\n",
        "Split the given String at the semicolon (;) separator and add the words that start with the character 'a' to the given list\n",
        " "
      ]
    },
    {
      "cell_type": "code",
      "metadata": {
        "id": "96kEoHZb8BeT",
        "colab": {
          "base_uri": "https://localhost:8080/"
        },
        "outputId": "b7bd3451-0c97-41a9-f288-a801d3495f26"
      },
      "source": [
        "a = \"almonds;peaches;bananas;apples;oranges;apricots\"\n",
        "a_list = [word for word in a.split(';') if word[0]=='a']  # add all the words starting with 'a' to this list\n",
        "# Your code here\n",
        "a_list"
      ],
      "execution_count": 12,
      "outputs": [
        {
          "output_type": "execute_result",
          "data": {
            "text/plain": [
              "['almonds', 'apples', 'apricots']"
            ]
          },
          "metadata": {},
          "execution_count": 12
        }
      ]
    },
    {
      "cell_type": "code",
      "metadata": {
        "id": "xfFsvC-v8YcC"
      },
      "source": [
        "#TestCase\n",
        "assert (a_list == ['almonds', 'apples', 'apricots'])\n",
        "print(\"Test passed!\")"
      ],
      "execution_count": null,
      "outputs": []
    },
    {
      "cell_type": "markdown",
      "metadata": {
        "id": "XClsd96sCH4d"
      },
      "source": [
        "# Problem 4\n",
        "\n",
        "Find all the words which are palindrome in the given set of words. A palindrome is a word, which reads the same both forward and backward. E.g., 'madam' is a palidrome. If you reverse the alphabets, starting from the end on 'madam' you still get 'madam'. \n",
        "\n",
        "If a word is a palindrome, irrespective of its case, collect that in another set called 'palindrome'. In other words your program should not be case sensitive. It has to identify the palindrome even if the word has mixed upper and lower case letters"
      ]
    },
    {
      "cell_type": "code",
      "metadata": {
        "id": "WTCNQ0vhCXxp",
        "colab": {
          "base_uri": "https://localhost:8080/"
        },
        "outputId": "89ad7097-6d8c-49b1-88df-2d69202257d3"
      },
      "source": [
        "words = {'maDam', 'kIng', 'ANna', 'kayak', 'levels', 'dad', 'morning'}\n",
        "palindrome = set()\n",
        "\n",
        "for word in words:\n",
        "  reverse_word = word[::-1]\n",
        "  if(word.lower()==reverse_word.lower()):\n",
        "    palindrome.add(word)\n",
        "  else:\n",
        "    pass\n",
        "\n",
        "print(palindrome)"
      ],
      "execution_count": 18,
      "outputs": [
        {
          "output_type": "stream",
          "name": "stdout",
          "text": [
            "{'dad', 'kayak', 'ANna', 'maDam'}\n"
          ]
        }
      ]
    },
    {
      "cell_type": "code",
      "metadata": {
        "id": "GNGqeWAqDpLc",
        "colab": {
          "base_uri": "https://localhost:8080/"
        },
        "outputId": "988c49b5-fc11-4760-f3f9-8d95bf2c7892"
      },
      "source": [
        "#TestCase\n",
        "assert (palindrome == {'dad', 'maDam', 'kayak', 'ANna'})\n",
        "print(\"Test passed!\")"
      ],
      "execution_count": 17,
      "outputs": [
        {
          "output_type": "stream",
          "name": "stdout",
          "text": [
            "Test passed!\n"
          ]
        }
      ]
    },
    {
      "cell_type": "markdown",
      "metadata": {
        "id": "jTtX0Al_GpQt"
      },
      "source": [
        "#Problem 5\n",
        "\n",
        "Replace all the words which contain 'an' with 'bn'. If the word is 'anna' then it gets changed to 'bnna'. If the word is 'banana' then it gets encoded to 'bbnbnas'. Words which do not have 'an' substring in them will be added as-is without any changes"
      ]
    },
    {
      "cell_type": "code",
      "metadata": {
        "id": "sggoickMGz3A",
        "colab": {
          "base_uri": "https://localhost:8080/"
        },
        "outputId": "ce70a29a-dc64-47a7-b989-acb686f5f5b2"
      },
      "source": [
        "a = ['almonds','peaches', 'bananas', 'apples', 'oranges', 'apricots']\n",
        "encoded = []\n",
        "\n",
        "for word in a:\n",
        "  if('an' in word):\n",
        "    encoded.append(word.replace('an','bn'))\n",
        "  else:\n",
        "    encoded.append(word)\n",
        "\n",
        "print(encoded)\n"
      ],
      "execution_count": 35,
      "outputs": [
        {
          "output_type": "stream",
          "name": "stdout",
          "text": [
            "['almonds', 'peaches', 'bbnbnas', 'apples', 'orbnges', 'apricots']\n"
          ]
        }
      ]
    },
    {
      "cell_type": "code",
      "metadata": {
        "id": "oZvXK8ctH3E5",
        "colab": {
          "base_uri": "https://localhost:8080/"
        },
        "outputId": "0b2e3b4b-eaa4-4f36-eb58-f9ac9e82b6a8"
      },
      "source": [
        "#TestCase\n",
        "assert (encoded == ['almonds', 'peaches', 'bbnbnas', 'apples', 'orbnges', 'apricots'])\n",
        "print(\"Test passed!\")"
      ],
      "execution_count": 36,
      "outputs": [
        {
          "output_type": "stream",
          "name": "stdout",
          "text": [
            "Test passed!\n"
          ]
        }
      ]
    }
  ]
}
