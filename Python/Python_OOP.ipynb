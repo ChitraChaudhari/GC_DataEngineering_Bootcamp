{
  "nbformat": 4,
  "nbformat_minor": 0,
  "metadata": {
    "colab": {
      "name": "Python_OOP",
      "provenance": [],
      "authorship_tag": "ABX9TyNEYRmkC0C1r+fQ2DRY8KXc",
      "include_colab_link": true
    },
    "kernelspec": {
      "name": "python3",
      "display_name": "Python 3"
    },
    "language_info": {
      "name": "python"
    }
  },
  "cells": [
    {
      "cell_type": "markdown",
      "metadata": {
        "id": "view-in-github",
        "colab_type": "text"
      },
      "source": [
        "<a href=\"https://colab.research.google.com/github/ChitraChaudhari/GC_DataEngineering_Bootcamp/blob/main/Python/Python_OOP.ipynb\" target=\"_parent\"><img src=\"https://colab.research.google.com/assets/colab-badge.svg\" alt=\"Open In Colab\"/></a>"
      ]
    },
    {
      "cell_type": "code",
      "execution_count": null,
      "metadata": {
        "id": "GAVmeeuAg1Su"
      },
      "outputs": [],
      "source": [
        "class Sample():\n",
        "  pass"
      ]
    },
    {
      "cell_type": "code",
      "source": [
        "my_sample = Sample() "
      ],
      "metadata": {
        "id": "H-Hn5pKBl09L"
      },
      "execution_count": null,
      "outputs": []
    },
    {
      "cell_type": "code",
      "source": [
        "type(my_sample)"
      ],
      "metadata": {
        "colab": {
          "base_uri": "https://localhost:8080/"
        },
        "id": "3GV4crd2l-EC",
        "outputId": "fb12bffd-d090-41e1-ae64-c9fbe7d2ddfb"
      },
      "execution_count": null,
      "outputs": [
        {
          "output_type": "execute_result",
          "data": {
            "text/plain": [
              "__main__.Sample"
            ]
          },
          "metadata": {},
          "execution_count": 3
        }
      ]
    },
    {
      "cell_type": "code",
      "source": [
        "class Dog():\n",
        "\n",
        "  #class object attribute\n",
        "  #Same for any instance of a class\n",
        "  species = 'mammal'\n",
        "\n",
        "  def __init__(self,breed,name,spots):\n",
        "    #User defined attributes\n",
        "    self.breed = breed\n",
        "    self.name=name\n",
        "    self.spots=spots\n",
        "\n",
        "  #Operation/Actions--> Methods\n",
        "  def bark(self,number):\n",
        "    print(\"woof! My name is {} and number is {}\".format(self.name,number))"
      ],
      "metadata": {
        "id": "7tIPB3HlmOVI"
      },
      "execution_count": null,
      "outputs": []
    },
    {
      "cell_type": "code",
      "source": [
        "my_dog = Dog('Lab','Sammy',False)"
      ],
      "metadata": {
        "id": "xYYKb86QmcOg"
      },
      "execution_count": null,
      "outputs": []
    },
    {
      "cell_type": "code",
      "source": [
        "type(my_dog)"
      ],
      "metadata": {
        "colab": {
          "base_uri": "https://localhost:8080/"
        },
        "id": "PiotcWSEmqEQ",
        "outputId": "4cbfc9f7-0cef-40e6-f35c-131c0d6d1e35"
      },
      "execution_count": null,
      "outputs": [
        {
          "output_type": "execute_result",
          "data": {
            "text/plain": [
              "__main__.Dog"
            ]
          },
          "metadata": {},
          "execution_count": 7
        }
      ]
    },
    {
      "cell_type": "code",
      "source": [
        "my_dog.species"
      ],
      "metadata": {
        "colab": {
          "base_uri": "https://localhost:8080/",
          "height": 35
        },
        "id": "BAvEE9ZWmt4g",
        "outputId": "d2bc9efe-f2dc-43b4-dfa0-18d1b636fa01"
      },
      "execution_count": null,
      "outputs": [
        {
          "output_type": "execute_result",
          "data": {
            "text/plain": [
              "'mammal'"
            ],
            "application/vnd.google.colaboratory.intrinsic+json": {
              "type": "string"
            }
          },
          "metadata": {},
          "execution_count": 20
        }
      ]
    },
    {
      "cell_type": "code",
      "source": [
        "my_dog.bark(5)"
      ],
      "metadata": {
        "colab": {
          "base_uri": "https://localhost:8080/"
        },
        "id": "WDj4WqiX13BQ",
        "outputId": "6c42e913-516d-4727-beeb-adad6ef9d965"
      },
      "execution_count": null,
      "outputs": [
        {
          "output_type": "stream",
          "name": "stdout",
          "text": [
            "woof! My name is Sammy and number is 5\n"
          ]
        }
      ]
    },
    {
      "cell_type": "code",
      "source": [
        "class Circle():\n",
        "  pi = 3.14\n",
        "\n",
        "  def __init__(self,rad=1):\n",
        "    self.rad = rad\n",
        "    self.area = rad*rad*self.pi\n",
        "\n",
        "  def get_circumference(self):\n",
        "    return self.rad*self.pi*2"
      ],
      "metadata": {
        "id": "EOYTY_l73FLU"
      },
      "execution_count": null,
      "outputs": []
    },
    {
      "cell_type": "code",
      "source": [
        "my_circle = Circle()"
      ],
      "metadata": {
        "id": "XGC8PplS3ioT"
      },
      "execution_count": null,
      "outputs": []
    },
    {
      "cell_type": "code",
      "source": [
        "my_circle.pi"
      ],
      "metadata": {
        "colab": {
          "base_uri": "https://localhost:8080/"
        },
        "id": "KIpejHSE3o_b",
        "outputId": "6ddae517-d27e-4ce8-8d04-be4302249f45"
      },
      "execution_count": null,
      "outputs": [
        {
          "output_type": "execute_result",
          "data": {
            "text/plain": [
              "3.14"
            ]
          },
          "metadata": {},
          "execution_count": 31
        }
      ]
    },
    {
      "cell_type": "code",
      "source": [
        "my_circle.rad"
      ],
      "metadata": {
        "colab": {
          "base_uri": "https://localhost:8080/"
        },
        "id": "v5y2maAd3tqB",
        "outputId": "3bb27419-923b-4612-94b0-1f9b0b8e2a88"
      },
      "execution_count": null,
      "outputs": [
        {
          "output_type": "execute_result",
          "data": {
            "text/plain": [
              "1"
            ]
          },
          "metadata": {},
          "execution_count": 32
        }
      ]
    },
    {
      "cell_type": "code",
      "source": [
        "my_circle.get_circumference()"
      ],
      "metadata": {
        "colab": {
          "base_uri": "https://localhost:8080/"
        },
        "id": "pHkUOb-i3whf",
        "outputId": "30d6ea02-580f-4a3b-db5c-9f9bb8713dc0"
      },
      "execution_count": null,
      "outputs": [
        {
          "output_type": "execute_result",
          "data": {
            "text/plain": [
              "6.28"
            ]
          },
          "metadata": {},
          "execution_count": 33
        }
      ]
    },
    {
      "cell_type": "code",
      "source": [
        "my_circle = Circle(30)"
      ],
      "metadata": {
        "id": "FY7s9Ib9311v"
      },
      "execution_count": null,
      "outputs": []
    },
    {
      "cell_type": "code",
      "source": [
        "my_circle.area"
      ],
      "metadata": {
        "colab": {
          "base_uri": "https://localhost:8080/"
        },
        "id": "FtOLOj4C4RSJ",
        "outputId": "3b956a3f-77e1-4187-b6aa-59b216146a48"
      },
      "execution_count": null,
      "outputs": [
        {
          "output_type": "execute_result",
          "data": {
            "text/plain": [
              "2826.0"
            ]
          },
          "metadata": {},
          "execution_count": 41
        }
      ]
    },
    {
      "cell_type": "code",
      "source": [
        "my_circle.get_circumference()"
      ],
      "metadata": {
        "colab": {
          "base_uri": "https://localhost:8080/"
        },
        "id": "jpOoXuNZ39L7",
        "outputId": "a58d0cc5-1a9e-4031-a483-2e231107711e"
      },
      "execution_count": null,
      "outputs": [
        {
          "output_type": "execute_result",
          "data": {
            "text/plain": [
              "188.4"
            ]
          },
          "metadata": {},
          "execution_count": 36
        }
      ]
    },
    {
      "cell_type": "code",
      "source": [
        "my_circle.rad"
      ],
      "metadata": {
        "colab": {
          "base_uri": "https://localhost:8080/"
        },
        "id": "zOmlRvym37eT",
        "outputId": "a54c4877-bde7-4e4c-a621-cc8fc491e53a"
      },
      "execution_count": null,
      "outputs": [
        {
          "output_type": "execute_result",
          "data": {
            "text/plain": [
              "30"
            ]
          },
          "metadata": {},
          "execution_count": 35
        }
      ]
    },
    {
      "cell_type": "code",
      "source": [
        ""
      ],
      "metadata": {
        "id": "MRe-VX8v4Zhp"
      },
      "execution_count": null,
      "outputs": []
    },
    {
      "cell_type": "markdown",
      "source": [
        "#**Inheritance**"
      ],
      "metadata": {
        "id": "OOfk4jKl4bqh"
      }
    },
    {
      "cell_type": "code",
      "source": [
        "class Animal():\n",
        "  def __init__(self):\n",
        "    print(\"Animal Created\")\n",
        "\n",
        "  def who_am_i(self):\n",
        "    print(\"I am an animal\")\n",
        "\n",
        "  def eat(self):\n",
        "    print(\"I am eating\")"
      ],
      "metadata": {
        "id": "IOvld9R54gXL"
      },
      "execution_count": null,
      "outputs": []
    },
    {
      "cell_type": "code",
      "source": [
        "myanimal = Animal()"
      ],
      "metadata": {
        "colab": {
          "base_uri": "https://localhost:8080/"
        },
        "id": "vUhAV3387VEl",
        "outputId": "eb17704d-4c24-4ab1-f42d-4966ad068909"
      },
      "execution_count": null,
      "outputs": [
        {
          "output_type": "stream",
          "name": "stdout",
          "text": [
            "Animal Created\n"
          ]
        }
      ]
    },
    {
      "cell_type": "code",
      "source": [
        "myanimal.eat()\n",
        "myanimal.who_am_i()"
      ],
      "metadata": {
        "colab": {
          "base_uri": "https://localhost:8080/"
        },
        "id": "niEZ1ab77Zbq",
        "outputId": "cd2d743d-8b74-4d4e-e190-a08ecf1f8215"
      },
      "execution_count": null,
      "outputs": [
        {
          "output_type": "stream",
          "name": "stdout",
          "text": [
            "I am eating\n",
            "I am an animal\n"
          ]
        }
      ]
    },
    {
      "cell_type": "code",
      "source": [
        "class Dog(Animal):\n",
        "  def __init__(self):\n",
        "    Animal.__init__(self)\n",
        "    print(\"Dog Created\")\n",
        "\n",
        "  def bark(self):\n",
        "    print(\"Woof!\")\n",
        "  \n",
        "  def who_am_i(self):\n",
        "    print(\"I am a dog\")"
      ],
      "metadata": {
        "id": "_07tMi_87hNi"
      },
      "execution_count": null,
      "outputs": []
    },
    {
      "cell_type": "code",
      "source": [
        "mydog=Dog()"
      ],
      "metadata": {
        "colab": {
          "base_uri": "https://localhost:8080/"
        },
        "id": "w8QqiM1U8DOy",
        "outputId": "460a5b79-aa15-4709-b27b-fd29b8d12f67"
      },
      "execution_count": null,
      "outputs": [
        {
          "output_type": "stream",
          "name": "stdout",
          "text": [
            "Animal Created\n",
            "Dog Created\n"
          ]
        }
      ]
    },
    {
      "cell_type": "code",
      "source": [
        "mydog.bark()"
      ],
      "metadata": {
        "colab": {
          "base_uri": "https://localhost:8080/"
        },
        "id": "jK2vvuBI8G4S",
        "outputId": "6afb8ff3-7e4f-451f-bf26-0d7ad4dde173"
      },
      "execution_count": null,
      "outputs": [
        {
          "output_type": "stream",
          "name": "stdout",
          "text": [
            "Woof!\n"
          ]
        }
      ]
    },
    {
      "cell_type": "code",
      "source": [
        "mydog.eat()"
      ],
      "metadata": {
        "colab": {
          "base_uri": "https://localhost:8080/"
        },
        "id": "JaZHBhvd8JvK",
        "outputId": "9722cbe6-1ecd-4ccc-d990-b68f9e98a074"
      },
      "execution_count": null,
      "outputs": [
        {
          "output_type": "stream",
          "name": "stdout",
          "text": [
            "I am eating\n"
          ]
        }
      ]
    },
    {
      "cell_type": "code",
      "source": [
        "mydog.who_am_i()"
      ],
      "metadata": {
        "colab": {
          "base_uri": "https://localhost:8080/"
        },
        "id": "tt1TqNKR8MOa",
        "outputId": "a8c2f4dc-ea53-4ab9-f2a8-f3e11a36723e"
      },
      "execution_count": null,
      "outputs": [
        {
          "output_type": "stream",
          "name": "stdout",
          "text": [
            "I am a dog\n"
          ]
        }
      ]
    },
    {
      "cell_type": "markdown",
      "source": [
        "#**Polymorphism**"
      ],
      "metadata": {
        "id": "nE16rim98Stu"
      }
    },
    {
      "cell_type": "code",
      "source": [
        "class Dog():\n",
        "  def __init__(self,name):\n",
        "    self.name = name\n",
        "    print(\"Dog Created\")\n",
        "\n",
        "  def speak(self):\n",
        "    return self.name + \" say's Woof!\""
      ],
      "metadata": {
        "id": "Vp-p3T5g8Yks"
      },
      "execution_count": null,
      "outputs": []
    },
    {
      "cell_type": "code",
      "source": [
        "class Cat():\n",
        "  def __init__(self,name):\n",
        "    self.name = name\n",
        "    print(\"Cat Created\")\n",
        "\n",
        "  def speak(self):\n",
        "    return self.name + \" say's Meow!\""
      ],
      "metadata": {
        "id": "8fOLjWGj9Ytu"
      },
      "execution_count": null,
      "outputs": []
    },
    {
      "cell_type": "code",
      "source": [
        "felix=Dog('Felix')\n",
        "felix.speak()"
      ],
      "metadata": {
        "colab": {
          "base_uri": "https://localhost:8080/",
          "height": 53
        },
        "id": "TwD-ita79i27",
        "outputId": "1f2ddcc1-2434-4004-93a5-4eac1ec42550"
      },
      "execution_count": null,
      "outputs": [
        {
          "output_type": "stream",
          "name": "stdout",
          "text": [
            "Dog Created\n"
          ]
        },
        {
          "output_type": "execute_result",
          "data": {
            "text/plain": [
              "\"Felix say's Woof!\""
            ],
            "application/vnd.google.colaboratory.intrinsic+json": {
              "type": "string"
            }
          },
          "metadata": {},
          "execution_count": 61
        }
      ]
    },
    {
      "cell_type": "code",
      "source": [
        "niko=Cat('Niko')\n",
        "niko.speak()"
      ],
      "metadata": {
        "colab": {
          "base_uri": "https://localhost:8080/",
          "height": 53
        },
        "id": "s5KjFoR093bG",
        "outputId": "d1c42f24-bdd1-49b4-acf5-868b59394160"
      },
      "execution_count": null,
      "outputs": [
        {
          "output_type": "stream",
          "name": "stdout",
          "text": [
            "Cat Created\n"
          ]
        },
        {
          "output_type": "execute_result",
          "data": {
            "text/plain": [
              "\"Niko say's Meow!\""
            ],
            "application/vnd.google.colaboratory.intrinsic+json": {
              "type": "string"
            }
          },
          "metadata": {},
          "execution_count": 62
        }
      ]
    },
    {
      "cell_type": "code",
      "source": [
        "def pet_speak(pet):\n",
        "  print(pet.speak())"
      ],
      "metadata": {
        "id": "r_Sqk-l1-Npy"
      },
      "execution_count": null,
      "outputs": []
    },
    {
      "cell_type": "code",
      "source": [
        "pet_speak(felix)"
      ],
      "metadata": {
        "colab": {
          "base_uri": "https://localhost:8080/"
        },
        "id": "HcKW7RYk-WTM",
        "outputId": "077a6934-4fb0-42b0-84d6-06c3b67c7b2a"
      },
      "execution_count": null,
      "outputs": [
        {
          "output_type": "stream",
          "name": "stdout",
          "text": [
            "Felix say's Woof!\n"
          ]
        }
      ]
    },
    {
      "cell_type": "code",
      "source": [
        "pet_speak(niko)"
      ],
      "metadata": {
        "colab": {
          "base_uri": "https://localhost:8080/"
        },
        "id": "nkkZanCo-ZwE",
        "outputId": "12628bc4-09c0-42f3-85e5-b65f0ff036d1"
      },
      "execution_count": null,
      "outputs": [
        {
          "output_type": "stream",
          "name": "stdout",
          "text": [
            "Niko say's Meow!\n"
          ]
        }
      ]
    },
    {
      "cell_type": "markdown",
      "source": [
        "#**magic methods**"
      ],
      "metadata": {
        "id": "0iGS0Yg8__10"
      }
    },
    {
      "cell_type": "code",
      "source": [
        "class Book():\n",
        "  def __init__(self,title,author,pages):\n",
        "    self.title = title\n",
        "    self.author = author\n",
        "    self.pages = pages\n",
        "\n",
        "  def __str__(self):\n",
        "    return f\"{self.title} by {self.author}\"\n",
        "\n",
        "  def __len__(self):\n",
        "    return self.pages\n"
      ],
      "metadata": {
        "id": "3bysOcvLAD1c"
      },
      "execution_count": null,
      "outputs": []
    },
    {
      "cell_type": "code",
      "source": [
        "b = Book('Python rocks','Jose',200)"
      ],
      "metadata": {
        "id": "uTWVjO1kAchF"
      },
      "execution_count": null,
      "outputs": []
    },
    {
      "cell_type": "code",
      "source": [
        "print(b)"
      ],
      "metadata": {
        "colab": {
          "base_uri": "https://localhost:8080/"
        },
        "id": "aeYE2APcAnxu",
        "outputId": "d8d6d700-6aea-4296-9dc7-ff7352d842f5"
      },
      "execution_count": null,
      "outputs": [
        {
          "output_type": "stream",
          "name": "stdout",
          "text": [
            "Python rocks by Jose\n"
          ]
        }
      ]
    },
    {
      "cell_type": "code",
      "source": [
        "len(b)"
      ],
      "metadata": {
        "colab": {
          "base_uri": "https://localhost:8080/"
        },
        "id": "MKQQ1LnRBNVG",
        "outputId": "3b16339d-36f6-4d8e-e199-f4162032ea5a"
      },
      "execution_count": null,
      "outputs": [
        {
          "output_type": "execute_result",
          "data": {
            "text/plain": [
              "200"
            ]
          },
          "metadata": {},
          "execution_count": 104
        }
      ]
    },
    {
      "cell_type": "code",
      "source": [
        ""
      ],
      "metadata": {
        "id": "0GzidCEeBds_"
      },
      "execution_count": null,
      "outputs": []
    }
  ]
}