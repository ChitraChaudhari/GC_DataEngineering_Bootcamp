{
  "nbformat": 4,
  "nbformat_minor": 0,
  "metadata": {
    "colab": {
      "name": "Python_Function_Practice.ipynb",
      "provenance": [],
      "authorship_tag": "ABX9TyN2+6bCzhmd0Svtz2DeRQOf",
      "include_colab_link": true
    },
    "kernelspec": {
      "name": "python3",
      "display_name": "Python 3"
    },
    "language_info": {
      "name": "python"
    }
  },
  "cells": [
    {
      "cell_type": "markdown",
      "metadata": {
        "id": "view-in-github",
        "colab_type": "text"
      },
      "source": [
        "<a href=\"https://colab.research.google.com/github/ChitraChaudhari/GC_DataEngineering_Bootcamp/blob/main/Python/Python_Function_Practice.ipynb\" target=\"_parent\"><img src=\"https://colab.research.google.com/assets/colab-badge.svg\" alt=\"Open In Colab\"/></a>"
      ]
    },
    {
      "cell_type": "markdown",
      "source": [
        "# **LESSER OF TWO EVENS:**\n",
        "\n",
        " Write a function that returns the lesser of two given numbers if both numbers are even, but returns the greater if one or both numbers are odd\n",
        "\n",
        "lesser_of_two_evens(2,4) --> 2\n",
        "\n",
        "lesser_of_two_evens(2,5) --> 5"
      ],
      "metadata": {
        "id": "2IuR1-h9b7oT"
      }
    },
    {
      "cell_type": "code",
      "source": [
        "def lesser_of_two_evens(a,b):\n",
        "  if(a%2==0 and b%2==0):\n",
        "    return a if a<b else b\n",
        "  else:\n",
        "    return a if a>b else b "
      ],
      "metadata": {
        "id": "1hlIk1yJcECM"
      },
      "execution_count": 1,
      "outputs": []
    },
    {
      "cell_type": "code",
      "source": [
        "# Check\n",
        "lesser_of_two_evens(2,4)"
      ],
      "metadata": {
        "colab": {
          "base_uri": "https://localhost:8080/"
        },
        "id": "8MYQFQeydFOX",
        "outputId": "f2a98570-2874-482f-d1fc-990404064863"
      },
      "execution_count": 2,
      "outputs": [
        {
          "output_type": "execute_result",
          "data": {
            "text/plain": [
              "2"
            ]
          },
          "metadata": {},
          "execution_count": 2
        }
      ]
    },
    {
      "cell_type": "code",
      "source": [
        "lesser_of_two_evens(2,5)"
      ],
      "metadata": {
        "colab": {
          "base_uri": "https://localhost:8080/"
        },
        "id": "XqEyiN-5dHMV",
        "outputId": "4c849de8-66da-46b2-a73b-dc516d5c7f69"
      },
      "execution_count": 3,
      "outputs": [
        {
          "output_type": "execute_result",
          "data": {
            "text/plain": [
              "5"
            ]
          },
          "metadata": {},
          "execution_count": 3
        }
      ]
    },
    {
      "cell_type": "markdown",
      "source": [
        "## Write a function that computes the volume of a sphere given its radius.\n"
      ],
      "metadata": {
        "id": "NdDJjvaJQkfj"
      }
    },
    {
      "cell_type": "code",
      "source": [
        "import math"
      ],
      "metadata": {
        "id": "jsNOC1mWS77p"
      },
      "execution_count": 4,
      "outputs": []
    },
    {
      "cell_type": "code",
      "source": [
        "def vol(rad):\n",
        "  return (4*math.pi*(rad**3))/3"
      ],
      "metadata": {
        "id": "cpVLmM2MQjs3"
      },
      "execution_count": 5,
      "outputs": []
    },
    {
      "cell_type": "code",
      "source": [
        "vol(2)"
      ],
      "metadata": {
        "colab": {
          "base_uri": "https://localhost:8080/"
        },
        "id": "lnKBOFK3TMd0",
        "outputId": "528dd33d-4f79-434e-dab3-085b86b22c99"
      },
      "execution_count": 6,
      "outputs": [
        {
          "output_type": "execute_result",
          "data": {
            "text/plain": [
              "33.510321638291124"
            ]
          },
          "metadata": {},
          "execution_count": 6
        }
      ]
    },
    {
      "cell_type": "markdown",
      "source": [
        "## Write a function that checks whether a number is in a given range (inclusive of high and low)"
      ],
      "metadata": {
        "id": "f-P4GGJCTWv5"
      }
    },
    {
      "cell_type": "code",
      "source": [
        "def ran_check(num,low,high):\n",
        "  if num in range(low,high+1):\n",
        "    return True\n",
        "  return False"
      ],
      "metadata": {
        "id": "9hcbj7iCTVSM"
      },
      "execution_count": 7,
      "outputs": []
    },
    {
      "cell_type": "code",
      "source": [
        "# Check\n",
        "ran_check(5,2,7)"
      ],
      "metadata": {
        "colab": {
          "base_uri": "https://localhost:8080/"
        },
        "id": "7ZpiMscwTggc",
        "outputId": "0189e7f5-3d26-46dc-97dc-4794b4347e3c"
      },
      "execution_count": 8,
      "outputs": [
        {
          "output_type": "execute_result",
          "data": {
            "text/plain": [
              "True"
            ]
          },
          "metadata": {},
          "execution_count": 8
        }
      ]
    },
    {
      "cell_type": "code",
      "source": [
        "ran_check(5,2,5)"
      ],
      "metadata": {
        "colab": {
          "base_uri": "https://localhost:8080/"
        },
        "id": "35LQc46lT2RN",
        "outputId": "e7b5ba23-e556-4b73-a492-fdf62c771769"
      },
      "execution_count": 9,
      "outputs": [
        {
          "output_type": "execute_result",
          "data": {
            "text/plain": [
              "True"
            ]
          },
          "metadata": {},
          "execution_count": 9
        }
      ]
    },
    {
      "cell_type": "code",
      "source": [
        "ran_check(10,2,7)"
      ],
      "metadata": {
        "colab": {
          "base_uri": "https://localhost:8080/"
        },
        "id": "oeuvJPjpT7BU",
        "outputId": "e39c71f4-8516-4bd3-932e-31484e2af5ec"
      },
      "execution_count": 10,
      "outputs": [
        {
          "output_type": "execute_result",
          "data": {
            "text/plain": [
              "False"
            ]
          },
          "metadata": {},
          "execution_count": 10
        }
      ]
    },
    {
      "cell_type": "markdown",
      "source": [
        "##Write a Python function that accepts a string and calculates the number of upper case letters and lower case letters.\n",
        "\n",
        "Sample String : 'Hello Mr. Rogers, how are you this fine Tuesday?'\n",
        "\n",
        "Expected Output : \n",
        "\n",
        "No. of Upper case characters : 4\n",
        "\n",
        "No. of Lower case Characters : 33"
      ],
      "metadata": {
        "id": "gGllWSpeUEZk"
      }
    },
    {
      "cell_type": "code",
      "source": [
        "import string\n",
        "\n",
        "def up_low(s):\n",
        "    upper_count=0\n",
        "    lower_count=0\n",
        "\n",
        "    for word in s.split():\n",
        "      for letter in word:\n",
        "        if letter in string.ascii_letters :\n",
        "         if letter.islower():\n",
        "          lower_count+=1\n",
        "         elif letter.upper():\n",
        "          upper_count+=1\n",
        "\n",
        "    print('Origenal String : {}'.format(s))\n",
        "    print('No. of Upper case characters : {}'.format(upper_count))\n",
        "    print('No. of Lower case characters : {}'.format(lower_count))"
      ],
      "metadata": {
        "id": "DTFsmx-gUNY9"
      },
      "execution_count": 11,
      "outputs": []
    },
    {
      "cell_type": "code",
      "source": [
        "s = 'Hello Mr. Rogers, how are you this fine Tuesday?'\n",
        "up_low(s)"
      ],
      "metadata": {
        "colab": {
          "base_uri": "https://localhost:8080/"
        },
        "id": "6Qq6C0EDUSE0",
        "outputId": "0b7bad95-08db-4f9b-a279-45c62af89dd3"
      },
      "execution_count": 12,
      "outputs": [
        {
          "output_type": "stream",
          "name": "stdout",
          "text": [
            "Origenal String : Hello Mr. Rogers, how are you this fine Tuesday?\n",
            "No. of Upper case characters : 4\n",
            "No. of Lower case characters : 33\n"
          ]
        }
      ]
    },
    {
      "cell_type": "markdown",
      "source": [
        "\n",
        "##Write a Python function that takes a list and returns a new list with unique elements of the first list.\n",
        "\n",
        "Sample List : [1,1,1,1,2,2,3,3,3,3,4,5]\n",
        "\n",
        "Unique List : [1, 2, 3, 4, 5]"
      ],
      "metadata": {
        "id": "IY2c9a5dXvjK"
      }
    },
    {
      "cell_type": "code",
      "source": [
        "def unique_list(lst):\n",
        "    return list(set(lst))"
      ],
      "metadata": {
        "id": "13EMH9qlX5cW"
      },
      "execution_count": 70,
      "outputs": []
    },
    {
      "cell_type": "code",
      "source": [
        "unique_list([1,1,1,1,2,2,3,3,3,3,4,5])"
      ],
      "metadata": {
        "colab": {
          "base_uri": "https://localhost:8080/"
        },
        "id": "1H0CHS7qX8z_",
        "outputId": "86af3ce2-8068-49c8-81d8-091af56adec0"
      },
      "execution_count": 71,
      "outputs": [
        {
          "output_type": "execute_result",
          "data": {
            "text/plain": [
              "[1, 2, 3, 4, 5]"
            ]
          },
          "metadata": {},
          "execution_count": 71
        }
      ]
    },
    {
      "cell_type": "markdown",
      "source": [
        "##Write a Python function to multiply all the numbers in a list.\n",
        "\n",
        "Sample List : [1, 2, 3, -4]\n",
        "\n",
        "Expected Output : -24"
      ],
      "metadata": {
        "id": "_SUFz7tRZJte"
      }
    },
    {
      "cell_type": "code",
      "source": [
        "def multiply(numbers):  \n",
        "    total=1\n",
        "    for num in numbers:\n",
        "      total*=num\n",
        "    return total"
      ],
      "metadata": {
        "id": "Xxzp6RppZHQg"
      },
      "execution_count": 72,
      "outputs": []
    },
    {
      "cell_type": "code",
      "source": [
        "multiply([1,2,3,-4])"
      ],
      "metadata": {
        "colab": {
          "base_uri": "https://localhost:8080/"
        },
        "id": "tuMds9rqZRFZ",
        "outputId": "89f1aa80-ea31-41ab-dd3d-ac709605fa33"
      },
      "execution_count": 73,
      "outputs": [
        {
          "output_type": "execute_result",
          "data": {
            "text/plain": [
              "-24"
            ]
          },
          "metadata": {},
          "execution_count": 73
        }
      ]
    },
    {
      "cell_type": "markdown",
      "source": [
        "##Write a Python function that checks whether a word or phrase is palindrome or not."
      ],
      "metadata": {
        "id": "6k3Mo2DRZiyB"
      }
    },
    {
      "cell_type": "code",
      "source": [
        "sent = 'I am chitra'\n",
        "\n",
        "sent = sent.replace(\" \",'')\n",
        "\n",
        "sent[::-1]"
      ],
      "metadata": {
        "colab": {
          "base_uri": "https://localhost:8080/",
          "height": 35
        },
        "id": "5B8aD-QCbQeO",
        "outputId": "8b512721-e345-4afe-f400-5dd971538547"
      },
      "execution_count": 17,
      "outputs": [
        {
          "output_type": "execute_result",
          "data": {
            "text/plain": [
              "'artihcmaI'"
            ],
            "application/vnd.google.colaboratory.intrinsic+json": {
              "type": "string"
            }
          },
          "metadata": {},
          "execution_count": 17
        }
      ]
    },
    {
      "cell_type": "code",
      "source": [
        "def palindrome(s):\n",
        "    if len(s.split()) > 1:\n",
        "      s = s.replace(\" \",'')\n",
        "\n",
        "    if(s[::-1]==s):\n",
        "      return True\n",
        "\n",
        "    return False"
      ],
      "metadata": {
        "id": "wJtmcy15ZlO_"
      },
      "execution_count": 18,
      "outputs": []
    },
    {
      "cell_type": "code",
      "source": [
        "palindrome('helleh')"
      ],
      "metadata": {
        "colab": {
          "base_uri": "https://localhost:8080/"
        },
        "id": "3FI1-ON1ZpBc",
        "outputId": "1979f3b7-ca28-437b-8719-b62598772d00"
      },
      "execution_count": 19,
      "outputs": [
        {
          "output_type": "execute_result",
          "data": {
            "text/plain": [
              "True"
            ]
          },
          "metadata": {},
          "execution_count": 19
        }
      ]
    },
    {
      "cell_type": "code",
      "source": [
        "palindrome(\"nurses run\")"
      ],
      "metadata": {
        "colab": {
          "base_uri": "https://localhost:8080/"
        },
        "id": "JXaeeYlkazmi",
        "outputId": "8a635f45-9edb-40c2-94ea-8d7296fa0aa4"
      },
      "execution_count": 20,
      "outputs": [
        {
          "output_type": "execute_result",
          "data": {
            "text/plain": [
              "True"
            ]
          },
          "metadata": {},
          "execution_count": 20
        }
      ]
    },
    {
      "cell_type": "markdown",
      "source": [
        "##Write a Python function to check whether a string is pangram or not. (Assume the string passed in does not have any punctuation)\n",
        "\n",
        "Note : Pangrams are words or sentences containing every letter of the alphabet at least once.\n",
        "\n",
        "For example : \"The quick brown fox jumps over the lazy dog\""
      ],
      "metadata": {
        "id": "-OXoN4-BcWvH"
      }
    },
    {
      "cell_type": "code",
      "source": [
        "def ispangram(str1, alphabet=string.ascii_lowercase):\n",
        "    for letter in alphabet:\n",
        "      if letter not in str1:\n",
        "        return False\n",
        "\n",
        "    return True"
      ],
      "metadata": {
        "id": "1i4II--9flrh"
      },
      "execution_count": 21,
      "outputs": []
    },
    {
      "cell_type": "code",
      "source": [
        "ispangram(\"The quick brown fox jumps over the lazy dog\")"
      ],
      "metadata": {
        "colab": {
          "base_uri": "https://localhost:8080/"
        },
        "id": "QWVw3-wrfvCm",
        "outputId": "14ec35c7-9bc0-4c94-873a-fb90a8f3744e"
      },
      "execution_count": 22,
      "outputs": [
        {
          "output_type": "execute_result",
          "data": {
            "text/plain": [
              "True"
            ]
          },
          "metadata": {},
          "execution_count": 22
        }
      ]
    },
    {
      "cell_type": "code",
      "source": [
        "ispangram(\"I am tired\")"
      ],
      "metadata": {
        "colab": {
          "base_uri": "https://localhost:8080/"
        },
        "id": "-FviY8iKgjx6",
        "outputId": "dcbfb2f6-41fe-4f46-ec2f-ec884ff11974"
      },
      "execution_count": 23,
      "outputs": [
        {
          "output_type": "execute_result",
          "data": {
            "text/plain": [
              "False"
            ]
          },
          "metadata": {},
          "execution_count": 23
        }
      ]
    },
    {
      "cell_type": "markdown",
      "source": [
        "# **ANIMAL CRACKERS:**\n",
        "##Write a function takes a two-word string and returns True if both words begin with same letter\n",
        "\n",
        "animal_crackers('Levelheaded Llama') --> True\n",
        "\n",
        "animal_crackers('Crazy Kangaroo') --> False"
      ],
      "metadata": {
        "id": "bgAt4YuZGgdf"
      }
    },
    {
      "cell_type": "code",
      "source": [
        "def animal_crackers(text):\n",
        "    if len(text.split())==2:\n",
        "      if(text[0]==text.split()[1][0]):\n",
        "        return True\n",
        "      else:\n",
        "        return False\n",
        "    else:\n",
        "      print(\"Enter two word string only\")"
      ],
      "metadata": {
        "id": "TQMg_8SsGqgv"
      },
      "execution_count": 24,
      "outputs": []
    },
    {
      "cell_type": "code",
      "source": [
        "text = 'Crazy Kangaroo'\n",
        "text.split()[1][0]\n",
        "text[0]"
      ],
      "metadata": {
        "colab": {
          "base_uri": "https://localhost:8080/",
          "height": 35
        },
        "id": "zb0y1Kaz9ZGU",
        "outputId": "dc4ca8fa-75ef-429a-f825-c73193f54fb3"
      },
      "execution_count": 25,
      "outputs": [
        {
          "output_type": "execute_result",
          "data": {
            "text/plain": [
              "'C'"
            ],
            "application/vnd.google.colaboratory.intrinsic+json": {
              "type": "string"
            }
          },
          "metadata": {},
          "execution_count": 25
        }
      ]
    },
    {
      "cell_type": "code",
      "source": [
        "# Check\n",
        "animal_crackers('Levelheaded Llama')"
      ],
      "metadata": {
        "id": "yTDqk9WlG4zG",
        "colab": {
          "base_uri": "https://localhost:8080/"
        },
        "outputId": "baef6834-8740-4a7f-e5a7-e54ed4d14d1e"
      },
      "execution_count": 26,
      "outputs": [
        {
          "output_type": "execute_result",
          "data": {
            "text/plain": [
              "True"
            ]
          },
          "metadata": {},
          "execution_count": 26
        }
      ]
    },
    {
      "cell_type": "code",
      "source": [
        "# Check\n",
        "animal_crackers('Crazy Kangaroo')"
      ],
      "metadata": {
        "id": "F-zyNx-_G7KM",
        "colab": {
          "base_uri": "https://localhost:8080/"
        },
        "outputId": "1e893371-26ac-4df4-afc8-9e44157fcdce"
      },
      "execution_count": 27,
      "outputs": [
        {
          "output_type": "execute_result",
          "data": {
            "text/plain": [
              "False"
            ]
          },
          "metadata": {},
          "execution_count": 27
        }
      ]
    },
    {
      "cell_type": "markdown",
      "source": [
        "#**MAKES TWENTY:**\n",
        "# Given two integers, return True if the sum of the integers is 20 or if one of the integers is 20. If not, return False\n",
        "\n",
        "makes_twenty(20,10) --> True\n",
        "\n",
        "makes_twenty(12,8) --> True\n",
        "\n",
        "makes_twenty(2,3) --> False"
      ],
      "metadata": {
        "id": "0088QtIF-YdB"
      }
    },
    {
      "cell_type": "code",
      "source": [
        "def makes_twenty(n1,n2):\n",
        "  if(n1+n2==20 or n1==20 or n2==20):\n",
        "    return True\n",
        "  else:\n",
        "    return False"
      ],
      "metadata": {
        "id": "-dcIJKDp-X_c"
      },
      "execution_count": 28,
      "outputs": []
    },
    {
      "cell_type": "code",
      "source": [
        "# Check\n",
        "makes_twenty(20,10)"
      ],
      "metadata": {
        "colab": {
          "base_uri": "https://localhost:8080/"
        },
        "id": "jRa1sB19-vJG",
        "outputId": "e52b31b2-0ebe-45a8-8b5b-2fd981136a8b"
      },
      "execution_count": 29,
      "outputs": [
        {
          "output_type": "execute_result",
          "data": {
            "text/plain": [
              "True"
            ]
          },
          "metadata": {},
          "execution_count": 29
        }
      ]
    },
    {
      "cell_type": "code",
      "source": [
        "# Check\n",
        "makes_twenty(2,3)"
      ],
      "metadata": {
        "colab": {
          "base_uri": "https://localhost:8080/"
        },
        "id": "lJ-XJxDX-ylZ",
        "outputId": "e1b69c46-2f02-4a6b-f68c-6aa47ce556a5"
      },
      "execution_count": 30,
      "outputs": [
        {
          "output_type": "execute_result",
          "data": {
            "text/plain": [
              "False"
            ]
          },
          "metadata": {},
          "execution_count": 30
        }
      ]
    },
    {
      "cell_type": "code",
      "source": [
        "makes_twenty(12,8)"
      ],
      "metadata": {
        "colab": {
          "base_uri": "https://localhost:8080/"
        },
        "id": "zWeaIN0K_8Ux",
        "outputId": "bdfd22b6-4b96-41b6-f2f6-853fadcc0c34"
      },
      "execution_count": 31,
      "outputs": [
        {
          "output_type": "execute_result",
          "data": {
            "text/plain": [
              "True"
            ]
          },
          "metadata": {},
          "execution_count": 31
        }
      ]
    },
    {
      "cell_type": "markdown",
      "source": [
        "#**OLD MACDONALD:**\n",
        "#Write a function that capitalizes the first and fourth letters of a name\n",
        "\n",
        "old_macdonald('macdonald') --> MacDonald"
      ],
      "metadata": {
        "id": "yhHWdEiFANnC"
      }
    },
    {
      "cell_type": "code",
      "source": [
        "def old_macdonald(name):\n",
        "  if(len(name)>3):\n",
        "    return name[:3].capitalize() + name[3:].capitalize()\n",
        "  else:\n",
        "    return \"Name is too short!\""
      ],
      "metadata": {
        "id": "cbaZWjf0AgDQ"
      },
      "execution_count": 32,
      "outputs": []
    },
    {
      "cell_type": "code",
      "source": [
        "# Check\n",
        "new_name=old_macdonald('macdonald')\n",
        "new_name"
      ],
      "metadata": {
        "colab": {
          "base_uri": "https://localhost:8080/",
          "height": 35
        },
        "id": "nP6u3hVLBJt-",
        "outputId": "55e4235f-3754-4d34-f89f-800765caf103"
      },
      "execution_count": 33,
      "outputs": [
        {
          "output_type": "execute_result",
          "data": {
            "text/plain": [
              "'MacDonald'"
            ],
            "application/vnd.google.colaboratory.intrinsic+json": {
              "type": "string"
            }
          },
          "metadata": {},
          "execution_count": 33
        }
      ]
    },
    {
      "cell_type": "markdown",
      "source": [
        "#**MASTER YODA:**\n",
        "#Given a sentence, return a sentence with the words reversed\n",
        "\n",
        "master_yoda('I am home') --> 'home am I'\n",
        "\n",
        "master_yoda('We are ready') --> 'ready are We'"
      ],
      "metadata": {
        "id": "OaDlO_F2DSSG"
      }
    },
    {
      "cell_type": "code",
      "source": [
        "def master_yoda(text):\n",
        "    text_list = text.split()\n",
        "    text_list.reverse()\n",
        "    new_sentence = \" \".join(text_list)\n",
        "    return new_sentence"
      ],
      "metadata": {
        "id": "tjo8kPYEDc1A"
      },
      "execution_count": 34,
      "outputs": []
    },
    {
      "cell_type": "code",
      "source": [
        "# Check\n",
        "master_yoda('I am home')"
      ],
      "metadata": {
        "colab": {
          "base_uri": "https://localhost:8080/",
          "height": 35
        },
        "id": "jk8KV-0-PZjS",
        "outputId": "ad821620-8e7d-4bf7-b689-aad60b8eb4c0"
      },
      "execution_count": 35,
      "outputs": [
        {
          "output_type": "execute_result",
          "data": {
            "text/plain": [
              "'home am I'"
            ],
            "application/vnd.google.colaboratory.intrinsic+json": {
              "type": "string"
            }
          },
          "metadata": {},
          "execution_count": 35
        }
      ]
    },
    {
      "cell_type": "code",
      "source": [
        "# Check\n",
        "master_yoda('We are ready')"
      ],
      "metadata": {
        "colab": {
          "base_uri": "https://localhost:8080/",
          "height": 35
        },
        "id": "zMAUU8rCGV_S",
        "outputId": "747d7b59-1431-4548-ad19-247884b627d6"
      },
      "execution_count": 36,
      "outputs": [
        {
          "output_type": "execute_result",
          "data": {
            "text/plain": [
              "'ready are We'"
            ],
            "application/vnd.google.colaboratory.intrinsic+json": {
              "type": "string"
            }
          },
          "metadata": {},
          "execution_count": 36
        }
      ]
    },
    {
      "cell_type": "code",
      "source": [
        "text = 'chitra kiran'\n",
        "new_text = text.split()\n",
        "new_text.reverse()\n",
        "new_sentence = \" \".join(new_text)\n",
        "new_sentence"
      ],
      "metadata": {
        "colab": {
          "base_uri": "https://localhost:8080/",
          "height": 35
        },
        "id": "k6cS8KlyET-b",
        "outputId": "bc1d4f3b-81c7-4925-ae22-f4eda4cb63a4"
      },
      "execution_count": 37,
      "outputs": [
        {
          "output_type": "execute_result",
          "data": {
            "text/plain": [
              "'kiran chitra'"
            ],
            "application/vnd.google.colaboratory.intrinsic+json": {
              "type": "string"
            }
          },
          "metadata": {},
          "execution_count": 37
        }
      ]
    },
    {
      "cell_type": "markdown",
      "source": [
        "#**ALMOST THERE:**\n",
        "\n",
        "##Given an integer n, return True if n is within 10 of either 100 or 200\n",
        "almost_there(90) --> True\n",
        "\n",
        "almost_there(104) --> True\n",
        "\n",
        "almost_there(150) --> False"
      ],
      "metadata": {
        "id": "LkXQ3wi8PcSj"
      }
    },
    {
      "cell_type": "code",
      "source": [
        "def almost_there(n):\n",
        "  if(n>=90 and n<=110 or n>=190 and n<=210):\n",
        "    return True\n",
        "  else:\n",
        "    return False"
      ],
      "metadata": {
        "id": "4ClnGGLYPrmJ"
      },
      "execution_count": 38,
      "outputs": []
    },
    {
      "cell_type": "code",
      "source": [
        "# Check\n",
        "almost_there(104)"
      ],
      "metadata": {
        "colab": {
          "base_uri": "https://localhost:8080/"
        },
        "id": "ffJ5ve6XP3xC",
        "outputId": "a5a0df1b-bc20-4294-ec24-63c2dedbf2e6"
      },
      "execution_count": 39,
      "outputs": [
        {
          "output_type": "execute_result",
          "data": {
            "text/plain": [
              "True"
            ]
          },
          "metadata": {},
          "execution_count": 39
        }
      ]
    },
    {
      "cell_type": "code",
      "source": [
        "# Check\n",
        "almost_there(150)"
      ],
      "metadata": {
        "colab": {
          "base_uri": "https://localhost:8080/"
        },
        "id": "NOpBITD3P6Fi",
        "outputId": "8c328fef-c9b5-4bb1-9aac-a78aaeb0bbf5"
      },
      "execution_count": 40,
      "outputs": [
        {
          "output_type": "execute_result",
          "data": {
            "text/plain": [
              "False"
            ]
          },
          "metadata": {},
          "execution_count": 40
        }
      ]
    },
    {
      "cell_type": "code",
      "source": [
        "# Check\n",
        "almost_there(2000)"
      ],
      "metadata": {
        "colab": {
          "base_uri": "https://localhost:8080/"
        },
        "id": "6KN1j-nUP8S6",
        "outputId": "c4058893-a8fd-477c-fdb9-f9386e70bae0"
      },
      "execution_count": 41,
      "outputs": [
        {
          "output_type": "execute_result",
          "data": {
            "text/plain": [
              "False"
            ]
          },
          "metadata": {},
          "execution_count": 41
        }
      ]
    },
    {
      "cell_type": "markdown",
      "source": [
        "#**FIND 33:**\n",
        "##Given a list of ints, return True if the array contains a 3 next to a 3 somewhere.\n",
        "\n",
        "has_33([1, 3, 3]) → True\n",
        "\n",
        "has_33([1, 3, 1, 3]) → False\n",
        "\n",
        "has_33([3, 1, 3]) → False"
      ],
      "metadata": {
        "id": "2ExLnIlMV6-5"
      }
    },
    {
      "cell_type": "code",
      "source": [
        "def has_33(nums):\n",
        "  teststr = ''\n",
        "  for num in nums:\n",
        "    teststr = teststr+str(num)\n",
        "  \n",
        "  if '33' in teststr:\n",
        "    return True\n",
        "  else:\n",
        "    return False\n",
        "   "
      ],
      "metadata": {
        "id": "tF118KFcWGOl"
      },
      "execution_count": 42,
      "outputs": []
    },
    {
      "cell_type": "code",
      "source": [
        "# Check\n",
        "has_33([1, 3, 3])"
      ],
      "metadata": {
        "colab": {
          "base_uri": "https://localhost:8080/"
        },
        "id": "s4XMJnfKWTWu",
        "outputId": "de0eedc7-f77b-43ca-d68e-76593d4294db"
      },
      "execution_count": 43,
      "outputs": [
        {
          "output_type": "execute_result",
          "data": {
            "text/plain": [
              "True"
            ]
          },
          "metadata": {},
          "execution_count": 43
        }
      ]
    },
    {
      "cell_type": "code",
      "source": [
        "# Check\n",
        "has_33([1, 3, 1, 3])"
      ],
      "metadata": {
        "colab": {
          "base_uri": "https://localhost:8080/"
        },
        "id": "Yq1idJcYWW0a",
        "outputId": "c8752725-e1d4-4b5f-b10c-14e337a73edf"
      },
      "execution_count": 44,
      "outputs": [
        {
          "output_type": "execute_result",
          "data": {
            "text/plain": [
              "False"
            ]
          },
          "metadata": {},
          "execution_count": 44
        }
      ]
    },
    {
      "cell_type": "code",
      "source": [
        "# Check\n",
        "has_33([3, 1, 3])"
      ],
      "metadata": {
        "colab": {
          "base_uri": "https://localhost:8080/"
        },
        "id": "s61xDDtaWYJT",
        "outputId": "c52dc01c-5d47-4cb6-b983-6f4919241eb9"
      },
      "execution_count": 45,
      "outputs": [
        {
          "output_type": "execute_result",
          "data": {
            "text/plain": [
              "False"
            ]
          },
          "metadata": {},
          "execution_count": 45
        }
      ]
    },
    {
      "cell_type": "markdown",
      "source": [
        "#**PAPER DOLL:**\n",
        "#Given a string, return a string where for every character in the original there are three characters\n",
        "\n",
        "paper_doll('Hello') --> 'HHHeeellllllooo'\n",
        "\n",
        "paper_doll('Mississippi') --> 'MMMiiissssssiiippppppiii'"
      ],
      "metadata": {
        "id": "CS1GQSA5ZWus"
      }
    },
    {
      "cell_type": "code",
      "source": [
        "def paper_doll(text):\n",
        "    newstr = ''\n",
        "    for letter in text:\n",
        "      newstr += 3*letter\n",
        "    return newstr"
      ],
      "metadata": {
        "id": "X7vq7GkiZc6c"
      },
      "execution_count": 46,
      "outputs": []
    },
    {
      "cell_type": "code",
      "source": [
        "# Check\n",
        "paper_doll('Hello')"
      ],
      "metadata": {
        "colab": {
          "base_uri": "https://localhost:8080/",
          "height": 35
        },
        "id": "kt_wPROCZi_o",
        "outputId": "d73f175b-ca96-4d6e-d899-91d5a750554e"
      },
      "execution_count": 47,
      "outputs": [
        {
          "output_type": "execute_result",
          "data": {
            "text/plain": [
              "'HHHeeellllllooo'"
            ],
            "application/vnd.google.colaboratory.intrinsic+json": {
              "type": "string"
            }
          },
          "metadata": {},
          "execution_count": 47
        }
      ]
    },
    {
      "cell_type": "code",
      "source": [
        "# Check\n",
        "paper_doll('Mississippi')"
      ],
      "metadata": {
        "colab": {
          "base_uri": "https://localhost:8080/",
          "height": 35
        },
        "id": "NsWMxKBHZliA",
        "outputId": "93defd56-e38d-4529-c9e0-c8f51d40248e"
      },
      "execution_count": 48,
      "outputs": [
        {
          "output_type": "execute_result",
          "data": {
            "text/plain": [
              "'MMMiiissssssiiissssssiiippppppiii'"
            ],
            "application/vnd.google.colaboratory.intrinsic+json": {
              "type": "string"
            }
          },
          "metadata": {},
          "execution_count": 48
        }
      ]
    },
    {
      "cell_type": "markdown",
      "source": [
        "#**BLACKJACK:**\n",
        "##Given three integers between 1 and 11, if their sum is less than or equal to 21, return their sum. If their sum exceeds 21 and there's an eleven, reduce the total sum by 10. Finally, if the sum (even after adjustment) exceeds 21, return 'BUST'\n",
        "blackjack(5,6,7) --> 18\n",
        "\n",
        "blackjack(9,9,9) --> 'BUST'\n",
        "\n",
        "blackjack(9,9,11) --> 19"
      ],
      "metadata": {
        "id": "Q-ZV9_D6ddZD"
      }
    },
    {
      "cell_type": "code",
      "source": [
        "def blackjack(a,b,c):\n",
        "  sum = a+b+c\n",
        "  if(sum<=21):\n",
        "    return sum\n",
        "  elif(a==11 or b==11 or c==11):\n",
        "    return sum-10\n",
        "  else:\n",
        "    return 'BUST'"
      ],
      "metadata": {
        "id": "EeyN5B_edo80"
      },
      "execution_count": 49,
      "outputs": []
    },
    {
      "cell_type": "code",
      "source": [
        "# Check\n",
        "blackjack(5,6,7)"
      ],
      "metadata": {
        "colab": {
          "base_uri": "https://localhost:8080/"
        },
        "id": "P6ExnPmydy5n",
        "outputId": "81b50174-6f52-4b5b-a61b-64c9fdfaec76"
      },
      "execution_count": 50,
      "outputs": [
        {
          "output_type": "execute_result",
          "data": {
            "text/plain": [
              "18"
            ]
          },
          "metadata": {},
          "execution_count": 50
        }
      ]
    },
    {
      "cell_type": "code",
      "source": [
        "# Check\n",
        "blackjack(9,9,9)"
      ],
      "metadata": {
        "colab": {
          "base_uri": "https://localhost:8080/",
          "height": 35
        },
        "id": "jjT0okdOd1pC",
        "outputId": "44845555-fafc-41c2-e4c0-3a0e18e29673"
      },
      "execution_count": 51,
      "outputs": [
        {
          "output_type": "execute_result",
          "data": {
            "text/plain": [
              "'BUST'"
            ],
            "application/vnd.google.colaboratory.intrinsic+json": {
              "type": "string"
            }
          },
          "metadata": {},
          "execution_count": 51
        }
      ]
    },
    {
      "cell_type": "code",
      "source": [
        "# Check\n",
        "blackjack(9,9,11)"
      ],
      "metadata": {
        "colab": {
          "base_uri": "https://localhost:8080/"
        },
        "id": "RyKO6DC1d3S4",
        "outputId": "53914a66-4cf8-4fb6-954e-a8c06eea814f"
      },
      "execution_count": 52,
      "outputs": [
        {
          "output_type": "execute_result",
          "data": {
            "text/plain": [
              "19"
            ]
          },
          "metadata": {},
          "execution_count": 52
        }
      ]
    },
    {
      "cell_type": "markdown",
      "source": [
        "#**SUMMER OF '69:**\n",
        "##Return the sum of the numbers in the array, except ignore sections of numbers starting with a 6 and extending to the next 9 (every 6 will be followed by at least one 9). Return 0 for no numbers.\n",
        "summer_69([1, 3, 5]) --> 9\n",
        "\n",
        "summer_69([4, 5, 6, 7, 8, 9]) --> 9\n",
        "\n",
        "summer_69([2, 1, 6, 9, 11]) --> 14"
      ],
      "metadata": {
        "id": "ZMp2Qf2diWYI"
      }
    },
    {
      "cell_type": "code",
      "source": [
        "def summer_69(arr):\n",
        "    sum = 0\n",
        "    add = True\n",
        "\n",
        "    for num in arr:\n",
        "      if num==6 and 9 in arr:\n",
        "        add = False\n",
        "      if num == 9:\n",
        "        add = True\n",
        "        continue\n",
        "      if add:\n",
        "        sum += num\n",
        "      \n",
        "    return sum "
      ],
      "metadata": {
        "id": "yKTmTocbiUkT"
      },
      "execution_count": 53,
      "outputs": []
    },
    {
      "cell_type": "code",
      "source": [
        "# Check\n",
        "summer_69([1, 3, 5])"
      ],
      "metadata": {
        "colab": {
          "base_uri": "https://localhost:8080/"
        },
        "id": "6c3hMn7djlm6",
        "outputId": "86920e46-73e1-473a-dd18-2428e827dd4f"
      },
      "execution_count": 54,
      "outputs": [
        {
          "output_type": "execute_result",
          "data": {
            "text/plain": [
              "9"
            ]
          },
          "metadata": {},
          "execution_count": 54
        }
      ]
    },
    {
      "cell_type": "code",
      "source": [
        "# Check\n",
        "summer_69([4, 5, 6, 7, 8, 9])"
      ],
      "metadata": {
        "colab": {
          "base_uri": "https://localhost:8080/"
        },
        "id": "x7iGuzq7jotH",
        "outputId": "67d59f0e-3780-45f8-f3bf-0230d1f35e24"
      },
      "execution_count": 55,
      "outputs": [
        {
          "output_type": "execute_result",
          "data": {
            "text/plain": [
              "9"
            ]
          },
          "metadata": {},
          "execution_count": 55
        }
      ]
    },
    {
      "cell_type": "code",
      "source": [
        "# Check\n",
        "summer_69([2, 1, 6, 9, 11])"
      ],
      "metadata": {
        "colab": {
          "base_uri": "https://localhost:8080/"
        },
        "id": "HsqJrwhyjqrZ",
        "outputId": "c7c87f36-bde9-479a-d6b8-ef37f177dec3"
      },
      "execution_count": 56,
      "outputs": [
        {
          "output_type": "execute_result",
          "data": {
            "text/plain": [
              "14"
            ]
          },
          "metadata": {},
          "execution_count": 56
        }
      ]
    },
    {
      "cell_type": "code",
      "source": [
        "#alternate solution\n",
        "\n",
        "def summer_69(arr):\n",
        "    sum = 0\n",
        "    add = True\n",
        "\n",
        "    for num in arr:\n",
        "      while add:\n",
        "        if num!=6:\n",
        "          sum += num\n",
        "          break\n",
        "        else:\n",
        "          add = False\n",
        "      while not add:\n",
        "        if num!=9:\n",
        "          break\n",
        "        else:\n",
        "          add = True\n",
        "          break\n",
        "    return sum "
      ],
      "metadata": {
        "id": "mxSI-fsrS2mk"
      },
      "execution_count": 57,
      "outputs": []
    },
    {
      "cell_type": "markdown",
      "source": [
        "#**SPY GAME:**\n",
        "#Write a function that takes in a list of integers and returns True if it contains 007 in order\n",
        " \n",
        " spy_game([1,2,4,0,0,7,5]) --> True\n",
        "\n",
        " spy_game([1,0,2,4,0,5,7]) --> True\n",
        "\n",
        " spy_game([1,7,2,0,4,5,0]) --> False"
      ],
      "metadata": {
        "id": "LFCJzMvWj4p_"
      }
    },
    {
      "cell_type": "code",
      "source": [
        "def spy_game(nums):\n",
        "  code = [0,0,7,'x']\n",
        "\n",
        "  for num in nums:\n",
        "    if num==code[0]:\n",
        "      code.pop(0)   \n",
        "\n",
        "  return len(code)==1"
      ],
      "metadata": {
        "id": "MfOf-2sFkG-b"
      },
      "execution_count": 58,
      "outputs": []
    },
    {
      "cell_type": "code",
      "source": [
        "# Check\n",
        "spy_game([1,2,4,0,0,7,5])"
      ],
      "metadata": {
        "colab": {
          "base_uri": "https://localhost:8080/"
        },
        "id": "5rG_Rln0kJnD",
        "outputId": "1797f14c-00ef-4983-ec04-aaf343531611"
      },
      "execution_count": 59,
      "outputs": [
        {
          "output_type": "execute_result",
          "data": {
            "text/plain": [
              "True"
            ]
          },
          "metadata": {},
          "execution_count": 59
        }
      ]
    },
    {
      "cell_type": "code",
      "source": [
        "# Check\n",
        "spy_game([1,0,2,4,0,5,7])"
      ],
      "metadata": {
        "colab": {
          "base_uri": "https://localhost:8080/"
        },
        "id": "dS9_qOcqkMrU",
        "outputId": "5b264d34-385a-49c6-dde3-b7ac7f39e153"
      },
      "execution_count": 60,
      "outputs": [
        {
          "output_type": "execute_result",
          "data": {
            "text/plain": [
              "True"
            ]
          },
          "metadata": {},
          "execution_count": 60
        }
      ]
    },
    {
      "cell_type": "code",
      "source": [
        "# Check\n",
        "spy_game([1,7,2,0,4,5,0])"
      ],
      "metadata": {
        "colab": {
          "base_uri": "https://localhost:8080/"
        },
        "id": "Oi7p1G4XkObw",
        "outputId": "33b05a09-35cd-4a5c-b3bb-c0f2e09ca1e6"
      },
      "execution_count": 61,
      "outputs": [
        {
          "output_type": "execute_result",
          "data": {
            "text/plain": [
              "False"
            ]
          },
          "metadata": {},
          "execution_count": 61
        }
      ]
    },
    {
      "cell_type": "markdown",
      "source": [
        "#**COUNT PRIMES:**\n",
        "##Write a function that returns the number of prime numbers that exist up to and including a given number\n",
        "\n",
        "count_primes(100) --> 25\n",
        "\n",
        "By convention, 0 and 1 are not prime."
      ],
      "metadata": {
        "id": "uNnUNqNmkSOv"
      }
    },
    {
      "cell_type": "code",
      "source": [
        "#check if number is prime?\n",
        "def check_prime(num):\n",
        "  if num>1:\n",
        "    for i in range(2,num):\n",
        "      if (num%i)==0:\n",
        "        return False\n",
        "        \n",
        "  return True"
      ],
      "metadata": {
        "id": "rf4kE_wrb3y2"
      },
      "execution_count": 62,
      "outputs": []
    },
    {
      "cell_type": "code",
      "source": [
        "check_prime(50)"
      ],
      "metadata": {
        "colab": {
          "base_uri": "https://localhost:8080/"
        },
        "id": "AJXpDJApdKJ8",
        "outputId": "7f25e76b-5e8f-46ec-c549-db216e531158"
      },
      "execution_count": 63,
      "outputs": [
        {
          "output_type": "execute_result",
          "data": {
            "text/plain": [
              "False"
            ]
          },
          "metadata": {},
          "execution_count": 63
        }
      ]
    },
    {
      "cell_type": "code",
      "source": [
        "def count_primes(num):\n",
        "  primes_list = []\n",
        "  if num<2:\n",
        "    return 0\n",
        "  \n",
        "  for i in range(2,num+1):\n",
        "    if check_prime(i):\n",
        "      primes_list.append(i)\n",
        "    \n",
        "  print(primes_list)\n",
        "  return len(primes_list)"
      ],
      "metadata": {
        "id": "9BEwksBtkZHP"
      },
      "execution_count": 64,
      "outputs": []
    },
    {
      "cell_type": "code",
      "source": [
        "# Check\n",
        "count_primes(100)"
      ],
      "metadata": {
        "colab": {
          "base_uri": "https://localhost:8080/"
        },
        "id": "OT_ZHU3Jkd8x",
        "outputId": "64177e47-cd08-46d9-c82e-7b26bc32533a"
      },
      "execution_count": 65,
      "outputs": [
        {
          "output_type": "stream",
          "name": "stdout",
          "text": [
            "[2, 3, 5, 7, 11, 13, 17, 19, 23, 29, 31, 37, 41, 43, 47, 53, 59, 61, 67, 71, 73, 79, 83, 89, 97]\n"
          ]
        },
        {
          "output_type": "execute_result",
          "data": {
            "text/plain": [
              "25"
            ]
          },
          "metadata": {},
          "execution_count": 65
        }
      ]
    },
    {
      "cell_type": "markdown",
      "source": [
        "#**PRINT BIG:**\n",
        "##Write a function that takes in a single letter, and returns a 5x5 representation of that letter\n",
        "\n",
        "print_big('a')\n",
        "\n",
        "out:\n",
        "\n",
        "       *\n",
        "      * *\n",
        "     *****\n",
        "     *   *\n",
        "     *   *\n",
        "\n",
        "HINT: Consider making a dictionary of possible patterns, and mapping the alphabet to specific 5-line combinations of patterns.\n",
        "\n",
        "For purposes of this exercise, it's ok if your dictionary stops at \"E\"."
      ],
      "metadata": {
        "id": "yw-0V76jklIT"
      }
    },
    {
      "cell_type": "code",
      "source": [
        "def print_big(letter):\n",
        "  patterns = {1:'*****',2:'**** ',3:'*     ',4:'  *  ',5:'*   *',6:' * * '}\n",
        "  alphabet = {'A':[4,6,1,5,5],'B':[2,5,2,5,2],'C':[1,3,3,3,1],'D':[2,5,5,5,2],'E':[1,3,1,3,1]}\n",
        "\n",
        "  for pattern in alphabet[letter.upper()]:\n",
        "    print(patterns[pattern]) "
      ],
      "metadata": {
        "id": "SZviZ103k-a4"
      },
      "execution_count": 66,
      "outputs": []
    },
    {
      "cell_type": "code",
      "source": [
        "print_big('e')"
      ],
      "metadata": {
        "colab": {
          "base_uri": "https://localhost:8080/"
        },
        "id": "XR0VSLeMlCZ0",
        "outputId": "d7382433-0057-4d73-dec0-6ca39599db08"
      },
      "execution_count": 67,
      "outputs": [
        {
          "output_type": "stream",
          "name": "stdout",
          "text": [
            "*****\n",
            "*     \n",
            "*****\n",
            "*     \n",
            "*****\n"
          ]
        }
      ]
    },
    {
      "cell_type": "markdown",
      "source": [
        "#**skyline**\n",
        "## Define a function called myfunc that takes in a string and returns the matching string where every even letter is uppercase and every odd letter is lowercase. \n",
        "\n",
        "Assume that the incoming string only contains letters, and dont worry about numbers, spaces or punctuation"
      ],
      "metadata": {
        "id": "gAYgw5786ea4"
      }
    },
    {
      "cell_type": "code",
      "source": [
        "def myfunc(word):\n",
        "  new_word = ''\n",
        "  for index,letter in enumerate(word):\n",
        "    if index%2==0:\n",
        "      new_word+=letter.upper()\n",
        "    else:\n",
        "      new_word+=letter.lower()\n",
        "  return new_word"
      ],
      "metadata": {
        "id": "Kt9yv9-A6bkb"
      },
      "execution_count": 68,
      "outputs": []
    },
    {
      "cell_type": "code",
      "source": [
        "myfunc('hotdog')"
      ],
      "metadata": {
        "colab": {
          "base_uri": "https://localhost:8080/",
          "height": 35
        },
        "id": "50-jJcM78C0t",
        "outputId": "9436661e-ffde-452f-82eb-50eaaf554458"
      },
      "execution_count": 69,
      "outputs": [
        {
          "output_type": "execute_result",
          "data": {
            "text/plain": [
              "'HoTdOg'"
            ],
            "application/vnd.google.colaboratory.intrinsic+json": {
              "type": "string"
            }
          },
          "metadata": {},
          "execution_count": 69
        }
      ]
    }
  ]
}