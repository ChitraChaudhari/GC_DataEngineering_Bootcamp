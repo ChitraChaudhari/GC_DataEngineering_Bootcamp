{
  "nbformat": 4,
  "nbformat_minor": 0,
  "metadata": {
    "colab": {
      "name": "Python-test.ipynb",
      "provenance": [],
      "collapsed_sections": [],
      "include_colab_link": true
    },
    "kernelspec": {
      "name": "python3",
      "display_name": "Python 3"
    }
  },
  "cells": [
    {
      "cell_type": "markdown",
      "metadata": {
        "id": "view-in-github",
        "colab_type": "text"
      },
      "source": [
        "<a href=\"https://colab.research.google.com/github/ChitraChaudhari/GC_DataEngineering_Bootcamp/blob/main/Python/Python_test.ipynb\" target=\"_parent\"><img src=\"https://colab.research.google.com/assets/colab-badge.svg\" alt=\"Open In Colab\"/></a>"
      ]
    },
    {
      "cell_type": "markdown",
      "metadata": {
        "id": "WUqbqG3EymBd"
      },
      "source": [
        "# Please Copy this file by selecting 'File-->Save a Copy in Drive' from the top menu bar, and then start working on these problems. You cannot edit this file as it is a READ-ONLY file. \n",
        "\n",
        "## Ensure that you share your file with public and then turn in your test. Otherwise I will not be able to see your answers.\n",
        "\n",
        "\n",
        "---\n",
        "\n",
        "This test should be worked on only by you and you are not allowed to take help from anyone else. But you can refer to documentations given from IDE and our own eBooks during the test.\n",
        "\n",
        "\n",
        "\n"
      ]
    },
    {
      "cell_type": "markdown",
      "metadata": {
        "id": "tZbELT4Cpgz5"
      },
      "source": [
        "#Problem 1\n",
        "You are given a list with many words. Pull out all the words which has a 'cat' substring in them and insert into the list 'cat_words'\n",
        "\n",
        "Hint: \n",
        "1. You have to use a 'for' loop.  \n",
        "2. For finding the 'cat' substring you have multiple ways of doing this, one way is to check all the methods that you can apply on a String by using the dot(.) operator on a String type, and find the method which helps you with this requirement. Another way is by using the 'in' operator. Choose what ever works for you \n",
        "\n"
      ]
    },
    {
      "cell_type": "code",
      "metadata": {
        "id": "iKyM5UMCpQ-j"
      },
      "source": [
        "my_list = ['catapult', 'california', 'caterpiller', 'amazingcat', 'mammal']\n",
        "cat_words = []\n",
        "\n",
        "for word in my_list:\n",
        "  if 'cat' in word:\n",
        "    cat_words.append(word)"
      ],
      "execution_count": 8,
      "outputs": []
    },
    {
      "cell_type": "code",
      "source": [
        "my_list = ['catapult', 'california', 'caterpiller', 'amazingcat', 'mammal']\n",
        "cat_words = [word for word in my_list if 'cat' in word]\n",
        "\n",
        "print(cat_words)"
      ],
      "metadata": {
        "colab": {
          "base_uri": "https://localhost:8080/"
        },
        "id": "0yAnxTw9JuPE",
        "outputId": "c56c7b0f-172b-46b5-d85d-e3917d1bd20e"
      },
      "execution_count": 12,
      "outputs": [
        {
          "output_type": "stream",
          "name": "stdout",
          "text": [
            "['catapult', 'caterpiller', 'amazingcat']\n"
          ]
        }
      ]
    },
    {
      "cell_type": "code",
      "metadata": {
        "id": "5Xbk63B0qOWB",
        "colab": {
          "base_uri": "https://localhost:8080/"
        },
        "outputId": "057c0099-9e7c-4154-ff76-1393b2174477"
      },
      "source": [
        "#TestCase\n",
        "assert (cat_words == ['catapult', 'caterpiller', 'amazingcat'])\n",
        "score = 3\n",
        "print(\"Test passed!\")"
      ],
      "execution_count": 11,
      "outputs": [
        {
          "output_type": "stream",
          "name": "stdout",
          "text": [
            "Test passed!\n"
          ]
        }
      ]
    },
    {
      "cell_type": "markdown",
      "metadata": {
        "id": "Lmeg55zIq582"
      },
      "source": [
        "#Problem 2\n",
        "The below program is written to change the value of given dictionary such that the value word starts with upper case. However only the first value is changed with this program. Fix the program so that all values are changed.\n",
        "\n",
        "Hint: Don't overthink! This is a very simple fix. "
      ]
    },
    {
      "cell_type": "code",
      "metadata": {
        "id": "Hlu5ZlX3rAke",
        "colab": {
          "base_uri": "https://localhost:8080/"
        },
        "outputId": "cf77c893-afcd-4e9f-ea49-9b23aea30388"
      },
      "source": [
        "key_values = {1:'michigan', 2:'detroit', 3:'southfield', 4: 'troy'}\n",
        "\n",
        "def fix_key_value(key_values):\n",
        "  for x in key_values:\n",
        "    key_values[x] = key_values[x].title()\n",
        "   \n",
        "  return \n",
        "\n",
        "fix_key_value(key_values)\n",
        "key_values"
      ],
      "execution_count": 14,
      "outputs": [
        {
          "output_type": "execute_result",
          "data": {
            "text/plain": [
              "{1: 'Michigan', 2: 'Detroit', 3: 'Southfield', 4: 'Troy'}"
            ]
          },
          "metadata": {},
          "execution_count": 14
        }
      ]
    },
    {
      "cell_type": "code",
      "metadata": {
        "id": "fIHOioXguQ2f",
        "colab": {
          "base_uri": "https://localhost:8080/"
        },
        "outputId": "4519b91d-63e3-4405-bd11-ebc02b12054a"
      },
      "source": [
        "#TestCase\n",
        "assert (key_values == {1: 'Michigan', 2: 'Detroit', 3: 'Southfield', 4: 'Troy'})\n",
        "if(score):\n",
        "  score += 1\n",
        "else:\n",
        "  score = 1\n",
        "print(\"Test passed!\")"
      ],
      "execution_count": 15,
      "outputs": [
        {
          "output_type": "stream",
          "name": "stdout",
          "text": [
            "Test passed!\n"
          ]
        }
      ]
    },
    {
      "cell_type": "markdown",
      "metadata": {
        "id": "_JTmeRg-yMva"
      },
      "source": [
        "#Problem 3\n",
        "\n",
        "Complete the function 'add_five_multiples' given below that takes in a number and returns the sum of the multiples of 5 upto the given number.\n",
        "\n",
        "For e.g., if the function is invoked as below\n",
        "add_five_multiples(15)\n",
        "\n",
        "then it should return 30 because 5+10+15 = 30\n",
        "\n",
        "\n"
      ]
    },
    {
      "cell_type": "code",
      "metadata": {
        "id": "dVEgl5a0yflZ"
      },
      "source": [
        "def add_five_multiples(num):\n",
        "  sum = 0\n",
        "  for num in range(num+1):\n",
        "    if num%5 == 0:\n",
        "      sum+=num\n",
        "  return sum"
      ],
      "execution_count": 16,
      "outputs": []
    },
    {
      "cell_type": "code",
      "metadata": {
        "id": "HLvnM-I-y7Ba",
        "colab": {
          "base_uri": "https://localhost:8080/"
        },
        "outputId": "bc78bd02-6cf7-4241-d298-ef300fea8f46"
      },
      "source": [
        "#TestCase\n",
        "assert add_five_multiples(15) == 30\n",
        "if(score):\n",
        "  score += 3\n",
        "else:\n",
        "  score = 3\n",
        "print(\"Test passed!\")"
      ],
      "execution_count": 17,
      "outputs": [
        {
          "output_type": "stream",
          "name": "stdout",
          "text": [
            "Test passed!\n"
          ]
        }
      ]
    },
    {
      "cell_type": "code",
      "source": [
        ""
      ],
      "metadata": {
        "id": "_GajIcAPGjlb"
      },
      "execution_count": null,
      "outputs": []
    },
    {
      "cell_type": "markdown",
      "source": [
        "Write to a program which asks for two decimal numbers from the user and then adds the two numbers and prints out the sum *"
      ],
      "metadata": {
        "id": "lFBg0eosGlQf"
      }
    },
    {
      "cell_type": "code",
      "source": [
        "number1 = float(input(\"Enter first decimal number\"))\n",
        "number2 = float(input(\"Enter second decimal number\"))\n",
        "\n",
        "print(\"sum of the numbers is \",number1+number2)"
      ],
      "metadata": {
        "colab": {
          "base_uri": "https://localhost:8080/"
        },
        "id": "L0JjxPQiGjFs",
        "outputId": "7c733e4c-c0de-4530-e051-7135098ff630"
      },
      "execution_count": 4,
      "outputs": [
        {
          "output_type": "stream",
          "name": "stdout",
          "text": [
            "Enter first decimal number10\n",
            "Enter second decimal number20\n",
            "sum =  30.0\n"
          ]
        }
      ]
    },
    {
      "cell_type": "code",
      "source": [
        "while True:\n",
        "    try:\n",
        "      num1 = float(input(\"Please provide first number: \"))\n",
        "      num2 = float(input(\"Please provide second number: \"))\n",
        "    except:\n",
        "      print(\"whoops! please enter decimal numbers only\")\n",
        "      continue\n",
        "    else: \n",
        "      print(\"sum of the numbers is \",num1+num2)\n",
        "      break\n"
      ],
      "metadata": {
        "colab": {
          "base_uri": "https://localhost:8080/"
        },
        "id": "Zro-TaH4ICVi",
        "outputId": "f4721422-c1e5-41e6-bf23-3f964c8cab57"
      },
      "execution_count": 7,
      "outputs": [
        {
          "output_type": "stream",
          "name": "stdout",
          "text": [
            "Please provide first number: 9\n",
            "Please provide second number: 4\n",
            "sum of the numbers is  13.0\n"
          ]
        }
      ]
    }
  ]
}