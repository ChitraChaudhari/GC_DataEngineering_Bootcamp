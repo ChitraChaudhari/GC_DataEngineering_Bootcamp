{
  "nbformat": 4,
  "nbformat_minor": 0,
  "metadata": {
    "colab": {
      "name": "PythonDS.ipynb",
      "provenance": [],
      "authorship_tag": "ABX9TyMwsz2ZWiv396e49Lj4YRS1",
      "include_colab_link": true
    },
    "kernelspec": {
      "name": "python3",
      "display_name": "Python 3"
    },
    "language_info": {
      "name": "python"
    }
  },
  "cells": [
    {
      "cell_type": "markdown",
      "metadata": {
        "id": "view-in-github",
        "colab_type": "text"
      },
      "source": [
        "<a href=\"https://colab.research.google.com/github/ChitraChaudhari/GC_DataEngineering_Bootcamp/blob/main/Python/PythonDS.ipynb\" target=\"_parent\"><img src=\"https://colab.research.google.com/assets/colab-badge.svg\" alt=\"Open In Colab\"/></a>"
      ]
    },
    {
      "cell_type": "markdown",
      "source": [
        "#  **Array** \n",
        "\n",
        "An array organizes items sequentially, one after another in memory.\n",
        "\n",
        "Each position in the array has an index, starting at 0.\n",
        "\n",
        "**Strengths:**\n",
        "- Fast lookups. Retrieving the element at a given index takes O(1) time, regardless of the length of the array.\n",
        "- Fast appends. Adding a new element at the end of the array takes O(1) time, if the array has space.\n",
        "\n",
        "**Weaknesses:**\n",
        "- Fixed size. You need to specify how many elements you're going to store in your array ahead of time. (Unless you're using a fancy dynamic array.)\n",
        "- Costly inserts and deletes. You have to \"scoot over\" the other elements to fill in or close gaps, which takes worst-case O(n) time.\n",
        "\n",
        "\n",
        "\t**Worst Case**\n",
        "\n",
        "space\t  O(n)\n",
        "\n",
        "lookup\tO(1)\n",
        "\n",
        "append\tO(1)\n",
        "\n",
        "insert\tO(n)\n",
        "\n",
        "delete\tO(n)"
      ],
      "metadata": {
        "id": "eIEsRCwnhuFo"
      }
    },
    {
      "cell_type": "code",
      "execution_count": null,
      "metadata": {
        "colab": {
          "base_uri": "https://localhost:8080/"
        },
        "id": "COADF4dmhntR",
        "outputId": "9cdfe2b6-4d99-4632-98c0-c9a708c557d0"
      },
      "outputs": [
        {
          "output_type": "stream",
          "name": "stdout",
          "text": [
            "[10, 20, 30]\n"
          ]
        }
      ],
      "source": [
        "my_list = [10,20,30]\n",
        "print(my_list)"
      ]
    },
    {
      "cell_type": "code",
      "source": [
        "my_list.append(40)\n",
        "my_list"
      ],
      "metadata": {
        "colab": {
          "base_uri": "https://localhost:8080/"
        },
        "id": "o-O1GLhop75I",
        "outputId": "25a874cd-24e2-4a1e-8ca6-a85853cc30bc"
      },
      "execution_count": null,
      "outputs": [
        {
          "output_type": "execute_result",
          "data": {
            "text/plain": [
              "[10, 20, 30, 40]"
            ]
          },
          "metadata": {},
          "execution_count": 2
        }
      ]
    },
    {
      "cell_type": "code",
      "source": [
        "my_list.pop()\n",
        "my_list"
      ],
      "metadata": {
        "colab": {
          "base_uri": "https://localhost:8080/"
        },
        "id": "uk-HbAgAqFkO",
        "outputId": "0d048a20-0384-4a4d-dfb9-fa36845eb25e"
      },
      "execution_count": null,
      "outputs": [
        {
          "output_type": "execute_result",
          "data": {
            "text/plain": [
              "[10, 20, 30]"
            ]
          },
          "metadata": {},
          "execution_count": 3
        }
      ]
    },
    {
      "cell_type": "code",
      "source": [
        "my_list[2] = 40\n",
        "my_list"
      ],
      "metadata": {
        "colab": {
          "base_uri": "https://localhost:8080/"
        },
        "id": "OfRDZoZMqNBO",
        "outputId": "91502273-395f-4d1f-bf4f-819162f9fc57"
      },
      "execution_count": null,
      "outputs": [
        {
          "output_type": "execute_result",
          "data": {
            "text/plain": [
              "[10, 20, 40]"
            ]
          },
          "metadata": {},
          "execution_count": 6
        }
      ]
    },
    {
      "cell_type": "code",
      "source": [
        "my_list.append([\"Tommy\",\"bill\"])\n",
        "my_list"
      ],
      "metadata": {
        "colab": {
          "base_uri": "https://localhost:8080/"
        },
        "id": "SDXyPrpRqZm3",
        "outputId": "6cd570c7-c041-4a56-c156-c56430efff78"
      },
      "execution_count": null,
      "outputs": [
        {
          "output_type": "execute_result",
          "data": {
            "text/plain": [
              "[10, 20, 40, ['Tommy', 'bill']]"
            ]
          },
          "metadata": {},
          "execution_count": 8
        }
      ]
    },
    {
      "cell_type": "markdown",
      "source": [
        "**Array slicing** involves taking a subset from an array and allocating a new array with those elements.\n",
        "\n",
        "**Careful:** there's a hidden time and space cost here! It's tempting to think of slicing as just \"getting elements,\" but in reality you are:\n",
        "- allocating a new list\n",
        "- copying the elements from the original list to the new list\n",
        "\n",
        "This takes **O(n) time and O(n) space**, where n is the number of elements in the resulting list."
      ],
      "metadata": {
        "id": "byou38GQq4E7"
      }
    },
    {
      "cell_type": "code",
      "source": [
        "my_sub_list= my_list[3:]\n",
        "my_sub_list"
      ],
      "metadata": {
        "colab": {
          "base_uri": "https://localhost:8080/"
        },
        "id": "8jMc9kGKqmcW",
        "outputId": "e3b6a817-7b46-4216-ccf4-2820e2f0723f"
      },
      "execution_count": null,
      "outputs": [
        {
          "output_type": "execute_result",
          "data": {
            "text/plain": [
              "[['Tommy', 'bill']]"
            ]
          },
          "metadata": {},
          "execution_count": 9
        }
      ]
    },
    {
      "cell_type": "code",
      "source": [
        "my_list = [\"apple\", \"google\", \"microsoft\"]\n",
        "my_list"
      ],
      "metadata": {
        "colab": {
          "base_uri": "https://localhost:8080/"
        },
        "id": "MFCJ5LrEr4mj",
        "outputId": "cc341990-68fe-4c24-c624-5f90f1ef3a5d"
      },
      "execution_count": null,
      "outputs": [
        {
          "output_type": "execute_result",
          "data": {
            "text/plain": [
              "['apple', 'google', 'microsoft']"
            ]
          },
          "metadata": {},
          "execution_count": 10
        }
      ]
    },
    {
      "cell_type": "code",
      "source": [
        "temp = my_list[0]\n",
        "my_list[0] = my_list[2]\n",
        "my_list[2] = temp\n",
        "\n",
        "my_list"
      ],
      "metadata": {
        "colab": {
          "base_uri": "https://localhost:8080/"
        },
        "id": "A6mzy9p0sNj2",
        "outputId": "27811201-69c0-4c8b-9a05-cc467105a95c"
      },
      "execution_count": null,
      "outputs": [
        {
          "output_type": "execute_result",
          "data": {
            "text/plain": [
              "['microsoft', 'google', 'apple']"
            ]
          },
          "metadata": {},
          "execution_count": 11
        }
      ]
    },
    {
      "cell_type": "code",
      "source": [
        "my_list[0], my_list[2]=my_list[2], my_list[0]\n",
        "\n",
        "my_list"
      ],
      "metadata": {
        "colab": {
          "base_uri": "https://localhost:8080/"
        },
        "id": "PgqZSjJesbEl",
        "outputId": "d2590a30-5a90-4752-e1c8-afcff76ed9b1"
      },
      "execution_count": null,
      "outputs": [
        {
          "output_type": "execute_result",
          "data": {
            "text/plain": [
              "['apple', 'google', 'microsoft']"
            ]
          },
          "metadata": {},
          "execution_count": 12
        }
      ]
    },
    {
      "cell_type": "markdown",
      "source": [
        "# **Dynamic Arrays**\n",
        "\n",
        "**Strengths:**\n",
        "\n",
        "- **Fast lookups:** Just like arrays, retrieving the element at a given index takes O(1) time.\n",
        "- **Variable size:** You can add as many items as you want, and the dynamic array will expand to hold them.\n",
        "- **Cache-friendly:** Just like arrays, dynamic arrays place items right next to each other in memory, making efficient use of caches.\n",
        "\n",
        "**Weaknesses:**\n",
        "\n",
        "- **Slow worst-case appends:** Usually, adding a new element at the end of the dynamic array takes O(1) time. But if the dynamic array doesn't have any room for the new item, it'll need to expand, which takes O(n) time.\n",
        "- **Costly inserts and deletes:** Just like arrays, elements are stored adjacent to each other. So adding or removing an item in the middle of the array requires \"scooting over\" other elements, which takes O(n) time.\n",
        "\n",
        "\n",
        "        Average Case\tWorst Case\n",
        "\n",
        "space       O(n)       \tO(n)\n",
        "\n",
        "lookup    \tO(1)        O(1)\n",
        "\n",
        "append    \tO(1)      \tO(n)\n",
        "\n",
        "insert\t    O(n)      \tO(n)\n",
        "\n",
        "delete\t    O(n)      \tO(n)"
      ],
      "metadata": {
        "id": "CBVM4idJmtdC"
      }
    },
    {
      "cell_type": "code",
      "source": [
        "gas_prices = []\n",
        "\n",
        "gas_prices.append(346)\n",
        "gas_prices.append(360)\n",
        "gas_prices.append(354)\n",
        "gas_prices"
      ],
      "metadata": {
        "colab": {
          "base_uri": "https://localhost:8080/"
        },
        "id": "vdgRx86ky_gw",
        "outputId": "505681f5-b668-4336-cfaf-3e2ced57ac43"
      },
      "execution_count": null,
      "outputs": [
        {
          "output_type": "execute_result",
          "data": {
            "text/plain": [
              "[346, 360, 354]"
            ]
          },
          "metadata": {},
          "execution_count": 1
        }
      ]
    },
    {
      "cell_type": "code",
      "source": [
        "gas_prices[2] = 406\n",
        "gas_prices"
      ],
      "metadata": {
        "colab": {
          "base_uri": "https://localhost:8080/"
        },
        "id": "MLOCV1vMWmm_",
        "outputId": "a323b37e-63c7-47c7-80b7-1111b40b8ec4"
      },
      "execution_count": null,
      "outputs": [
        {
          "output_type": "execute_result",
          "data": {
            "text/plain": [
              "[346, 360, 406]"
            ]
          },
          "metadata": {},
          "execution_count": 2
        }
      ]
    },
    {
      "cell_type": "code",
      "source": [
        "gas_prices.append(354)\n",
        "gas_prices"
      ],
      "metadata": {
        "colab": {
          "base_uri": "https://localhost:8080/"
        },
        "id": "lmIZqnL2WzkI",
        "outputId": "c0c21671-a7fb-44e3-db0f-6f225cf3cd36"
      },
      "execution_count": null,
      "outputs": [
        {
          "output_type": "execute_result",
          "data": {
            "text/plain": [
              "[346, 360, 406, 354, 354, 354]"
            ]
          },
          "metadata": {},
          "execution_count": 5
        }
      ]
    },
    {
      "cell_type": "code",
      "source": [
        "gas_prices.remove(354)\n",
        "gas_prices"
      ],
      "metadata": {
        "colab": {
          "base_uri": "https://localhost:8080/"
        },
        "id": "mhefkQ5pXJCd",
        "outputId": "8ed19fc3-ee5f-4b4c-ca96-f4af1eac5c4e"
      },
      "execution_count": null,
      "outputs": [
        {
          "output_type": "execute_result",
          "data": {
            "text/plain": [
              "[346, 360, 406, 354, 354]"
            ]
          },
          "metadata": {},
          "execution_count": 7
        }
      ]
    },
    {
      "cell_type": "code",
      "source": [
        "gas_prices.insert(1,80)\n",
        "gas_prices"
      ],
      "metadata": {
        "colab": {
          "base_uri": "https://localhost:8080/"
        },
        "id": "jyAwgR8vXpwA",
        "outputId": "5b8daea5-dd21-4464-b64a-05fbca4fc7af"
      },
      "execution_count": null,
      "outputs": [
        {
          "output_type": "execute_result",
          "data": {
            "text/plain": [
              "[346, 80, 80, 360, 406, 354, 354]"
            ]
          },
          "metadata": {},
          "execution_count": 9
        }
      ]
    },
    {
      "cell_type": "code",
      "source": [
        "gas_prices.index(354)"
      ],
      "metadata": {
        "colab": {
          "base_uri": "https://localhost:8080/"
        },
        "id": "xWC0ChGQYVj0",
        "outputId": "b2211f90-a910-48aa-c61d-0c0fe70dfc63"
      },
      "execution_count": null,
      "outputs": [
        {
          "output_type": "execute_result",
          "data": {
            "text/plain": [
              "5"
            ]
          },
          "metadata": {},
          "execution_count": 11
        }
      ]
    },
    {
      "cell_type": "code",
      "source": [
        "gas_prices[:-2]"
      ],
      "metadata": {
        "colab": {
          "base_uri": "https://localhost:8080/"
        },
        "id": "3cAGyQToZASO",
        "outputId": "bbf78db0-c23e-409a-f077-310db7677422"
      },
      "execution_count": null,
      "outputs": [
        {
          "output_type": "execute_result",
          "data": {
            "text/plain": [
              "[346, 80, 80, 360, 406]"
            ]
          },
          "metadata": {},
          "execution_count": 17
        }
      ]
    },
    {
      "cell_type": "code",
      "source": [
        "len(gas_prices)"
      ],
      "metadata": {
        "colab": {
          "base_uri": "https://localhost:8080/"
        },
        "id": "6I7FjQXrZQLM",
        "outputId": "47c97acd-ddf2-45b3-e76e-013da8249ee9"
      },
      "execution_count": null,
      "outputs": [
        {
          "output_type": "execute_result",
          "data": {
            "text/plain": [
              "7"
            ]
          },
          "metadata": {},
          "execution_count": 18
        }
      ]
    },
    {
      "cell_type": "markdown",
      "source": [
        "# Tupels\n",
        "\n",
        "- Tuples are immutable collection of objects. As a result, tuple elements cannot be modified, deleted or inserted. \n",
        "\n",
        "- Just like Lists, Tuples can also be used to represent a collection which may have heterogeneous values. \n",
        "\n",
        "- Tuples are typically used to represent objects, which make sense as a whole, when all elements are together.\n"
      ],
      "metadata": {
        "id": "sCyk3C1UfHWL"
      }
    },
    {
      "cell_type": "code",
      "source": [
        "names = ('chitra','kiran','sonawane')\n",
        "type(names)"
      ],
      "metadata": {
        "colab": {
          "base_uri": "https://localhost:8080/"
        },
        "id": "4l5aOyDmdBxU",
        "outputId": "029bb853-7bd1-4c3b-cb1a-327ccafb8b0d"
      },
      "execution_count": null,
      "outputs": [
        {
          "output_type": "execute_result",
          "data": {
            "text/plain": [
              "tuple"
            ]
          },
          "metadata": {},
          "execution_count": 1
        }
      ]
    },
    {
      "cell_type": "markdown",
      "source": [
        "# **Dictionary**\n",
        "- {key:value}\n",
        "- unordered collection and cannot be sorted\n",
        "- objects retrived by the key name"
      ],
      "metadata": {
        "id": "pEI-4eKm3u2r"
      }
    },
    {
      "cell_type": "code",
      "source": [
        "country_codes = {'US':'United States', 'UK':'United Kingdom', \n",
        "                'CA':'Canada', 'MX':'Mexico'}\n",
        "country_codes"
      ],
      "metadata": {
        "id": "P8u659GedOqb",
        "colab": {
          "base_uri": "https://localhost:8080/"
        },
        "outputId": "4f333c08-57b6-4264-e730-fc85f370eea9"
      },
      "execution_count": null,
      "outputs": [
        {
          "output_type": "execute_result",
          "data": {
            "text/plain": [
              "{'CA': 'Canada', 'MX': 'Mexico', 'UK': 'United Kingdom', 'US': 'United States'}"
            ]
          },
          "metadata": {},
          "execution_count": 3
        }
      ]
    },
    {
      "cell_type": "code",
      "source": [
        "country_codes['UK']"
      ],
      "metadata": {
        "colab": {
          "base_uri": "https://localhost:8080/",
          "height": 35
        },
        "id": "wNTPfIah43oy",
        "outputId": "997c9030-4397-40d8-ddcd-a263af8b92ad"
      },
      "execution_count": null,
      "outputs": [
        {
          "output_type": "execute_result",
          "data": {
            "text/plain": [
              "'United Kingdom'"
            ],
            "application/vnd.google.colaboratory.intrinsic+json": {
              "type": "string"
            }
          },
          "metadata": {},
          "execution_count": 7
        }
      ]
    },
    {
      "cell_type": "code",
      "source": [
        "country_codes['US'] = 'USA'\n",
        "\n",
        "country_codes"
      ],
      "metadata": {
        "colab": {
          "base_uri": "https://localhost:8080/"
        },
        "id": "O8z7aMfm5JUw",
        "outputId": "4072ad49-0cf0-468f-b6cd-959ad0a4b621"
      },
      "execution_count": null,
      "outputs": [
        {
          "output_type": "execute_result",
          "data": {
            "text/plain": [
              "{'CA': 'Canada', 'MX': 'Mexico', 'UK': 'United Kingdom', 'US': 'USA'}"
            ]
          },
          "metadata": {},
          "execution_count": 8
        }
      ]
    },
    {
      "cell_type": "code",
      "source": [
        "country_codes['IN'] = 'India'\n",
        "\n",
        "country_codes"
      ],
      "metadata": {
        "colab": {
          "base_uri": "https://localhost:8080/"
        },
        "id": "ZJa2Ajke5V2I",
        "outputId": "381cd808-3225-4cc0-e9f9-60c99de8dec0"
      },
      "execution_count": null,
      "outputs": [
        {
          "output_type": "execute_result",
          "data": {
            "text/plain": [
              "{'CA': 'Canada',\n",
              " 'IN': 'India',\n",
              " 'MX': 'Mexico',\n",
              " 'UK': 'United Kingdom',\n",
              " 'US': 'USA'}"
            ]
          },
          "metadata": {},
          "execution_count": 10
        }
      ]
    },
    {
      "cell_type": "code",
      "source": [
        "keys = list(country_codes.keys())\n",
        "keys"
      ],
      "metadata": {
        "colab": {
          "base_uri": "https://localhost:8080/"
        },
        "id": "Qvh4IWUB68nP",
        "outputId": "0ad898ec-d058-456b-f643-c761ffd5cf04"
      },
      "execution_count": null,
      "outputs": [
        {
          "output_type": "execute_result",
          "data": {
            "text/plain": [
              "['US', 'UK', 'CA', 'MX', 'IN']"
            ]
          },
          "metadata": {},
          "execution_count": 14
        }
      ]
    },
    {
      "cell_type": "code",
      "source": [
        "del country_codes['CA']\n",
        "country_codes"
      ],
      "metadata": {
        "colab": {
          "base_uri": "https://localhost:8080/"
        },
        "id": "rhBWjlHy7ljD",
        "outputId": "cb135ef1-7834-4127-d0cd-c1f8ddcb7946"
      },
      "execution_count": null,
      "outputs": [
        {
          "output_type": "execute_result",
          "data": {
            "text/plain": [
              "{'IN': 'India', 'MX': 'Mexico', 'UK': 'United Kingdom', 'US': 'USA'}"
            ]
          },
          "metadata": {},
          "execution_count": 15
        }
      ]
    },
    {
      "cell_type": "code",
      "source": [
        "states_code = dict(MI='Michigan', IL = 'Illionoise')\n",
        "states_code"
      ],
      "metadata": {
        "colab": {
          "base_uri": "https://localhost:8080/"
        },
        "id": "WLh-nl6p74CY",
        "outputId": "ca2abcf0-a650-48f3-baeb-6d5cce53a324"
      },
      "execution_count": null,
      "outputs": [
        {
          "output_type": "execute_result",
          "data": {
            "text/plain": [
              "{'IL': 'Illionoise', 'MI': 'Michigan'}"
            ]
          },
          "metadata": {},
          "execution_count": 16
        }
      ]
    },
    {
      "cell_type": "code",
      "source": [
        "family= dict([('archit',6),('gargi',12),('chitra',38),('kiran',41)])\n",
        "family"
      ],
      "metadata": {
        "colab": {
          "base_uri": "https://localhost:8080/"
        },
        "id": "Z4dBH9RU8RoW",
        "outputId": "0ff7ed0d-54c3-45ce-cdb3-109447748973"
      },
      "execution_count": null,
      "outputs": [
        {
          "output_type": "execute_result",
          "data": {
            "text/plain": [
              "{'archit': 6, 'chitra': 38, 'gargi': 12, 'kiran': 41}"
            ]
          },
          "metadata": {},
          "execution_count": 18
        }
      ]
    },
    {
      "cell_type": "code",
      "source": [
        "family.pop('kiran')\n",
        "family"
      ],
      "metadata": {
        "colab": {
          "base_uri": "https://localhost:8080/"
        },
        "id": "gn8L4IW29GyA",
        "outputId": "2698938d-094c-4210-d8d9-5c75291cbc52"
      },
      "execution_count": null,
      "outputs": [
        {
          "output_type": "execute_result",
          "data": {
            "text/plain": [
              "{'archit': 6, 'chitra': 38, 'gargi': 12}"
            ]
          },
          "metadata": {},
          "execution_count": 21
        }
      ]
    },
    {
      "cell_type": "code",
      "source": [
        "family.popitem()\n",
        "family"
      ],
      "metadata": {
        "colab": {
          "base_uri": "https://localhost:8080/"
        },
        "id": "_SEmka3q9Th-",
        "outputId": "e84dffd8-6295-49b4-aa65-7c0d389a9557"
      },
      "execution_count": null,
      "outputs": [
        {
          "output_type": "execute_result",
          "data": {
            "text/plain": [
              "{'archit': 6, 'gargi': 12}"
            ]
          },
          "metadata": {},
          "execution_count": 22
        }
      ]
    },
    {
      "cell_type": "code",
      "source": [
        "family.clear()\n",
        "family"
      ],
      "metadata": {
        "colab": {
          "base_uri": "https://localhost:8080/"
        },
        "id": "BCrxobFF9Ynm",
        "outputId": "eb059a81-0457-4822-9daf-2db7351a393e"
      },
      "execution_count": null,
      "outputs": [
        {
          "output_type": "execute_result",
          "data": {
            "text/plain": [
              "{}"
            ]
          },
          "metadata": {},
          "execution_count": 23
        }
      ]
    },
    {
      "cell_type": "code",
      "source": [
        "my_dict= {'k1':['a','b','c']}\n",
        "val = my_dict['k1'][2].upper()\n",
        "my_dict['k1'][2] = val\n",
        "my_dict"
      ],
      "metadata": {
        "colab": {
          "base_uri": "https://localhost:8080/"
        },
        "id": "HX-ErmA49mNO",
        "outputId": "09dcd1a7-a320-4a62-ac75-5dbcd3df61e7"
      },
      "execution_count": null,
      "outputs": [
        {
          "output_type": "execute_result",
          "data": {
            "text/plain": [
              "{'k1': ['a', 'b', 'C']}"
            ]
          },
          "metadata": {},
          "execution_count": 29
        }
      ]
    },
    {
      "cell_type": "markdown",
      "source": [
        "# **Sets**\n",
        "\n",
        "- an unordered collection with no duplicate elements. \n",
        "- Using curly braces { } you can create a set. There is also a set() function you can use to create a Set. \n",
        "- Since empty curly brace { } is used to create both Set and Dictionary, to create an empty set you have to use set() function."
      ],
      "metadata": {
        "id": "twLojDBABuzX"
      }
    },
    {
      "cell_type": "code",
      "source": [
        "family = {}\n",
        "type(family)"
      ],
      "metadata": {
        "colab": {
          "base_uri": "https://localhost:8080/"
        },
        "id": "Dcm26THsCDYx",
        "outputId": "396108b4-45db-450c-a4e1-6a693a77cf2a"
      },
      "execution_count": null,
      "outputs": [
        {
          "output_type": "execute_result",
          "data": {
            "text/plain": [
              "dict"
            ]
          },
          "metadata": {},
          "execution_count": 1
        }
      ]
    },
    {
      "cell_type": "code",
      "source": [
        "family = set()\n",
        "type(family)"
      ],
      "metadata": {
        "colab": {
          "base_uri": "https://localhost:8080/"
        },
        "id": "k5fKWCrnCJ_L",
        "outputId": "5177510a-6590-4474-d479-4f68504178b0"
      },
      "execution_count": null,
      "outputs": [
        {
          "output_type": "execute_result",
          "data": {
            "text/plain": [
              "set"
            ]
          },
          "metadata": {},
          "execution_count": 2
        }
      ]
    },
    {
      "cell_type": "code",
      "source": [
        "family = {'chitra','archit','kiran','gargi','archit','gargi'}\n",
        "family"
      ],
      "metadata": {
        "colab": {
          "base_uri": "https://localhost:8080/"
        },
        "id": "BRqyL2EKCSDz",
        "outputId": "a7dd662e-511f-4fc7-cb14-94d831af6983"
      },
      "execution_count": null,
      "outputs": [
        {
          "output_type": "execute_result",
          "data": {
            "text/plain": [
              "{'archit', 'chitra', 'gargi', 'kiran'}"
            ]
          },
          "metadata": {},
          "execution_count": 3
        }
      ]
    },
    {
      "cell_type": "code",
      "source": [
        "family.add('Aaji')\n",
        "family"
      ],
      "metadata": {
        "colab": {
          "base_uri": "https://localhost:8080/"
        },
        "id": "whQW76ybDYQt",
        "outputId": "44e78a1c-54dc-49e5-ff13-89fa9e970439"
      },
      "execution_count": null,
      "outputs": [
        {
          "output_type": "execute_result",
          "data": {
            "text/plain": [
              "{'Aaji', 'archit', 'chitra', 'gargi', 'kiran'}"
            ]
          },
          "metadata": {},
          "execution_count": 4
        }
      ]
    },
    {
      "cell_type": "code",
      "source": [
        "family.update(('Pankaj','Grandpa'))\n",
        "family"
      ],
      "metadata": {
        "colab": {
          "base_uri": "https://localhost:8080/"
        },
        "id": "kv_xcIXwDiWD",
        "outputId": "a1a71680-5207-41bf-dd1e-a9997c143416"
      },
      "execution_count": null,
      "outputs": [
        {
          "output_type": "execute_result",
          "data": {
            "text/plain": [
              "{'Aaji', 'Grandpa', 'Pankaj', 'archit', 'chitra', 'gargi', 'kiran'}"
            ]
          },
          "metadata": {},
          "execution_count": 5
        }
      ]
    },
    {
      "cell_type": "code",
      "source": [
        "new_set = set('Aaji' 'Grandpa' 'Pankaj' 'archit' 'chitra' 'gargi' 'kiran')\n",
        "new_set"
      ],
      "metadata": {
        "colab": {
          "base_uri": "https://localhost:8080/"
        },
        "id": "RilKk0HsF35V",
        "outputId": "ae5cf7e9-fdae-49e7-a63f-b03d4a910b79"
      },
      "execution_count": null,
      "outputs": [
        {
          "output_type": "execute_result",
          "data": {
            "text/plain": [
              "{'A', 'G', 'P', 'a', 'c', 'd', 'g', 'h', 'i', 'j', 'k', 'n', 'p', 'r', 't'}"
            ]
          },
          "metadata": {},
          "execution_count": 6
        }
      ]
    },
    {
      "cell_type": "code",
      "source": [
        "top_student = ('jane', 'doe', 99, 21, 'f')\n",
        "first_name, last_name, score, age, gender = top_student\n",
        "print(first_name)\n"
      ],
      "metadata": {
        "colab": {
          "base_uri": "https://localhost:8080/"
        },
        "id": "n5PzWHcaGnT-",
        "outputId": "6cf5b5a2-90c6-489b-ae2f-4e4fffd8db77"
      },
      "execution_count": null,
      "outputs": [
        {
          "output_type": "stream",
          "name": "stdout",
          "text": [
            "jane\n"
          ]
        }
      ]
    },
    {
      "cell_type": "markdown",
      "source": [
        "#**string**"
      ],
      "metadata": {
        "id": "YLzaUGm795op"
      }
    },
    {
      "cell_type": "code",
      "source": [
        "data = {'first': 'Jane', 'last': 'Doe'}\n",
        "'{first} {last}'.format(**data)"
      ],
      "metadata": {
        "id": "dNM5KU5m93zk",
        "colab": {
          "base_uri": "https://localhost:8080/",
          "height": 35
        },
        "outputId": "dd478139-dcf4-4c1a-e452-849551e84def"
      },
      "execution_count": null,
      "outputs": [
        {
          "output_type": "execute_result",
          "data": {
            "text/plain": [
              "'Jane Doe'"
            ],
            "application/vnd.google.colaboratory.intrinsic+json": {
              "type": "string"
            }
          },
          "metadata": {},
          "execution_count": 1
        }
      ]
    },
    {
      "cell_type": "code",
      "source": [
        "'{p[first]} {p[last]}'.format(p=data)"
      ],
      "metadata": {
        "id": "S19JCIFq9_Vo",
        "colab": {
          "base_uri": "https://localhost:8080/",
          "height": 35
        },
        "outputId": "84f43c5f-9e0a-482f-8e28-0475c052e3e2"
      },
      "execution_count": null,
      "outputs": [
        {
          "output_type": "execute_result",
          "data": {
            "text/plain": [
              "'Jane Doe'"
            ],
            "application/vnd.google.colaboratory.intrinsic+json": {
              "type": "string"
            }
          },
          "metadata": {},
          "execution_count": 2
        }
      ]
    },
    {
      "cell_type": "code",
      "source": [
        "data = (10, 12, 17, 18, 25, 42)\n",
        "'{d[4]} {d[5]}'.format(d=data)"
      ],
      "metadata": {
        "colab": {
          "base_uri": "https://localhost:8080/",
          "height": 35
        },
        "id": "fdSvLnKJTpl3",
        "outputId": "541b4887-dd5d-4e8f-99a9-7fe70ac883a8"
      },
      "execution_count": null,
      "outputs": [
        {
          "output_type": "execute_result",
          "data": {
            "text/plain": [
              "'25 42'"
            ],
            "application/vnd.google.colaboratory.intrinsic+json": {
              "type": "string"
            }
          },
          "metadata": {},
          "execution_count": 3
        }
      ]
    },
    {
      "cell_type": "code",
      "source": [
        "coord = (5, 8)\n",
        "'X: {0[0]}; Y: {0[1]}'.format(coord)"
      ],
      "metadata": {
        "id": "vlHfrweITtoN",
        "outputId": "b165d342-71ea-44aa-de50-9ae61bccda08",
        "colab": {
          "base_uri": "https://localhost:8080/",
          "height": 35
        }
      },
      "execution_count": null,
      "outputs": [
        {
          "output_type": "execute_result",
          "data": {
            "text/plain": [
              "'X: 5; Y: 8'"
            ],
            "application/vnd.google.colaboratory.intrinsic+json": {
              "type": "string"
            }
          },
          "metadata": {},
          "execution_count": 4
        }
      ]
    }
  ]
}