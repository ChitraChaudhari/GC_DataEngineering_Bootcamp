{
  "nbformat": 4,
  "nbformat_minor": 0,
  "metadata": {
    "colab": {
      "name": "Error_Exception_Handling.ipynb",
      "provenance": [],
      "authorship_tag": "ABX9TyN4Q0blpe9oKC3RQPXw4JGw",
      "include_colab_link": true
    },
    "kernelspec": {
      "name": "python3",
      "display_name": "Python 3"
    },
    "language_info": {
      "name": "python"
    }
  },
  "cells": [
    {
      "cell_type": "markdown",
      "metadata": {
        "id": "view-in-github",
        "colab_type": "text"
      },
      "source": [
        "<a href=\"https://colab.research.google.com/github/ChitraChaudhari/GC_DataEngineering_Bootcamp/blob/main/Python/Error_Exception_Handling.ipynb\" target=\"_parent\"><img src=\"https://colab.research.google.com/assets/colab-badge.svg\" alt=\"Open In Colab\"/></a>"
      ]
    },
    {
      "cell_type": "markdown",
      "source": [
        "## We use three keywords for this:\n",
        "\n",
        "- **try** : This is the block of code to be attempted (may lead to an error)\n",
        "- **except** : Block of code will execute in case there is an error in **try** block\n",
        "- **finally** : A final block of code to be executed, regardless of an error"
      ],
      "metadata": {
        "id": "bFeDZdLNSQ0Z"
      }
    },
    {
      "cell_type": "code",
      "execution_count": 1,
      "metadata": {
        "colab": {
          "base_uri": "https://localhost:8080/",
          "height": 183
        },
        "id": "bQTNSe5NNQ8M",
        "outputId": "c2d9109d-23a7-4e4f-d916-7bfae2d4d6d0"
      },
      "outputs": [
        {
          "output_type": "error",
          "ename": "TypeError",
          "evalue": "ignored",
          "traceback": [
            "\u001b[0;31m---------------------------------------------------------------------------\u001b[0m",
            "\u001b[0;31mTypeError\u001b[0m                                 Traceback (most recent call last)",
            "\u001b[0;32m<ipython-input-1-6af02d6e5dd5>\u001b[0m in \u001b[0;36m<module>\u001b[0;34m()\u001b[0m\n\u001b[0;32m----> 1\u001b[0;31m \u001b[0mresult\u001b[0m \u001b[0;34m=\u001b[0m \u001b[0;36m10\u001b[0m \u001b[0;34m+\u001b[0m\u001b[0;34m'10'\u001b[0m\u001b[0;34m\u001b[0m\u001b[0;34m\u001b[0m\u001b[0m\n\u001b[0m\u001b[1;32m      2\u001b[0m \u001b[0mprint\u001b[0m\u001b[0;34m(\u001b[0m\u001b[0mresult\u001b[0m\u001b[0;34m)\u001b[0m\u001b[0;34m\u001b[0m\u001b[0;34m\u001b[0m\u001b[0m\n",
            "\u001b[0;31mTypeError\u001b[0m: unsupported operand type(s) for +: 'int' and 'str'"
          ]
        }
      ],
      "source": [
        "result = 10 +'10'\n",
        "print(result)"
      ]
    },
    {
      "cell_type": "code",
      "source": [
        "try:\n",
        "  result = 10+'10'\n",
        "except:\n",
        "  print(\"Hey it looks like you aren't adding correctly!\")"
      ],
      "metadata": {
        "colab": {
          "base_uri": "https://localhost:8080/"
        },
        "id": "JaxSuOMPR_pZ",
        "outputId": "e369e5de-f8d0-4ccf-8d5e-2eed1831f692"
      },
      "execution_count": 2,
      "outputs": [
        {
          "output_type": "stream",
          "name": "stdout",
          "text": [
            "Hey it looks like you aren't adding correctly!\n"
          ]
        }
      ]
    },
    {
      "cell_type": "code",
      "source": [
        "try:\n",
        "  result = 10+10\n",
        "except:\n",
        "  print(\"Hey it looks like you aren't adding correctly!\")\n",
        "else:\n",
        "  print(\"add went well\")\n",
        "  print(result)"
      ],
      "metadata": {
        "colab": {
          "base_uri": "https://localhost:8080/"
        },
        "outputId": "ac049c52-87d8-4cc8-c3f7-2235506f8890",
        "id": "YtDaxhyJU5g6"
      },
      "execution_count": 3,
      "outputs": [
        {
          "output_type": "stream",
          "name": "stdout",
          "text": [
            "add went well\n",
            "20\n"
          ]
        }
      ]
    },
    {
      "cell_type": "code",
      "source": [
        "def ask_for_int():\n",
        "  try:\n",
        "    result = int(input(\"Please provide number: \"))\n",
        "  except:\n",
        "    print(\"whoops! That is not a number\")\n",
        "  finally:\n",
        "    print(\"End of try/except/finally\")"
      ],
      "metadata": {
        "id": "F3FPzX_FU2gt"
      },
      "execution_count": 4,
      "outputs": []
    },
    {
      "cell_type": "code",
      "source": [
        "ask_for_int()"
      ],
      "metadata": {
        "colab": {
          "base_uri": "https://localhost:8080/"
        },
        "id": "mtpxRwa5XGNW",
        "outputId": "bbb3c8ca-bbb1-4c80-849b-c2648a1d5aec"
      },
      "execution_count": 5,
      "outputs": [
        {
          "output_type": "stream",
          "name": "stdout",
          "text": [
            "Please provide number: 2\n",
            "End of try/except/finally\n"
          ]
        }
      ]
    },
    {
      "cell_type": "code",
      "source": [
        "ask_for_int()"
      ],
      "metadata": {
        "colab": {
          "base_uri": "https://localhost:8080/"
        },
        "id": "zk_aIX7GXKRk",
        "outputId": "128bf60c-1496-4600-da8e-78534a792595"
      },
      "execution_count": 6,
      "outputs": [
        {
          "output_type": "stream",
          "name": "stdout",
          "text": [
            "Please provide number: nine\n",
            "whoops! That is not a number\n",
            "End of try/except/finally\n"
          ]
        }
      ]
    },
    {
      "cell_type": "code",
      "source": [
        "def ask_for_int():\n",
        "  while True:\n",
        "    try:\n",
        "      result = int(input(\"Please provide number: \"))\n",
        "    except:\n",
        "      print(\"whoops! That is not a number\")\n",
        "      continue\n",
        "    else: \n",
        "      print(\"Yes Thank you!\")\n",
        "      break\n",
        "    finally:\n",
        "      print(\"End of try/except/finally\")\n",
        "      "
      ],
      "metadata": {
        "id": "Lzm3a8AzXTZI"
      },
      "execution_count": 7,
      "outputs": []
    },
    {
      "cell_type": "code",
      "source": [
        "ask_for_int()"
      ],
      "metadata": {
        "colab": {
          "base_uri": "https://localhost:8080/"
        },
        "id": "3MZMilSCXudn",
        "outputId": "a089b77b-408f-474b-9273-72cae4492ebf"
      },
      "execution_count": 8,
      "outputs": [
        {
          "output_type": "stream",
          "name": "stdout",
          "text": [
            "Please provide number: 6\n",
            "Yes Thank you!\n",
            "End of try/except/finally\n"
          ]
        }
      ]
    },
    {
      "cell_type": "code",
      "source": [
        "ask_for_int()"
      ],
      "metadata": {
        "colab": {
          "base_uri": "https://localhost:8080/"
        },
        "id": "Njvzdiz_XtdZ",
        "outputId": "e28e8c83-2bd1-459f-82e5-030ab373d7d2"
      },
      "execution_count": 9,
      "outputs": [
        {
          "output_type": "stream",
          "name": "stdout",
          "text": [
            "Please provide number: one\n",
            "whoops! That is not a number\n",
            "End of try/except/finally\n",
            "Please provide number: null\n",
            "whoops! That is not a number\n",
            "End of try/except/finally\n",
            "Please provide number: two\n",
            "whoops! That is not a number\n",
            "End of try/except/finally\n",
            "Please provide number: 8\n",
            "Yes Thank you!\n",
            "End of try/except/finally\n"
          ]
        }
      ]
    },
    {
      "cell_type": "markdown",
      "source": [
        "##Problem 1\n",
        "Handle the exception thrown by the code below by using try and except blocks."
      ],
      "metadata": {
        "id": "dgWKr-d3YqQK"
      }
    },
    {
      "cell_type": "code",
      "source": [
        "for i in ['a','b','c']:\n",
        "  print(i**2)"
      ],
      "metadata": {
        "colab": {
          "base_uri": "https://localhost:8080/",
          "height": 183
        },
        "id": "gqcPyrhqYu1Q",
        "outputId": "bd5a2969-68c2-41ec-e05e-4129d33415d8"
      },
      "execution_count": 10,
      "outputs": [
        {
          "output_type": "error",
          "ename": "TypeError",
          "evalue": "ignored",
          "traceback": [
            "\u001b[0;31m---------------------------------------------------------------------------\u001b[0m",
            "\u001b[0;31mTypeError\u001b[0m                                 Traceback (most recent call last)",
            "\u001b[0;32m<ipython-input-10-2240d3557a25>\u001b[0m in \u001b[0;36m<module>\u001b[0;34m()\u001b[0m\n\u001b[1;32m      1\u001b[0m \u001b[0;32mfor\u001b[0m \u001b[0mi\u001b[0m \u001b[0;32min\u001b[0m \u001b[0;34m[\u001b[0m\u001b[0;34m'a'\u001b[0m\u001b[0;34m,\u001b[0m\u001b[0;34m'b'\u001b[0m\u001b[0;34m,\u001b[0m\u001b[0;34m'c'\u001b[0m\u001b[0;34m]\u001b[0m\u001b[0;34m:\u001b[0m\u001b[0;34m\u001b[0m\u001b[0;34m\u001b[0m\u001b[0m\n\u001b[0;32m----> 2\u001b[0;31m   \u001b[0mprint\u001b[0m\u001b[0;34m(\u001b[0m\u001b[0mi\u001b[0m\u001b[0;34m**\u001b[0m\u001b[0;36m2\u001b[0m\u001b[0;34m)\u001b[0m\u001b[0;34m\u001b[0m\u001b[0;34m\u001b[0m\u001b[0m\n\u001b[0m",
            "\u001b[0;31mTypeError\u001b[0m: unsupported operand type(s) for ** or pow(): 'str' and 'int'"
          ]
        }
      ]
    },
    {
      "cell_type": "code",
      "source": [
        "try:\n",
        "  for i in ['a','b','c']:\n",
        "    print(i**2)\n",
        "except:\n",
        "  print(\"Error! Watch out!\")"
      ],
      "metadata": {
        "colab": {
          "base_uri": "https://localhost:8080/"
        },
        "id": "yc0UZUplYxzg",
        "outputId": "0cce52c0-bd13-4156-fee8-78e460b8cff7"
      },
      "execution_count": 11,
      "outputs": [
        {
          "output_type": "stream",
          "name": "stdout",
          "text": [
            "Error! Watch out!\n"
          ]
        }
      ]
    },
    {
      "cell_type": "markdown",
      "source": [
        "##Problem 2\n",
        "Handle the exception thrown by the code below by using try and except blocks. Then use a finally block to print 'All Done.'"
      ],
      "metadata": {
        "id": "mtdN9_BwaQ8U"
      }
    },
    {
      "cell_type": "code",
      "source": [
        "x = 5\n",
        "y = 0\n",
        "\n",
        "z = x/y"
      ],
      "metadata": {
        "colab": {
          "base_uri": "https://localhost:8080/",
          "height": 200
        },
        "id": "gezc7bqzaPhL",
        "outputId": "1c3b6658-2bba-485e-efce-92f4de2b54f4"
      },
      "execution_count": 12,
      "outputs": [
        {
          "output_type": "error",
          "ename": "ZeroDivisionError",
          "evalue": "ignored",
          "traceback": [
            "\u001b[0;31m---------------------------------------------------------------------------\u001b[0m",
            "\u001b[0;31mZeroDivisionError\u001b[0m                         Traceback (most recent call last)",
            "\u001b[0;32m<ipython-input-12-6f985c4c80dd>\u001b[0m in \u001b[0;36m<module>\u001b[0;34m()\u001b[0m\n\u001b[1;32m      2\u001b[0m \u001b[0my\u001b[0m \u001b[0;34m=\u001b[0m \u001b[0;36m0\u001b[0m\u001b[0;34m\u001b[0m\u001b[0;34m\u001b[0m\u001b[0m\n\u001b[1;32m      3\u001b[0m \u001b[0;34m\u001b[0m\u001b[0m\n\u001b[0;32m----> 4\u001b[0;31m \u001b[0mz\u001b[0m \u001b[0;34m=\u001b[0m \u001b[0mx\u001b[0m\u001b[0;34m/\u001b[0m\u001b[0my\u001b[0m\u001b[0;34m\u001b[0m\u001b[0;34m\u001b[0m\u001b[0m\n\u001b[0m",
            "\u001b[0;31mZeroDivisionError\u001b[0m: division by zero"
          ]
        }
      ]
    },
    {
      "cell_type": "code",
      "source": [
        "try:\n",
        "  x = 5\n",
        "  y = 0\n",
        "\n",
        "  z = x/y\n",
        "except ZeroDivisionError:\n",
        "  print(\"Watch Out! Its division by zero\" )\n",
        "finally:\n",
        "  print(\"All done\")\n"
      ],
      "metadata": {
        "colab": {
          "base_uri": "https://localhost:8080/"
        },
        "id": "14JqU5a_aZXq",
        "outputId": "d52c4af4-313d-43f0-d20f-3f256eec1a75"
      },
      "execution_count": 13,
      "outputs": [
        {
          "output_type": "stream",
          "name": "stdout",
          "text": [
            "Watch Out! Its division by zero\n",
            "All done\n"
          ]
        }
      ]
    },
    {
      "cell_type": "markdown",
      "source": [
        "##Problem 3\n",
        "Write a function that asks for an integer and prints the square of it. Use a while loop with a try, except, else block to account for incorrect inputs."
      ],
      "metadata": {
        "id": "tmyjrL6-a4LC"
      }
    },
    {
      "cell_type": "code",
      "source": [
        "def ask():\n",
        "  while True:\n",
        "    try:\n",
        "      num = int(input(\"Input an integer\"))\n",
        "    except:\n",
        "      print(\"An error occurred! Please try again!\")\n",
        "      continue\n",
        "    else:\n",
        "      print(f\"Thank you, your number squared is: {num**2}\")\n",
        "      break"
      ],
      "metadata": {
        "id": "e6O47Pawa9ug"
      },
      "execution_count": 14,
      "outputs": []
    },
    {
      "cell_type": "code",
      "source": [
        "ask()"
      ],
      "metadata": {
        "colab": {
          "base_uri": "https://localhost:8080/"
        },
        "id": "05KNJ4_Tb7Zr",
        "outputId": "6a7f0b65-5496-4203-e831-13b0e1d68817"
      },
      "execution_count": 16,
      "outputs": [
        {
          "output_type": "stream",
          "name": "stdout",
          "text": [
            "Input an integerthree\n",
            "An error occurred! Please try again!\n",
            "Input an integerno\n",
            "An error occurred! Please try again!\n",
            "Input an integer0\n",
            "Thank you, your number squared is: 0\n"
          ]
        }
      ]
    }
  ]
}