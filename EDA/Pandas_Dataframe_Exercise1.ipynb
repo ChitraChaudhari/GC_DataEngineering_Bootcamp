{
  "nbformat": 4,
  "nbformat_minor": 0,
  "metadata": {
    "colab": {
      "name": "Pandas-Dataframe-Exercise1.ipynb",
      "provenance": [],
      "collapsed_sections": [],
      "include_colab_link": true
    },
    "kernelspec": {
      "name": "python3",
      "display_name": "Python 3"
    }
  },
  "cells": [
    {
      "cell_type": "markdown",
      "metadata": {
        "id": "view-in-github",
        "colab_type": "text"
      },
      "source": [
        "<a href=\"https://colab.research.google.com/github/ChitraChaudhari/GC_DataEngineering_Bootcamp/blob/main/EDA/Pandas_Dataframe_Exercise1.ipynb\" target=\"_parent\"><img src=\"https://colab.research.google.com/assets/colab-badge.svg\" alt=\"Open In Colab\"/></a>"
      ]
    },
    {
      "cell_type": "markdown",
      "metadata": {
        "id": "aHvN-Q43DMuq"
      },
      "source": [
        "#Dataframes - Exercise 1\n",
        "\n",
        "Find the average, min and std age from the age column by applying appropriate functions on the age column values on the dataframe object"
      ]
    },
    {
      "cell_type": "code",
      "metadata": {
        "id": "mScByAcMCw8-"
      },
      "source": [
        "import pandas as pd\n",
        "df = pd.DataFrame({\n",
        "                'student marks': [70, 66, 100, 88, 35, 30, 66, 78, 90, 100, 60, 65], \n",
        "                'age': [29, 32, 31, 28, 28, 27, 26, 30, 33, 31, 29, 30 ],\n",
        "                'ssn': ['123', '234', '345', '456', '567', '678', '789', '890', '901', '902', '903', '904' ]\n",
        "                })\n",
        "\n",
        "average_age = df.age.mean()\n",
        "min_age = df.age.min()\n",
        "age_std = df.age.std()"
      ],
      "execution_count": 1,
      "outputs": []
    },
    {
      "cell_type": "code",
      "metadata": {
        "id": "_1wkR-NsDxRF",
        "colab": {
          "base_uri": "https://localhost:8080/"
        },
        "outputId": "c6ae053f-0474-4692-e3d8-8bc6f52b7ab7"
      },
      "source": [
        "#TestCase\n",
        "assert(average_age == 29.5)\n",
        "assert(min_age == 26)\n",
        "assert(age_std == 2.0670576365276494)\n",
        "print(\"Test passed!\")"
      ],
      "execution_count": 2,
      "outputs": [
        {
          "output_type": "stream",
          "name": "stdout",
          "text": [
            "Test passed!\n"
          ]
        }
      ]
    },
    {
      "cell_type": "markdown",
      "metadata": {
        "id": "G_eoA27ZENgo"
      },
      "source": [
        "## Problem 2\n",
        "\n",
        "Change the index of the above dataframe to 'ssn' column. And ensure that the original 'df' reflects that change"
      ]
    },
    {
      "cell_type": "code",
      "metadata": {
        "id": "cZ_iBlZoF2wQ"
      },
      "source": [
        "# Your code goes here\n",
        "df.set_index('ssn',inplace=True)"
      ],
      "execution_count": 3,
      "outputs": []
    },
    {
      "cell_type": "code",
      "metadata": {
        "id": "ejXQo5CVMLfT",
        "colab": {
          "base_uri": "https://localhost:8080/"
        },
        "outputId": "b37508c2-24bd-46e0-cb68-f2993811919c"
      },
      "source": [
        "#TestCase\n",
        "assert(df.index.name == 'ssn')\n",
        "assert('ssn' not in df.columns)\n",
        "print(\"Test passed!\")"
      ],
      "execution_count": 4,
      "outputs": [
        {
          "output_type": "stream",
          "name": "stdout",
          "text": [
            "Test passed!\n"
          ]
        }
      ]
    },
    {
      "cell_type": "markdown",
      "metadata": {
        "id": "riukWlBPZXED"
      },
      "source": [
        "## Problem 3\n",
        "\n",
        "Get the row that has the minimum marks\n",
        "\n",
        "Hint: idxmin() method works on Series object also.\n"
      ]
    },
    {
      "cell_type": "code",
      "source": [
        "df"
      ],
      "metadata": {
        "colab": {
          "base_uri": "https://localhost:8080/",
          "height": 457
        },
        "id": "P-2PvHJwuIDl",
        "outputId": "113d1781-79d3-45d9-9b25-20b02163a8e9"
      },
      "execution_count": 5,
      "outputs": [
        {
          "output_type": "execute_result",
          "data": {
            "text/plain": [
              "     student marks  age\n",
              "ssn                    \n",
              "123             70   29\n",
              "234             66   32\n",
              "345            100   31\n",
              "456             88   28\n",
              "567             35   28\n",
              "678             30   27\n",
              "789             66   26\n",
              "890             78   30\n",
              "901             90   33\n",
              "902            100   31\n",
              "903             60   29\n",
              "904             65   30"
            ],
            "text/html": [
              "\n",
              "  <div id=\"df-c0689e89-507d-4327-ad76-3dbb0a023891\">\n",
              "    <div class=\"colab-df-container\">\n",
              "      <div>\n",
              "<style scoped>\n",
              "    .dataframe tbody tr th:only-of-type {\n",
              "        vertical-align: middle;\n",
              "    }\n",
              "\n",
              "    .dataframe tbody tr th {\n",
              "        vertical-align: top;\n",
              "    }\n",
              "\n",
              "    .dataframe thead th {\n",
              "        text-align: right;\n",
              "    }\n",
              "</style>\n",
              "<table border=\"1\" class=\"dataframe\">\n",
              "  <thead>\n",
              "    <tr style=\"text-align: right;\">\n",
              "      <th></th>\n",
              "      <th>student marks</th>\n",
              "      <th>age</th>\n",
              "    </tr>\n",
              "    <tr>\n",
              "      <th>ssn</th>\n",
              "      <th></th>\n",
              "      <th></th>\n",
              "    </tr>\n",
              "  </thead>\n",
              "  <tbody>\n",
              "    <tr>\n",
              "      <th>123</th>\n",
              "      <td>70</td>\n",
              "      <td>29</td>\n",
              "    </tr>\n",
              "    <tr>\n",
              "      <th>234</th>\n",
              "      <td>66</td>\n",
              "      <td>32</td>\n",
              "    </tr>\n",
              "    <tr>\n",
              "      <th>345</th>\n",
              "      <td>100</td>\n",
              "      <td>31</td>\n",
              "    </tr>\n",
              "    <tr>\n",
              "      <th>456</th>\n",
              "      <td>88</td>\n",
              "      <td>28</td>\n",
              "    </tr>\n",
              "    <tr>\n",
              "      <th>567</th>\n",
              "      <td>35</td>\n",
              "      <td>28</td>\n",
              "    </tr>\n",
              "    <tr>\n",
              "      <th>678</th>\n",
              "      <td>30</td>\n",
              "      <td>27</td>\n",
              "    </tr>\n",
              "    <tr>\n",
              "      <th>789</th>\n",
              "      <td>66</td>\n",
              "      <td>26</td>\n",
              "    </tr>\n",
              "    <tr>\n",
              "      <th>890</th>\n",
              "      <td>78</td>\n",
              "      <td>30</td>\n",
              "    </tr>\n",
              "    <tr>\n",
              "      <th>901</th>\n",
              "      <td>90</td>\n",
              "      <td>33</td>\n",
              "    </tr>\n",
              "    <tr>\n",
              "      <th>902</th>\n",
              "      <td>100</td>\n",
              "      <td>31</td>\n",
              "    </tr>\n",
              "    <tr>\n",
              "      <th>903</th>\n",
              "      <td>60</td>\n",
              "      <td>29</td>\n",
              "    </tr>\n",
              "    <tr>\n",
              "      <th>904</th>\n",
              "      <td>65</td>\n",
              "      <td>30</td>\n",
              "    </tr>\n",
              "  </tbody>\n",
              "</table>\n",
              "</div>\n",
              "      <button class=\"colab-df-convert\" onclick=\"convertToInteractive('df-c0689e89-507d-4327-ad76-3dbb0a023891')\"\n",
              "              title=\"Convert this dataframe to an interactive table.\"\n",
              "              style=\"display:none;\">\n",
              "        \n",
              "  <svg xmlns=\"http://www.w3.org/2000/svg\" height=\"24px\"viewBox=\"0 0 24 24\"\n",
              "       width=\"24px\">\n",
              "    <path d=\"M0 0h24v24H0V0z\" fill=\"none\"/>\n",
              "    <path d=\"M18.56 5.44l.94 2.06.94-2.06 2.06-.94-2.06-.94-.94-2.06-.94 2.06-2.06.94zm-11 1L8.5 8.5l.94-2.06 2.06-.94-2.06-.94L8.5 2.5l-.94 2.06-2.06.94zm10 10l.94 2.06.94-2.06 2.06-.94-2.06-.94-.94-2.06-.94 2.06-2.06.94z\"/><path d=\"M17.41 7.96l-1.37-1.37c-.4-.4-.92-.59-1.43-.59-.52 0-1.04.2-1.43.59L10.3 9.45l-7.72 7.72c-.78.78-.78 2.05 0 2.83L4 21.41c.39.39.9.59 1.41.59.51 0 1.02-.2 1.41-.59l7.78-7.78 2.81-2.81c.8-.78.8-2.07 0-2.86zM5.41 20L4 18.59l7.72-7.72 1.47 1.35L5.41 20z\"/>\n",
              "  </svg>\n",
              "      </button>\n",
              "      \n",
              "  <style>\n",
              "    .colab-df-container {\n",
              "      display:flex;\n",
              "      flex-wrap:wrap;\n",
              "      gap: 12px;\n",
              "    }\n",
              "\n",
              "    .colab-df-convert {\n",
              "      background-color: #E8F0FE;\n",
              "      border: none;\n",
              "      border-radius: 50%;\n",
              "      cursor: pointer;\n",
              "      display: none;\n",
              "      fill: #1967D2;\n",
              "      height: 32px;\n",
              "      padding: 0 0 0 0;\n",
              "      width: 32px;\n",
              "    }\n",
              "\n",
              "    .colab-df-convert:hover {\n",
              "      background-color: #E2EBFA;\n",
              "      box-shadow: 0px 1px 2px rgba(60, 64, 67, 0.3), 0px 1px 3px 1px rgba(60, 64, 67, 0.15);\n",
              "      fill: #174EA6;\n",
              "    }\n",
              "\n",
              "    [theme=dark] .colab-df-convert {\n",
              "      background-color: #3B4455;\n",
              "      fill: #D2E3FC;\n",
              "    }\n",
              "\n",
              "    [theme=dark] .colab-df-convert:hover {\n",
              "      background-color: #434B5C;\n",
              "      box-shadow: 0px 1px 3px 1px rgba(0, 0, 0, 0.15);\n",
              "      filter: drop-shadow(0px 1px 2px rgba(0, 0, 0, 0.3));\n",
              "      fill: #FFFFFF;\n",
              "    }\n",
              "  </style>\n",
              "\n",
              "      <script>\n",
              "        const buttonEl =\n",
              "          document.querySelector('#df-c0689e89-507d-4327-ad76-3dbb0a023891 button.colab-df-convert');\n",
              "        buttonEl.style.display =\n",
              "          google.colab.kernel.accessAllowed ? 'block' : 'none';\n",
              "\n",
              "        async function convertToInteractive(key) {\n",
              "          const element = document.querySelector('#df-c0689e89-507d-4327-ad76-3dbb0a023891');\n",
              "          const dataTable =\n",
              "            await google.colab.kernel.invokeFunction('convertToInteractive',\n",
              "                                                     [key], {});\n",
              "          if (!dataTable) return;\n",
              "\n",
              "          const docLinkHtml = 'Like what you see? Visit the ' +\n",
              "            '<a target=\"_blank\" href=https://colab.research.google.com/notebooks/data_table.ipynb>data table notebook</a>'\n",
              "            + ' to learn more about interactive tables.';\n",
              "          element.innerHTML = '';\n",
              "          dataTable['output_type'] = 'display_data';\n",
              "          await google.colab.output.renderOutput(dataTable, element);\n",
              "          const docLink = document.createElement('div');\n",
              "          docLink.innerHTML = docLinkHtml;\n",
              "          element.appendChild(docLink);\n",
              "        }\n",
              "      </script>\n",
              "    </div>\n",
              "  </div>\n",
              "  "
            ]
          },
          "metadata": {},
          "execution_count": 5
        }
      ]
    },
    {
      "cell_type": "code",
      "metadata": {
        "id": "HkWXPa5QXY8T",
        "colab": {
          "base_uri": "https://localhost:8080/"
        },
        "outputId": "fd6a62ee-0b5f-413c-e57f-226a5edd542c"
      },
      "source": [
        "mixrow =df.loc[df.idxmin()[0]]\n",
        "\n",
        "mixrow = df.loc[df['student marks'].idxmin()]\n",
        "mixrow\n"
      ],
      "execution_count": 6,
      "outputs": [
        {
          "output_type": "execute_result",
          "data": {
            "text/plain": [
              "student marks    30\n",
              "age              27\n",
              "Name: 678, dtype: int64"
            ]
          },
          "metadata": {},
          "execution_count": 6
        }
      ]
    },
    {
      "cell_type": "code",
      "metadata": {
        "id": "z3CZcqCybFBX",
        "colab": {
          "base_uri": "https://localhost:8080/"
        },
        "outputId": "5d93a128-2ce2-4d25-e926-4e4995526c05"
      },
      "source": [
        "#TestCase\n",
        "pd.testing.assert_series_equal(mixrow, pd.Series([30,27], index=['student marks', 'age'], name='678'))\n",
        "print(\"Test passed!\")"
      ],
      "execution_count": 7,
      "outputs": [
        {
          "output_type": "stream",
          "name": "stdout",
          "text": [
            "Test passed!\n"
          ]
        }
      ]
    },
    {
      "cell_type": "markdown",
      "metadata": {
        "id": "UtXriKhdeI5Q"
      },
      "source": [
        "##Problem 4\n",
        "\n",
        "Get the 3 highest marks - only values\n"
      ]
    },
    {
      "cell_type": "code",
      "metadata": {
        "id": "azq97IRE77D8",
        "colab": {
          "base_uri": "https://localhost:8080/"
        },
        "outputId": "243e4f6f-03bc-4297-a8e6-72b682567028"
      },
      "source": [
        "#highest_marks = df.nlargest(3,['student marks'])['student marks']\n",
        "highest_marks = df['student marks'].nlargest(3)\n",
        "print(highest_marks)\n",
        "\n",
        "highest_marks"
      ],
      "execution_count": 8,
      "outputs": [
        {
          "output_type": "stream",
          "name": "stdout",
          "text": [
            "ssn\n",
            "345    100\n",
            "902    100\n",
            "901     90\n",
            "Name: student marks, dtype: int64\n"
          ]
        },
        {
          "output_type": "execute_result",
          "data": {
            "text/plain": [
              "ssn\n",
              "345    100\n",
              "902    100\n",
              "901     90\n",
              "Name: student marks, dtype: int64"
            ]
          },
          "metadata": {},
          "execution_count": 8
        }
      ]
    },
    {
      "cell_type": "code",
      "metadata": {
        "id": "IFARu5J-8rwJ",
        "colab": {
          "base_uri": "https://localhost:8080/"
        },
        "outputId": "fda36981-912a-4a3c-a6d6-61544a340048"
      },
      "source": [
        "#TestCase\n",
        "expected = pd.Series([100, 100, 90], index=['345', '902', '901'], name='student marks')\n",
        "expected.rename_axis('ssn', inplace=True)\n",
        "pd.testing.assert_series_equal(highest_marks, expected)\n",
        "print(\"Test passed!\")\n"
      ],
      "execution_count": 9,
      "outputs": [
        {
          "output_type": "stream",
          "name": "stdout",
          "text": [
            "Test passed!\n"
          ]
        }
      ]
    },
    {
      "cell_type": "markdown",
      "metadata": {
        "id": "YvlxeaP90m0t"
      },
      "source": [
        "## Problem 5\n",
        "Get the complete rows of the 3 highest marks"
      ]
    },
    {
      "cell_type": "code",
      "metadata": {
        "id": "6FwoWz_t0izw",
        "colab": {
          "base_uri": "https://localhost:8080/"
        },
        "outputId": "c40811ad-b169-4233-dc19-7fe3da22e2ac"
      },
      "source": [
        "highest_marks_rows = df.nlargest(3,['student marks','age'])\n",
        "highest_marks"
      ],
      "execution_count": 10,
      "outputs": [
        {
          "output_type": "execute_result",
          "data": {
            "text/plain": [
              "ssn\n",
              "345    100\n",
              "902    100\n",
              "901     90\n",
              "Name: student marks, dtype: int64"
            ]
          },
          "metadata": {},
          "execution_count": 10
        }
      ]
    },
    {
      "cell_type": "code",
      "metadata": {
        "id": "36SWQRDA0y4b",
        "colab": {
          "base_uri": "https://localhost:8080/"
        },
        "outputId": "5788f463-922c-4f83-b4c1-ab3c763e38d3"
      },
      "source": [
        "#TestCase\n",
        "expected = pd.DataFrame({'student marks':[100, 100, 90], 'age':[31, 31, 33]}, index=['345', '902', '901'])\n",
        "expected.rename_axis('ssn', inplace=True)\n",
        "pd.testing.assert_frame_equal(highest_marks_rows, expected)\n",
        "print(\"Test passed!\")"
      ],
      "execution_count": 11,
      "outputs": [
        {
          "output_type": "stream",
          "name": "stdout",
          "text": [
            "Test passed!\n"
          ]
        }
      ]
    }
  ]
}