{
  "nbformat": 4,
  "nbformat_minor": 0,
  "metadata": {
    "colab": {
      "name": "More on DataFrames-Exercise.ipynb",
      "provenance": [],
      "collapsed_sections": [],
      "include_colab_link": true
    },
    "kernelspec": {
      "name": "python3",
      "display_name": "Python 3"
    }
  },
  "cells": [
    {
      "cell_type": "markdown",
      "metadata": {
        "id": "view-in-github",
        "colab_type": "text"
      },
      "source": [
        "<a href=\"https://colab.research.google.com/github/ChitraChaudhari/GC_DataEngineering_Bootcamp/blob/main/EDA/More_on_DataFrames_Exercise.ipynb\" target=\"_parent\"><img src=\"https://colab.research.google.com/assets/colab-badge.svg\" alt=\"Open In Colab\"/></a>"
      ]
    },
    {
      "cell_type": "markdown",
      "metadata": {
        "id": "xGpksG9WJD4F"
      },
      "source": [
        "#More on DataFrames\n",
        "\n",
        "#Problem\n",
        "This is an open dataset from the City of Detroit.  The data is already imported into a DataFrame using Pandas.\n",
        "Please complete the below exercises\n",
        "\n"
      ]
    },
    {
      "cell_type": "code",
      "metadata": {
        "id": "dCLexezJI_k1",
        "outputId": "5858a681-9c6d-4353-eeda-c6ef25b8a916",
        "colab": {
          "base_uri": "https://localhost:8080/"
        }
      },
      "source": [
        "import pandas as pd\n",
        "\n",
        "detroit_demolitions = pd.read_csv('https://storage.googleapis.com/mbcc/datasets/Detroit_Demolitions_withColumns.csv',\n",
        "                        parse_dates=[4])\n",
        "detroit_demolitions.info()"
      ],
      "execution_count": 1,
      "outputs": [
        {
          "output_type": "stream",
          "name": "stdout",
          "text": [
            "<class 'pandas.core.frame.DataFrame'>\n",
            "RangeIndex: 12227 entries, 0 to 12226\n",
            "Data columns (total 11 columns):\n",
            " #   Column               Non-Null Count  Dtype         \n",
            "---  ------               --------------  -----         \n",
            " 0   Address              12227 non-null  object        \n",
            " 1   Parcel ID            12227 non-null  object        \n",
            " 2   Contractor Name      12227 non-null  object        \n",
            " 3   Price                12227 non-null  object        \n",
            " 4   Demolition Date      12227 non-null  datetime64[ns]\n",
            " 5   Commercial Building  12227 non-null  object        \n",
            " 6   Council_District     12227 non-null  int64         \n",
            " 7   Latitude             12227 non-null  float64       \n",
            " 8   Longitude            12227 non-null  float64       \n",
            " 9   Location             12227 non-null  object        \n",
            " 10  Neighborhood         12227 non-null  object        \n",
            "dtypes: datetime64[ns](1), float64(2), int64(1), object(7)\n",
            "memory usage: 1.0+ MB\n"
          ]
        }
      ]
    },
    {
      "cell_type": "markdown",
      "metadata": {
        "id": "GB378wSCQo6h"
      },
      "source": [
        "#Exercise 1\n",
        "This dataset has column names that have spaces. Clean the column names by **replacing** all **spaces** with an **underscore** '_'  also convert them to **lower case**"
      ]
    },
    {
      "cell_type": "code",
      "metadata": {
        "id": "7LrX9k_kJjvL",
        "colab": {
          "base_uri": "https://localhost:8080/"
        },
        "outputId": "85f9cafb-0e9e-472b-e893-b43bfa5aee12"
      },
      "source": [
        "#Your code goes here\n",
        "detroit_demolitions.columns = detroit_demolitions.columns.str.replace(\" \", \"_\").str.lower()\n",
        "\n",
        "detroit_demolitions.columns"
      ],
      "execution_count": 2,
      "outputs": [
        {
          "output_type": "execute_result",
          "data": {
            "text/plain": [
              "Index(['address', 'parcel_id', 'contractor_name', 'price', 'demolition_date',\n",
              "       'commercial_building', 'council_district', 'latitude', 'longitude',\n",
              "       'location', 'neighborhood'],\n",
              "      dtype='object')"
            ]
          },
          "metadata": {},
          "execution_count": 2
        }
      ]
    },
    {
      "cell_type": "code",
      "metadata": {
        "id": "jxePTkKWRHT4",
        "colab": {
          "base_uri": "https://localhost:8080/"
        },
        "outputId": "e6727dce-f9d4-4a24-c442-8336457b78cd"
      },
      "source": [
        "#TestCase\n",
        "clean_columns = pd.Index(['address', 'parcel_id', 'contractor_name', 'price', 'demolition_date',\n",
        "       'commercial_building', 'council_district', 'latitude', 'longitude',\n",
        "       'location', 'neighborhood'])\n",
        "pd.testing.assert_index_equal(detroit_demolitions.columns, clean_columns)\n",
        "print(\"Test passed!\")"
      ],
      "execution_count": 3,
      "outputs": [
        {
          "output_type": "stream",
          "name": "stdout",
          "text": [
            "Test passed!\n"
          ]
        }
      ]
    },
    {
      "cell_type": "markdown",
      "metadata": {
        "id": "B0vWA0XbKm9w"
      },
      "source": [
        "##Exercise 2:\n",
        "By running the head function you notice that the 'price' column has \\$ symbol and hence is assigned an Object type instead of an integer. \n",
        "\n",
        "Strip the $ symbol and convert the datatype to numeric."
      ]
    },
    {
      "cell_type": "code",
      "source": [
        "detroit_demolitions.head()"
      ],
      "metadata": {
        "colab": {
          "base_uri": "https://localhost:8080/",
          "height": 443
        },
        "id": "LPFWC96lhnUe",
        "outputId": "166c82f7-24b1-4c61-dc39-cebd3c0e8ee5"
      },
      "execution_count": 4,
      "outputs": [
        {
          "output_type": "execute_result",
          "data": {
            "text/plain": [
              "           address  parcel_id           contractor_name      price  \\\n",
              "0    19493 Concord  15011348.                       MCM  $12530.82   \n",
              "1     10 W Arizona  01004588.  Rickman Enterprise Group  $13630.00   \n",
              "2      100 Marston  01002314.            ABC Demolition  $14300.00   \n",
              "3     1000 Baldwin  17011063.           DMC Consultants  $18687.40   \n",
              "4  10005 Mansfield  22057965.         Adamo Group, Inc.   $8950.00   \n",
              "\n",
              "  demolition_date commercial_building  council_district   latitude  longitude  \\\n",
              "0      2014-08-07                  No                 3  42.438562 -83.033366   \n",
              "1      2016-03-08                  No                 2  42.419302 -83.102320   \n",
              "2      2014-07-25                  No                 5  42.375327 -83.074438   \n",
              "3      2014-04-16                  No                 5  42.352273 -82.999264   \n",
              "4      2016-07-12                  No                 7  42.369223 -83.203769   \n",
              "\n",
              "                                   location    neighborhood  \n",
              "0    19493 Concord\\n(42.438562, -83.033366)         Nortown  \n",
              "1      10 W Arizona\\n(42.419302, -83.10232)  Grixdale Farms  \n",
              "2      100 Marston\\n(42.375327, -83.074438)       North End  \n",
              "3     1000 Baldwin\\n(42.352273, -82.999264)      Islandview  \n",
              "4  10005 Mansfield\\n(42.369223, -83.203769)   Joy Community  "
            ],
            "text/html": [
              "\n",
              "  <div id=\"df-26ce5b1a-5a2d-4e5e-9628-1b1d8d881971\">\n",
              "    <div class=\"colab-df-container\">\n",
              "      <div>\n",
              "<style scoped>\n",
              "    .dataframe tbody tr th:only-of-type {\n",
              "        vertical-align: middle;\n",
              "    }\n",
              "\n",
              "    .dataframe tbody tr th {\n",
              "        vertical-align: top;\n",
              "    }\n",
              "\n",
              "    .dataframe thead th {\n",
              "        text-align: right;\n",
              "    }\n",
              "</style>\n",
              "<table border=\"1\" class=\"dataframe\">\n",
              "  <thead>\n",
              "    <tr style=\"text-align: right;\">\n",
              "      <th></th>\n",
              "      <th>address</th>\n",
              "      <th>parcel_id</th>\n",
              "      <th>contractor_name</th>\n",
              "      <th>price</th>\n",
              "      <th>demolition_date</th>\n",
              "      <th>commercial_building</th>\n",
              "      <th>council_district</th>\n",
              "      <th>latitude</th>\n",
              "      <th>longitude</th>\n",
              "      <th>location</th>\n",
              "      <th>neighborhood</th>\n",
              "    </tr>\n",
              "  </thead>\n",
              "  <tbody>\n",
              "    <tr>\n",
              "      <th>0</th>\n",
              "      <td>19493 Concord</td>\n",
              "      <td>15011348.</td>\n",
              "      <td>MCM</td>\n",
              "      <td>$12530.82</td>\n",
              "      <td>2014-08-07</td>\n",
              "      <td>No</td>\n",
              "      <td>3</td>\n",
              "      <td>42.438562</td>\n",
              "      <td>-83.033366</td>\n",
              "      <td>19493 Concord\\n(42.438562, -83.033366)</td>\n",
              "      <td>Nortown</td>\n",
              "    </tr>\n",
              "    <tr>\n",
              "      <th>1</th>\n",
              "      <td>10 W Arizona</td>\n",
              "      <td>01004588.</td>\n",
              "      <td>Rickman Enterprise Group</td>\n",
              "      <td>$13630.00</td>\n",
              "      <td>2016-03-08</td>\n",
              "      <td>No</td>\n",
              "      <td>2</td>\n",
              "      <td>42.419302</td>\n",
              "      <td>-83.102320</td>\n",
              "      <td>10 W Arizona\\n(42.419302, -83.10232)</td>\n",
              "      <td>Grixdale Farms</td>\n",
              "    </tr>\n",
              "    <tr>\n",
              "      <th>2</th>\n",
              "      <td>100 Marston</td>\n",
              "      <td>01002314.</td>\n",
              "      <td>ABC Demolition</td>\n",
              "      <td>$14300.00</td>\n",
              "      <td>2014-07-25</td>\n",
              "      <td>No</td>\n",
              "      <td>5</td>\n",
              "      <td>42.375327</td>\n",
              "      <td>-83.074438</td>\n",
              "      <td>100 Marston\\n(42.375327, -83.074438)</td>\n",
              "      <td>North End</td>\n",
              "    </tr>\n",
              "    <tr>\n",
              "      <th>3</th>\n",
              "      <td>1000 Baldwin</td>\n",
              "      <td>17011063.</td>\n",
              "      <td>DMC Consultants</td>\n",
              "      <td>$18687.40</td>\n",
              "      <td>2014-04-16</td>\n",
              "      <td>No</td>\n",
              "      <td>5</td>\n",
              "      <td>42.352273</td>\n",
              "      <td>-82.999264</td>\n",
              "      <td>1000 Baldwin\\n(42.352273, -82.999264)</td>\n",
              "      <td>Islandview</td>\n",
              "    </tr>\n",
              "    <tr>\n",
              "      <th>4</th>\n",
              "      <td>10005 Mansfield</td>\n",
              "      <td>22057965.</td>\n",
              "      <td>Adamo Group, Inc.</td>\n",
              "      <td>$8950.00</td>\n",
              "      <td>2016-07-12</td>\n",
              "      <td>No</td>\n",
              "      <td>7</td>\n",
              "      <td>42.369223</td>\n",
              "      <td>-83.203769</td>\n",
              "      <td>10005 Mansfield\\n(42.369223, -83.203769)</td>\n",
              "      <td>Joy Community</td>\n",
              "    </tr>\n",
              "  </tbody>\n",
              "</table>\n",
              "</div>\n",
              "      <button class=\"colab-df-convert\" onclick=\"convertToInteractive('df-26ce5b1a-5a2d-4e5e-9628-1b1d8d881971')\"\n",
              "              title=\"Convert this dataframe to an interactive table.\"\n",
              "              style=\"display:none;\">\n",
              "        \n",
              "  <svg xmlns=\"http://www.w3.org/2000/svg\" height=\"24px\"viewBox=\"0 0 24 24\"\n",
              "       width=\"24px\">\n",
              "    <path d=\"M0 0h24v24H0V0z\" fill=\"none\"/>\n",
              "    <path d=\"M18.56 5.44l.94 2.06.94-2.06 2.06-.94-2.06-.94-.94-2.06-.94 2.06-2.06.94zm-11 1L8.5 8.5l.94-2.06 2.06-.94-2.06-.94L8.5 2.5l-.94 2.06-2.06.94zm10 10l.94 2.06.94-2.06 2.06-.94-2.06-.94-.94-2.06-.94 2.06-2.06.94z\"/><path d=\"M17.41 7.96l-1.37-1.37c-.4-.4-.92-.59-1.43-.59-.52 0-1.04.2-1.43.59L10.3 9.45l-7.72 7.72c-.78.78-.78 2.05 0 2.83L4 21.41c.39.39.9.59 1.41.59.51 0 1.02-.2 1.41-.59l7.78-7.78 2.81-2.81c.8-.78.8-2.07 0-2.86zM5.41 20L4 18.59l7.72-7.72 1.47 1.35L5.41 20z\"/>\n",
              "  </svg>\n",
              "      </button>\n",
              "      \n",
              "  <style>\n",
              "    .colab-df-container {\n",
              "      display:flex;\n",
              "      flex-wrap:wrap;\n",
              "      gap: 12px;\n",
              "    }\n",
              "\n",
              "    .colab-df-convert {\n",
              "      background-color: #E8F0FE;\n",
              "      border: none;\n",
              "      border-radius: 50%;\n",
              "      cursor: pointer;\n",
              "      display: none;\n",
              "      fill: #1967D2;\n",
              "      height: 32px;\n",
              "      padding: 0 0 0 0;\n",
              "      width: 32px;\n",
              "    }\n",
              "\n",
              "    .colab-df-convert:hover {\n",
              "      background-color: #E2EBFA;\n",
              "      box-shadow: 0px 1px 2px rgba(60, 64, 67, 0.3), 0px 1px 3px 1px rgba(60, 64, 67, 0.15);\n",
              "      fill: #174EA6;\n",
              "    }\n",
              "\n",
              "    [theme=dark] .colab-df-convert {\n",
              "      background-color: #3B4455;\n",
              "      fill: #D2E3FC;\n",
              "    }\n",
              "\n",
              "    [theme=dark] .colab-df-convert:hover {\n",
              "      background-color: #434B5C;\n",
              "      box-shadow: 0px 1px 3px 1px rgba(0, 0, 0, 0.15);\n",
              "      filter: drop-shadow(0px 1px 2px rgba(0, 0, 0, 0.3));\n",
              "      fill: #FFFFFF;\n",
              "    }\n",
              "  </style>\n",
              "\n",
              "      <script>\n",
              "        const buttonEl =\n",
              "          document.querySelector('#df-26ce5b1a-5a2d-4e5e-9628-1b1d8d881971 button.colab-df-convert');\n",
              "        buttonEl.style.display =\n",
              "          google.colab.kernel.accessAllowed ? 'block' : 'none';\n",
              "\n",
              "        async function convertToInteractive(key) {\n",
              "          const element = document.querySelector('#df-26ce5b1a-5a2d-4e5e-9628-1b1d8d881971');\n",
              "          const dataTable =\n",
              "            await google.colab.kernel.invokeFunction('convertToInteractive',\n",
              "                                                     [key], {});\n",
              "          if (!dataTable) return;\n",
              "\n",
              "          const docLinkHtml = 'Like what you see? Visit the ' +\n",
              "            '<a target=\"_blank\" href=https://colab.research.google.com/notebooks/data_table.ipynb>data table notebook</a>'\n",
              "            + ' to learn more about interactive tables.';\n",
              "          element.innerHTML = '';\n",
              "          dataTable['output_type'] = 'display_data';\n",
              "          await google.colab.output.renderOutput(dataTable, element);\n",
              "          const docLink = document.createElement('div');\n",
              "          docLink.innerHTML = docLinkHtml;\n",
              "          element.appendChild(docLink);\n",
              "        }\n",
              "      </script>\n",
              "    </div>\n",
              "  </div>\n",
              "  "
            ]
          },
          "metadata": {},
          "execution_count": 4
        }
      ]
    },
    {
      "cell_type": "code",
      "metadata": {
        "id": "yqdIEtEpS3Rn"
      },
      "source": [
        "#Your code goes here\n",
        "detroit_demolitions['price']=detroit_demolitions['price'].str.lstrip('$').astype(float)"
      ],
      "execution_count": 5,
      "outputs": []
    },
    {
      "cell_type": "code",
      "source": [
        "detroit_demolitions['price'][1]"
      ],
      "metadata": {
        "colab": {
          "base_uri": "https://localhost:8080/"
        },
        "id": "IqeGYa93jRWX",
        "outputId": "9db6dad0-6b23-4840-96bb-b5ac2da09959"
      },
      "execution_count": 6,
      "outputs": [
        {
          "output_type": "execute_result",
          "data": {
            "text/plain": [
              "13630.0"
            ]
          },
          "metadata": {},
          "execution_count": 6
        }
      ]
    },
    {
      "cell_type": "code",
      "metadata": {
        "id": "acdXPO4YTl_d",
        "colab": {
          "base_uri": "https://localhost:8080/"
        },
        "outputId": "d64f3453-7f0f-409d-d147-92eca085c0ff"
      },
      "source": [
        "#TestCase\n",
        "assert(detroit_demolitions['price'].dtype == float)\n",
        "print(\"Test passed!\")"
      ],
      "execution_count": 7,
      "outputs": [
        {
          "output_type": "stream",
          "name": "stdout",
          "text": [
            "Test passed!\n"
          ]
        }
      ]
    },
    {
      "cell_type": "markdown",
      "metadata": {
        "id": "epUFGziUSy8h"
      },
      "source": [
        "## Exercise 3\n",
        "\n",
        "Drop column 'location'; it is redundant as the same information is available in address, latitude, longitude columns.\n",
        "\n"
      ]
    },
    {
      "cell_type": "code",
      "metadata": {
        "id": "ljDJMK8VXv1C",
        "colab": {
          "base_uri": "https://localhost:8080/"
        },
        "outputId": "7ba44ae0-0951-4058-ef59-2162132579ad"
      },
      "source": [
        "#Your code goes here\n",
        "detroit_demolitions.drop(axis=1,columns='location',inplace=True)\n",
        "detroit_demolitions.iloc[1]"
      ],
      "execution_count": 8,
      "outputs": [
        {
          "output_type": "execute_result",
          "data": {
            "text/plain": [
              "address                            10 W Arizona\n",
              "parcel_id                             01004588.\n",
              "contractor_name        Rickman Enterprise Group\n",
              "price                                   13630.0\n",
              "demolition_date             2016-03-08 00:00:00\n",
              "commercial_building                          No\n",
              "council_district                              2\n",
              "latitude                              42.419302\n",
              "longitude                             -83.10232\n",
              "neighborhood                     Grixdale Farms\n",
              "Name: 1, dtype: object"
            ]
          },
          "metadata": {},
          "execution_count": 8
        }
      ]
    },
    {
      "cell_type": "code",
      "metadata": {
        "id": "tKZBswwLYkvX",
        "colab": {
          "base_uri": "https://localhost:8080/"
        },
        "outputId": "a54e9cce-fcd0-4653-a746-540c2d6c0f2d"
      },
      "source": [
        "#TestCase\n",
        "try:\n",
        "  detroit_demolitions['location']\n",
        "except KeyError:\n",
        "  print(\"Test passed!\")"
      ],
      "execution_count": 9,
      "outputs": [
        {
          "output_type": "stream",
          "name": "stdout",
          "text": [
            "Test passed!\n"
          ]
        }
      ]
    },
    {
      "cell_type": "markdown",
      "metadata": {
        "id": "TgsRt5dBaMKW"
      },
      "source": [
        "# Exercise 4\n",
        "Check if there are any duplicate records"
      ]
    },
    {
      "cell_type": "code",
      "metadata": {
        "id": "70JaNM90aPtm",
        "colab": {
          "base_uri": "https://localhost:8080/"
        },
        "outputId": "7ff67903-295a-4246-8b48-8c80e7cdb156"
      },
      "source": [
        "# Your code goes here\n",
        "if(detroit_demolitions.address.nunique() == detroit_demolitions.shape[0]):\n",
        "  print(\"No duplicate records\")\n",
        "else:\n",
        "  print(\"there are some duplicate records\")"
      ],
      "execution_count": 10,
      "outputs": [
        {
          "output_type": "stream",
          "name": "stdout",
          "text": [
            "No duplicate records\n"
          ]
        }
      ]
    },
    {
      "cell_type": "code",
      "source": [
        "detroit_demolitions.duplicated().value_counts()\n",
        " "
      ],
      "metadata": {
        "colab": {
          "base_uri": "https://localhost:8080/"
        },
        "id": "xrekPeXiTLEN",
        "outputId": "75cab02c-1b33-454b-e34c-206e8dfa8370"
      },
      "execution_count": 11,
      "outputs": [
        {
          "output_type": "execute_result",
          "data": {
            "text/plain": [
              "False    12227\n",
              "dtype: int64"
            ]
          },
          "metadata": {},
          "execution_count": 11
        }
      ]
    },
    {
      "cell_type": "code",
      "source": [
        "detroit_demolitions.duplicated().unique()"
      ],
      "metadata": {
        "colab": {
          "base_uri": "https://localhost:8080/"
        },
        "id": "O8d3_ZVRT_ff",
        "outputId": "6528dfde-6acd-4279-dd58-9b0a61dfc11a"
      },
      "execution_count": 12,
      "outputs": [
        {
          "output_type": "execute_result",
          "data": {
            "text/plain": [
              "array([False])"
            ]
          },
          "metadata": {},
          "execution_count": 12
        }
      ]
    },
    {
      "cell_type": "code",
      "source": [
        "detroit_demolitions.duplicated().nunique()"
      ],
      "metadata": {
        "colab": {
          "base_uri": "https://localhost:8080/"
        },
        "id": "-ZfD3cS8o2Lz",
        "outputId": "74cf3560-ddd5-4aaa-9b28-76dd2df74112"
      },
      "execution_count": 13,
      "outputs": [
        {
          "output_type": "execute_result",
          "data": {
            "text/plain": [
              "1"
            ]
          },
          "metadata": {},
          "execution_count": 13
        }
      ]
    },
    {
      "cell_type": "markdown",
      "metadata": {
        "id": "4S04xeqMag0h"
      },
      "source": [
        "##Exercise 5\n",
        "\n",
        "Get all demolitions that happened on '2014-08-07' that were carried out by contractors whose name contain 'CM'"
      ]
    },
    {
      "cell_type": "code",
      "source": [
        "result = detroit_demolitions[(detroit_demolitions['demolition_date'] == '2014-08-07') & (detroit_demolitions['contractor_name'].str.contains('CM'))]\n"
      ],
      "metadata": {
        "id": "FuVAd_sfUZfA"
      },
      "execution_count": 14,
      "outputs": []
    },
    {
      "cell_type": "code",
      "source": [
        "result['demolition_date'].value_counts()"
      ],
      "metadata": {
        "colab": {
          "base_uri": "https://localhost:8080/"
        },
        "id": "63m5HeWzUeub",
        "outputId": "88180748-cbc9-4fb5-facd-4ac5953b4706"
      },
      "execution_count": 15,
      "outputs": [
        {
          "output_type": "execute_result",
          "data": {
            "text/plain": [
              "2014-08-07    15\n",
              "Name: demolition_date, dtype: int64"
            ]
          },
          "metadata": {},
          "execution_count": 15
        }
      ]
    },
    {
      "cell_type": "code",
      "metadata": {
        "id": "qxTsQ_10d0Or",
        "colab": {
          "base_uri": "https://localhost:8080/"
        },
        "outputId": "334c042c-c4a2-4b3a-c4fa-dbc458b4c21a"
      },
      "source": [
        "#TestCase\n",
        "assert(result['demolition_date'].value_counts()[0] == 15)\n",
        "print(\"Test passed!\")"
      ],
      "execution_count": 16,
      "outputs": [
        {
          "output_type": "stream",
          "name": "stdout",
          "text": [
            "Test passed!\n"
          ]
        }
      ]
    },
    {
      "cell_type": "markdown",
      "metadata": {
        "id": "4wZVfti9hKIG"
      },
      "source": [
        "#Exercise 6\n",
        "Segment the price column by creating another column called 'cost_group' in that you label all demolitions below 5,000 as 'below 5k' , and all demolitions between 5,000 to 10,000 as '5k to 10k', and demolitions between 10,000 to 25,000 as '10k to 25k' and the rest as 'high-cost'"
      ]
    },
    {
      "cell_type": "code",
      "metadata": {
        "id": "oJlJjsVxh4Qw"
      },
      "source": [
        "#Your code goes here\n",
        "import numpy as np\n",
        "segments = [-1,4999,9999,24999,np.inf]\n",
        "labels = ['below 5k',' 5k to 10k','10k o 25k','high-cost']\n",
        "cost_group = pd.cut(detroit_demolitions['price'],segments,labels=labels)\n",
        "detroit_demolitions['cost_group'] = cost_group\n"
      ],
      "execution_count": 17,
      "outputs": []
    },
    {
      "cell_type": "code",
      "source": [
        "detroit_demolitions.head()"
      ],
      "metadata": {
        "colab": {
          "base_uri": "https://localhost:8080/",
          "height": 357
        },
        "id": "tXMnZBXQZ0Qa",
        "outputId": "eee7c635-8804-432a-bb64-b20b9c56137b"
      },
      "execution_count": 18,
      "outputs": [
        {
          "output_type": "execute_result",
          "data": {
            "text/plain": [
              "           address  parcel_id           contractor_name     price  \\\n",
              "0    19493 Concord  15011348.                       MCM  12530.82   \n",
              "1     10 W Arizona  01004588.  Rickman Enterprise Group  13630.00   \n",
              "2      100 Marston  01002314.            ABC Demolition  14300.00   \n",
              "3     1000 Baldwin  17011063.           DMC Consultants  18687.40   \n",
              "4  10005 Mansfield  22057965.         Adamo Group, Inc.   8950.00   \n",
              "\n",
              "  demolition_date commercial_building  council_district   latitude  longitude  \\\n",
              "0      2014-08-07                  No                 3  42.438562 -83.033366   \n",
              "1      2016-03-08                  No                 2  42.419302 -83.102320   \n",
              "2      2014-07-25                  No                 5  42.375327 -83.074438   \n",
              "3      2014-04-16                  No                 5  42.352273 -82.999264   \n",
              "4      2016-07-12                  No                 7  42.369223 -83.203769   \n",
              "\n",
              "     neighborhood  cost_group  \n",
              "0         Nortown   10k o 25k  \n",
              "1  Grixdale Farms   10k o 25k  \n",
              "2       North End   10k o 25k  \n",
              "3      Islandview   10k o 25k  \n",
              "4   Joy Community   5k to 10k  "
            ],
            "text/html": [
              "\n",
              "  <div id=\"df-6312a5bd-989f-4c4e-bec8-33898d99690a\">\n",
              "    <div class=\"colab-df-container\">\n",
              "      <div>\n",
              "<style scoped>\n",
              "    .dataframe tbody tr th:only-of-type {\n",
              "        vertical-align: middle;\n",
              "    }\n",
              "\n",
              "    .dataframe tbody tr th {\n",
              "        vertical-align: top;\n",
              "    }\n",
              "\n",
              "    .dataframe thead th {\n",
              "        text-align: right;\n",
              "    }\n",
              "</style>\n",
              "<table border=\"1\" class=\"dataframe\">\n",
              "  <thead>\n",
              "    <tr style=\"text-align: right;\">\n",
              "      <th></th>\n",
              "      <th>address</th>\n",
              "      <th>parcel_id</th>\n",
              "      <th>contractor_name</th>\n",
              "      <th>price</th>\n",
              "      <th>demolition_date</th>\n",
              "      <th>commercial_building</th>\n",
              "      <th>council_district</th>\n",
              "      <th>latitude</th>\n",
              "      <th>longitude</th>\n",
              "      <th>neighborhood</th>\n",
              "      <th>cost_group</th>\n",
              "    </tr>\n",
              "  </thead>\n",
              "  <tbody>\n",
              "    <tr>\n",
              "      <th>0</th>\n",
              "      <td>19493 Concord</td>\n",
              "      <td>15011348.</td>\n",
              "      <td>MCM</td>\n",
              "      <td>12530.82</td>\n",
              "      <td>2014-08-07</td>\n",
              "      <td>No</td>\n",
              "      <td>3</td>\n",
              "      <td>42.438562</td>\n",
              "      <td>-83.033366</td>\n",
              "      <td>Nortown</td>\n",
              "      <td>10k o 25k</td>\n",
              "    </tr>\n",
              "    <tr>\n",
              "      <th>1</th>\n",
              "      <td>10 W Arizona</td>\n",
              "      <td>01004588.</td>\n",
              "      <td>Rickman Enterprise Group</td>\n",
              "      <td>13630.00</td>\n",
              "      <td>2016-03-08</td>\n",
              "      <td>No</td>\n",
              "      <td>2</td>\n",
              "      <td>42.419302</td>\n",
              "      <td>-83.102320</td>\n",
              "      <td>Grixdale Farms</td>\n",
              "      <td>10k o 25k</td>\n",
              "    </tr>\n",
              "    <tr>\n",
              "      <th>2</th>\n",
              "      <td>100 Marston</td>\n",
              "      <td>01002314.</td>\n",
              "      <td>ABC Demolition</td>\n",
              "      <td>14300.00</td>\n",
              "      <td>2014-07-25</td>\n",
              "      <td>No</td>\n",
              "      <td>5</td>\n",
              "      <td>42.375327</td>\n",
              "      <td>-83.074438</td>\n",
              "      <td>North End</td>\n",
              "      <td>10k o 25k</td>\n",
              "    </tr>\n",
              "    <tr>\n",
              "      <th>3</th>\n",
              "      <td>1000 Baldwin</td>\n",
              "      <td>17011063.</td>\n",
              "      <td>DMC Consultants</td>\n",
              "      <td>18687.40</td>\n",
              "      <td>2014-04-16</td>\n",
              "      <td>No</td>\n",
              "      <td>5</td>\n",
              "      <td>42.352273</td>\n",
              "      <td>-82.999264</td>\n",
              "      <td>Islandview</td>\n",
              "      <td>10k o 25k</td>\n",
              "    </tr>\n",
              "    <tr>\n",
              "      <th>4</th>\n",
              "      <td>10005 Mansfield</td>\n",
              "      <td>22057965.</td>\n",
              "      <td>Adamo Group, Inc.</td>\n",
              "      <td>8950.00</td>\n",
              "      <td>2016-07-12</td>\n",
              "      <td>No</td>\n",
              "      <td>7</td>\n",
              "      <td>42.369223</td>\n",
              "      <td>-83.203769</td>\n",
              "      <td>Joy Community</td>\n",
              "      <td>5k to 10k</td>\n",
              "    </tr>\n",
              "  </tbody>\n",
              "</table>\n",
              "</div>\n",
              "      <button class=\"colab-df-convert\" onclick=\"convertToInteractive('df-6312a5bd-989f-4c4e-bec8-33898d99690a')\"\n",
              "              title=\"Convert this dataframe to an interactive table.\"\n",
              "              style=\"display:none;\">\n",
              "        \n",
              "  <svg xmlns=\"http://www.w3.org/2000/svg\" height=\"24px\"viewBox=\"0 0 24 24\"\n",
              "       width=\"24px\">\n",
              "    <path d=\"M0 0h24v24H0V0z\" fill=\"none\"/>\n",
              "    <path d=\"M18.56 5.44l.94 2.06.94-2.06 2.06-.94-2.06-.94-.94-2.06-.94 2.06-2.06.94zm-11 1L8.5 8.5l.94-2.06 2.06-.94-2.06-.94L8.5 2.5l-.94 2.06-2.06.94zm10 10l.94 2.06.94-2.06 2.06-.94-2.06-.94-.94-2.06-.94 2.06-2.06.94z\"/><path d=\"M17.41 7.96l-1.37-1.37c-.4-.4-.92-.59-1.43-.59-.52 0-1.04.2-1.43.59L10.3 9.45l-7.72 7.72c-.78.78-.78 2.05 0 2.83L4 21.41c.39.39.9.59 1.41.59.51 0 1.02-.2 1.41-.59l7.78-7.78 2.81-2.81c.8-.78.8-2.07 0-2.86zM5.41 20L4 18.59l7.72-7.72 1.47 1.35L5.41 20z\"/>\n",
              "  </svg>\n",
              "      </button>\n",
              "      \n",
              "  <style>\n",
              "    .colab-df-container {\n",
              "      display:flex;\n",
              "      flex-wrap:wrap;\n",
              "      gap: 12px;\n",
              "    }\n",
              "\n",
              "    .colab-df-convert {\n",
              "      background-color: #E8F0FE;\n",
              "      border: none;\n",
              "      border-radius: 50%;\n",
              "      cursor: pointer;\n",
              "      display: none;\n",
              "      fill: #1967D2;\n",
              "      height: 32px;\n",
              "      padding: 0 0 0 0;\n",
              "      width: 32px;\n",
              "    }\n",
              "\n",
              "    .colab-df-convert:hover {\n",
              "      background-color: #E2EBFA;\n",
              "      box-shadow: 0px 1px 2px rgba(60, 64, 67, 0.3), 0px 1px 3px 1px rgba(60, 64, 67, 0.15);\n",
              "      fill: #174EA6;\n",
              "    }\n",
              "\n",
              "    [theme=dark] .colab-df-convert {\n",
              "      background-color: #3B4455;\n",
              "      fill: #D2E3FC;\n",
              "    }\n",
              "\n",
              "    [theme=dark] .colab-df-convert:hover {\n",
              "      background-color: #434B5C;\n",
              "      box-shadow: 0px 1px 3px 1px rgba(0, 0, 0, 0.15);\n",
              "      filter: drop-shadow(0px 1px 2px rgba(0, 0, 0, 0.3));\n",
              "      fill: #FFFFFF;\n",
              "    }\n",
              "  </style>\n",
              "\n",
              "      <script>\n",
              "        const buttonEl =\n",
              "          document.querySelector('#df-6312a5bd-989f-4c4e-bec8-33898d99690a button.colab-df-convert');\n",
              "        buttonEl.style.display =\n",
              "          google.colab.kernel.accessAllowed ? 'block' : 'none';\n",
              "\n",
              "        async function convertToInteractive(key) {\n",
              "          const element = document.querySelector('#df-6312a5bd-989f-4c4e-bec8-33898d99690a');\n",
              "          const dataTable =\n",
              "            await google.colab.kernel.invokeFunction('convertToInteractive',\n",
              "                                                     [key], {});\n",
              "          if (!dataTable) return;\n",
              "\n",
              "          const docLinkHtml = 'Like what you see? Visit the ' +\n",
              "            '<a target=\"_blank\" href=https://colab.research.google.com/notebooks/data_table.ipynb>data table notebook</a>'\n",
              "            + ' to learn more about interactive tables.';\n",
              "          element.innerHTML = '';\n",
              "          dataTable['output_type'] = 'display_data';\n",
              "          await google.colab.output.renderOutput(dataTable, element);\n",
              "          const docLink = document.createElement('div');\n",
              "          docLink.innerHTML = docLinkHtml;\n",
              "          element.appendChild(docLink);\n",
              "        }\n",
              "      </script>\n",
              "    </div>\n",
              "  </div>\n",
              "  "
            ]
          },
          "metadata": {},
          "execution_count": 18
        }
      ]
    },
    {
      "cell_type": "code",
      "metadata": {
        "id": "pVsJKr7eih9-",
        "colab": {
          "base_uri": "https://localhost:8080/"
        },
        "outputId": "235df2ea-34f7-49ca-fcc4-40c3952161ce"
      },
      "source": [
        "#TestCase\n",
        "assert(detroit_demolitions['cost_group'].value_counts()['below 5k'] == 138)\n",
        "print(\"Test passed!\")"
      ],
      "execution_count": 19,
      "outputs": [
        {
          "output_type": "stream",
          "name": "stdout",
          "text": [
            "Test passed!\n"
          ]
        }
      ]
    },
    {
      "cell_type": "code",
      "source": [
        ""
      ],
      "metadata": {
        "id": "dsSC98jBbVgZ"
      },
      "execution_count": 19,
      "outputs": []
    },
    {
      "cell_type": "code",
      "source": [
        ""
      ],
      "metadata": {
        "id": "LEMrIaVNbVbI"
      },
      "execution_count": 19,
      "outputs": []
    },
    {
      "cell_type": "code",
      "source": [
        ""
      ],
      "metadata": {
        "id": "B0mH8VL5bVXj"
      },
      "execution_count": 19,
      "outputs": []
    },
    {
      "cell_type": "code",
      "source": [
        ""
      ],
      "metadata": {
        "id": "_DNwqU7UbVSw"
      },
      "execution_count": 19,
      "outputs": []
    },
    {
      "cell_type": "code",
      "source": [
        ""
      ],
      "metadata": {
        "id": "4ZJwP73AbVN4"
      },
      "execution_count": 19,
      "outputs": []
    },
    {
      "cell_type": "code",
      "source": [
        ""
      ],
      "metadata": {
        "id": "C38W5sC3bWaa"
      },
      "execution_count": 19,
      "outputs": []
    },
    {
      "cell_type": "code",
      "metadata": {
        "id": "LAELtM4ka319",
        "colab": {
          "base_uri": "https://localhost:8080/"
        },
        "outputId": "f8c03c40-bc85-4344-ec6e-f7df88293437"
      },
      "source": [
        "#Your code goes here\n",
        "result = detroit_demolitions['demolition_date'].groupby(detroit_demolitions['contractor_name'])\n",
        "result.size()"
      ],
      "execution_count": 20,
      "outputs": [
        {
          "output_type": "execute_result",
          "data": {
            "text/plain": [
              "contractor_name\n",
              "1 Way Service                             83\n",
              "313 Construction, LLC                     40\n",
              "ABC Demolition                           446\n",
              "Able Demolition                         1260\n",
              "Adamo Group, Inc.                       2866\n",
              "BBEK Environmental                         1\n",
              "Berkshire Development, Inc.               13\n",
              "Blackstar                                  1\n",
              "Blue Star                                379\n",
              "Brown & Glo Wrecking                      23\n",
              "Brown Environmental Construction         265\n",
              "DMC Consultants                         1388\n",
              "Den-Man Contractors                       72\n",
              "Direct Construction Services, LLC         93\n",
              "Dore & Associates                         62\n",
              "Esso Wrecking Co.                        217\n",
              "Farrow Group                             236\n",
              "Futurenet Group                           88\n",
              "GLO WRECKING CO                           18\n",
              "Homrich                                 2342\n",
              "Jenkins Construction                      46\n",
              "Joy Construction                           1\n",
              "Leadhead Construction                     22\n",
              "MCM                                      334\n",
              "RDC Construction Services                 69\n",
              "Rickman Enterprise Group                1238\n",
              "SJ Design and Construction                 1\n",
              "Salenbien Trucking & Excavating Inc.     501\n",
              "Smalley                                   71\n",
              "Timesavers Contracting                    50\n",
              "Upright Wrecking                           1\n",
              "Name: demolition_date, dtype: int64"
            ]
          },
          "metadata": {},
          "execution_count": 20
        }
      ]
    },
    {
      "cell_type": "code",
      "source": [
        "result = detroit_demolitions.groupby(['demolition_date','contractor_name'])\n",
        "result.size()"
      ],
      "metadata": {
        "colab": {
          "base_uri": "https://localhost:8080/"
        },
        "id": "Eyri-DD5OU32",
        "outputId": "01802aed-e0ef-49fc-d068-fe13e23a73cd"
      },
      "execution_count": 21,
      "outputs": [
        {
          "output_type": "execute_result",
          "data": {
            "text/plain": [
              "demolition_date  contractor_name         \n",
              "2014-01-02       Den-Man Contractors         1\n",
              "2014-01-06       Den-Man Contractors         2\n",
              "                 Futurenet Group             2\n",
              "2014-01-07       Futurenet Group             1\n",
              "2014-01-13       Futurenet Group             1\n",
              "                                            ..\n",
              "2017-09-07       DMC Consultants             2\n",
              "                 Den-Man Contractors         2\n",
              "                 Rickman Enterprise Group    2\n",
              "2017-09-08       Able Demolition             3\n",
              "                 DMC Consultants             2\n",
              "Length: 3474, dtype: int64"
            ]
          },
          "metadata": {},
          "execution_count": 21
        }
      ]
    },
    {
      "cell_type": "code",
      "source": [
        "result = detroit_demolitions.groupby(['demolition_date'])\n",
        "result.groups.keys()"
      ],
      "metadata": {
        "colab": {
          "base_uri": "https://localhost:8080/"
        },
        "id": "lqxhnTL8O7iM",
        "outputId": "4579b5d3-41ad-480a-95c8-ae0f5469e383"
      },
      "execution_count": 22,
      "outputs": [
        {
          "output_type": "execute_result",
          "data": {
            "text/plain": [
              "dict_keys([Timestamp('2014-01-02 00:00:00'), Timestamp('2014-01-06 00:00:00'), Timestamp('2014-01-07 00:00:00'), Timestamp('2014-01-13 00:00:00'), Timestamp('2014-01-14 00:00:00'), Timestamp('2014-01-15 00:00:00'), Timestamp('2014-01-16 00:00:00'), Timestamp('2014-01-17 00:00:00'), Timestamp('2014-01-21 00:00:00'), Timestamp('2014-01-22 00:00:00'), Timestamp('2014-01-23 00:00:00'), Timestamp('2014-01-24 00:00:00'), Timestamp('2014-01-31 00:00:00'), Timestamp('2014-02-03 00:00:00'), Timestamp('2014-02-04 00:00:00'), Timestamp('2014-02-07 00:00:00'), Timestamp('2014-02-12 00:00:00'), Timestamp('2014-02-14 00:00:00'), Timestamp('2014-02-17 00:00:00'), Timestamp('2014-02-18 00:00:00'), Timestamp('2014-02-19 00:00:00'), Timestamp('2014-02-20 00:00:00'), Timestamp('2014-02-21 00:00:00'), Timestamp('2014-02-24 00:00:00'), Timestamp('2014-02-25 00:00:00'), Timestamp('2014-02-26 00:00:00'), Timestamp('2014-02-27 00:00:00'), Timestamp('2014-03-04 00:00:00'), Timestamp('2014-03-07 00:00:00'), Timestamp('2014-03-11 00:00:00'), Timestamp('2014-03-13 00:00:00'), Timestamp('2014-03-14 00:00:00'), Timestamp('2014-03-17 00:00:00'), Timestamp('2014-03-19 00:00:00'), Timestamp('2014-03-24 00:00:00'), Timestamp('2014-03-25 00:00:00'), Timestamp('2014-03-26 00:00:00'), Timestamp('2014-03-27 00:00:00'), Timestamp('2014-03-28 00:00:00'), Timestamp('2014-03-31 00:00:00'), Timestamp('2014-04-01 00:00:00'), Timestamp('2014-04-02 00:00:00'), Timestamp('2014-04-03 00:00:00'), Timestamp('2014-04-05 00:00:00'), Timestamp('2014-04-07 00:00:00'), Timestamp('2014-04-08 00:00:00'), Timestamp('2014-04-09 00:00:00'), Timestamp('2014-04-11 00:00:00'), Timestamp('2014-04-14 00:00:00'), Timestamp('2014-04-16 00:00:00'), Timestamp('2014-04-17 00:00:00'), Timestamp('2014-04-21 00:00:00'), Timestamp('2014-04-22 00:00:00'), Timestamp('2014-04-23 00:00:00'), Timestamp('2014-04-24 00:00:00'), Timestamp('2014-04-25 00:00:00'), Timestamp('2014-04-28 00:00:00'), Timestamp('2014-04-29 00:00:00'), Timestamp('2014-04-30 00:00:00'), Timestamp('2014-05-01 00:00:00'), Timestamp('2014-05-02 00:00:00'), Timestamp('2014-05-05 00:00:00'), Timestamp('2014-05-06 00:00:00'), Timestamp('2014-05-07 00:00:00'), Timestamp('2014-05-08 00:00:00'), Timestamp('2014-05-09 00:00:00'), Timestamp('2014-05-12 00:00:00'), Timestamp('2014-05-13 00:00:00'), Timestamp('2014-05-14 00:00:00'), Timestamp('2014-05-15 00:00:00'), Timestamp('2014-05-16 00:00:00'), Timestamp('2014-05-17 00:00:00'), Timestamp('2014-05-19 00:00:00'), Timestamp('2014-05-20 00:00:00'), Timestamp('2014-05-21 00:00:00'), Timestamp('2014-05-22 00:00:00'), Timestamp('2014-05-23 00:00:00'), Timestamp('2014-05-27 00:00:00'), Timestamp('2014-05-28 00:00:00'), Timestamp('2014-05-29 00:00:00'), Timestamp('2014-05-30 00:00:00'), Timestamp('2014-06-02 00:00:00'), Timestamp('2014-06-03 00:00:00'), Timestamp('2014-06-04 00:00:00'), Timestamp('2014-06-05 00:00:00'), Timestamp('2014-06-06 00:00:00'), Timestamp('2014-06-09 00:00:00'), Timestamp('2014-06-10 00:00:00'), Timestamp('2014-06-11 00:00:00'), Timestamp('2014-06-12 00:00:00'), Timestamp('2014-06-13 00:00:00'), Timestamp('2014-06-14 00:00:00'), Timestamp('2014-06-15 00:00:00'), Timestamp('2014-06-16 00:00:00'), Timestamp('2014-06-17 00:00:00'), Timestamp('2014-06-18 00:00:00'), Timestamp('2014-06-19 00:00:00'), Timestamp('2014-06-20 00:00:00'), Timestamp('2014-06-21 00:00:00'), Timestamp('2014-06-23 00:00:00'), Timestamp('2014-06-24 00:00:00'), Timestamp('2014-06-25 00:00:00'), Timestamp('2014-06-26 00:00:00'), Timestamp('2014-06-27 00:00:00'), Timestamp('2014-06-30 00:00:00'), Timestamp('2014-07-01 00:00:00'), Timestamp('2014-07-02 00:00:00'), Timestamp('2014-07-03 00:00:00'), Timestamp('2014-07-04 00:00:00'), Timestamp('2014-07-07 00:00:00'), Timestamp('2014-07-08 00:00:00'), Timestamp('2014-07-09 00:00:00'), Timestamp('2014-07-10 00:00:00'), Timestamp('2014-07-11 00:00:00'), Timestamp('2014-07-12 00:00:00'), Timestamp('2014-07-14 00:00:00'), Timestamp('2014-07-15 00:00:00'), Timestamp('2014-07-16 00:00:00'), Timestamp('2014-07-17 00:00:00'), Timestamp('2014-07-18 00:00:00'), Timestamp('2014-07-19 00:00:00'), Timestamp('2014-07-21 00:00:00'), Timestamp('2014-07-22 00:00:00'), Timestamp('2014-07-23 00:00:00'), Timestamp('2014-07-24 00:00:00'), Timestamp('2014-07-25 00:00:00'), Timestamp('2014-07-27 00:00:00'), Timestamp('2014-07-28 00:00:00'), Timestamp('2014-07-29 00:00:00'), Timestamp('2014-07-30 00:00:00'), Timestamp('2014-07-31 00:00:00'), Timestamp('2014-08-01 00:00:00'), Timestamp('2014-08-02 00:00:00'), Timestamp('2014-08-04 00:00:00'), Timestamp('2014-08-05 00:00:00'), Timestamp('2014-08-06 00:00:00'), Timestamp('2014-08-07 00:00:00'), Timestamp('2014-08-08 00:00:00'), Timestamp('2014-08-09 00:00:00'), Timestamp('2014-08-11 00:00:00'), Timestamp('2014-08-12 00:00:00'), Timestamp('2014-08-13 00:00:00'), Timestamp('2014-08-14 00:00:00'), Timestamp('2014-08-15 00:00:00'), Timestamp('2014-08-16 00:00:00'), Timestamp('2014-08-18 00:00:00'), Timestamp('2014-08-19 00:00:00'), Timestamp('2014-08-20 00:00:00'), Timestamp('2014-08-21 00:00:00'), Timestamp('2014-08-22 00:00:00'), Timestamp('2014-08-23 00:00:00'), Timestamp('2014-08-25 00:00:00'), Timestamp('2014-08-26 00:00:00'), Timestamp('2014-08-27 00:00:00'), Timestamp('2014-08-28 00:00:00'), Timestamp('2014-08-29 00:00:00'), Timestamp('2014-08-30 00:00:00'), Timestamp('2014-09-01 00:00:00'), Timestamp('2014-09-02 00:00:00'), Timestamp('2014-09-03 00:00:00'), Timestamp('2014-09-04 00:00:00'), Timestamp('2014-09-05 00:00:00'), Timestamp('2014-09-06 00:00:00'), Timestamp('2014-09-08 00:00:00'), Timestamp('2014-09-09 00:00:00'), Timestamp('2014-09-10 00:00:00'), Timestamp('2014-09-11 00:00:00'), Timestamp('2014-09-12 00:00:00'), Timestamp('2014-09-13 00:00:00'), Timestamp('2014-09-15 00:00:00'), Timestamp('2014-09-16 00:00:00'), Timestamp('2014-09-17 00:00:00'), Timestamp('2014-09-18 00:00:00'), Timestamp('2014-09-19 00:00:00'), Timestamp('2014-09-20 00:00:00'), Timestamp('2014-09-21 00:00:00'), Timestamp('2014-09-22 00:00:00'), Timestamp('2014-09-23 00:00:00'), Timestamp('2014-09-24 00:00:00'), Timestamp('2014-09-25 00:00:00'), Timestamp('2014-09-26 00:00:00'), Timestamp('2014-09-27 00:00:00'), Timestamp('2014-09-29 00:00:00'), Timestamp('2014-09-30 00:00:00'), Timestamp('2014-10-01 00:00:00'), Timestamp('2014-10-02 00:00:00'), Timestamp('2014-10-03 00:00:00'), Timestamp('2014-10-05 00:00:00'), Timestamp('2014-10-06 00:00:00'), Timestamp('2014-10-07 00:00:00'), Timestamp('2014-10-08 00:00:00'), Timestamp('2014-10-09 00:00:00'), Timestamp('2014-10-10 00:00:00'), Timestamp('2014-10-13 00:00:00'), Timestamp('2014-10-14 00:00:00'), Timestamp('2014-10-15 00:00:00'), Timestamp('2014-10-16 00:00:00'), Timestamp('2014-10-17 00:00:00'), Timestamp('2014-10-18 00:00:00'), Timestamp('2014-10-20 00:00:00'), Timestamp('2014-10-21 00:00:00'), Timestamp('2014-10-22 00:00:00'), Timestamp('2014-10-23 00:00:00'), Timestamp('2014-10-24 00:00:00'), Timestamp('2014-10-27 00:00:00'), Timestamp('2014-10-28 00:00:00'), Timestamp('2014-10-29 00:00:00'), Timestamp('2014-10-30 00:00:00'), Timestamp('2014-10-31 00:00:00'), Timestamp('2014-11-01 00:00:00'), Timestamp('2014-11-03 00:00:00'), Timestamp('2014-11-04 00:00:00'), Timestamp('2014-11-05 00:00:00'), Timestamp('2014-11-06 00:00:00'), Timestamp('2014-11-07 00:00:00'), Timestamp('2014-11-10 00:00:00'), Timestamp('2014-11-11 00:00:00'), Timestamp('2014-11-12 00:00:00'), Timestamp('2014-11-13 00:00:00'), Timestamp('2014-11-14 00:00:00'), Timestamp('2014-11-16 00:00:00'), Timestamp('2014-11-17 00:00:00'), Timestamp('2014-11-18 00:00:00'), Timestamp('2014-11-19 00:00:00'), Timestamp('2014-11-20 00:00:00'), Timestamp('2014-11-21 00:00:00'), Timestamp('2014-11-22 00:00:00'), Timestamp('2014-11-24 00:00:00'), Timestamp('2014-11-25 00:00:00'), Timestamp('2014-11-26 00:00:00'), Timestamp('2014-11-28 00:00:00'), Timestamp('2014-12-01 00:00:00'), Timestamp('2014-12-02 00:00:00'), Timestamp('2014-12-03 00:00:00'), Timestamp('2014-12-04 00:00:00'), Timestamp('2014-12-05 00:00:00'), Timestamp('2014-12-08 00:00:00'), Timestamp('2014-12-09 00:00:00'), Timestamp('2014-12-10 00:00:00'), Timestamp('2014-12-11 00:00:00'), Timestamp('2014-12-12 00:00:00'), Timestamp('2014-12-15 00:00:00'), Timestamp('2014-12-16 00:00:00'), Timestamp('2014-12-17 00:00:00'), Timestamp('2014-12-18 00:00:00'), Timestamp('2014-12-19 00:00:00'), Timestamp('2014-12-22 00:00:00'), Timestamp('2014-12-23 00:00:00'), Timestamp('2014-12-29 00:00:00'), Timestamp('2014-12-30 00:00:00'), Timestamp('2014-12-31 00:00:00'), Timestamp('2015-01-01 00:00:00'), Timestamp('2015-01-02 00:00:00'), Timestamp('2015-01-05 00:00:00'), Timestamp('2015-01-06 00:00:00'), Timestamp('2015-01-07 00:00:00'), Timestamp('2015-01-08 00:00:00'), Timestamp('2015-01-09 00:00:00'), Timestamp('2015-01-12 00:00:00'), Timestamp('2015-01-13 00:00:00'), Timestamp('2015-01-14 00:00:00'), Timestamp('2015-01-15 00:00:00'), Timestamp('2015-01-16 00:00:00'), Timestamp('2015-01-19 00:00:00'), Timestamp('2015-01-20 00:00:00'), Timestamp('2015-01-21 00:00:00'), Timestamp('2015-01-22 00:00:00'), Timestamp('2015-01-23 00:00:00'), Timestamp('2015-01-26 00:00:00'), Timestamp('2015-01-27 00:00:00'), Timestamp('2015-01-28 00:00:00'), Timestamp('2015-01-29 00:00:00'), Timestamp('2015-01-30 00:00:00'), Timestamp('2015-01-31 00:00:00'), Timestamp('2015-02-03 00:00:00'), Timestamp('2015-02-04 00:00:00'), Timestamp('2015-02-05 00:00:00'), Timestamp('2015-02-06 00:00:00'), Timestamp('2015-02-07 00:00:00'), Timestamp('2015-02-09 00:00:00'), Timestamp('2015-02-10 00:00:00'), Timestamp('2015-02-11 00:00:00'), Timestamp('2015-02-12 00:00:00'), Timestamp('2015-02-13 00:00:00'), Timestamp('2015-02-14 00:00:00'), Timestamp('2015-02-16 00:00:00'), Timestamp('2015-02-17 00:00:00'), Timestamp('2015-02-18 00:00:00'), Timestamp('2015-02-19 00:00:00'), Timestamp('2015-02-20 00:00:00'), Timestamp('2015-02-23 00:00:00'), Timestamp('2015-02-24 00:00:00'), Timestamp('2015-02-25 00:00:00'), Timestamp('2015-02-26 00:00:00'), Timestamp('2015-02-27 00:00:00'), Timestamp('2015-03-02 00:00:00'), Timestamp('2015-03-03 00:00:00'), Timestamp('2015-03-04 00:00:00'), Timestamp('2015-03-05 00:00:00'), Timestamp('2015-03-06 00:00:00'), Timestamp('2015-03-09 00:00:00'), Timestamp('2015-03-10 00:00:00'), Timestamp('2015-03-11 00:00:00'), Timestamp('2015-03-12 00:00:00'), Timestamp('2015-03-13 00:00:00'), Timestamp('2015-03-16 00:00:00'), Timestamp('2015-03-17 00:00:00'), Timestamp('2015-03-18 00:00:00'), Timestamp('2015-03-19 00:00:00'), Timestamp('2015-03-23 00:00:00'), Timestamp('2015-03-24 00:00:00'), Timestamp('2015-03-25 00:00:00'), Timestamp('2015-03-26 00:00:00'), Timestamp('2015-03-30 00:00:00'), Timestamp('2015-03-31 00:00:00'), Timestamp('2015-04-01 00:00:00'), Timestamp('2015-04-06 00:00:00'), Timestamp('2015-04-07 00:00:00'), Timestamp('2015-04-08 00:00:00'), Timestamp('2015-04-09 00:00:00'), Timestamp('2015-04-10 00:00:00'), Timestamp('2015-04-13 00:00:00'), Timestamp('2015-04-14 00:00:00'), Timestamp('2015-04-15 00:00:00'), Timestamp('2015-04-16 00:00:00'), Timestamp('2015-04-17 00:00:00'), Timestamp('2015-04-20 00:00:00'), Timestamp('2015-04-21 00:00:00'), Timestamp('2015-04-22 00:00:00'), Timestamp('2015-04-23 00:00:00'), Timestamp('2015-04-24 00:00:00'), Timestamp('2015-04-27 00:00:00'), Timestamp('2015-04-28 00:00:00'), Timestamp('2015-04-29 00:00:00'), Timestamp('2015-04-30 00:00:00'), Timestamp('2015-05-01 00:00:00'), Timestamp('2015-05-02 00:00:00'), Timestamp('2015-05-04 00:00:00'), Timestamp('2015-05-05 00:00:00'), Timestamp('2015-05-06 00:00:00'), Timestamp('2015-05-07 00:00:00'), Timestamp('2015-05-08 00:00:00'), Timestamp('2015-05-11 00:00:00'), Timestamp('2015-05-12 00:00:00'), Timestamp('2015-05-13 00:00:00'), Timestamp('2015-05-14 00:00:00'), Timestamp('2015-05-15 00:00:00'), Timestamp('2015-05-16 00:00:00'), Timestamp('2015-05-18 00:00:00'), Timestamp('2015-05-19 00:00:00'), Timestamp('2015-05-20 00:00:00'), Timestamp('2015-05-21 00:00:00'), Timestamp('2015-05-22 00:00:00'), Timestamp('2015-05-26 00:00:00'), Timestamp('2015-05-27 00:00:00'), Timestamp('2015-05-28 00:00:00'), Timestamp('2015-05-29 00:00:00'), Timestamp('2015-05-30 00:00:00'), Timestamp('2015-06-01 00:00:00'), Timestamp('2015-06-02 00:00:00'), Timestamp('2015-06-03 00:00:00'), Timestamp('2015-06-04 00:00:00'), Timestamp('2015-06-05 00:00:00'), Timestamp('2015-06-06 00:00:00'), Timestamp('2015-06-08 00:00:00'), Timestamp('2015-06-09 00:00:00'), Timestamp('2015-06-10 00:00:00'), Timestamp('2015-06-11 00:00:00'), Timestamp('2015-06-12 00:00:00'), Timestamp('2015-06-13 00:00:00'), Timestamp('2015-06-15 00:00:00'), Timestamp('2015-06-16 00:00:00'), Timestamp('2015-06-17 00:00:00'), Timestamp('2015-06-18 00:00:00'), Timestamp('2015-06-19 00:00:00'), Timestamp('2015-06-22 00:00:00'), Timestamp('2015-06-23 00:00:00'), Timestamp('2015-06-24 00:00:00'), Timestamp('2015-06-25 00:00:00'), Timestamp('2015-06-26 00:00:00'), Timestamp('2015-06-28 00:00:00'), Timestamp('2015-06-29 00:00:00'), Timestamp('2015-06-30 00:00:00'), Timestamp('2015-07-01 00:00:00'), Timestamp('2015-07-02 00:00:00'), Timestamp('2015-07-03 00:00:00'), Timestamp('2015-07-06 00:00:00'), Timestamp('2015-07-07 00:00:00'), Timestamp('2015-07-08 00:00:00'), Timestamp('2015-07-09 00:00:00'), Timestamp('2015-07-10 00:00:00'), Timestamp('2015-07-11 00:00:00'), Timestamp('2015-07-13 00:00:00'), Timestamp('2015-07-14 00:00:00'), Timestamp('2015-07-15 00:00:00'), Timestamp('2015-07-16 00:00:00'), Timestamp('2015-07-17 00:00:00'), Timestamp('2015-07-18 00:00:00'), Timestamp('2015-07-20 00:00:00'), Timestamp('2015-07-21 00:00:00'), Timestamp('2015-07-22 00:00:00'), Timestamp('2015-07-23 00:00:00'), Timestamp('2015-07-24 00:00:00'), Timestamp('2015-07-25 00:00:00'), Timestamp('2015-07-27 00:00:00'), Timestamp('2015-07-28 00:00:00'), Timestamp('2015-07-29 00:00:00'), Timestamp('2015-07-30 00:00:00'), Timestamp('2015-07-31 00:00:00'), Timestamp('2015-08-02 00:00:00'), Timestamp('2015-08-03 00:00:00'), Timestamp('2015-08-04 00:00:00'), Timestamp('2015-08-05 00:00:00'), Timestamp('2015-08-06 00:00:00'), Timestamp('2015-08-07 00:00:00'), Timestamp('2015-08-10 00:00:00'), Timestamp('2015-08-11 00:00:00'), Timestamp('2015-08-12 00:00:00'), Timestamp('2015-08-13 00:00:00'), Timestamp('2015-08-14 00:00:00'), Timestamp('2015-08-15 00:00:00'), Timestamp('2015-08-16 00:00:00'), Timestamp('2015-08-17 00:00:00'), Timestamp('2015-08-18 00:00:00'), Timestamp('2015-08-19 00:00:00'), Timestamp('2015-08-20 00:00:00'), Timestamp('2015-08-21 00:00:00'), Timestamp('2015-08-22 00:00:00'), Timestamp('2015-08-24 00:00:00'), Timestamp('2015-08-25 00:00:00'), Timestamp('2015-08-26 00:00:00'), Timestamp('2015-08-27 00:00:00'), Timestamp('2015-08-28 00:00:00'), Timestamp('2015-08-29 00:00:00'), Timestamp('2015-08-30 00:00:00'), Timestamp('2015-08-31 00:00:00'), Timestamp('2015-09-01 00:00:00'), Timestamp('2015-09-02 00:00:00'), Timestamp('2015-09-03 00:00:00'), Timestamp('2015-09-04 00:00:00'), Timestamp('2015-09-05 00:00:00'), Timestamp('2015-09-06 00:00:00'), Timestamp('2015-09-07 00:00:00'), Timestamp('2015-09-08 00:00:00'), Timestamp('2015-09-09 00:00:00'), Timestamp('2015-09-10 00:00:00'), Timestamp('2015-09-11 00:00:00'), Timestamp('2015-09-14 00:00:00'), Timestamp('2015-09-15 00:00:00'), Timestamp('2015-09-16 00:00:00'), Timestamp('2015-09-17 00:00:00'), Timestamp('2015-09-18 00:00:00'), Timestamp('2015-09-19 00:00:00'), Timestamp('2015-09-21 00:00:00'), Timestamp('2015-09-22 00:00:00'), Timestamp('2015-09-23 00:00:00'), Timestamp('2015-09-24 00:00:00'), Timestamp('2015-09-25 00:00:00'), Timestamp('2015-09-28 00:00:00'), Timestamp('2015-09-29 00:00:00'), Timestamp('2015-09-30 00:00:00'), Timestamp('2015-10-01 00:00:00'), Timestamp('2015-10-02 00:00:00'), Timestamp('2015-10-03 00:00:00'), Timestamp('2015-10-05 00:00:00'), Timestamp('2015-10-06 00:00:00'), Timestamp('2015-10-07 00:00:00'), Timestamp('2015-10-08 00:00:00'), Timestamp('2015-10-09 00:00:00'), Timestamp('2015-10-10 00:00:00'), Timestamp('2015-10-12 00:00:00'), Timestamp('2015-10-13 00:00:00'), Timestamp('2015-10-14 00:00:00'), Timestamp('2015-10-15 00:00:00'), Timestamp('2015-10-16 00:00:00'), Timestamp('2015-10-19 00:00:00'), Timestamp('2015-10-20 00:00:00'), Timestamp('2015-10-21 00:00:00'), Timestamp('2015-10-22 00:00:00'), Timestamp('2015-10-23 00:00:00'), Timestamp('2015-10-24 00:00:00'), Timestamp('2015-10-26 00:00:00'), Timestamp('2015-10-27 00:00:00'), Timestamp('2015-10-28 00:00:00'), Timestamp('2015-10-29 00:00:00'), Timestamp('2015-10-30 00:00:00'), Timestamp('2015-11-02 00:00:00'), Timestamp('2015-11-03 00:00:00'), Timestamp('2015-11-04 00:00:00'), Timestamp('2015-11-05 00:00:00'), Timestamp('2015-11-06 00:00:00'), Timestamp('2015-11-09 00:00:00'), Timestamp('2015-11-10 00:00:00'), Timestamp('2015-11-11 00:00:00'), Timestamp('2015-11-12 00:00:00'), Timestamp('2015-11-13 00:00:00'), Timestamp('2015-11-14 00:00:00'), Timestamp('2015-11-16 00:00:00'), Timestamp('2015-11-17 00:00:00'), Timestamp('2015-11-18 00:00:00'), Timestamp('2015-11-19 00:00:00'), Timestamp('2015-11-20 00:00:00'), Timestamp('2015-11-21 00:00:00'), Timestamp('2015-11-23 00:00:00'), Timestamp('2015-11-24 00:00:00'), Timestamp('2015-11-25 00:00:00'), Timestamp('2015-11-27 00:00:00'), Timestamp('2015-11-30 00:00:00'), Timestamp('2015-12-01 00:00:00'), Timestamp('2015-12-02 00:00:00'), Timestamp('2015-12-03 00:00:00'), Timestamp('2015-12-04 00:00:00'), Timestamp('2015-12-07 00:00:00'), Timestamp('2015-12-08 00:00:00'), Timestamp('2015-12-09 00:00:00'), Timestamp('2015-12-10 00:00:00'), Timestamp('2015-12-11 00:00:00'), Timestamp('2015-12-12 00:00:00'), Timestamp('2015-12-14 00:00:00'), Timestamp('2015-12-15 00:00:00'), Timestamp('2015-12-16 00:00:00'), Timestamp('2015-12-17 00:00:00'), Timestamp('2015-12-18 00:00:00'), Timestamp('2015-12-19 00:00:00'), Timestamp('2015-12-21 00:00:00'), Timestamp('2015-12-22 00:00:00'), Timestamp('2015-12-23 00:00:00'), Timestamp('2015-12-24 00:00:00'), Timestamp('2015-12-28 00:00:00'), Timestamp('2015-12-30 00:00:00'), Timestamp('2016-01-04 00:00:00'), Timestamp('2016-01-05 00:00:00'), Timestamp('2016-01-06 00:00:00'), Timestamp('2016-01-07 00:00:00'), Timestamp('2016-01-08 00:00:00'), Timestamp('2016-01-09 00:00:00'), Timestamp('2016-01-11 00:00:00'), Timestamp('2016-01-12 00:00:00'), Timestamp('2016-01-13 00:00:00'), Timestamp('2016-01-14 00:00:00'), Timestamp('2016-01-15 00:00:00'), Timestamp('2016-01-18 00:00:00'), Timestamp('2016-01-19 00:00:00'), Timestamp('2016-01-20 00:00:00'), Timestamp('2016-01-21 00:00:00'), Timestamp('2016-01-22 00:00:00'), Timestamp('2016-01-25 00:00:00'), Timestamp('2016-01-26 00:00:00'), Timestamp('2016-01-27 00:00:00'), Timestamp('2016-01-28 00:00:00'), Timestamp('2016-01-29 00:00:00'), Timestamp('2016-01-31 00:00:00'), Timestamp('2016-02-01 00:00:00'), Timestamp('2016-02-02 00:00:00'), Timestamp('2016-02-03 00:00:00'), Timestamp('2016-02-04 00:00:00'), Timestamp('2016-02-05 00:00:00'), Timestamp('2016-02-08 00:00:00'), Timestamp('2016-02-09 00:00:00'), Timestamp('2016-02-10 00:00:00'), Timestamp('2016-02-11 00:00:00'), Timestamp('2016-02-12 00:00:00'), Timestamp('2016-02-15 00:00:00'), Timestamp('2016-02-16 00:00:00'), Timestamp('2016-02-17 00:00:00'), Timestamp('2016-02-18 00:00:00'), Timestamp('2016-02-19 00:00:00'), Timestamp('2016-02-22 00:00:00'), Timestamp('2016-02-23 00:00:00'), Timestamp('2016-02-24 00:00:00'), Timestamp('2016-02-25 00:00:00'), Timestamp('2016-02-26 00:00:00'), Timestamp('2016-02-27 00:00:00'), Timestamp('2016-02-29 00:00:00'), Timestamp('2016-03-01 00:00:00'), Timestamp('2016-03-02 00:00:00'), Timestamp('2016-03-03 00:00:00'), Timestamp('2016-03-07 00:00:00'), Timestamp('2016-03-08 00:00:00'), Timestamp('2016-03-09 00:00:00'), Timestamp('2016-03-10 00:00:00'), Timestamp('2016-03-11 00:00:00'), Timestamp('2016-03-12 00:00:00'), Timestamp('2016-03-14 00:00:00'), Timestamp('2016-03-15 00:00:00'), Timestamp('2016-03-16 00:00:00'), Timestamp('2016-03-17 00:00:00'), Timestamp('2016-03-18 00:00:00'), Timestamp('2016-03-19 00:00:00'), Timestamp('2016-03-20 00:00:00'), Timestamp('2016-03-21 00:00:00'), Timestamp('2016-03-22 00:00:00'), Timestamp('2016-03-23 00:00:00'), Timestamp('2016-03-24 00:00:00'), Timestamp('2016-03-25 00:00:00'), Timestamp('2016-03-28 00:00:00'), Timestamp('2016-03-29 00:00:00'), Timestamp('2016-03-30 00:00:00'), Timestamp('2016-03-31 00:00:00'), Timestamp('2016-04-01 00:00:00'), Timestamp('2016-04-04 00:00:00'), Timestamp('2016-04-05 00:00:00'), Timestamp('2016-04-06 00:00:00'), Timestamp('2016-04-07 00:00:00'), Timestamp('2016-04-08 00:00:00'), Timestamp('2016-04-11 00:00:00'), Timestamp('2016-04-12 00:00:00'), Timestamp('2016-04-13 00:00:00'), Timestamp('2016-04-14 00:00:00'), Timestamp('2016-04-15 00:00:00'), Timestamp('2016-04-16 00:00:00'), Timestamp('2016-04-18 00:00:00'), Timestamp('2016-04-19 00:00:00'), Timestamp('2016-04-20 00:00:00'), Timestamp('2016-04-21 00:00:00'), Timestamp('2016-04-22 00:00:00'), Timestamp('2016-04-23 00:00:00'), Timestamp('2016-04-25 00:00:00'), Timestamp('2016-04-26 00:00:00'), Timestamp('2016-04-27 00:00:00'), Timestamp('2016-04-28 00:00:00'), Timestamp('2016-04-29 00:00:00'), Timestamp('2016-04-30 00:00:00'), Timestamp('2016-05-02 00:00:00'), Timestamp('2016-05-03 00:00:00'), Timestamp('2016-05-04 00:00:00'), Timestamp('2016-05-05 00:00:00'), Timestamp('2016-05-06 00:00:00'), Timestamp('2016-05-07 00:00:00'), Timestamp('2016-05-09 00:00:00'), Timestamp('2016-05-10 00:00:00'), Timestamp('2016-05-11 00:00:00'), Timestamp('2016-05-12 00:00:00'), Timestamp('2016-05-13 00:00:00'), Timestamp('2016-05-14 00:00:00'), Timestamp('2016-05-16 00:00:00'), Timestamp('2016-05-17 00:00:00'), Timestamp('2016-05-18 00:00:00'), Timestamp('2016-05-19 00:00:00'), Timestamp('2016-05-20 00:00:00'), Timestamp('2016-05-21 00:00:00'), Timestamp('2016-05-22 00:00:00'), Timestamp('2016-05-23 00:00:00'), Timestamp('2016-05-24 00:00:00'), Timestamp('2016-05-25 00:00:00'), Timestamp('2016-05-26 00:00:00'), Timestamp('2016-05-27 00:00:00'), Timestamp('2016-05-28 00:00:00'), Timestamp('2016-05-31 00:00:00'), Timestamp('2016-06-01 00:00:00'), Timestamp('2016-06-02 00:00:00'), Timestamp('2016-06-03 00:00:00'), Timestamp('2016-06-04 00:00:00'), Timestamp('2016-06-06 00:00:00'), Timestamp('2016-06-07 00:00:00'), Timestamp('2016-06-08 00:00:00'), Timestamp('2016-06-09 00:00:00'), Timestamp('2016-06-10 00:00:00'), Timestamp('2016-06-11 00:00:00'), Timestamp('2016-06-13 00:00:00'), Timestamp('2016-06-14 00:00:00'), Timestamp('2016-06-15 00:00:00'), Timestamp('2016-06-16 00:00:00'), Timestamp('2016-06-17 00:00:00'), Timestamp('2016-06-20 00:00:00'), Timestamp('2016-06-21 00:00:00'), Timestamp('2016-06-22 00:00:00'), Timestamp('2016-06-23 00:00:00'), Timestamp('2016-06-24 00:00:00'), Timestamp('2016-06-25 00:00:00'), Timestamp('2016-06-27 00:00:00'), Timestamp('2016-06-28 00:00:00'), Timestamp('2016-06-29 00:00:00'), Timestamp('2016-06-30 00:00:00'), Timestamp('2016-07-01 00:00:00'), Timestamp('2016-07-05 00:00:00'), Timestamp('2016-07-06 00:00:00'), Timestamp('2016-07-07 00:00:00'), Timestamp('2016-07-08 00:00:00'), Timestamp('2016-07-11 00:00:00'), Timestamp('2016-07-12 00:00:00'), Timestamp('2016-07-13 00:00:00'), Timestamp('2016-07-14 00:00:00'), Timestamp('2016-07-15 00:00:00'), Timestamp('2016-07-18 00:00:00'), Timestamp('2016-07-19 00:00:00'), Timestamp('2016-07-20 00:00:00'), Timestamp('2016-07-21 00:00:00'), Timestamp('2016-07-22 00:00:00'), Timestamp('2016-07-23 00:00:00'), Timestamp('2016-07-25 00:00:00'), Timestamp('2016-07-26 00:00:00'), Timestamp('2016-07-27 00:00:00'), Timestamp('2016-07-28 00:00:00'), Timestamp('2016-07-29 00:00:00'), Timestamp('2016-08-01 00:00:00'), Timestamp('2016-08-02 00:00:00'), Timestamp('2016-08-03 00:00:00'), Timestamp('2016-08-04 00:00:00'), Timestamp('2016-08-05 00:00:00'), Timestamp('2016-08-06 00:00:00'), Timestamp('2016-08-08 00:00:00'), Timestamp('2016-08-09 00:00:00'), Timestamp('2016-08-10 00:00:00'), Timestamp('2016-08-11 00:00:00'), Timestamp('2016-08-12 00:00:00'), Timestamp('2016-08-13 00:00:00'), Timestamp('2016-08-15 00:00:00'), Timestamp('2016-08-16 00:00:00'), Timestamp('2016-08-17 00:00:00'), Timestamp('2016-08-18 00:00:00'), Timestamp('2016-08-19 00:00:00'), Timestamp('2016-08-22 00:00:00'), Timestamp('2016-08-23 00:00:00'), Timestamp('2016-08-24 00:00:00'), Timestamp('2016-08-25 00:00:00'), Timestamp('2016-08-26 00:00:00'), Timestamp('2016-08-27 00:00:00'), Timestamp('2016-08-29 00:00:00'), Timestamp('2016-08-30 00:00:00'), Timestamp('2016-08-31 00:00:00'), Timestamp('2016-09-01 00:00:00'), Timestamp('2016-09-02 00:00:00'), Timestamp('2016-09-06 00:00:00'), Timestamp('2016-09-07 00:00:00'), Timestamp('2016-09-08 00:00:00'), Timestamp('2016-09-09 00:00:00'), Timestamp('2016-09-12 00:00:00'), Timestamp('2016-09-13 00:00:00'), Timestamp('2016-09-14 00:00:00'), Timestamp('2016-09-15 00:00:00'), Timestamp('2016-09-16 00:00:00'), Timestamp('2016-09-19 00:00:00'), Timestamp('2016-09-20 00:00:00'), Timestamp('2016-09-21 00:00:00'), Timestamp('2016-09-22 00:00:00'), Timestamp('2016-09-23 00:00:00'), Timestamp('2016-09-26 00:00:00'), Timestamp('2016-09-27 00:00:00'), Timestamp('2016-09-28 00:00:00'), Timestamp('2016-09-29 00:00:00'), Timestamp('2016-10-01 00:00:00'), Timestamp('2016-10-03 00:00:00'), Timestamp('2016-10-04 00:00:00'), Timestamp('2016-10-06 00:00:00'), Timestamp('2016-10-07 00:00:00'), Timestamp('2016-10-09 00:00:00'), Timestamp('2016-10-14 00:00:00'), Timestamp('2016-10-20 00:00:00'), Timestamp('2016-10-21 00:00:00'), Timestamp('2016-10-24 00:00:00'), Timestamp('2016-11-01 00:00:00'), Timestamp('2016-11-02 00:00:00'), Timestamp('2016-11-03 00:00:00'), Timestamp('2016-11-07 00:00:00'), Timestamp('2016-11-08 00:00:00'), Timestamp('2016-11-10 00:00:00'), Timestamp('2016-11-11 00:00:00'), Timestamp('2016-11-14 00:00:00'), Timestamp('2016-11-15 00:00:00'), Timestamp('2016-11-16 00:00:00'), Timestamp('2016-11-17 00:00:00'), Timestamp('2016-11-18 00:00:00'), Timestamp('2016-11-22 00:00:00'), Timestamp('2016-11-24 00:00:00'), Timestamp('2016-11-28 00:00:00'), Timestamp('2016-11-30 00:00:00'), Timestamp('2016-12-01 00:00:00'), Timestamp('2016-12-03 00:00:00'), Timestamp('2016-12-08 00:00:00'), Timestamp('2016-12-09 00:00:00'), Timestamp('2016-12-12 00:00:00'), Timestamp('2016-12-13 00:00:00'), Timestamp('2016-12-14 00:00:00'), Timestamp('2016-12-16 00:00:00'), Timestamp('2016-12-22 00:00:00'), Timestamp('2016-12-27 00:00:00'), Timestamp('2016-12-28 00:00:00'), Timestamp('2016-12-29 00:00:00'), Timestamp('2016-12-30 00:00:00'), Timestamp('2017-01-04 00:00:00'), Timestamp('2017-01-09 00:00:00'), Timestamp('2017-01-10 00:00:00'), Timestamp('2017-01-11 00:00:00'), Timestamp('2017-01-12 00:00:00'), Timestamp('2017-01-13 00:00:00'), Timestamp('2017-01-16 00:00:00'), Timestamp('2017-01-17 00:00:00'), Timestamp('2017-01-18 00:00:00'), Timestamp('2017-01-19 00:00:00'), Timestamp('2017-01-20 00:00:00'), Timestamp('2017-01-21 00:00:00'), Timestamp('2017-01-23 00:00:00'), Timestamp('2017-01-24 00:00:00'), Timestamp('2017-01-25 00:00:00'), Timestamp('2017-01-26 00:00:00'), Timestamp('2017-01-27 00:00:00'), Timestamp('2017-01-30 00:00:00'), Timestamp('2017-01-31 00:00:00'), Timestamp('2017-02-01 00:00:00'), Timestamp('2017-02-02 00:00:00'), Timestamp('2017-02-03 00:00:00'), Timestamp('2017-02-06 00:00:00'), Timestamp('2017-02-07 00:00:00'), Timestamp('2017-02-08 00:00:00'), Timestamp('2017-02-09 00:00:00'), Timestamp('2017-02-10 00:00:00'), Timestamp('2017-02-13 00:00:00'), Timestamp('2017-02-14 00:00:00'), Timestamp('2017-02-15 00:00:00'), Timestamp('2017-02-16 00:00:00'), Timestamp('2017-02-17 00:00:00'), Timestamp('2017-02-20 00:00:00'), Timestamp('2017-02-21 00:00:00'), Timestamp('2017-02-22 00:00:00'), Timestamp('2017-02-23 00:00:00'), Timestamp('2017-02-24 00:00:00'), Timestamp('2017-02-27 00:00:00'), Timestamp('2017-02-28 00:00:00'), Timestamp('2017-03-01 00:00:00'), Timestamp('2017-03-02 00:00:00'), Timestamp('2017-03-03 00:00:00'), Timestamp('2017-03-06 00:00:00'), Timestamp('2017-03-07 00:00:00'), Timestamp('2017-03-09 00:00:00'), Timestamp('2017-03-10 00:00:00'), Timestamp('2017-03-13 00:00:00'), Timestamp('2017-03-14 00:00:00'), Timestamp('2017-03-15 00:00:00'), Timestamp('2017-03-16 00:00:00'), Timestamp('2017-03-17 00:00:00'), Timestamp('2017-03-20 00:00:00'), Timestamp('2017-03-21 00:00:00'), Timestamp('2017-03-22 00:00:00'), Timestamp('2017-03-23 00:00:00'), Timestamp('2017-03-24 00:00:00'), Timestamp('2017-03-27 00:00:00'), Timestamp('2017-03-28 00:00:00'), Timestamp('2017-03-29 00:00:00'), Timestamp('2017-03-30 00:00:00'), Timestamp('2017-03-31 00:00:00'), Timestamp('2017-04-03 00:00:00'), Timestamp('2017-04-04 00:00:00'), Timestamp('2017-04-05 00:00:00'), Timestamp('2017-04-06 00:00:00'), Timestamp('2017-04-07 00:00:00'), Timestamp('2017-04-10 00:00:00'), Timestamp('2017-04-11 00:00:00'), Timestamp('2017-04-12 00:00:00'), Timestamp('2017-04-13 00:00:00'), Timestamp('2017-04-14 00:00:00'), Timestamp('2017-04-17 00:00:00'), Timestamp('2017-04-18 00:00:00'), Timestamp('2017-04-19 00:00:00'), Timestamp('2017-04-20 00:00:00'), Timestamp('2017-04-21 00:00:00'), Timestamp('2017-04-24 00:00:00'), Timestamp('2017-04-25 00:00:00'), Timestamp('2017-04-26 00:00:00'), Timestamp('2017-04-27 00:00:00'), Timestamp('2017-04-28 00:00:00'), Timestamp('2017-05-01 00:00:00'), Timestamp('2017-05-02 00:00:00'), Timestamp('2017-05-03 00:00:00'), Timestamp('2017-05-04 00:00:00'), Timestamp('2017-05-05 00:00:00'), Timestamp('2017-05-08 00:00:00'), Timestamp('2017-05-09 00:00:00'), Timestamp('2017-05-10 00:00:00'), Timestamp('2017-05-11 00:00:00'), Timestamp('2017-05-12 00:00:00'), Timestamp('2017-05-15 00:00:00'), Timestamp('2017-05-16 00:00:00'), Timestamp('2017-05-17 00:00:00'), Timestamp('2017-05-18 00:00:00'), Timestamp('2017-05-19 00:00:00'), Timestamp('2017-05-22 00:00:00'), Timestamp('2017-05-23 00:00:00'), Timestamp('2017-05-24 00:00:00'), Timestamp('2017-05-25 00:00:00'), Timestamp('2017-05-26 00:00:00'), Timestamp('2017-05-29 00:00:00'), Timestamp('2017-05-30 00:00:00'), Timestamp('2017-05-31 00:00:00'), Timestamp('2017-06-01 00:00:00'), Timestamp('2017-06-02 00:00:00'), Timestamp('2017-06-03 00:00:00'), Timestamp('2017-06-05 00:00:00'), Timestamp('2017-06-06 00:00:00'), Timestamp('2017-06-07 00:00:00'), Timestamp('2017-06-08 00:00:00'), Timestamp('2017-06-09 00:00:00'), Timestamp('2017-06-12 00:00:00'), Timestamp('2017-06-13 00:00:00'), Timestamp('2017-06-14 00:00:00'), Timestamp('2017-06-15 00:00:00'), Timestamp('2017-06-16 00:00:00'), Timestamp('2017-06-19 00:00:00'), Timestamp('2017-06-20 00:00:00'), Timestamp('2017-06-21 00:00:00'), Timestamp('2017-06-22 00:00:00'), Timestamp('2017-06-23 00:00:00'), Timestamp('2017-06-26 00:00:00'), Timestamp('2017-06-27 00:00:00'), Timestamp('2017-06-28 00:00:00'), Timestamp('2017-06-29 00:00:00'), Timestamp('2017-06-30 00:00:00'), Timestamp('2017-07-05 00:00:00'), Timestamp('2017-07-06 00:00:00'), Timestamp('2017-07-07 00:00:00'), Timestamp('2017-07-10 00:00:00'), Timestamp('2017-07-11 00:00:00'), Timestamp('2017-07-12 00:00:00'), Timestamp('2017-07-13 00:00:00'), Timestamp('2017-07-14 00:00:00'), Timestamp('2017-07-17 00:00:00'), Timestamp('2017-07-18 00:00:00'), Timestamp('2017-07-19 00:00:00'), Timestamp('2017-07-20 00:00:00'), Timestamp('2017-07-21 00:00:00'), Timestamp('2017-07-24 00:00:00'), Timestamp('2017-07-25 00:00:00'), Timestamp('2017-07-26 00:00:00'), Timestamp('2017-07-27 00:00:00'), Timestamp('2017-07-28 00:00:00'), Timestamp('2017-07-31 00:00:00'), Timestamp('2017-08-01 00:00:00'), Timestamp('2017-08-02 00:00:00'), Timestamp('2017-08-03 00:00:00'), Timestamp('2017-08-04 00:00:00'), Timestamp('2017-08-07 00:00:00'), Timestamp('2017-08-08 00:00:00'), Timestamp('2017-08-09 00:00:00'), Timestamp('2017-08-10 00:00:00'), Timestamp('2017-08-11 00:00:00'), Timestamp('2017-08-14 00:00:00'), Timestamp('2017-08-15 00:00:00'), Timestamp('2017-08-16 00:00:00'), Timestamp('2017-08-17 00:00:00'), Timestamp('2017-08-18 00:00:00'), Timestamp('2017-08-21 00:00:00'), Timestamp('2017-08-22 00:00:00'), Timestamp('2017-08-23 00:00:00'), Timestamp('2017-08-24 00:00:00'), Timestamp('2017-08-25 00:00:00'), Timestamp('2017-08-28 00:00:00'), Timestamp('2017-08-29 00:00:00'), Timestamp('2017-08-30 00:00:00'), Timestamp('2017-08-31 00:00:00'), Timestamp('2017-09-01 00:00:00'), Timestamp('2017-09-05 00:00:00'), Timestamp('2017-09-06 00:00:00'), Timestamp('2017-09-07 00:00:00'), Timestamp('2017-09-08 00:00:00')])"
            ]
          },
          "metadata": {},
          "execution_count": 22
        }
      ]
    },
    {
      "cell_type": "code",
      "source": [
        "result.groups"
      ],
      "metadata": {
        "colab": {
          "base_uri": "https://localhost:8080/"
        },
        "id": "lUtrMrx5KsP5",
        "outputId": "59c0c9d9-9d26-402b-a245-19c20ccbeb22"
      },
      "execution_count": 23,
      "outputs": [
        {
          "output_type": "execute_result",
          "data": {
            "text/plain": [
              "{2014-01-02 00:00:00: [3807], 2014-01-06 00:00:00: [1081, 2430, 8191, 9353], 2014-01-07 00:00:00: [3958], 2014-01-13 00:00:00: [7496], 2014-01-14 00:00:00: [3459], 2014-01-15 00:00:00: [754, 11828], 2014-01-16 00:00:00: [461, 751, 759, 4972], 2014-01-17 00:00:00: [217, 7677, 11274], 2014-01-21 00:00:00: [645, 1713, 2361, 10347], 2014-01-22 00:00:00: [1214, 10356, 10767, 11550], 2014-01-23 00:00:00: [10348], 2014-01-24 00:00:00: [2550, 11946], 2014-01-31 00:00:00: [8558, 9598], 2014-02-03 00:00:00: [220, 859, 9740], 2014-02-04 00:00:00: [2333, 11870], 2014-02-07 00:00:00: [568], 2014-02-12 00:00:00: [6060], 2014-02-14 00:00:00: [612, 7771, 8835], 2014-02-17 00:00:00: [988], 2014-02-18 00:00:00: [479, 603], 2014-02-19 00:00:00: [1584, 4186, 11993], 2014-02-20 00:00:00: [249, 894, 2310], 2014-02-21 00:00:00: [1992], 2014-02-24 00:00:00: [2323, 9884], 2014-02-25 00:00:00: [2925, 3050], 2014-02-26 00:00:00: [2156, 10349], 2014-02-27 00:00:00: [106, 9675], 2014-03-04 00:00:00: [6192, 10345, 10346], 2014-03-07 00:00:00: [8267, 11196, 11992], 2014-03-11 00:00:00: [841, 4582, 9903, 9943, 11263], 2014-03-13 00:00:00: [979, 1543, 6849, 11970], 2014-03-14 00:00:00: [11965, 11966], 2014-03-17 00:00:00: [795, 3650, 5775], 2014-03-19 00:00:00: [4970, 6153], 2014-03-24 00:00:00: [35, 8972, 11676], 2014-03-25 00:00:00: [1662], 2014-03-26 00:00:00: [1063, 2727, 4312], 2014-03-27 00:00:00: [9251, 10327], 2014-03-28 00:00:00: [3688, 4037], 2014-03-31 00:00:00: [4078, 4099, 4185, 4192, 6338, 7422, 8640], 2014-04-01 00:00:00: [3354, 3375, 3420, 3427], 2014-04-02 00:00:00: [4026], 2014-04-03 00:00:00: [2166, 3696, 3977, 4036, 4610, 8332], 2014-04-05 00:00:00: [11636, 11985], 2014-04-07 00:00:00: [533, 562, 3557, 4750, 7642, 7648, 8251, 8560, 9439], 2014-04-08 00:00:00: [1533, 1545, 1722, 7501, 7534, 8999], 2014-04-09 00:00:00: [2807, 9321, 11841], 2014-04-11 00:00:00: [6337, 8621, 9082], 2014-04-14 00:00:00: [9813], 2014-04-16 00:00:00: [3, 102, 314, 2883, 3201, 4644, 6440, 8301, 9242, 9250, 9253], 2014-04-17 00:00:00: [620, 5618], 2014-04-21 00:00:00: [76, 9254, 9441, 9484], 2014-04-22 00:00:00: [6050, 8300], 2014-04-23 00:00:00: [828, 4054, 6205, 6212, 6498, 7039, 7070, 7113, 7483, 8392], 2014-04-24 00:00:00: [3241], 2014-04-25 00:00:00: [6048, 6469, 8123, 8512], 2014-04-28 00:00:00: [664, 8408, 8431], 2014-04-29 00:00:00: [547, 902, 2637, 2661, 7873], 2014-04-30 00:00:00: [283, 2509, 8348, 9416, 11384], 2014-05-01 00:00:00: [1743, 2863, 2909, 2946, 6349, 8063, 8214, 9117, 9138, 9357, 9379, 9404, 11181, 11201, 11829], 2014-05-02 00:00:00: [367, 4204, 6219, 8153], 2014-05-05 00:00:00: [33, 444, 3829, 4380, 4532], 2014-05-06 00:00:00: [499, 7975], 2014-05-07 00:00:00: [41, 1126, 1452, 3873, 9090, 11179], 2014-05-08 00:00:00: [96, 157, 441, 2210, 5013, 5328, 5572, 6727, 6766, 7909, 11874, 11884], 2014-05-09 00:00:00: [85, 178, 4975, 7117, 7906, 8433, 9750, 11028, 11212], 2014-05-12 00:00:00: [1261, 1346, 1383, 1394, 1417, 2448, 4241, 5276, 7237, 7299, 7502, 7924, 8303, 10975], 2014-05-13 00:00:00: [341, 1453, 2516, 2658, 2699, 7204, 7318, 7480, 7531, 8781, 8794, 9040], 2014-05-14 00:00:00: [182, 1373, 1465, 1467, 1487, 1492, 2476, 3897, 5098, 5129, 5214, 5246, 6877, 7463, 7645, 8579], 2014-05-15 00:00:00: [962, 1906, 2532, 2556, 2586, 3005, 4049, 8379, 8611], 2014-05-16 00:00:00: [792, 807, 1180, 1352, 1440, 1887, 2403, 2422, 2578, 3146, 3265, 4976, 5632, 5649, 7646, 8279, 8940, 8985], 2014-05-17 00:00:00: [1232, 1435, 2860, 3200, 3287, 4277, 7945, 8443], 2014-05-19 00:00:00: [953, 1400, 1445, 1556, 1619, 1627, 1667, 2845, 2854, 8448, 9188, 9888, 11203], 2014-05-20 00:00:00: [1366, 1390, 1557, 1602, 1834, 2560, 2765, 2833, 6595, 6603, 6761, 6948, 7116, 8108, 8598, 9461, 11252], 2014-05-21 00:00:00: [1179, 1188, 1354, 2524, 5127, 5161, 5622, 7377, 7455, 9126, 9383, 9411, 9418, 9534, 11278], 2014-05-22 00:00:00: [1523, 1726, 1806, 2814, 6371, 7570, 7913, 9304, 9793, 9814], 2014-05-23 00:00:00: [738, 901, 1807, 1825, 2673, 2715, 2846, 2983, 4342, 4997, 5006, 5146, 7819, 8590, 9421, 9781, 9963, 12138], 2014-05-27 00:00:00: [2664, 3195, 3550, 6411, 9921, 12136], 2014-05-28 00:00:00: [261, 700, 895, 1717, 1833, 1850, 1864, 1870, 1974, 2016, 2065, 2186, 2305, 2485, 2486, 2487, 2689, 2927, 4633, 4851, 5008, 9390, 9476, 9496, 11861], 2014-05-29 00:00:00: [1901, 2123, 2441, 2564, 2645, 2700, 5131, 6255, 6259, 6264, 6985, 7253, 7821, 8792], 2014-05-30 00:00:00: [176, 346, 1789, 1801, 1812, 1819, 1827, 1829, 1843, 1845, 1846, 1851, 1852, 1857, 1863, 1866, 1876, 1879, 1883, 1891, 1895, 1954, 1958, 1964, 1971, 1997, 1999, 2015, 2026, 2039, 2796, 2895, 4985, 4996, 7261, 7529, 7962, 10981], 2014-06-02 00:00:00: [374, 416, 1187, 1192, 1981, 2810, 2834, 2962, 3190, 3231, 3244, 3245, 3275, 4015, 7264, 10972], 2014-06-03 00:00:00: [1826, 2675, 2701, 2711, 2713, 3228, 3299, 6916, 7494, 7686, 7714, 7762, 11258], 2014-06-04 00:00:00: [946, 987, 1320, 2898, 2948, 4064, 8006, 8244], 2014-06-05 00:00:00: [2529, 2757, 2827, 7545], 2014-06-06 00:00:00: [1867, 2717, 2800, 8061], 2014-06-09 00:00:00: [1196, 2452, 2555, 2631, 2654, 2679, 2702, 2718, 2772, 2793, 3100, 3111, 6021, 7041, 7621, 8821, 9906], 2014-06-10 00:00:00: [1253, 2710, 8407], 2014-06-11 00:00:00: [1124, 1641, 2547, 2980, 6274, 8206, 8435, 10960, 10967, 10993], 2014-06-12 00:00:00: [954, 2721, 2947, 5939, 7688, 7703, 9013, 9207], 2014-06-13 00:00:00: [3043, 3122, 3180, 6194, 7604, 7633, 7693, 9286], 2014-06-14 00:00:00: [7086, 7406], 2014-06-15 00:00:00: [10920], 2014-06-16 00:00:00: [2551, 2568, 2573, 2748, 2752, 2771, 5080, 6020, 7551, 7556, 8036, 8048, 8471, 8613, 9142, 10924, 10996], 2014-06-17 00:00:00: [2446, 2473, 2504, 5123, 5434, 5964, 6639, 7332, 7811], 2014-06-18 00:00:00: [2496, 3037, 6435, 6475, 7403, 7612, 7692, 7717, 8307, 8617, 8668, 9194, 9957], 2014-06-19 00:00:00: [2513, 3613, 4643, 5224, 6636, 6703, 6995, 6997, 7275, 7276, 7384, 7536, 7547, 7580, 7597, 7923, 7993, 8503, 10923, 10929], 2014-06-20 00:00:00: [2887, 2944, 4859, 6527, 7549, 7558, 7582, 7663, 7908, 7995, 9127, 9358, 11048], 2014-06-21 00:00:00: [7670], 2014-06-23 00:00:00: [2570, 2662, 2688, 2723, 2879, 3048, 4126, 4195, 5130, 5193, 5392, 6035, 6365, 6898, 8583, 9959], ...}"
            ]
          },
          "metadata": {},
          "execution_count": 23
        }
      ]
    },
    {
      "cell_type": "code",
      "source": [
        "type(result.groups)"
      ],
      "metadata": {
        "colab": {
          "base_uri": "https://localhost:8080/"
        },
        "id": "Hc9IYyoMLDPp",
        "outputId": "03a58a59-b9fc-4640-ae7a-c4107c5b1b5a"
      },
      "execution_count": 24,
      "outputs": [
        {
          "output_type": "execute_result",
          "data": {
            "text/plain": [
              "pandas.io.formats.printing.PrettyDict"
            ]
          },
          "metadata": {},
          "execution_count": 24
        }
      ]
    },
    {
      "cell_type": "code",
      "source": [
        "result = detroit_demolitions.value_counts('demolition_date')\n",
        "result"
      ],
      "metadata": {
        "colab": {
          "base_uri": "https://localhost:8080/"
        },
        "id": "PO4zfE3lPkCl",
        "outputId": "8174886d-548b-41f8-f74e-15b1234a6c65"
      },
      "execution_count": 25,
      "outputs": [
        {
          "output_type": "execute_result",
          "data": {
            "text/plain": [
              "demolition_date\n",
              "2014-07-30    60\n",
              "2014-08-06    57\n",
              "2016-06-20    55\n",
              "2014-09-03    50\n",
              "2014-09-08    50\n",
              "              ..\n",
              "2017-05-26     1\n",
              "2014-07-12     1\n",
              "2016-01-09     1\n",
              "2017-01-30     1\n",
              "2014-01-02     1\n",
              "Length: 954, dtype: int64"
            ]
          },
          "metadata": {},
          "execution_count": 25
        }
      ]
    },
    {
      "cell_type": "code",
      "source": [
        "result = detroit_demolitions.groupby('contractor_name')\n",
        "result.groups['MCM']"
      ],
      "metadata": {
        "colab": {
          "base_uri": "https://localhost:8080/"
        },
        "id": "mYF27nzOWWFm",
        "outputId": "9a594c15-9480-40e6-b8da-5840620af60f"
      },
      "execution_count": 26,
      "outputs": [
        {
          "output_type": "execute_result",
          "data": {
            "text/plain": [
              "Int64Index([    0,    51,    64,    73,    79,    81,   190,   210,   212,\n",
              "              295,\n",
              "            ...\n",
              "            11759, 11784, 11785, 11790, 11801, 11806, 11823, 11824, 11826,\n",
              "            11876],\n",
              "           dtype='int64', length=334)"
            ]
          },
          "metadata": {},
          "execution_count": 26
        }
      ]
    },
    {
      "cell_type": "code",
      "source": [
        "result=detroit_demolitions[detroit_demolitions['demolition_date']=='2014-08-07'].groupby('contractor_name')\n",
        "result.size()"
      ],
      "metadata": {
        "colab": {
          "base_uri": "https://localhost:8080/"
        },
        "id": "PaDC4RZ2L1vl",
        "outputId": "0129a1e3-2aed-45b3-84a5-b78a9373a61f"
      },
      "execution_count": 27,
      "outputs": [
        {
          "output_type": "execute_result",
          "data": {
            "text/plain": [
              "contractor_name\n",
              "Able Demolition                      1\n",
              "Adamo Group, Inc.                   12\n",
              "Blue Star                            3\n",
              "Brown Environmental Construction     2\n",
              "DMC Consultants                      5\n",
              "Homrich                             10\n",
              "MCM                                 15\n",
              "dtype: int64"
            ]
          },
          "metadata": {},
          "execution_count": 27
        }
      ]
    },
    {
      "cell_type": "code",
      "source": [
        "result.size()['MCM']\n"
      ],
      "metadata": {
        "colab": {
          "base_uri": "https://localhost:8080/"
        },
        "id": "wtCE44_rWSFs",
        "outputId": "b600f9ad-c29e-4e1e-ec7f-b0b19ef0ab1c"
      },
      "execution_count": 28,
      "outputs": [
        {
          "output_type": "execute_result",
          "data": {
            "text/plain": [
              "15"
            ]
          },
          "metadata": {},
          "execution_count": 28
        }
      ]
    },
    {
      "cell_type": "code",
      "source": [
        "result = detroit_demolitions[detroit_demolitions['demolition_date'] == '2014-08-07'].groupby(detroit_demolitions['contractor_name'] =='MCM')\n",
        "print(result.size())\n",
        "result['demolition_date'].value_counts()[1]"
      ],
      "metadata": {
        "colab": {
          "base_uri": "https://localhost:8080/"
        },
        "id": "Ib6TdHCaSLy6",
        "outputId": "73c9e61c-7472-4978-c199-ea6708a7d885"
      },
      "execution_count": 29,
      "outputs": [
        {
          "output_type": "stream",
          "name": "stdout",
          "text": [
            "contractor_name\n",
            "False    33\n",
            "True     15\n",
            "dtype: int64\n"
          ]
        },
        {
          "output_type": "execute_result",
          "data": {
            "text/plain": [
              "demolition_date\n",
              "2014-08-07    15\n",
              "Name: demolition_date, dtype: int64"
            ]
          },
          "metadata": {},
          "execution_count": 29
        }
      ]
    },
    {
      "cell_type": "code",
      "source": [
        "result = detroit_demolitions[detroit_demolitions['contractor_name'] =='MCM'].groupby(detroit_demolitions['demolition_date'] == '2014-08-07')\n",
        "print(result.size())\n",
        "result['demolition_date'].value_counts()[1]"
      ],
      "metadata": {
        "colab": {
          "base_uri": "https://localhost:8080/"
        },
        "id": "1rLJ7nU5Y1NI",
        "outputId": "d2360394-e27d-47d7-fafe-8583b51130c7"
      },
      "execution_count": 30,
      "outputs": [
        {
          "output_type": "stream",
          "name": "stdout",
          "text": [
            "demolition_date\n",
            "False    319\n",
            "True      15\n",
            "dtype: int64\n"
          ]
        },
        {
          "output_type": "execute_result",
          "data": {
            "text/plain": [
              "demolition_date\n",
              "2014-08-07    15\n",
              "Name: demolition_date, dtype: int64"
            ]
          },
          "metadata": {},
          "execution_count": 30
        }
      ]
    }
  ]
}