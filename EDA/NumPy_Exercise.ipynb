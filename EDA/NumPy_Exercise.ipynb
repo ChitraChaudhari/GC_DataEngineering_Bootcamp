{
  "nbformat": 4,
  "nbformat_minor": 0,
  "metadata": {
    "colab": {
      "name": "NumPy-Exercise.ipynb",
      "provenance": [],
      "collapsed_sections": [],
      "include_colab_link": true
    },
    "kernelspec": {
      "name": "python3",
      "display_name": "Python 3"
    }
  },
  "cells": [
    {
      "cell_type": "markdown",
      "metadata": {
        "id": "view-in-github",
        "colab_type": "text"
      },
      "source": [
        "<a href=\"https://colab.research.google.com/github/ChitraChaudhari/GC_DataEngineering_Bootcamp/blob/main/EDA/NumPy_Exercise.ipynb\" target=\"_parent\"><img src=\"https://colab.research.google.com/assets/colab-badge.svg\" alt=\"Open In Colab\"/></a>"
      ]
    },
    {
      "cell_type": "markdown",
      "metadata": {
        "id": "zEJBLhyyJNkX"
      },
      "source": [
        "#NumPy\n",
        "\n",
        "##Problem 1\n",
        "\n",
        "A developer is trying to add two lists using Matrix addition. However the expressions that are written below is not solving this problem correctly. Fix it using NumPy structures"
      ]
    },
    {
      "cell_type": "code",
      "metadata": {
        "id": "c2ql0rusJJwk",
        "colab": {
          "base_uri": "https://localhost:8080/"
        },
        "outputId": "ae163374-ca87-48ed-93c1-272018bb0f82"
      },
      "source": [
        "import numpy as np\n",
        "\n",
        "a = np.array([4, 5, 6])\n",
        "b = np.array([3, 4, 5])\n",
        "c = a + b\n",
        "c"
      ],
      "execution_count": 2,
      "outputs": [
        {
          "output_type": "execute_result",
          "data": {
            "text/plain": [
              "array([ 7,  9, 11])"
            ]
          },
          "metadata": {},
          "execution_count": 2
        }
      ]
    },
    {
      "cell_type": "code",
      "metadata": {
        "id": "6rMVjnOGKxuL",
        "colab": {
          "base_uri": "https://localhost:8080/"
        },
        "outputId": "c6dfb293-bd0d-4ddf-8a82-7ad6f9f8d9cd"
      },
      "source": [
        "#Testcase\n",
        "np.testing.assert_array_equal(c, [7, 9, 11])\n",
        "print(\"Test Passed!\")"
      ],
      "execution_count": 3,
      "outputs": [
        {
          "output_type": "stream",
          "name": "stdout",
          "text": [
            "Test Passed!\n"
          ]
        }
      ]
    },
    {
      "cell_type": "markdown",
      "metadata": {
        "id": "wzPMGHhrMdwp"
      },
      "source": [
        "##Problem 2\n",
        "\n",
        "The below array provides the marks that a student has earned in 4 tests for a total of 17 marks in each test. Create another array that shows the percentage of the marks obtained by this student in each test."
      ]
    },
    {
      "cell_type": "code",
      "metadata": {
        "id": "u5aLnnt_M8ha",
        "colab": {
          "base_uri": "https://localhost:8080/"
        },
        "outputId": "321252da-94df-4d54-87c7-5a1a0746bdc4"
      },
      "source": [
        "\n",
        "marks = np.array([12, 14.5, 16, 16.5])\n",
        "marks_in_percent =marks*(100/17)\n",
        "type(marks_in_percent)"
      ],
      "execution_count": 4,
      "outputs": [
        {
          "output_type": "execute_result",
          "data": {
            "text/plain": [
              "numpy.ndarray"
            ]
          },
          "metadata": {},
          "execution_count": 4
        }
      ]
    },
    {
      "cell_type": "code",
      "source": [
        "12*(100/17)"
      ],
      "metadata": {
        "colab": {
          "base_uri": "https://localhost:8080/"
        },
        "id": "x1WNhZm5Rm6B",
        "outputId": "2de31829-63e0-489a-dc76-2032dd010f52"
      },
      "execution_count": 6,
      "outputs": [
        {
          "output_type": "execute_result",
          "data": {
            "text/plain": [
              "70.58823529411765"
            ]
          },
          "metadata": {},
          "execution_count": 6
        }
      ]
    },
    {
      "cell_type": "code",
      "metadata": {
        "id": "yLlvSFxEOE8c",
        "colab": {
          "base_uri": "https://localhost:8080/"
        },
        "outputId": "21381e63-d011-415d-ee6e-94a81b208886"
      },
      "source": [
        "#TestCase\n",
        "np.testing.assert_allclose(marks_in_percent, [70.58823529, 85.29411765, 94.11764706, 97.05882353])\n",
        "print(\"Test passed!\")"
      ],
      "execution_count": 7,
      "outputs": [
        {
          "output_type": "stream",
          "name": "stdout",
          "text": [
            "Test passed!\n"
          ]
        }
      ]
    },
    {
      "cell_type": "markdown",
      "metadata": {
        "id": "YHz3-SlpOTI_"
      },
      "source": [
        "## Problem 3\n",
        "\n",
        "Find both the type and dtype of the given NumPy Array\n"
      ]
    },
    {
      "cell_type": "code",
      "metadata": {
        "id": "64A407L5Olzm"
      },
      "source": [
        "import numpy as np\n",
        "a = np.array([3.0, 4, 8])\n",
        "a_type =type(a)\n",
        "a_dtype = a.dtype\n"
      ],
      "execution_count": 5,
      "outputs": []
    },
    {
      "cell_type": "code",
      "metadata": {
        "id": "gIMYOzReQ_YL",
        "colab": {
          "base_uri": "https://localhost:8080/"
        },
        "outputId": "1679b03d-8c06-4917-d5ba-73cbf6e38bf3"
      },
      "source": [
        "#TestCase\n",
        "assert(a_type == np.ndarray)\n",
        "assert(a_dtype == np.float64)\n",
        "print(\"Test passed!\")"
      ],
      "execution_count": 8,
      "outputs": [
        {
          "output_type": "stream",
          "name": "stdout",
          "text": [
            "Test passed!\n"
          ]
        }
      ]
    },
    {
      "cell_type": "code",
      "source": [
        "a=np.array([2,-8,-7])\n",
        "b = np.array([[2],[-8],[-7]])\n",
        "print(a*b)"
      ],
      "metadata": {
        "colab": {
          "base_uri": "https://localhost:8080/"
        },
        "id": "J_pUB_QsADHz",
        "outputId": "af49678c-3677-4a4f-fb8d-f1dc64d592e8"
      },
      "execution_count": 9,
      "outputs": [
        {
          "output_type": "stream",
          "name": "stdout",
          "text": [
            "[[  4 -16 -14]\n",
            " [-16  64  56]\n",
            " [-14  56  49]]\n"
          ]
        }
      ]
    }
  ]
}