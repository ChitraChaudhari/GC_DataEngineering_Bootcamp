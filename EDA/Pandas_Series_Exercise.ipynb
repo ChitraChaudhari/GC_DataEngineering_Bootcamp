{
  "nbformat": 4,
  "nbformat_minor": 0,
  "metadata": {
    "colab": {
      "name": "Pandas-Series-Exercise.ipynb",
      "provenance": [],
      "collapsed_sections": [],
      "include_colab_link": true
    },
    "kernelspec": {
      "name": "python3",
      "display_name": "Python 3"
    }
  },
  "cells": [
    {
      "cell_type": "markdown",
      "metadata": {
        "id": "view-in-github",
        "colab_type": "text"
      },
      "source": [
        "<a href=\"https://colab.research.google.com/github/ChitraChaudhari/GC_DataEngineering_Bootcamp/blob/main/EDA/Pandas_Series_Exercise.ipynb\" target=\"_parent\"><img src=\"https://colab.research.google.com/assets/colab-badge.svg\" alt=\"Open In Colab\"/></a>"
      ]
    },
    {
      "cell_type": "markdown",
      "metadata": {
        "id": "WawqcvXtu5zN"
      },
      "source": [
        "#Pandas Exercise\n",
        "\n",
        "## Problem 1\n",
        "\n",
        "Sort the values of the given series without creating another series."
      ]
    },
    {
      "cell_type": "code",
      "metadata": {
        "id": "Faw1igmbgdDw",
        "colab": {
          "base_uri": "https://localhost:8080/"
        },
        "outputId": "6b482438-803d-4efd-ad2a-51d7bb68aab2"
      },
      "source": [
        "import pandas as pd\n",
        "\n",
        "a = pd.Series([10, 2, 65, 35, 64])\n",
        "a.sort_values( inplace=True)\n",
        "\n",
        "a"
      ],
      "execution_count": 1,
      "outputs": [
        {
          "output_type": "execute_result",
          "data": {
            "text/plain": [
              "1     2\n",
              "0    10\n",
              "3    35\n",
              "4    64\n",
              "2    65\n",
              "dtype: int64"
            ]
          },
          "metadata": {},
          "execution_count": 1
        }
      ]
    },
    {
      "cell_type": "code",
      "metadata": {
        "id": "L2uozjDzsV0v",
        "colab": {
          "base_uri": "https://localhost:8080/"
        },
        "outputId": "31c781cd-74e4-4c69-b432-949f17f43fa6"
      },
      "source": [
        "#TestCase\n",
        "expected = pd.Series([2, 10, 35, 64, 65], index=[1, 0, 3, 4, 2])\n",
        "pd.testing.assert_series_equal(a, expected)\n",
        "score = 2.5\n",
        "print(\"Test passed!\")"
      ],
      "execution_count": 2,
      "outputs": [
        {
          "output_type": "stream",
          "name": "stdout",
          "text": [
            "Test passed!\n"
          ]
        }
      ]
    },
    {
      "cell_type": "markdown",
      "metadata": {
        "id": "tH6QfoDVv76R"
      },
      "source": [
        "##Problem 2\n",
        "\n",
        "Generate a new series 'b' object that has same content as the given series 'a' except its index is sorted"
      ]
    },
    {
      "cell_type": "code",
      "metadata": {
        "id": "pVLBcTlhvOdA",
        "colab": {
          "base_uri": "https://localhost:8080/"
        },
        "outputId": "9064eebf-f2c3-457a-f911-3b3ab7f4f375"
      },
      "source": [
        "a = pd.Series([10, 2, 65, 35, 64], index=[10, 5, 1, 6, 3])\n",
        "b = a.sort_index()\n",
        "b"
      ],
      "execution_count": 3,
      "outputs": [
        {
          "output_type": "execute_result",
          "data": {
            "text/plain": [
              "1     65\n",
              "3     64\n",
              "5      2\n",
              "6     35\n",
              "10    10\n",
              "dtype: int64"
            ]
          },
          "metadata": {},
          "execution_count": 3
        }
      ]
    },
    {
      "cell_type": "code",
      "metadata": {
        "id": "x0dwGpLyvZd-",
        "colab": {
          "base_uri": "https://localhost:8080/"
        },
        "outputId": "d82c375b-9dd1-4eb7-9d29-81f8e98e859a"
      },
      "source": [
        "#TestCase\n",
        "expected = pd.Series([65, 64, 2, 35, 10], index=[1, 3, 5, 6, 10])\n",
        "pd.testing.assert_series_equal(b, expected)\n",
        "score = 5\n",
        "print(\"Test passed!\")"
      ],
      "execution_count": 4,
      "outputs": [
        {
          "output_type": "stream",
          "name": "stdout",
          "text": [
            "Test passed!\n"
          ]
        }
      ]
    },
    {
      "cell_type": "code",
      "source": [
        "a"
      ],
      "metadata": {
        "colab": {
          "base_uri": "https://localhost:8080/"
        },
        "id": "HPETZ4hSZqqo",
        "outputId": "c27393bc-9f76-4523-fd1d-eb2cba7809fa"
      },
      "execution_count": 5,
      "outputs": [
        {
          "output_type": "execute_result",
          "data": {
            "text/plain": [
              "10    10\n",
              "5      2\n",
              "1     65\n",
              "6     35\n",
              "3     64\n",
              "dtype: int64"
            ]
          },
          "metadata": {},
          "execution_count": 5
        }
      ]
    },
    {
      "cell_type": "markdown",
      "metadata": {
        "id": "-aL7RltewmsZ"
      },
      "source": [
        "#Problem 3\n",
        "\n",
        "Get the 3 highest top scores of list 'a' which contains the math scores of a high school class, by constructing a suitable Pandas structures to find it. Do not use loops"
      ]
    },
    {
      "cell_type": "code",
      "metadata": {
        "id": "v7zP7L__wtsn",
        "colab": {
          "base_uri": "https://localhost:8080/"
        },
        "outputId": "48dee745-5107-4ebf-acff-efb4c34c5859"
      },
      "source": [
        "a = [45, 99, 35, 55, 80, 78, 98, 68]\n",
        "top_scores = pd.Series(a).nlargest(3)\n",
        "top_scores"
      ],
      "execution_count": 6,
      "outputs": [
        {
          "output_type": "execute_result",
          "data": {
            "text/plain": [
              "1    99\n",
              "6    98\n",
              "4    80\n",
              "dtype: int64"
            ]
          },
          "metadata": {},
          "execution_count": 6
        }
      ]
    },
    {
      "cell_type": "code",
      "metadata": {
        "id": "Pik_nxtFxkuM",
        "colab": {
          "base_uri": "https://localhost:8080/"
        },
        "outputId": "ded6b110-e33c-4051-a3eb-c3ce1776c37a"
      },
      "source": [
        "#TestCase\n",
        "expected = pd.Series([99, 98, 80], index=[1, 6, 4])\n",
        "pd.testing.assert_series_equal(top_scores, expected)\n",
        "score = 7.5\n",
        "print(\"Test passed!\")"
      ],
      "execution_count": 7,
      "outputs": [
        {
          "output_type": "stream",
          "name": "stdout",
          "text": [
            "Test passed!\n"
          ]
        }
      ]
    },
    {
      "cell_type": "markdown",
      "metadata": {
        "id": "pD8UQ8SAzsag"
      },
      "source": [
        "#Problem 4\n",
        "\n",
        "Convert each element of the given series by creating a tuple of the word and its corresponding length by using a map function and place the resulting series in the variable 'b'"
      ]
    },
    {
      "cell_type": "code",
      "metadata": {
        "id": "8vaNGNURz5PO",
        "colab": {
          "base_uri": "https://localhost:8080/"
        },
        "outputId": "289441e5-bdb9-4cc9-c745-4ea3482fe004"
      },
      "source": [
        "a = pd.Series(['lemon', 'tomato', 'grapes', 'oranges'])\n",
        "b = a.map(lambda word:(word,len(word)))\n",
        "b"
      ],
      "execution_count": 8,
      "outputs": [
        {
          "output_type": "execute_result",
          "data": {
            "text/plain": [
              "0      (lemon, 5)\n",
              "1     (tomato, 6)\n",
              "2     (grapes, 6)\n",
              "3    (oranges, 7)\n",
              "dtype: object"
            ]
          },
          "metadata": {},
          "execution_count": 8
        }
      ]
    },
    {
      "cell_type": "code",
      "metadata": {
        "id": "aVmJ05Mj0TnF",
        "colab": {
          "base_uri": "https://localhost:8080/"
        },
        "outputId": "c2de75b1-3612-45d7-b064-2942e3b01438"
      },
      "source": [
        "#TestCase\n",
        "expected = pd.Series([('lemon', 5), ('tomato', 6), ('grapes', 6), ('oranges', 7)])\n",
        "pd.testing.assert_series_equal(b, expected)\n",
        "score = 10\n",
        "print(\"Test passed!\", \" Your total score is\", score)"
      ],
      "execution_count": 9,
      "outputs": [
        {
          "output_type": "stream",
          "name": "stdout",
          "text": [
            "Test passed!  Your total score is 10\n"
          ]
        }
      ]
    }
  ]
}